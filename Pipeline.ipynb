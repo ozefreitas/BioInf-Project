{
 "cells": [
  {
   "cell_type": "markdown",
   "source": [
    "<h1>\n",
    "<center>\n",
    "Mestrado em Bioinformática\n",
    "</center>\n",
    "</h1>\n",
    "\n",
    "<h2>\n",
    "<center>\n",
    "Text Mining project pipeline\n",
    "</center>\n",
    "</h2>\n",
    "\n",
    "<center>José Pedro Silva Freitas, PG42872\n",
    "<center>pg42872@alunos.uminho.pt"
   ],
   "metadata": {
    "collapsed": false
   }
  },
  {
   "cell_type": "markdown",
   "source": [
    "<font size=\"+2\">This is bigger text.</font>\n",
    "\n",
    "<font size=\"-2\">This is smaller text.</font>\n",
    "\n",
    "jupyter-nbconvert --to PDFviaHTML test.ipynb"
   ],
   "metadata": {
    "collapsed": false
   }
  },
  {
   "cell_type": "markdown",
   "source": [
    "<p>\n",
    "O presente documento tem engloba uma representação mais organizada da\n",
    "pipeline que foi realizada de modo a solucionar os problemas previstos\n",
    "para a realização deste projeto. <br>\n",
    "Como já referenciado no artigo, este projeto teve como principal objetivo\n",
    "a mineração de textos biomédicos de forma a encontrar referências acerca\n",
    "do metabolismo secundário de plantas, mais especificamente, na via metabólica\n",
    "relacionada com o composto resveratrol, de forma a facilitar o estudo deste\n",
    "tipo de metabolismo, assim como a sua interferência no fenótipo das plantas\n",
    "</p>"
   ],
   "metadata": {
    "collapsed": false
   }
  },
  {
   "cell_type": "code",
   "execution_count": 11,
   "outputs": [],
   "source": [
    "\"\"\"Imports\"\"\"\n",
    "\n",
    "import tensorflow\n",
    "import pandas\n",
    "# import numpy as np\n",
    "# from Bio.Entrez import efetch, read\n",
    "from Bio import Entrez\n",
    "import os\n",
    "import sys\n",
    "from web_pubmed_reader import get_data_from_pmid, \\\n",
    "    term_to_docs_all, pmids_to_docs\n",
    "from dl_config import DLConfig\n",
    "from wrappers.pandas_wrapper import docs_to_pandasdocs\n",
    "# pandasframe_trimming,\n",
    "# search_keyword_pandasframe\n",
    "import string\n",
    "from stop_words import get_stop_words"
   ],
   "metadata": {
    "collapsed": false,
    "pycharm": {
     "name": "#%%\n"
    }
   }
  },
  {
   "cell_type": "markdown",
   "source": [
    "<p>\n",
    "Como base para esta pipeline, foi usada uma ferramente já disponível,\n",
    "<a href=\"https://gitlab.bio.di.uminho.pt/biotextminingpy/biotmpy/-/tree/master/preprocessing\"><strong>BioTMPy</strong></a>,\n",
    "e que foi desenvolvida com um propósito relativamente idêntico, a partir da qual\n",
    "se pode retirar algumas ilações. <br>\n",
    "Os módulos deste pacote incluem classes e funções que permitem a extração de\n",
    "documentos e artigos presentes em bases de dados, neste caso do PubMed,\n",
    "através do package <strong>Biopython</strong>, mais especificamente, o\n",
    "package <strong>Bio.Entrez</strong>.\n",
    "</p>\n"
   ],
   "metadata": {
    "collapsed": false
   }
  },
  {
   "cell_type": "code",
   "execution_count": 17,
   "outputs": [
    {
     "name": "stdout",
     "output_type": "stream",
     "text": [
      "Número de artigos encontrados para a keyword resveratrol: 14485\n",
      "Número de artigos encontrados para a keyword resveratrol synthase: 52\n",
      "Número de artigos encontrados para a keyword stilbene synthase: 287\n",
      "Número de artigos encontrados para a keyword trihydroxystilbene: 542\n",
      "Número de artigos encontrados para a keyword p-coumaroyl-CoA: 109\n",
      "Número de artigos encontrados para a keyword viniferin: 319\n",
      "Número de artigos encontrados para a keyword piceatannol: 839\n",
      "Número de artigos encontrados para a keyword piceid: 721\n",
      "Número de artigos encontrados para a keyword pterostilbene: 638\n",
      "Número de artigos encontrados para a keyword pinostilbene: 35\n",
      "Número de artigos encontrados para a keyword chalcone resveratrol: 68\n"
     ]
    }
   ],
   "source": [
    "keywordlst = [\"resveratrol\",\n",
    "              \"resveratrol synthase\",\n",
    "              \"stilbene synthase\",\n",
    "              \"trihydroxystilbene\",\n",
    "              \"p-coumaroyl-CoA\",\n",
    "              \"viniferin\",\n",
    "              \"piceatannol\",\n",
    "              \"piceid\",\n",
    "              \"pterostilbene\",\n",
    "              \"pinostilbene\",\n",
    "              \"chalcone resveratrol\"]\n",
    "\n",
    "\n",
    "def get_number_articles_per_term(term, email):\n",
    "    Entrez.email = email\n",
    "    Entrez.api_key = '0a925fca3ee9689bd778607f10e438fbfa09'\n",
    "    search_results = Entrez.read(Entrez.esearch(db=\"pubmed\", term=term))\n",
    "    records = search_results[\"Count\"]\n",
    "    return int(records)\n",
    "\n",
    "\n",
    "for keyword in keywordlst:\n",
    "    print(\"Número de artigos encontrados para a keyword\", keyword+\":\",\n",
    "      get_number_articles_per_term(keyword, \"pg42872@alunos.uminho.pt\"))"
   ],
   "metadata": {
    "collapsed": false,
    "pycharm": {
     "name": "#%%\n"
    }
   }
  },
  {
   "cell_type": "markdown",
   "source": [
    "<p>\n",
    "Foi desenvolvida uma nova função - <i>get_all_data_from_term</i> - que suportasse\n",
    "não um número máximo de artigos definido pelo utilizador, mas sim o número máximo\n",
    "de artigos para um dado termo, isto sabendo que a função do <strong>Bio.Entrez</strong>\n",
    "tem um rate máximo de extração de cerca de 100000 ID's por cada iteração, e para\n",
    "prevenir os casos em que o número de artigos ultrapassa este threshold.\n",
    "</p>"
   ],
   "metadata": {
    "collapsed": false
   }
  },
  {
   "cell_type": "code",
   "execution_count": 19,
   "outputs": [
    {
     "name": "stdout",
     "output_type": "stream",
     "text": [
      "Lista de ID's encontrados para a keyword resveratrol: ['33691210', '33550599', '34066865', '34064568', '33781770', '33229156', '33712142', '33675782', '33675348', '33631244', '33922475', '33471184', '33946456', '33921192', '33388350', '33802331', '33103284', '33518308', '33669559', '33561994']\n",
      "Lista de ID's encontrados para a keyword resveratrol synthase: ['26302213', '33444365', '25007571', '24427944', '21717185', '21932029', '11804335', '32733034', '32664999', '9225853', '2450022', '26344106', '25764453', '26092168', '25873669', '25683151', '17571969', '29138972', '24196732', '33614263']\n",
      "Lista de ID's encontrados para a keyword stilbene synthase: ['30611873', '31699028', '29589146', '31531782', '29372791', '24246671', '28168876', '27702992', '31925968', '32456002', '28332216', '28214727', '26048582', '25402946', '29529275', '30445464', '28181620', '25726587', '21843947', '26781778']\n",
      "Lista de ID's encontrados para a keyword trihydroxystilbene: ['27882602', '33915131', '28672886', '26112149', '27834152', '23042952', '22349988', '20715097', '21520490', '18927354', '19940103', '18324741', '17872969', '17875610', '16199232', '21783793', '15809979', '15941348', '12776577', '9865343']\n",
      "Lista de ID's encontrados para a keyword p-coumaroyl-CoA: ['28822035', '22168819', '24372757', '24654730', '26826222', '18316744', '30814883', '25152451', '26400178', '26608135', '11038271', '33949064', '23510577', '33675449', '23624856', '29794028', '20547380', '27956488', '27406087', '26527270']\n",
      "Lista de ID's encontrados para a keyword viniferin: ['34144024', '33799534', '32394973', '32400050', '32118360', '33815533', '33773231', '31474855', '32502955', '33683879', '30400351', '29562698', '29556371', '29476302', '28467376', '28782713', '32245220', '31547617', '27902942', '29155014']\n",
      "Lista de ID's encontrados para a keyword piceatannol: ['32824997', '32886103', '32446839', '32524342', '33335015', '30940561', '31277394', '30551542', '30173053', '29764766', '32487622', '29792365', '30175773', '29057795', '29041990', '28514198', '31696185', '29214257', '30178203', '31926274']\n",
      "Lista de ID's encontrados para a keyword piceid: ['26013581', '24362562', '28980048', '31731792', '29989844', '32389832', '27497981', '33667833', '33243482', '32835909', '32222939', '33229156', '32406041', '31755739', '33092209', '31880518', '31494302', '30974157', '31085374', '33912552']\n",
      "Lista de ID's encontrados para a keyword pterostilbene: ['33807403', '33739881', '31663469', '33171952', '33233676', '32064876', '31935877', '31822918', '32125846', '31733141', '31452220', '31642668', '32832940', '31754333', '31078746', '32490497', '33830523', '31035507', '30578258', '33280250']\n",
      "Lista de ID's encontrados para a keyword pinostilbene: ['33919396', '29268122', '26771130', '32919323', '32630811', '30355929', '27756183', '24267561', '26990242', '31850235', '19443200', '25715927', '28242573', '30909544', '28279696', '30797367', '30471982', '25033820', '30021423', '33830523']\n",
      "Lista de ID's encontrados para a keyword chalcone resveratrol: ['30058485', '26048788', '29327811', '21440448', '32877711', '33453581', '31494471', '31817915', '30734608', '33130346', '27588016', '17655245', '28344479', '15809979', '10426957', '25873669', '28981299', '23500714', '21717185', '23578977']\n"
     ]
    }
   ],
   "source": [
    "def get_all_data_from_term(term, email):\n",
    "    Entrez.email = email\n",
    "    Entrez.api_key = '0a925fca3ee9689bd778607f10e438fbfa09'\n",
    "    retmax = get_number_articles_per_term(term, email)\n",
    "    records = []\n",
    "    ub = 100000  # número máximo de artigos que a função esearch consegue capturar\n",
    "    if retmax > ub:\n",
    "        for startpos in range(0, retmax, ub):\n",
    "            handle = Entrez.esearch(db=\"pubmed\", retstart=startpos, retmax=ub, term=term, idtype=\"acc\",\n",
    "                                    sort=\"relevance\")\n",
    "            record = Entrez.read(handle)\n",
    "            records.append(record)  # pode-se dar append ao record numa lista? SIM PODE-SE\n",
    "            handle.close()\n",
    "    else:\n",
    "        handle = Entrez.esearch(db=\"pubmed\", retmax=retmax, term=term, idtype=\"acc\", sort='relevance')\n",
    "        record = Entrez.read(handle)\n",
    "        records.append(record)\n",
    "        handle.close()\n",
    "\n",
    "    size = 0\n",
    "    result = []\n",
    "    if len(records) > 1:  # para o caso do numero de artigos ter sido maior que 100000\n",
    "        for record in records:  # irá ter mais que um record\n",
    "            size += len(record[\"IdList\"])\n",
    "            result.extend(record[\"IdList\"])  # será uma lista de listas de IDs\n",
    "        flat_lst = []  # dar flat à lista de IDs\n",
    "        for lst in result:\n",
    "            for elem in lst:\n",
    "                flat_lst.append(elem)\n",
    "        return flat_lst  # [record[\"IdList\"] for record in records]\n",
    "    else:  # para o caso que foi menos de 10000, e por isso records tem apenas uma lista\n",
    "        for record in records:  # so tem 1\n",
    "            result.extend(record[\"IdList\"])\n",
    "            return result\n",
    "\n",
    "\n",
    "for keyword in keywordlst:\n",
    "    print(\"Lista de ID's encontrados para a keyword\",keyword+\":\",\n",
    "          get_all_data_from_term(keyword, \"pg42872@alunos.uminho.pt\")[:20])"
   ],
   "metadata": {
    "collapsed": false,
    "pycharm": {
     "name": "#%%\n"
    }
   }
  },
  {
   "cell_type": "markdown",
   "source": [
    "<p>\n",
    "Com os PMID's de cada artigo do PubMed, o próximo objetivo será retirar o texto\n",
    "disponível nesses artigos, que serão os <strong>títulos</strong> e <strong>\n",
    "abstracts</strong> (resumos). A função <i>get_data_from_pmid</i> permite fazer\n",
    "exatamente esse processo, devolvendo um dicionário com duas keys e os dois values\n",
    "correspondentes na forma de string, procurando estes elementos em alguns dos\n",
    "difentes formatos que a função <i>entrez.efetch</i> retorna.\n",
    "</p>"
   ],
   "metadata": {
    "collapsed": false
   }
  },
  {
   "cell_type": "code",
   "execution_count": 20,
   "outputs": [
    {
     "name": "stdout",
     "output_type": "stream",
     "text": [
      "33691210\n"
     ]
    },
    {
     "data": {
      "text/plain": "{'Title': 'Development of novel functional snacks containing nano-encapsulated resveratrol with anti-diabetic, anti-obesity and antioxidant properties.',\n 'Abstract': 'In this study, functional snacks with addition of nanoenapsuated resveratrol were prepared to evaluate the nutraceutical and physical properties. The nanoencapsulated resveratrol was prepared from horse-chestnut (HRP), water-chestnut (WRP) and lotus-stem starch particles (LRP) and added to the wheat flour at the level of 0.4% for preparation of snacks by extrusing process. After extrusion, 43-53% and 5.42% of resveratrol was retained in snacks containing encapsulated and free resveratrol (FRP), respectively. The HRP, WRP and LRP showed significantly less peak viscosities and less elastic behaviour than native product (NP) which can influence the human sensory perception. The shift of few peaks towards higher wavelength and presence of additional peaks at 1384, 1229, 1513 and 1613\\xa0cm<sup>-1</sup> depicts change in molecular pattern and presence of resveratrol in functional snacks. The functional snacks containing encapsulated resveratrol showed significantly higher antioxidant, anti-diabetic and anti-obesity properties than snacks containing no or free resveratrol.'}"
     },
     "execution_count": 20,
     "metadata": {},
     "output_type": "execute_result"
    }
   ],
   "source": [
    "resvid = get_all_data_from_term(\"resveratrol\", \"pg42872@alunos.uminho.pt\")\n",
    "print(resvid[0])\n",
    "# Exemplo do output para o primeiro artigo encontrado referente ao resveratrol\n",
    "get_data_from_pmid(resvid[0], \"pg42872@alunos.uminho.pt\")"
   ],
   "metadata": {
    "collapsed": false,
    "pycharm": {
     "name": "#%%\n"
    }
   }
  },
  {
   "cell_type": "markdown",
   "source": [
    "<p>\n",
    "Posto isto, o módulo Document com a classe document permite analisar e transformar\n",
    "as strings retiradas da função anterior, e a função <i>pmids_to_docs</i> devolve um\n",
    "objeto document por cada PMID fornecido.\n",
    "</p>\n",
    "<p>\n",
    "Esta função necessita de um argumento adicional - <strong> dl_config </strong> - o\n",
    "qual representa uma classe criada à prori e que irá determinar o método de\n",
    "processamento dos documentos ao gosto do utilizador.\n",
    "</p>"
   ],
   "metadata": {
    "collapsed": false
   }
  },
  {
   "cell_type": "code",
   "execution_count": 21,
   "outputs": [
    {
     "name": "stdout",
     "output_type": "stream",
     "text": [
      "([<data_structures.document.Document object at 0x000001E68CDDFEE0>, <data_structures.document.Document object at 0x000001E68EA03040>, <data_structures.document.Document object at 0x000001E68E9F72E0>, <data_structures.document.Document object at 0x000001E68E8AE0D0>, <data_structures.document.Document object at 0x000001E68EBBA7F0>, <data_structures.document.Document object at 0x000001E68EB39820>, <data_structures.document.Document object at 0x000001E68E9EC160>, <data_structures.document.Document object at 0x000001E68E835280>, <data_structures.document.Document object at 0x000001E68ED53BE0>, <data_structures.document.Document object at 0x000001E68EE5DD00>, <data_structures.document.Document object at 0x000001E68ED93910>, <data_structures.document.Document object at 0x000001E68E8A0EE0>, <data_structures.document.Document object at 0x000001E68ED413D0>, <data_structures.document.Document object at 0x000001E68E9300D0>, <data_structures.document.Document object at 0x000001E68E92D400>, <data_structures.document.Document object at 0x000001E68E847A00>, <data_structures.document.Document object at 0x000001E68ECF78B0>, <data_structures.document.Document object at 0x000001E68EE0FBE0>, <data_structures.document.Document object at 0x000001E68E9C4130>, <data_structures.document.Document object at 0x000001E68F063250>], [])\n",
      "20\n"
     ]
    }
   ],
   "source": [
    "dl = DLConfig()\n",
    "# Exemplo do output para alguns dos artigos encontrado referente ao resveratrol\n",
    "resvdoc = pmids_to_docs(resvid[0:20], \"pg42872@alunos.uminho.pt\", dl)\n",
    "print(resvdoc)\n",
    "print(len(resvdoc[0]))"
   ],
   "metadata": {
    "collapsed": false,
    "pycharm": {
     "name": "#%%\n"
    }
   }
  },
  {
   "cell_type": "markdown",
   "source": [
    "<p>\n",
    "Cada objeto Document pode ser analisado de acordo com o seu título, abstract, tokens,\n",
    "etc. A partir destes objetos será agora possível gerar um dataset com a estrutura\n",
    "desejadas, podendo conter apenas os objetos correspondentes a cada PMID (artigo) ou\n",
    "contendo já os textos de cada um.\n",
    "</p>\n",
    "<p>\n",
    "O próximo objetivo passará ainda por obter todos os documentos já processados para\n",
    "todas as keyword sugeridas a cima........ Para facilitar o processo, e mais uma vez,\n",
    "como o objetivo será retirar <strong> todos </strong> os documentos disponíveis na\n",
    "base de dados, e para não haver a necessidade de passar o número total de documento\n",
    "aí existentes para as determinadas keywords, foi efetuada uma pequena alteração na\n",
    "função <i>term_to_docs</i>, para assim deixar de depender do argumento <i> ret_max </i>.\n",
    "Esta função passa assim a utilizar outra função criada anteriormente\n",
    "(<i>get_all_data_from_term()</i>) para retornar todos os PMIDs, e posteriormente gerar\n",
    "os objetos Document.\n",
    "</p>"
   ],
   "metadata": {
    "collapsed": false
   }
  },
  {
   "cell_type": "code",
   "execution_count": 5,
   "outputs": [],
   "source": [
    "resvdocs = term_to_docs_all(\"resveratrol\", \"pg42872@alunos.uminho.pt\", dl)\n",
    "resvsyntdocs = term_to_docs_all(\"resveratrol synthase\", \"pg42872@alunos.uminho.pt\", dl)\n",
    "stilbsyntdocs = term_to_docs_all(\"stilbene synthase\", \"pg42872@alunos.uminho.pt\", dl)\n",
    "trihydrostilbdocs = term_to_docs_all(\"trihydroxystilbene\", \"pg42872@alunos.uminho.pt\", dl)\n",
    "pcouCoAdocs = term_to_docs_all(\"p-coumaroyl-CoA\", \"pg42872@alunos.uminho.pt\", dl)\n",
    "vinidocs = term_to_docs_all(\"viniferin\", \"pg42872@alunos.uminho.pt\", dl)\n",
    "piceadocs = term_to_docs_all(\"piceatannol\", \"pg42872@alunos.uminho.pt\", dl)\n",
    "piddocs = term_to_docs_all(\"piceid\", \"pg42872@alunos.uminho.pt\", dl)\n",
    "pterodocs = term_to_docs_all(\"pterostilbene\", \"pg42872@alunos.uminho.pt\", dl)\n",
    "pinosdocs = term_to_docs_all(\"pinostilbene\", \"pg42872@alunos.uminho.pt\", dl)\n",
    "caldocs = term_to_docs_all(\"chalcone resveratrol\", \"pg42872@alunos.uminho.pt\", dl)"
   ],
   "metadata": {
    "collapsed": false,
    "pycharm": {
     "name": "#%%\n"
    }
   }
  },
  {
   "cell_type": "markdown",
   "source": [
    "<p>\n",
    "Estando agora na posse dos objetos Document podemos passar para a criação dos primeiros\n",
    "datasets, nesta primeira instância, de um dataset para cada keyword.\n",
    "</p>\n",
    "<p>\n",
    "Tendo em conta o objetivo deste trabalho e para facilitar vizualização, foi decidico\n",
    "montar um dataset onde fosse possível observar os Títulos e os Abstracts de cada\n",
    "documento, assim como o seu PMID e ainda a keyword através da qual foi encontrado.\n",
    "</p>\n",
    "<p>\n",
    "O módulo <strong> pandas </strong> permite criar com facilidade <strong> DataFrames\n",
    "</strong> com diversos formatos e através de diferentes métodos. Uma nova função foi\n",
    "por essa razão criada com o nome de <i> docs_to_pandasdocs_idtitabs() </i> onde o\n",
    "utilizador deve passar uma lista de objetos Document previamente criada, assim como\n",
    "a keyword a partir da qual essa lista for criada, sob a forma de string.\n",
    "</p>\n",
    "<p>\n",
    "Sendo assim foram criados os 11 datasets correspondentes às keywords utilizadas:\n",
    "</p>"
   ],
   "metadata": {
    "collapsed": false
   }
  },
  {
   "cell_type": "code",
   "execution_count": 57,
   "outputs": [],
   "source": [
    "def docs_to_pandasdocs_idtitabs(docs, keyword):\n",
    "    doc_id = []\n",
    "    titles = []\n",
    "    abstracts = []\n",
    "    for d in docs:  # são objeto Document\n",
    "        doc_id.append(d.id)\n",
    "        titles.append(d.title_string)  # lista de strings\n",
    "        abstracts.append(d.abstract_string)  # lista de strings\n",
    "    dicionario = {\"Keyword\": [keyword]*len(docs),\n",
    "                  \"Document\": doc_id,\n",
    "                  \"Title\": titles,\n",
    "                  \"Abstract\": abstracts}  # será um dicionário onde os values serão uma lista de strings\n",
    "    df = pandas.DataFrame(dicionario)\n",
    "    df = pandas.DataFrame(data=df.values, columns=list(df.columns))\n",
    "    # return titles, abstracts, doc_id\n",
    "    return df\n",
    "\n",
    "\n",
    "resv_df = docs_to_pandasdocs_idtitabs(resvdocs, \"resveratrol\")\n",
    "resvsynt_df = docs_to_pandasdocs_idtitabs(resvsyntdocs, \"resveratrol synthase\")\n",
    "stilbsynt_df = docs_to_pandasdocs_idtitabs(stilbsyntdocs, \"stilbene synthase\")\n",
    "trihydrostilb_df = docs_to_pandasdocs_idtitabs(trihydrostilbdocs, \"trihydroxystilbene\")\n",
    "pcouCoA_df = docs_to_pandasdocs_idtitabs(pcouCoAdocs, \"p-coumaroyl-CoA\")\n",
    "vini_df = docs_to_pandasdocs_idtitabs(vinidocs, \"viniferin\")\n",
    "picea_df = docs_to_pandasdocs_idtitabs(piceadocs, \"piceatannol\")\n",
    "pid_df = docs_to_pandasdocs_idtitabs(piddocs, \"piceid\")\n",
    "ptero_df = docs_to_pandasdocs_idtitabs(pterodocs, \"pterostilbene\")\n",
    "pinos_df = docs_to_pandasdocs_idtitabs(pinosdocs, \"pinostilbene\")\n",
    "cal_df = docs_to_pandasdocs_idtitabs(caldocs, \"chalcone resveratrol\")"
   ],
   "metadata": {
    "collapsed": false,
    "pycharm": {
     "name": "#%%\n"
    }
   }
  },
  {
   "cell_type": "markdown",
   "source": [
    "<p>\n",
    "O DataFrame global terá que ser criado através da concatenação dos diferentes datasets,\n",
    "<i> merge_pandasdocs() </i> é uma função simples e útil que usá a função <i> .concat()\n",
    "</i> do módulo <strong> pandas </strong> para unir <strong> Dataframes </strong>\n",
    "por intermédio das suas linhas, reiniciando também os seus índices.\n",
    "</p>\n",
    "<p>\n",
    "Passando a lista das variáveis que seguram os objetos <i> DataFrame </i> criados a\n",
    "cima, obtemos o DataFrame global:\n",
    "</p>"
   ],
   "metadata": {
    "collapsed": false
   }
  },
  {
   "cell_type": "code",
   "execution_count": 38,
   "outputs": [
    {
     "name": "stdout",
     "output_type": "stream",
     "text": [
      "                    Keyword  Document  \\\n",
      "0               resveratrol  33691210   \n",
      "1               resveratrol  33550599   \n",
      "2               resveratrol  34066865   \n",
      "3               resveratrol  34064568   \n",
      "4               resveratrol  33781770   \n",
      "...                     ...       ...   \n",
      "17548  chalcone resveratrol  12126798   \n",
      "17549  chalcone resveratrol  10563851   \n",
      "17550  chalcone resveratrol   9292395   \n",
      "17551  chalcone resveratrol   6427224   \n",
      "17552  chalcone resveratrol   2209605   \n",
      "\n",
      "                                                   Title  \\\n",
      "0      Development of novel functional snacks contain...   \n",
      "1      The synergistic antifungal activity of resvera...   \n",
      "2      Resveratrol Protects Cardiac Tissue in Experim...   \n",
      "3      Role of Resveratrol in Prevention and Control ...   \n",
      "4      Effect of resveratrol and mesenchymal stem cel...   \n",
      "...                                                  ...   \n",
      "17548  Prooxidant activity and cellular effects of th...   \n",
      "17549  PH-dependent forms of red wine anthocyanins as...   \n",
      "17550  Wine as a biological fluid : history , product...   \n",
      "17551  Purification and properties of a stilbene synt...   \n",
      "17552  The multifunctional 6-methylsalicylic acid syn...   \n",
      "\n",
      "                                                Abstract  \n",
      "0      In this study , functional snacks with additio...  \n",
      "1      Candida albicans is one of the most common cli...  \n",
      "2      Hypertension is one of the most prevalent and ...  \n",
      "3      Resveratrol is a phytoalexin produced by many ...  \n",
      "4      Osteoporosis is a skeletal disorder that is co...  \n",
      "...                                                  ...  \n",
      "17548  Dietary polyphenolics in fruits , vegetables ,...  \n",
      "17549  Anthocyanins are one of the main classes of fl...  \n",
      "17550  Wine has been part of human culture for 6,000 ...  \n",
      "17551  Stilbene synthase ( resveratrol -forming ) con...  \n",
      "17552  6-Methylsalicylic acid synthase ( MSAS ) from ...  \n",
      "\n",
      "[17553 rows x 4 columns]\n",
      "O dataset completo final de todas as keywords terá uma dimensão de (17553, 4)\n"
     ]
    }
   ],
   "source": [
    "def merge_pandasdocs(dataframes):\n",
    "    res = pandas.concat(dataframes)\n",
    "    res = res.reset_index(drop=True)\n",
    "    return res\n",
    "\n",
    "\n",
    "dflist = [resv_df, resvsynt_df, stilbsynt_df, pcouCoA_df, vini_df, picea_df,\n",
    "          pid_df, ptero_df, pinos_df, cal_df]\n",
    "\n",
    "big_df = merge_pandasdocs(dflist)\n",
    "print(big_df)\n",
    "print(\"O dataset completo final de todas as keywords terá uma dimensão de\",big_df.shape)"
   ],
   "metadata": {
    "collapsed": false,
    "pycharm": {
     "name": "#%%\n"
    }
   }
  },
  {
   "cell_type": "markdown",
   "source": [
    "<p>\n",
    "Analisando o recém criado Dataset, observa-se que muitos dos documentos se encontram\n",
    "repetidos, que pode ser explicado pelo facto de que o mesmo artigo pode retratar no seu\n",
    "corpo diferentes keywords, e portanto, os mesmos PMIDs são recolhidos em calls de\n",
    "keywords distintas, e que posteriormente irão criar linhas exatamente iguais no\n",
    "DataFrame.\n",
    "</p>\n",
    "<p>\n",
    "Tendo isto em mente foi criada uma função <i> pandasframe_patterns() </i>, que retorna\n",
    "um novo DataFrame de acordo com a preferência do utilizador: se <strong> unique\n",
    "</strong> = <strong> True</strong> retorna um Dataframe apenas com as linhas que são\n",
    "unicas, ou seja, retira todos os duplicados, conservando apenas a primeira ocorrência\n",
    "dos mesmos; caso <strong> unique </strong> = <strong> False</strong>, faz exatamente\n",
    "o contrário e retorna as linhas que estavam duplicadas (apenas uma ocorrência),\n",
    "</p>"
   ],
   "metadata": {
    "collapsed": false
   }
  },
  {
   "cell_type": "code",
   "execution_count": 12,
   "outputs": [
    {
     "name": "stdout",
     "output_type": "stream",
     "text": [
      "No dataset global existem 1669 artigos duplicados.\n"
     ]
    }
   ],
   "source": [
    "def pandasframe_patterns(dataframe, unique=True):\n",
    "    \"\"\" se quiser só as rows que são unicas por default,\n",
    "    unique = False, faz exatamente o contrário, retorna as rows que estavam duplicadas (apenas 1)\"\"\"\n",
    "    if unique:\n",
    "        df = dataframe.drop_duplicates(subset=\"Document\")\n",
    "    else:\n",
    "        df = dataframe[dataframe.duplicated(subset=\"Document\")]\n",
    "        df = df.drop_duplicates()\n",
    "    return df\n",
    "\n",
    "\n",
    "duplicados = pandasframe_patterns(big_df, unique=False)\n",
    "print(\"No dataset global existem\", duplicados.shape[0], \"artigos duplicados.\")"
   ],
   "metadata": {
    "collapsed": false,
    "pycharm": {
     "name": "#%%\n"
    }
   }
  },
  {
   "cell_type": "markdown",
   "source": [
    "<p>\n",
    "O passo anterior é opcional neste estágio e pode (e deve) ser implementado mais à frente\n",
    "na pipeline.\n",
    "</p>\n",
    "<p>\n",
    "O próximo passo deste projeto passa por reduzir a dimensão do dataset global, de forma\n",
    "a obter os documentos mais indicados possível de acordo com o tema em estudo, neste caso,\n",
    "a via de biosintese do <strong>resveratrol</strong> e vias associadas. <br>\n",
    "Assim, a construção de uma nova função foi mandatória, de forma a filtrar o grande\n",
    "DataFrame apenas para <strong>documentos potencialmente relevantes</strong>.\n",
    "Uma forma intuitiva de o fazer passará por apenas incluir artigos onde se encontrem,\n",
    "no seu Título ou Abstract, palavras de interesse que saibamos à priori que devem estar\n",
    "incluidas nesses textos para que sejam relevantes. <br>\n",
    "Para isso foi criada a função <i>pandasframe_trimming()</i>, que procura por um conjunto\n",
    "de palavras nos titlos e abstracts de cada linha do pandas DataFrame. Será então\n",
    "atribuido um score correspodente ao número de palavras que são encontradas no texto,\n",
    "expresso numa nova coluna \"Occurrece\", sendo no final as linhas do DataFrame ordenadas\n",
    "de acordo com esta.\n",
    "</p>"
   ],
   "metadata": {
    "collapsed": false
   }
  },
  {
   "cell_type": "code",
   "execution_count": 39,
   "outputs": [],
   "source": [
    "def pandasframe_trimming(dataframe, keywords):\n",
    "    \"\"\"Dada uma lista de keywords, procura cada uma delas em todos os titulos e abstracts presentes num dado dataframe,\n",
    "    se numa dada linha, nenhuma das keywords se verificar, podemos eliminá-la\"\"\"\n",
    "    counter = []\n",
    "    for index, row in dataframe.iterrows():\n",
    "        # print(index, row[\"Document\"], type(row['Title']), type(row['Abstract']))\n",
    "        number = 0\n",
    "        for keyword in keywords:\n",
    "            if keyword == row[\"Keyword\"]:\n",
    "                continue\n",
    "            if keyword in str(row[\"Title\"]).lower() or keyword in str(row[\"Abstract\"]).lower():\n",
    "                number += 1\n",
    "        counter.append(number)\n",
    "    df = dataframe.copy()\n",
    "    df[\"Occurrence\"] = counter\n",
    "    df = df.sort_values(by=\"Occurrence\", ascending=False)\n",
    "    return df"
   ],
   "metadata": {
    "collapsed": false,
    "pycharm": {
     "name": "#%%\n"
    }
   }
  },
  {
   "cell_type": "markdown",
   "source": [
    "<p>\n",
    "Outro método passaria por procurar apenas um keyword específica nos textos do DataFrame,\n",
    "se a palavra constasse daí, seria atribuída a label <strong>\"Yes\"</strong>, caso contrário,\n",
    "a label <strong>\"No\"</strong>. No DataFrame final seriam apenas retornadas as linhas\n",
    "com a label igual a <strong>\"Yes\"</strong>.\n",
    "</p>"
   ],
   "metadata": {
    "collapsed": false
   }
  },
  {
   "cell_type": "code",
   "execution_count": 15,
   "outputs": [
    {
     "name": "stdout",
     "output_type": "stream",
     "text": [
      "Número de artigos com pathway: 852 em cerca de 17553 artigos\n"
     ]
    }
   ],
   "source": [
    "def search_keyword_pandasframe(dataframe, keyword):\n",
    "    \"\"\"dada uma keyword, procura essa keyword no titulo e abstract correspondente a todos os documentos do dataframe\n",
    "    dado e retorna os documentos onde essa keyword aparece, assim como o numero desses documentos \"\"\"\n",
    "    occ = []\n",
    "    number = 0\n",
    "    for index, row in dataframe.iterrows():\n",
    "        # print(index, row[\"Document\"], type(row['Title']), row['Abstract'])\n",
    "        if row[\"Keyword\"] != keyword:\n",
    "            if keyword not in str(row[\"Title\"]).lower() or keyword not in str(row[\"Abstract\"]).lower():\n",
    "                occ.append(\"No\")\n",
    "            else:\n",
    "                number += 1\n",
    "                occ.append(\"Yes\")\n",
    "        else:\n",
    "            occ.append(\"Same\")\n",
    "    df = dataframe.copy()\n",
    "    df[\"Occurrence\"] = occ\n",
    "    df = df.loc[df[\"Occurrence\"] == \"Yes\"]\n",
    "    df = df.drop([\"Occurrence\"], axis=1)\n",
    "    return df, number\n",
    "\n",
    "\n",
    "df_trimmed_onekey, num = search_keyword_pandasframe(big_df, \"pathway\")\n",
    "print(\"Número de artigos com pathway:\", num, \"em cerca de\", big_df.shape[0], \"artigos\")  # número de vezes (artigos) que pathway aparece"
   ],
   "metadata": {
    "collapsed": false,
    "pycharm": {
     "name": "#%%\n"
    }
   }
  },
  {
   "cell_type": "markdown",
   "source": [
    "<p>\n",
    "A função a cima explicada e exemplificada pode ser interessante para o\n",
    "utilizador ter um ideia da qualidade do DataFrame global que foi criado\n",
    "anteriormente, em termos de uma keyword específica.\n",
    "</p>\n",
    "<p>\n",
    "De seguida foi criada uma lista de keywords da forma mais completa\n",
    "possível, de forma a tentar abranger o maior número de artigos relevantes\n",
    "a este estudo, e assim ser um pouco mais restrito na sua procura. <br>\n",
    "Assim esta lista foi aplicada como argumento de <i>pandasframe_trimming</i>,\n",
    "sendo então retornado um novo <strong> DaraFrame com o número de ocorrências\n",
    "destas palavras</strong> nos seus textos. <br>\n",
    "Antes disso, foi também criado outro DataFrame através da mesma função, mas\n",
    "apenas com a lista de keywords <i>keywordlst</i>, que foi usada inicialmente\n",
    "para retirar os artigos do PubMed.\n",
    "</p>"
   ],
   "metadata": {
    "collapsed": false
   }
  },
  {
   "cell_type": "code",
   "execution_count": 46,
   "outputs": [],
   "source": [
    "findkeywordlst = [\"resveratrol\",\n",
    "                  \"trans-resveratrol\",\n",
    "                  \"3,4',5-trihydroxystilbene\",\n",
    "                  \"3,4',5-trihydroxy-trans-stilbene\",\n",
    "                  \"resveratrol synthase\",\n",
    "                  \"stilbene synthase\",\n",
    "                  \"stilbenoids\",\n",
    "                  \"stilbenes\",\n",
    "                  \"trihydroxystilbene\",\n",
    "                  \"resveratrol cleavage oxygenase\",\n",
    "                  \"trihydroxystilbene synthase\",\n",
    "                  \"resveratrol 3,5-O-dimethyltransferase\",\n",
    "                  \"malonyl-CoA\",\n",
    "                  \"p-coumaroyl-CoA\",\n",
    "                  \"viniferin\",\n",
    "                  \"piceatannol\",\n",
    "                  \"piceid\",\n",
    "                  \"pterostilbene\",\n",
    "                  \"pinostilbene\",\n",
    "                  \"phytoalexin\",\n",
    "                  \"chalcone resveratrol\",\n",
    "                  \"secondary metabolites\",\n",
    "                  \"secondary metabolite biosynthesis\",\n",
    "                  \"plants\",\n",
    "                  \"phenotype\"]\n",
    "\n",
    "df_trimmed = pandasframe_trimming(big_df, keywordlst)\n",
    "df_trimmed = df_trimmed.reset_index(drop=True)\n",
    "df_trimmed_geral = pandasframe_trimming(big_df, findkeywordlst)\n",
    "df_trimmed_geral = df_trimmed_geral.reset_index(drop=True)"
   ],
   "metadata": {
    "collapsed": false,
    "pycharm": {
     "name": "#%%\n"
    }
   }
  },
  {
   "cell_type": "markdown",
   "source": [
    "<p>\n",
    "A análise desde DataFrame permite verificar o grande número de artigos recolhidos\n",
    "que não correspondem em nenhuma medida ao assunto de interesse, tanto no DataFrame\n",
    "fruto da lista inicial como no DataFrame com as keywords mais gerais. <br>\n",
    "Isto pode ser observado através da grande maioria de artigos com menos de duas\n",
    "ocorrências de keywords de interesse, como se vai ver se seguida.\n",
    "</p>\n",
    "<p>\n",
    "\n",
    "</p>"
   ],
   "metadata": {
    "collapsed": false
   }
  },
  {
   "cell_type": "code",
   "execution_count": 33,
   "outputs": [],
   "source": [
    "# Para DataFrame com as keywords inicias\n",
    "# retirar artigos duplicados de acordo com o PMID\n",
    "df_trimmed = df_trimmed.drop_duplicates(subset=\"Document\")\n",
    "\n",
    "# Número de artigos com mais de uma ocorrência\n",
    "df_trimmed_1 = df_trimmed[df_trimmed[\"Occurrence\"] > 1]\n",
    "\n",
    "# Número de artigos com mais de duas ocorrências\n",
    "df_trimmed_2 = df_trimmed[df_trimmed[\"Occurrence\"] > 2]\n",
    "\n",
    "# Para DataFrame com as keywords específicas\n",
    "# retirar artigos duplicados de acordo com o PMID\n",
    "df_trimmed_geral = df_trimmed_geral.drop_duplicates(subset=\"Document\")\n",
    "\n",
    "# Número de artigos com mais de uma ocorrência\n",
    "df_trimmed_geral_1 = df_trimmed_geral[df_trimmed_geral[\"Occurrence\"] > 1]\n",
    "\n",
    "# Número de artigos com mais de duas ocorrências\n",
    "df_trimmed_geral_2 = df_trimmed_geral[df_trimmed_geral[\"Occurrence\"] > 2]\n",
    "\n",
    "# Número de artigos com mais de três ocorrências\n",
    "df_trimmed_geral_3 = df_trimmed_geral[df_trimmed_geral[\"Occurrence\"] > 3]\n",
    "\n",
    "# Reiniciar indices das linhas\n",
    "df_trimmed_geral_2 = df_trimmed_geral_2.reset_index(drop=True)\n",
    "df_trimmed_geral_3 = df_trimmed_geral_3.reset_index(drop=True)"
   ],
   "metadata": {
    "collapsed": false,
    "pycharm": {
     "name": "#%%\n"
    }
   }
  },
  {
   "cell_type": "markdown",
   "source": [
    "<p>\n",
    "O DataFrame criado com as keywords inicias não foi satisfatório, pelo que será\n",
    "descartado. <br>\n",
    "Em relação às keywords mais específicas, foi filtrado para apenas os artigos com mais\n",
    "de 1, 2 ou 3 ocorrências: mais de 1 ocorrência resulta num número demasiado grande de\n",
    "artigos, enquanto que 3 num número demasiado baixo. Foi portanto utilizado o DataFrame\n",
    "com os artigos com mais de duas ocorrências de palavras.\n",
    "</p>\n",
    "<p>\n",
    "Curação manual diretamente no ficheiro excel criado. <br>\n",
    "O objetivo será sempre encontrar artigos que sugiram, no seu abstract, que no seu\n",
    "corpo irão ser retratadas matérias relacionadas com o metabolismo do resveratrol.\n",
    "</p>"
   ],
   "metadata": {
    "collapsed": false
   }
  },
  {
   "cell_type": "code",
   "execution_count": 30,
   "outputs": [],
   "source": [
    "df = pandas.read_excel(\"C:/Users/Zé Freitas/Desktop/Mestrado/2ºSemestre/Projeto/code/\"\n",
    "                   \"datasets/dataset_geral_marta.xlsx\",\n",
    "                   usecols=\"C,J\")\n",
    "print(df.shpape)"
   ],
   "metadata": {
    "collapsed": false,
    "pycharm": {
     "name": "#%%\n"
    }
   }
  },
  {
   "cell_type": "markdown",
   "source": [
    "<p>\n",
    "Nesta primeria análise observou-se uma grande incidência de artigos não relevantes,\n",
    "o que seria de esperar, tendo em conta o próprio tema. <br>\n",
    "No entanto, achamos que\n",
    "estes valores poderiam ser melhorados, e assim ficou decidido adicionar novas\n",
    "palavras para uma filtração mais rigorosa do DataFrame global.\n",
    "</p>"
   ],
   "metadata": {
    "collapsed": false
   }
  },
  {
   "cell_type": "code",
   "execution_count": 51,
   "outputs": [],
   "source": [
    "newords = [\"pathway\",\n",
    "           \"biosynthesis\",\n",
    "           \"synthesis\"]  # 3 novas palavras\n",
    "\n",
    "if newords[0] not in findkeywordlst:\n",
    "    findkeywordlst.extend(newords)\n",
    "\n",
    "# Atribuição de scores\n",
    "df_trimmed_geral = pandasframe_trimming(big_df, findkeywordlst)\n",
    "df_trimmed_geral = df_trimmed_geral.drop_duplicates(subset=\"Document\")\n",
    "df_trimmed_geral = df_trimmed_geral.reset_index(drop=True)\n",
    "\n",
    "df_trimmed_geral_2 = df_trimmed_geral[df_trimmed_geral[\"Occurrence\"] > 2]\n",
    "df_trimmed_geral_3 = df_trimmed_geral[df_trimmed_geral[\"Occurrence\"] > 3]\n",
    "df_trimmed_geral_2 = df_trimmed_geral_2.reset_index(drop=True)\n",
    "df_trimmed_geral_3 = df_trimmed_geral_3.reset_index(drop=True)"
   ],
   "metadata": {
    "collapsed": false,
    "pycharm": {
     "name": "#%%\n"
    }
   }
  },
  {
   "cell_type": "markdown",
   "source": [
    "<p>\n",
    "Para este caso ficou decidido avançar com o DataFrame filtrado para mais de 3\n",
    "ocorrências.\n",
    "</p>\n",
    "<p>\n",
    "Para facilitar a análise deste novo DataFrame, e prevendo que grande parte dos\n",
    "documentos presentes neste estarão já presentes no DataFrame anterior <strong>\n",
    "df</strong>, decidimos proceder ao merge dos dois, de modo a poder incluir nas\n",
    "linhas a label das relevâncias dos artigos já analisados, deixando em branco\n",
    "novos artigos.\n",
    "</p>"
   ],
   "metadata": {
    "collapsed": false
   }
  },
  {
   "cell_type": "code",
   "execution_count": 58,
   "outputs": [],
   "source": [
    "df_trimmed_geral_3[\"Document\"] = df_trimmed_geral_3[\"Document\"].astype(int)\n",
    "df_merged = pandas.merge(df, df_trimmed_geral_3, on=\"Document\", how=\"right\")\n",
    "# df_merged.to_excel(\"C:/Users/Zé Freitas/Desktop/Mestrado/2ºSemestre/Projeto/\"\n",
    "#                    \"code/datasets/dataset_geral_marta_v2.xlsx\")"
   ],
   "metadata": {
    "collapsed": false,
    "pycharm": {
     "name": "#%%\n"
    }
   }
  },
  {
   "cell_type": "markdown",
   "source": [
    "<p>\n",
    "Os artigos com \"Relevance\" em branco (ou com \"non\" como atributo) neste novo DataFrame\n",
    "serão mais uma vez curados manualmente.\n",
    "</p>\n",
    "<p>\n",
    "Ao efetuar o merge de ambos, houve alguns problemas de formatação do excel, por isso\n",
    "de seguida os DataFrames serão reorganizados.\n",
    "</p>"
   ],
   "metadata": {
    "collapsed": false
   }
  },
  {
   "cell_type": "code",
   "execution_count": 59,
   "outputs": [
    {
     "name": "stdout",
     "output_type": "stream",
     "text": [
      "['Keyword', 'Document', 'Title', 'Abstract', 'Relevance']\n",
      "['Document', 'Relevance', 'Keyword', 'Title', 'Abstract']\n"
     ]
    }
   ],
   "source": [
    "# Primeiro DataFrame\n",
    "df_final_v1 = pandas.read_excel(\"C:/Users/Zé Freitas/Desktop/Mestrado/2ºSemestre/\"\n",
    "                                \"Projeto/code/datasets/dataset_geral_marta.xlsx\",\n",
    "                                usecols=\"B:E,J\")\n",
    "df_final_v1.rename(columns={'Unnamed: 9': 'Relevance'}, inplace=True)\n",
    "df_relevant = df_final_v1[df_final_v1[\"Relevance\"] == \"relevant\"]\n",
    "df_relevant = df_relevant.reset_index(drop=True)\n",
    "cols = list(df_final_v1.columns.values)\n",
    "print(cols)\n",
    "\n",
    "# Novo DataFrame com mais keywords\n",
    "df_final_v2 = pandas.read_excel(\"C:/Users/Zé Freitas/Desktop/Mestrado/2ºSemestre/Projeto/code/datasets/\"\n",
    "                                \"dataset_geral_marta_v2.xlsx\",\n",
    "                                index_col=0, usecols=\"A:F\")\n",
    "df_final_v2.rename(columns={'Unnamed: 9': 'Relevance'}, inplace=True)\n",
    "df_relevant_v2 = df_final_v2[df_final_v2[\"Relevance\"] == \"relevant\"]\n",
    "df_relevant_v2 = df_relevant_v2.reset_index(drop=True)\n",
    "colsv2 = list(df_final_v2.columns.values)\n",
    "print(colsv2)\n",
    "\n",
    "# Organização do segundo DataFrame de acordo com o primeiro\n",
    "df_final_v2 = df_final_v2[['Keyword', 'Document', 'Title', 'Abstract', 'Relevance']]"
   ],
   "metadata": {
    "collapsed": false,
    "pycharm": {
     "name": "#%%\n"
    }
   }
  },
  {
   "cell_type": "markdown",
   "source": [
    "<p>\n",
    "Como visto antes, estes dois DataFrames terão artigos repetidos, daí o merge ter\n",
    "resultado, portanto terá que se concatenar ambos para assim eliminar os duplicados\n",
    "e obtermos um DataFrame decente\n",
    "</p>"
   ],
   "metadata": {
    "collapsed": false
   }
  },
  {
   "cell_type": "code",
   "execution_count": 60,
   "outputs": [],
   "source": [
    "dfs_final = [df_final_v1, df_final_v2]\n",
    "\n",
    "# Concatenar os dois DataFrames\n",
    "df_finalissimo = merge_pandasdocs(dfs_final)\n",
    "\n",
    "# Eliminação de duplicados de acordo com PMID\n",
    "df_finalissimo = df_finalissimo.drop_duplicates(subset=\"Document\")\n",
    "\n",
    "# Reiniciar os indices das linhas\n",
    "df_finalissimo = df_finalissimo.reset_index(drop=True)\n"
   ],
   "metadata": {
    "collapsed": false,
    "pycharm": {
     "name": "#%%\n"
    }
   }
  },
  {
   "cell_type": "markdown",
   "source": [
    "<p>\n",
    "Em jeito de finalização, pode ser revisto o número de documentos que foram classificados\n",
    "como relevantes no nosso <strong> DataSet Final</strong>.\n",
    "</p>"
   ],
   "metadata": {
    "collapsed": false
   }
  },
  {
   "cell_type": "code",
   "execution_count": 61,
   "outputs": [
    {
     "name": "stdout",
     "output_type": "stream",
     "text": [
      "193\n",
      "Número de artigos relevantes: 193 em cerca de 606 artigos\n"
     ]
    }
   ],
   "source": [
    "df_relevant_finalissimo = df_finalissimo[df_finalissimo[\"Relevance\"] == \"relevant\"]\n",
    "print(df_relevant_finalissimo.shape[0])\n",
    "print(\"Número de artigos relevantes:\", df_relevant_finalissimo.shape[0], \"em cerca de\",\n",
    "      df_finalissimo.shape[0], \"artigos\")"
   ],
   "metadata": {
    "collapsed": false,
    "pycharm": {
     "name": "#%%\n"
    }
   }
  },
  {
   "cell_type": "markdown",
   "source": [
    "<h2>\n",
    "Deep Learning\n",
    "</h2>\n",
    "<h3>\n",
    "Hierarchical Attention Networks <br>\n",
    "w/ parametrs optmized\n",
    "</h3>\n",
    "Com stops words gerais."
   ],
   "metadata": {
    "collapsed": false
   }
  },
  {
   "cell_type": "code",
   "execution_count": 12,
   "outputs": [
    {
     "name": "stdout",
     "output_type": "stream",
     "text": [
      "2.4.1\n",
      "Num GPUs Available:  0\n",
      "WARNING:tensorflow:Some requested devices in `tf.distribute.Strategy` are not visible to TensorFlow: /job:localhost/replica:0/task:0/device:GPU:0\n",
      "INFO:tensorflow:Using MirroredStrategy with devices ('/job:localhost/replica:0/task:0/device:GPU:0',)\n"
     ]
    },
    {
     "name": "stderr",
     "output_type": "stream",
     "text": [
      "C:\\Users\\Zé Freitas\\AppData\\Roaming\\Python\\Python38\\site-packages\\tensorflow\\python\\client\\session.py:1761: UserWarning: An interactive session is already active. This can cause out-of-memory errors in some cases. You must explicitly call `InteractiveSession.close()` to release resources held by the other session(s).\n",
      "  warnings.warn('An interactive session is already active. This can '\n"
     ]
    }
   ],
   "source": [
    "\"\"\"Imports\"\"\"\n",
    "\n",
    "import tensorflow\n",
    "import numpy as np\n",
    "import random\n",
    "import os\n",
    "\n",
    "seed_value = 11111\n",
    "np.random.seed(seed_value)\n",
    "random.seed(seed_value)\n",
    "tensorflow.random.set_seed(seed_value)\n",
    "\n",
    "from dl import DL_preprocessing\n",
    "from dl_models import HAN_opt\n",
    "from embeddings import compute_embedding_matrix\n",
    "from sklearn.metrics import accuracy_score\n",
    "from sklearn.metrics import precision_score\n",
    "from sklearn.metrics import recall_score\n",
    "from sklearn.metrics import f1_score\n",
    "from sklearn.metrics import confusion_matrix\n",
    "from tensorflow.keras.callbacks import EarlyStopping, ModelCheckpoint\n",
    "from dl import plot_training_history\n",
    "from dl_config import DLConfig\n",
    "from dl import average_precision  # vai dar uma prob para um dado doc ser relevant ou nao\n",
    "from tensorflow.keras.preprocessing import text\n",
    "from dl import plot_roc_n_pr_curves\n",
    "from sklearn.model_selection import train_test_split\n",
    "# noinspection PyUnresolvedReferences\n",
    "from tensorflow.compat.v1 import ConfigProto\n",
    "# noinspection PyUnresolvedReferences\n",
    "from tensorflow.compat.v1 import InteractiveSession\n",
    "import tensorflow.compat.v1.keras.backend as K\n",
    "import wget\n",
    "from nltk.corpus import stopwords\n",
    "\n",
    "stops = set(stopwords.words(\"english\"))\n",
    "\n",
    "config = ConfigProto()\n",
    "config.gpu_options.allow_growth = True\n",
    "session = InteractiveSession(config=config)\n",
    "K.set_session(session)\n",
    "\n",
    "print(tensorflow.__version__)\n",
    "\n",
    "print(\"Num GPUs Available: \", len(tensorflow.config.experimental.list_physical_devices('GPU')))\n",
    "\n",
    "multiple_gpus = [0]\n",
    "if multiple_gpus:\n",
    "    devices = []\n",
    "    for gpu in multiple_gpus:\n",
    "        devices.append('/gpu:' + str(gpu))\n",
    "    strategy = tensorflow.distribute.MirroredStrategy(devices=devices)\n",
    "else:\n",
    "    # Get the GPU device name.\n",
    "    device_name = tensorflow.test.gpu_device_name()\n",
    "    # The device name should look like the following:\n",
    "    if device_name == '/device:GPU:0':\n",
    "        print('Using GPU: {}'.format(device_name))\n",
    "    else:\n",
    "        raise SystemError('GPU device not found')\n",
    "\n",
    "    os.environ[\"CUDA_VISIBLE_DEVICES\"] = device_name\n",
    "    os.environ[\"CUDA_DEVICE_ORDER\"] = \"PCI_BUS_ID\""
   ],
   "metadata": {
    "collapsed": false,
    "pycharm": {
     "name": "#%%\n"
    }
   }
  },
  {
   "cell_type": "markdown",
   "source": [],
   "metadata": {
    "collapsed": false
   }
  },
  {
   "cell_type": "code",
   "execution_count": 63,
   "outputs": [
    {
     "name": "stdout",
     "output_type": "stream",
     "text": [
      "stilbenes , important secondary metabolites grapevine , represent central phytoalexins therefore constitute important element basal immunity . study , potential genetic variation vitis vinifera ssp . sylvestris , ancestor cultivated grapevine , sought respect output stilbenes potential use resistance breeding . considerable variation stilbene inducibility identified v. vinifera ssp . sylvestris . genotypic differences abundance profiles stilbenes induced response uv - c pulse shown . two clusters stilbene 'chemovars ' emerged : one cluster showed quick strong accumulation stilbenes , almost exclusively form non - glycosylated resveratrol viniferin , second cluster accumulated fewer stilbenes relatively high proportions piceatannol glycosylated piceid . 86 genotypes , time dependence stilbene pattern observed : piceid , resveratrol , piceatannol accumulated earlier , whereas viniferins found later . observed genotypic differences stilbene accumulation preceded differential accumulation transcripts chalcone synthase ( chs ) stilbene - related genes : phenylalanine ammonium lyase ( pal ) , stilbene synthase ( stsy ) , resveratrol synthase ( rs ) . screen population respect susceptibility downy mildew grapevine ( plasmopara viticola ) revealed considerable variability . subpopulation genotypes high stilbene inducibility significantly less susceptible compared low - stilbene genotypes , representative genotypes could shown inducibility stilbene synthase uv correlated inducibility pathogen .\n"
     ]
    }
   ],
   "source": [
    "dl_config = DLConfig(remove_punctuation=\"HTML\", stop_words=stops, lower=True, split_by_hyphen=True)\n",
    "\n",
    "\n",
    "def pandas_column_aslist(dataframe, column):\n",
    "    lst = dataframe[column].tolist()\n",
    "    return lst  # lista de strings\n",
    "\n",
    "\n",
    "df = pandas.read_excel(\"C:/Users/Zé Freitas/Desktop/Mestrado/2ºSemestre/Projeto/code/datasets/dataset_final.xlsx\",\n",
    "                   index_col=0)\n",
    "idsfinal = pandas_column_aslist(df, \"Document\")\n",
    "docsfinal = pmids_to_docs(idsfinal, \"pg42872@alunos.uminho.pt\", dl_config)\n",
    "docsfinal = docsfinal[0]\n",
    "print(docsfinal[0].abstract_string)\n",
    "dataset_docs = docs_to_pandasdocs(docsfinal)\n",
    "# dataset_docs.to_csv(\"C:/Users/Zé Freitas/Desktop/Mestrado/2ºSemestre/Projeto/code/datasets/dataset_teste_sempunct.csv\")"
   ],
   "metadata": {
    "collapsed": false,
    "pycharm": {
     "name": "#%%\n"
    }
   }
  },
  {
   "cell_type": "markdown",
   "source": [
    "<p>\n",
    "\n",
    "</p>"
   ],
   "metadata": {
    "collapsed": false
   }
  },
  {
   "cell_type": "code",
   "execution_count": 64,
   "outputs": [
    {
     "name": "stdout",
     "output_type": "stream",
     "text": [
      "                                                   Document\n",
      "25873669  <data_structures.document.Document object at 0...\n",
      "24269870  <data_structures.document.Document object at 0...\n",
      "17655245  <data_structures.document.Document object at 0...\n",
      "16663649  <data_structures.document.Document object at 0...\n",
      "33907682  <data_structures.document.Document object at 0...\n",
      "...                                                     ...\n",
      "32079399  <data_structures.document.Document object at 0...\n",
      "26976595  <data_structures.document.Document object at 0...\n",
      "20138774  <data_structures.document.Document object at 0...\n",
      "27936616  <data_structures.document.Document object at 0...\n",
      "28009095  <data_structures.document.Document object at 0...\n",
      "\n",
      "[606 rows x 1 columns]\n",
      "25873669    0\n",
      "24269870    0\n",
      "17655245    1\n",
      "16663649    1\n",
      "33907682    0\n",
      "           ..\n",
      "32079399    1\n",
      "26976595    0\n",
      "20138774    1\n",
      "27936616    1\n",
      "28009095    1\n",
      "Name: Label, Length: 606, dtype: int64\n",
      "genetic diversity stilbene metabolism vitis sylvestris .\n",
      "stilbenes , important secondary metabolites grapevine , represent central phytoalexins therefore constitute important element basal immunity . study , potential genetic variation vitis vinifera ssp . sylvestris , ancestor cultivated grapevine , sought respect output stilbenes potential use resistance breeding . considerable variation stilbene inducibility identified v. vinifera ssp . sylvestris . genotypic differences abundance profiles stilbenes induced response uv - c pulse shown . two clusters stilbene 'chemovars ' emerged : one cluster showed quick strong accumulation stilbenes , almost exclusively form non - glycosylated resveratrol viniferin , second cluster accumulated fewer stilbenes relatively high proportions piceatannol glycosylated piceid . 86 genotypes , time dependence stilbene pattern observed : piceid , resveratrol , piceatannol accumulated earlier , whereas viniferins found later . observed genotypic differences stilbene accumulation preceded differential accumulation transcripts chalcone synthase ( chs ) stilbene - related genes : phenylalanine ammonium lyase ( pal ) , stilbene synthase ( stsy ) , resveratrol synthase ( rs ) . screen population respect susceptibility downy mildew grapevine ( plasmopara viticola ) revealed considerable variability . subpopulation genotypes high stilbene inducibility significantly less susceptible compared low - stilbene genotypes , representative genotypes could shown inducibility stilbene synthase uv correlated inducibility pathogen .\n"
     ]
    }
   ],
   "source": [
    "x_total = dataset_docs\n",
    "y_total = pandas.read_excel(\"C:/Users/Zé Freitas/Desktop/Mestrado/2ºSemestre/Projeto/code/datasets/dataset_final.xlsx\",\n",
    "                            index_col=1, usecols=\"B:F\")\n",
    "\n",
    "print(x_total)\n",
    "\n",
    "\n",
    "def relevances_to_pandas(dataframe, relevances):\n",
    "    indexes = list(dataframe.index.values)\n",
    "    labels = []\n",
    "    for r in relevances:\n",
    "        if r == \"not relevant\":\n",
    "            labels.append(0)\n",
    "        elif r == \"relevant\":\n",
    "            labels.append(1)\n",
    "    return pandas.Series(labels, index=indexes, name='Label')\n",
    "\n",
    "\n",
    "relevance = pandas_column_aslist(y_total, \"Relevance\")\n",
    "y_total = relevances_to_pandas(y_total, relevance)\n",
    "print(y_total)\n",
    "\n",
    "print(x_total[\"Document\"][0].title_string)\n",
    "print(x_total[\"Document\"][0].abstract_string)"
   ],
   "metadata": {
    "collapsed": false,
    "pycharm": {
     "name": "#%%\n"
    }
   }
  },
  {
   "cell_type": "markdown",
   "source": [
    "<p>\n",
    "\n",
    "</p>"
   ],
   "metadata": {
    "collapsed": false
   }
  },
  {
   "cell_type": "code",
   "execution_count": 65,
   "outputs": [
    {
     "name": "stdout",
     "output_type": "stream",
     "text": [
      "(424, 1)\n",
      "(182, 1)\n",
      "(424,)\n",
      "(182,)\n"
     ]
    }
   ],
   "source": [
    "X_train_df, X_test_df, y_train_df, y_test_df = train_test_split(x_total, y_total, test_size=0.3,\n",
    "                                                                random_state=42, stratify=y_total)\n",
    "print(X_train_df.shape)\n",
    "print(X_test_df.shape)\n",
    "print(y_train_df.shape)\n",
    "print(y_test_df.shape)"
   ],
   "metadata": {
    "collapsed": false,
    "pycharm": {
     "name": "#%%\n"
    }
   }
  },
  {
   "cell_type": "markdown",
   "source": [],
   "metadata": {
    "collapsed": false
   }
  },
  {
   "cell_type": "code",
   "execution_count": 66,
   "outputs": [],
   "source": [
    "model_name = \"HC_pro\"\n",
    "dl_config = DLConfig(model_name=model_name, seed_value=seed_value)\n",
    "dl_config.stop_words = stops\n",
    "dl_config.lower = True\n",
    "dl_config.remove_punctuation = False\n",
    "dl_config.split_by_hyphen = True\n",
    "dl_config.lemmatization = False\n",
    "dl_config.stems = False\n",
    "\n",
    "#Parameters\n",
    "dl_config.padding = 'post'            #'pre' -> default; 'post' -> alternative\n",
    "dl_config.truncating = 'post'         #'pre' -> default; 'post' -> alternative      #####\n",
    "dl_config.oov_token = 'OOV'\n",
    "\n",
    "dl_config.epochs = 50\n",
    "dl_config.batch_size = 32     # e aumentar o batch\n",
    "dl_config.learning_rate = 0.001   #experimentar diminuir\n",
    "\n",
    "dl_config.max_sent_len = 50      #sentences will have a maximum of \"max_sent_len\" words    #400/500\n",
    "dl_config.max_nb_words = 100_000      #it will only be considered the top \"max_nb_words\" words in the dataset\n",
    "dl_config.max_nb_sentences = 15    # set only for the hierarchical attention model!!!\n",
    "\n",
    "dl_config.embeddings = 'biowordvec'\n",
    "\n",
    "if not os.path.isdir('./embeddings'):\n",
    "    os.mkdir('./embeddings')\n",
    "\n",
    "# if dl_config.embeddings == 'biowordvec':   #200 dimensions\n",
    "#     if not os.path.isfile('./embeddings/biowordvec'):\n",
    "#         url = \"https://ndownloader.figshare.com/files/12551780\"\n",
    "#         output_directory = \"./embeddings/biowordvec\"\n",
    "#         wget.download(url, out=output_directory)\n",
    "    #    !wget -O ./embeddings/biowordvec https://ndownloader.figshare.com/files/12551780\n",
    "dl_config.embedding_path = './embeddings/biowordvec'\n",
    "dl_config.embedding_dim = 200\n",
    "dl_config.embedding_format = 'word2vec'\n",
    "\n",
    "dl_config.keras_callbacks = True\n",
    "\n",
    "if dl_config.keras_callbacks:\n",
    "    dl_config.patience = 5   #early-stopping patience\n",
    "    checkpoint_path = str(dl_config.model_id_path) + '\\checkpoint.hdf5'\n",
    "    keras_callbacks = [\n",
    "            EarlyStopping(monitor='val_loss', mode='min', verbose=1, patience=dl_config.patience),\n",
    "           ModelCheckpoint(checkpoint_path, monitor='val_loss', mode='min', verbose=1, save_best_only=True)\n",
    "    ]\n",
    "else:\n",
    "    keras_callbacks = None"
   ],
   "metadata": {
    "collapsed": false,
    "pycharm": {
     "name": "#%%\n"
    }
   }
  },
  {
   "cell_type": "markdown",
   "source": [],
   "metadata": {
    "collapsed": false
   }
  },
  {
   "cell_type": "code",
   "execution_count": 67,
   "outputs": [
    {
     "name": "stdout",
     "output_type": "stream",
     "text": [
      "Found 7907 unique tokens.\n",
      "Index of Unknown Words: 1\n",
      "Training set with 297 samples\n",
      "Validation set with 127 samples\n",
      "[  22    5   20  698 1122 3434  178   20  698  431  497  333 4734  164\n",
      "   86    1    0    0    0    0    0    0    0    0    0    0    0    0\n",
      "    0    0    0    0    0    0    0    0    0    0    0    0    0    0\n",
      "    0    0    0    0    0    0    0    0]\n"
     ]
    }
   ],
   "source": [
    "dl_config.tokenizer = text.Tokenizer(num_words=dl_config.max_nb_words, oov_token=dl_config.oov_token)\n",
    "\n",
    "dl_config.validation_percentage = 30\n",
    "\n",
    "X_train, y_train, x_val, y_val = DL_preprocessing(X_train_df, y_train_df,\n",
    "                                                  dl_config, dataset='train',\n",
    "                                                  validation_percentage = dl_config.validation_percentage,\n",
    "                                                  seed_value=dl_config.seed_value)\n",
    "print(X_train[0][0])"
   ],
   "metadata": {
    "collapsed": false,
    "pycharm": {
     "name": "#%%\n"
    }
   }
  },
  {
   "cell_type": "markdown",
   "source": [],
   "metadata": {
    "collapsed": false
   }
  },
  {
   "cell_type": "code",
   "execution_count": 23,
   "outputs": [
    {
     "name": "stdout",
     "output_type": "stream",
     "text": [
      "Creating Embedding Matrix...\n",
      "Embedding Matrix Created \n",
      "------------------------\n",
      "number of null word embeddings: 350 in a total of 7907 words (4.43%)\n",
      "words not found: 349\n",
      "e.g. 10 words not found in the index :  ['hydroxyferuloyl' \"'superior\" \"'jingzaojing\" 'dk18' 'pholidotol'\n",
      " 'dhs2001' '882000m' 'furtherstudy' 'metabolitism' 'piceides' '6β'\n",
      " 'danfeng' 'myba2' 'sts36' 'spirotropis']\n",
      "(7908, 200)\n",
      "[[ 0.          0.          0.         ...  0.          0.\n",
      "   0.        ]\n",
      " [ 0.          0.          0.         ...  0.          0.\n",
      "   0.        ]\n",
      " [-0.0848686  -0.0417668  -0.3709338  ...  0.07843895  0.08479623\n",
      "   0.54163074]\n",
      " ...\n",
      " [ 0.15182443 -0.13880545  0.16630234 ... -0.29269406 -0.08847184\n",
      "  -0.05204243]\n",
      " [-0.1121414  -0.08872321 -0.33860227 ... -0.34313729  0.25840917\n",
      "  -0.20746794]\n",
      " [ 0.26528463  0.19522475 -0.05939044 ...  0.18617576 -0.05572284\n",
      "  -0.12646711]]\n"
     ]
    }
   ],
   "source": [
    "dl_config.embedding_matrix = compute_embedding_matrix(dl_config, embeddings_format = dl_config.embedding_format)\n",
    "# quantas palavras encontrou no vocabulario do embedding\n",
    "\n",
    "print(dl_config.embedding_matrix.shape)\n",
    "print(dl_config.embedding_matrix)\n"
   ],
   "metadata": {
    "collapsed": false,
    "pycharm": {
     "name": "#%%\n"
    }
   }
  },
  {
   "cell_type": "markdown",
   "source": [],
   "metadata": {
    "collapsed": false
   }
  },
  {
   "cell_type": "code",
   "execution_count": 24,
   "outputs": [
    {
     "name": "stdout",
     "output_type": "stream",
     "text": [
      "Model: \"model_3\"\n",
      "_________________________________________________________________\n",
      "Layer (type)                 Output Shape              Param #   \n",
      "=================================================================\n",
      "input_4 (InputLayer)         [(None, 15, 50)]          0         \n",
      "_________________________________________________________________\n",
      "time_distributed_1 (TimeDist (None, 15, 256)           1984544   \n",
      "_________________________________________________________________\n",
      "spatial_dropout1d_3 (Spatial (None, 15, 256)           0         \n",
      "_________________________________________________________________\n",
      "bidirectional_3 (Bidirection (None, 15, 512)           1050624   \n",
      "_________________________________________________________________\n",
      "attention_with_context_3 (At (None, 512)               263168    \n",
      "_________________________________________________________________\n",
      "dense_1 (Dense)              (None, 1)                 513       \n",
      "=================================================================\n",
      "Total params: 3,298,849\n",
      "Trainable params: 1,717,249\n",
      "Non-trainable params: 1,581,600\n",
      "_________________________________________________________________\n",
      "None\n",
      "Epoch 1/50\n",
      "10/10 [==============================] - 59s 2s/step - loss: 0.6597 - accuracy: 0.6348 - val_loss: 0.6267 - val_accuracy: 0.7087\b\b\b\b\b\b\b\b\b\b\b\b\b\b\b\b\b\b\b\b\b\b\b\b\b\b\b\b\b\b\b\b\b\b\b\b\b\b\b\b\b\b\b\b\b\b\b\b\b\b\b\b\b\b\b\b\b\b\b\b\b\b\b\b\b\b\b\b\b\b\b\b\b\b\b\b\b\b\b\b\b\b\b\b\b\b\b\b\b\b\b\b\b\b\b\b\b\b\b\b\b\b\b\b\b\b\b\b\b\b\b\b\b\b\b\b\b\b\b\b\b\b\b\b\b\b\b\b\b\b\b\b\b\b\b\b\b\b\b\b\b\b\b\b\b\b\b\b\b\b\b\b\b\b\b\b\b\b\b\b\b\b\b\b\b\b\b\b\b\b\b\b\b\b\b\b\b\b\b\b\b\b\b\b\b\b\b\b\b\b\b\b\b\b\b\b\b\b\b\b\b\b\b\b\b\b\b\b\b\b\b\b\b\b\b\b\b\b\b\b\b\b\b\b\b\b\b\b\b\b\b\b\b\b\b\b\b\b\b\b\b\b\b\b\b\b\b\b\b\b\b\b\b\b\b\b\b\b\b\b\b\b\b\b\b\b\b\b\b\b\b\b\b\b\b\b\b\b\b\b\b\b\b\b\b\b\b\b\b\b\b\b\b\b\b\b\b\b\b\b\b\b\b\b\b\b\b\b\b\b\b\b\b\b\b\b\b\b\b\b\b\b\b\b\b\b\b\b\b\b\b\b\b\b\b\b\b\b\b\b\b\b\b\b\b\b\b\b\b\b\b\b\b\b\b\b\b\b\b\b\b\b\b\b\b\b\b\b\b\b\b\b\b\b\b\b\b\b\b\b\b\b\b\b\b\b\b\b\b\b\b\b\b\b\b\b\b\b\b\b\b\b\b\b\b\b\b\b\b\b\b\b\b\b\b\b\b\b\b\b\b\b\b\b\b\b\b\b\b\b\b\b\b\b\b\b\b\b\b\b\b\b\b\b\b\b\b\b\b\b\b\b\b\b\b\b\b\b\b\b\b\b\b\b\b\b\b\b\b\b\b\b\b\b\b\b\b\b\b\b\b\b\b\b\b\b\b\b\b\b\b\b\b\b\b\b\b\b\b\b\b\b\b\b\b\b\b\b\b\b\b\b\b\b\b\b\b\b\b\b\b\b\b\b\b\b\b\b\b\b\b\b\b\b\b\b\b\b\b\b\b\b\b\b\b\b\b\b\b\b\b\b\b\b\b\b\b\b\b\b\b\b\b\b\b\b\b\b\b\b\b\b\b\b\b\b\b\b\b\b\b\b\b\b\b\b\b\b\b\b\b\b\b\b\b\b\b\b\b\b\b\b\b\b\b\b\b\b\b\b\b\b\b\b\b\b\b\b\b\b\b\b\b\b\b\b\b\b\b\b\b\b\b\b\b\b\b\b\b\b\b\b\b\b\b\b\b\b\b\b\b\b\b\b\b\b\b\b\b\b\b\b\b\b\b\b\b\b\b\b\b\b\b\b\b\b\b\b\b\b\b\b\b\b\b\b\b\b\b\b\b\b\b\b\b\b\b\b\b\b\b\b\b\b\b\b\b\b\b\b\b\b\b\b\b\b\b\b\b\b\b\b\b\b\b\b\b\b\b\b\b\b\b\b\b\b\b\b\b\b\b\b\b\b\b\b\b\b\b\b\b\b\b\b\b\b\b\b\b\b\b\b\b\b\b\b\b\b\b\b\b\b\b\b\b\b\b\b\b\b\n",
      "\n",
      "Epoch 00001: val_loss improved from inf to 0.62668, saving model to models\\HC_pro\\HC_pro_0\\checkpoint.hdf5\n",
      "Epoch 2/50\n",
      "10/10 [==============================] - 19s 2s/step - loss: 0.6003 - accuracy: 0.6846 - val_loss: 0.5857 - val_accuracy: 0.7087\b\b\b\b\b\b\b\b\b\b\b\b\b\b\b\b\b\b\b\b\b\b\b\b\b\b\b\b\b\b\b\b\b\b\b\b\b\b\b\b\b\b\b\b\b\b\b\b\b\b\b\b\b\b\b\b\b\b\b\b\b\b\b\b\b\b\b\b\b\b\b\b\b\b\b\b\b\b\b\b\b\b\b\b\b\b\b\b\b\b\b\b\b\b\b\b\b\b\b\b\b\b\b\b\b\b\b\b\b\b\b\b\b\b\b\b\b\b\b\b\b\b\b\b\b\b\b\b\b\b\b\b\b\b\b\b\b\b\b\b\b\b\b\b\b\b\b\b\b\b\b\b\b\b\b\b\b\b\b\b\b\b\b\b\b\b\b\b\b\b\b\b\b\b\b\b\b\b\b\b\b\b\b\b\b\b\b\b\b\b\b\b\b\b\b\b\b\b\b\b\b\b\b\b\b\b\b\b\b\b\b\b\b\b\b\b\b\b\b\b\b\b\b\b\b\b\b\b\b\b\b\b\b\b\b\b\b\b\b\b\b\b\b\b\b\b\b\b\b\b\b\b\b\b\b\b\b\b\b\b\b\b\b\b\b\b\b\b\b\b\b\b\b\b\b\b\b\b\b\b\b\b\b\b\b\b\b\b\b\b\b\b\b\b\b\b\b\b\b\b\b\b\b\b\b\b\b\b\b\b\b\b\b\b\b\b\b\b\b\b\b\b\b\b\b\b\b\b\b\b\b\b\b\b\b\b\b\b\b\b\b\b\b\b\b\b\b\b\b\b\b\b\b\b\b\b\b\b\b\b\b\b\b\b\b\b\b\b\b\b\b\b\b\b\b\b\b\b\b\b\b\b\b\b\b\b\b\b\b\b\b\b\b\b\b\b\b\b\b\b\b\b\b\b\b\b\b\b\b\b\b\b\b\b\b\b\b\b\b\b\b\b\b\b\b\b\b\b\b\b\b\b\b\b\b\b\b\b\b\b\b\b\b\b\b\b\b\b\b\b\b\b\b\b\b\b\b\b\b\b\b\b\b\b\b\b\b\b\b\b\b\b\b\b\b\b\b\b\b\b\b\b\b\b\b\b\b\b\b\b\b\b\b\b\b\b\b\b\b\b\b\b\b\b\b\b\b\b\b\b\b\b\b\b\b\b\b\b\b\b\b\b\b\b\b\b\b\b\b\b\b\b\b\b\b\b\b\b\b\b\b\b\b\b\b\b\b\b\b\b\b\b\b\b\b\b\b\b\b\b\b\b\b\b\b\b\b\b\b\b\b\b\b\b\b\b\b\b\b\b\b\b\b\b\b\b\b\b\b\b\b\b\b\b\b\b\b\b\b\b\b\b\b\b\b\b\b\b\b\b\b\b\b\b\b\b\b\b\b\b\b\b\b\b\b\b\b\b\b\b\b\b\b\b\b\b\b\b\b\b\b\b\b\b\b\b\b\b\b\b\b\b\b\b\b\b\b\b\b\b\b\b\b\b\b\b\b\b\b\b\b\b\b\b\b\b\b\b\b\b\b\b\b\b\b\b\b\b\b\b\b\b\b\b\b\b\b\b\b\b\b\b\b\b\b\b\b\b\b\b\b\b\b\b\b\b\b\b\b\b\b\b\b\b\b\b\b\b\b\b\b\b\b\b\b\b\b\b\b\b\b\b\b\b\b\b\b\b\b\b\b\b\b\b\b\b\b\b\b\b\b\b\b\b\b\b\b\b\b\b\b\b\b\b\b\b\b\n",
      "\n",
      "Epoch 00002: val_loss improved from 0.62668 to 0.58568, saving model to models\\HC_pro\\HC_pro_0\\checkpoint.hdf5\n",
      "Epoch 3/50\n",
      "10/10 [==============================] - 15s 2s/step - loss: 0.5011 - accuracy: 0.7421 - val_loss: 0.6630 - val_accuracy: 0.7244\b\b\b\b\b\b\b\b\b\b\b\b\b\b\b\b\b\b\b\b\b\b\b\b\b\b\b\b\b\b\b\b\b\b\b\b\b\b\b\b\b\b\b\b\b\b\b\b\b\b\b\b\b\b\b\b\b\b\b\b\b\b\b\b\b\b\b\b\b\b\b\b\b\b\b\b\b\b\b\b\b\b\b\b\b\b\b\b\b\b\b\b\b\b\b\b\b\b\b\b\b\b\b\b\b\b\b\b\b\b\b\b\b\b\b\b\b\b\b\b\b\b\b\b\b\b\b\b\b\b\b\b\b\b\b\b\b\b\b\b\b\b\b\b\b\b\b\b\b\b\b\b\b\b\b\b\b\b\b\b\b\b\b\b\b\b\b\b\b\b\b\b\b\b\b\b\b\b\b\b\b\b\b\b\b\b\b\b\b\b\b\b\b\b\b\b\b\b\b\b\b\b\b\b\b\b\b\b\b\b\b\b\b\b\b\b\b\b\b\b\b\b\b\b\b\b\b\b\b\b\b\b\b\b\b\b\b\b\b\b\b\b\b\b\b\b\b\b\b\b\b\b\b\b\b\b\b\b\b\b\b\b\b\b\b\b\b\b\b\b\b\b\b\b\b\b\b\b\b\b\b\b\b\b\b\b\b\b\b\b\b\b\b\b\b\b\b\b\b\b\b\b\b\b\b\b\b\b\b\b\b\b\b\b\b\b\b\b\b\b\b\b\b\b\b\b\b\b\b\b\b\b\b\b\b\b\b\b\b\b\b\b\b\b\b\b\b\b\b\b\b\b\b\b\b\b\b\b\b\b\b\b\b\b\b\b\b\b\b\b\b\b\b\b\b\b\b\b\b\b\b\b\b\b\b\b\b\b\b\b\b\b\b\b\b\b\b\b\b\b\b\b\b\b\b\b\b\b\b\b\b\b\b\b\b\b\b\b\b\b\b\b\b\b\b\b\b\b\b\b\b\b\b\b\b\b\b\b\b\b\b\b\b\b\b\b\b\b\b\b\b\b\b\b\b\b\b\b\b\b\b\b\b\b\b\b\b\b\b\b\b\b\b\b\b\b\b\b\b\b\b\b\b\b\b\b\b\b\b\b\b\b\b\b\b\b\b\b\b\b\b\b\b\b\b\b\b\b\b\b\b\b\b\b\b\b\b\b\b\b\b\b\b\b\b\b\b\b\b\b\b\b\b\b\b\b\b\b\b\b\b\b\b\b\b\b\b\b\b\b\b\b\b\b\b\b\b\b\b\b\b\b\b\b\b\b\b\b\b\b\b\b\b\b\b\b\b\b\b\b\b\b\b\b\b\b\b\b\b\b\b\b\b\b\b\b\b\b\b\b\b\b\b\b\b\b\b\b\b\b\b\b\b\b\b\b\b\b\b\b\b\b\b\b\b\b\b\b\b\b\b\b\b\b\b\b\b\b\b\b\b\b\b\b\b\b\b\b\b\b\b\b\b\b\b\b\b\b\b\b\b\b\b\b\b\b\b\b\b\b\b\b\b\b\b\b\b\b\b\b\b\b\b\b\b\b\b\b\b\b\b\b\b\b\b\b\b\b\b\b\b\b\b\b\b\b\b\b\b\b\b\b\b\b\b\b\b\b\b\b\b\b\b\b\b\b\b\b\b\b\b\b\b\b\b\b\b\b\b\b\b\b\b\b\b\b\b\b\b\b\b\b\b\b\b\b\b\b\b\b\b\b\b\b\b\b\b\b\b\b\b\b\b\b\b\b\b\b\n",
      "\n",
      "Epoch 00003: val_loss did not improve from 0.58568\n",
      "Epoch 4/50\n",
      "10/10 [==============================] - 14s 1s/step - loss: 0.3875 - accuracy: 0.8029 - val_loss: 0.5964 - val_accuracy: 0.7559\b\b\b\b\b\b\b\b\b\b\b\b\b\b\b\b\b\b\b\b\b\b\b\b\b\b\b\b\b\b\b\b\b\b\b\b\b\b\b\b\b\b\b\b\b\b\b\b\b\b\b\b\b\b\b\b\b\b\b\b\b\b\b\b\b\b\b\b\b\b\b\b\b\b\b\b\b\b\b\b\b\b\b\b\b\b\b\b\b\b\b\b\b\b\b\b\b\b\b\b\b\b\b\b\b\b\b\b\b\b\b\b\b\b\b\b\b\b\b\b\b\b\b\b\b\b\b\b\b\b\b\b\b\b\b\b\b\b\b\b\b\b\b\b\b\b\b\b\b\b\b\b\b\b\b\b\b\b\b\b\b\b\b\b\b\b\b\b\b\b\b\b\b\b\b\b\b\b\b\b\b\b\b\b\b\b\b\b\b\b\b\b\b\b\b\b\b\b\b\b\b\b\b\b\b\b\b\b\b\b\b\b\b\b\b\b\b\b\b\b\b\b\b\b\b\b\b\b\b\b\b\b\b\b\b\b\b\b\b\b\b\b\b\b\b\b\b\b\b\b\b\b\b\b\b\b\b\b\b\b\b\b\b\b\b\b\b\b\b\b\b\b\b\b\b\b\b\b\b\b\b\b\b\b\b\b\b\b\b\b\b\b\b\b\b\b\b\b\b\b\b\b\b\b\b\b\b\b\b\b\b\b\b\b\b\b\b\b\b\b\b\b\b\b\b\b\b\b\b\b\b\b\b\b\b\b\b\b\b\b\b\b\b\b\b\b\b\b\b\b\b\b\b\b\b\b\b\b\b\b\b\b\b\b\b\b\b\b\b\b\b\b\b\b\b\b\b\b\b\b\b\b\b\b\b\b\b\b\b\b\b\b\b\b\b\b\b\b\b\b\b\b\b\b\b\b\b\b\b\b\b\b\b\b\b\b\b\b\b\b\b\b\b\b\b\b\b\b\b\b\b\b\b\b\b\b\b\b\b\b\b\b\b\b\b\b\b\b\b\b\b\b\b\b\b\b\b\b\b\b\b\b\b\b\b\b\b\b\b\b\b\b\b\b\b\b\b\b\b\b\b\b\b\b\b\b\b\b\b\b\b\b\b\b\b\b\b\b\b\b\b\b\b\b\b\b\b\b\b\b\b\b\b\b\b\b\b\b\b\b\b\b\b\b\b\b\b\b\b\b\b\b\b\b\b\b\b\b\b\b\b\b\b\b\b\b\b\b\b\b\b\b\b\b\b\b\b\b\b\b\b\b\b\b\b\b\b\b\b\b\b\b\b\b\b\b\b\b\b\b\b\b\b\b\b\b\b\b\b\b\b\b\b\b\b\b\b\b\b\b\b\b\b\b\b\b\b\b\b\b\b\b\b\b\b\b\b\b\b\b\b\b\b\b\b\b\b\b\b\b\b\b\b\b\b\b\b\b\b\b\b\b\b\b\b\b\b\b\b\b\b\b\b\b\b\b\b\b\b\b\b\b\b\b\b\b\b\b\b\b\b\b\b\b\b\b\b\b\b\b\b\b\b\b\b\b\b\b\b\b\b\b\b\b\b\b\b\b\b\b\b\b\b\b\b\b\b\b\b\b\b\b\b\b\b\b\b\b\b\b\b\b\b\b\b\b\b\b\b\b\b\b\b\b\b\b\b\b\b\b\b\b\b\b\b\b\b\b\b\b\b\b\b\b\b\b\b\b\b\b\b\b\b\b\b\b\b\b\b\b\b\b\b\b\b\b\b\n",
      "\n",
      "Epoch 00004: val_loss did not improve from 0.58568\n",
      "Epoch 5/50\n",
      "10/10 [==============================] - 15s 1s/step - loss: 0.4476 - accuracy: 0.7862 - val_loss: 0.6795 - val_accuracy: 0.7165\b\b\b\b\b\b\b\b\b\b\b\b\b\b\b\b\b\b\b\b\b\b\b\b\b\b\b\b\b\b\b\b\b\b\b\b\b\b\b\b\b\b\b\b\b\b\b\b\b\b\b\b\b\b\b\b\b\b\b\b\b\b\b\b\b\b\b\b\b\b\b\b\b\b\b\b\b\b\b\b\b\b\b\b\b\b\b\b\b\b\b\b\b\b\b\b\b\b\b\b\b\b\b\b\b\b\b\b\b\b\b\b\b\b\b\b\b\b\b\b\b\b\b\b\b\b\b\b\b\b\b\b\b\b\b\b\b\b\b\b\b\b\b\b\b\b\b\b\b\b\b\b\b\b\b\b\b\b\b\b\b\b\b\b\b\b\b\b\b\b\b\b\b\b\b\b\b\b\b\b\b\b\b\b\b\b\b\b\b\b\b\b\b\b\b\b\b\b\b\b\b\b\b\b\b\b\b\b\b\b\b\b\b\b\b\b\b\b\b\b\b\b\b\b\b\b\b\b\b\b\b\b\b\b\b\b\b\b\b\b\b\b\b\b\b\b\b\b\b\b\b\b\b\b\b\b\b\b\b\b\b\b\b\b\b\b\b\b\b\b\b\b\b\b\b\b\b\b\b\b\b\b\b\b\b\b\b\b\b\b\b\b\b\b\b\b\b\b\b\b\b\b\b\b\b\b\b\b\b\b\b\b\b\b\b\b\b\b\b\b\b\b\b\b\b\b\b\b\b\b\b\b\b\b\b\b\b\b\b\b\b\b\b\b\b\b\b\b\b\b\b\b\b\b\b\b\b\b\b\b\b\b\b\b\b\b\b\b\b\b\b\b\b\b\b\b\b\b\b\b\b\b\b\b\b\b\b\b\b\b\b\b\b\b\b\b\b\b\b\b\b\b\b\b\b\b\b\b\b\b\b\b\b\b\b\b\b\b\b\b\b\b\b\b\b\b\b\b\b\b\b\b\b\b\b\b\b\b\b\b\b\b\b\b\b\b\b\b\b\b\b\b\b\b\b\b\b\b\b\b\b\b\b\b\b\b\b\b\b\b\b\b\b\b\b\b\b\b\b\b\b\b\b\b\b\b\b\b\b\b\b\b\b\b\b\b\b\b\b\b\b\b\b\b\b\b\b\b\b\b\b\b\b\b\b\b\b\b\b\b\b\b\b\b\b\b\b\b\b\b\b\b\b\b\b\b\b\b\b\b\b\b\b\b\b\b\b\b\b\b\b\b\b\b\b\b\b\b\b\b\b\b\b\b\b\b\b\b\b\b\b\b\b\b\b\b\b\b\b\b\b\b\b\b\b\b\b\b\b\b\b\b\b\b\b\b\b\b\b\b\b\b\b\b\b\b\b\b\b\b\b\b\b\b\b\b\b\b\b\b\b\b\b\b\b\b\b\b\b\b\b\b\b\b\b\b\b\b\b\b\b\b\b\b\b\b\b\b\b\b\b\b\b\b\b\b\b\b\b\b\b\b\b\b\b\b\b\b\b\b\b\b\b\b\b\b\b\b\b\b\b\b\b\b\b\b\b\b\b\b\b\b\b\b\b\b\b\b\b\b\b\b\b\b\b\b\b\b\b\b\b\b\b\b\b\b\b\b\b\b\b\b\b\b\b\b\b\b\b\b\b\b\b\b\b\b\b\b\b\b\b\b\b\b\b\b\b\b\b\b\b\b\b\b\b\b\b\b\b\b\b\b\b\b\b\b\b\b\b\b\b\b\b\b\b\b\b\b\n",
      "\n",
      "Epoch 00005: val_loss did not improve from 0.58568\n",
      "Epoch 6/50\n",
      "10/10 [==============================] - 15s 1s/step - loss: 0.4363 - accuracy: 0.8215 - val_loss: 0.9600 - val_accuracy: 0.7323\b\b\b\b\b\b\b\b\b\b\b\b\b\b\b\b\b\b\b\b\b\b\b\b\b\b\b\b\b\b\b\b\b\b\b\b\b\b\b\b\b\b\b\b\b\b\b\b\b\b\b\b\b\b\b\b\b\b\b\b\b\b\b\b\b\b\b\b\b\b\b\b\b\b\b\b\b\b\b\b\b\b\b\b\b\b\b\b\b\b\b\b\b\b\b\b\b\b\b\b\b\b\b\b\b\b\b\b\b\b\b\b\b\b\b\b\b\b\b\b\b\b\b\b\b\b\b\b\b\b\b\b\b\b\b\b\b\b\b\b\b\b\b\b\b\b\b\b\b\b\b\b\b\b\b\b\b\b\b\b\b\b\b\b\b\b\b\b\b\b\b\b\b\b\b\b\b\b\b\b\b\b\b\b\b\b\b\b\b\b\b\b\b\b\b\b\b\b\b\b\b\b\b\b\b\b\b\b\b\b\b\b\b\b\b\b\b\b\b\b\b\b\b\b\b\b\b\b\b\b\b\b\b\b\b\b\b\b\b\b\b\b\b\b\b\b\b\b\b\b\b\b\b\b\b\b\b\b\b\b\b\b\b\b\b\b\b\b\b\b\b\b\b\b\b\b\b\b\b\b\b\b\b\b\b\b\b\b\b\b\b\b\b\b\b\b\b\b\b\b\b\b\b\b\b\b\b\b\b\b\b\b\b\b\b\b\b\b\b\b\b\b\b\b\b\b\b\b\b\b\b\b\b\b\b\b\b\b\b\b\b\b\b\b\b\b\b\b\b\b\b\b\b\b\b\b\b\b\b\b\b\b\b\b\b\b\b\b\b\b\b\b\b\b\b\b\b\b\b\b\b\b\b\b\b\b\b\b\b\b\b\b\b\b\b\b\b\b\b\b\b\b\b\b\b\b\b\b\b\b\b\b\b\b\b\b\b\b\b\b\b\b\b\b\b\b\b\b\b\b\b\b\b\b\b\b\b\b\b\b\b\b\b\b\b\b\b\b\b\b\b\b\b\b\b\b\b\b\b\b\b\b\b\b\b\b\b\b\b\b\b\b\b\b\b\b\b\b\b\b\b\b\b\b\b\b\b\b\b\b\b\b\b\b\b\b\b\b\b\b\b\b\b\b\b\b\b\b\b\b\b\b\b\b\b\b\b\b\b\b\b\b\b\b\b\b\b\b\b\b\b\b\b\b\b\b\b\b\b\b\b\b\b\b\b\b\b\b\b\b\b\b\b\b\b\b\b\b\b\b\b\b\b\b\b\b\b\b\b\b\b\b\b\b\b\b\b\b\b\b\b\b\b\b\b\b\b\b\b\b\b\b\b\b\b\b\b\b\b\b\b\b\b\b\b\b\b\b\b\b\b\b\b\b\b\b\b\b\b\b\b\b\b\b\b\b\b\b\b\b\b\b\b\b\b\b\b\b\b\b\b\b\b\b\b\b\b\b\b\b\b\b\b\b\b\b\b\b\b\b\b\b\b\b\b\b\b\b\b\b\b\b\b\b\b\b\b\b\b\b\b\b\b\b\b\b\b\b\b\b\b\b\b\b\b\b\b\b\b\b\b\b\b\b\b\b\b\b\b\b\b\b\b\b\b\b\b\b\b\b\b\b\b\b\b\b\b\b\b\b\b\b\b\b\b\b\b\b\b\b\b\b\b\b\b\b\b\b\b\b\b\b\b\b\b\b\b\b\b\b\b\b\b\b\b\b\b\b\b\b\b\b\b\b\b\b\b\n",
      "\n",
      "Epoch 00006: val_loss did not improve from 0.58568\n",
      "Epoch 7/50\n",
      "10/10 [==============================] - 16s 2s/step - loss: 0.4547 - accuracy: 0.7943 - val_loss: 0.6681 - val_accuracy: 0.7402\b\b\b\b\b\b\b\b\b\b\b\b\b\b\b\b\b\b\b\b\b\b\b\b\b\b\b\b\b\b\b\b\b\b\b\b\b\b\b\b\b\b\b\b\b\b\b\b\b\b\b\b\b\b\b\b\b\b\b\b\b\b\b\b\b\b\b\b\b\b\b\b\b\b\b\b\b\b\b\b\b\b\b\b\b\b\b\b\b\b\b\b\b\b\b\b\b\b\b\b\b\b\b\b\b\b\b\b\b\b\b\b\b\b\b\b\b\b\b\b\b\b\b\b\b\b\b\b\b\b\b\b\b\b\b\b\b\b\b\b\b\b\b\b\b\b\b\b\b\b\b\b\b\b\b\b\b\b\b\b\b\b\b\b\b\b\b\b\b\b\b\b\b\b\b\b\b\b\b\b\b\b\b\b\b\b\b\b\b\b\b\b\b\b\b\b\b\b\b\b\b\b\b\b\b\b\b\b\b\b\b\b\b\b\b\b\b\b\b\b\b\b\b\b\b\b\b\b\b\b\b\b\b\b\b\b\b\b\b\b\b\b\b\b\b\b\b\b\b\b\b\b\b\b\b\b\b\b\b\b\b\b\b\b\b\b\b\b\b\b\b\b\b\b\b\b\b\b\b\b\b\b\b\b\b\b\b\b\b\b\b\b\b\b\b\b\b\b\b\b\b\b\b\b\b\b\b\b\b\b\b\b\b\b\b\b\b\b\b\b\b\b\b\b\b\b\b\b\b\b\b\b\b\b\b\b\b\b\b\b\b\b\b\b\b\b\b\b\b\b\b\b\b\b\b\b\b\b\b\b\b\b\b\b\b\b\b\b\b\b\b\b\b\b\b\b\b\b\b\b\b\b\b\b\b\b\b\b\b\b\b\b\b\b\b\b\b\b\b\b\b\b\b\b\b\b\b\b\b\b\b\b\b\b\b\b\b\b\b\b\b\b\b\b\b\b\b\b\b\b\b\b\b\b\b\b\b\b\b\b\b\b\b\b\b\b\b\b\b\b\b\b\b\b\b\b\b\b\b\b\b\b\b\b\b\b\b\b\b\b\b\b\b\b\b\b\b\b\b\b\b\b\b\b\b\b\b\b\b\b\b\b\b\b\b\b\b\b\b\b\b\b\b\b\b\b\b\b\b\b\b\b\b\b\b\b\b\b\b\b\b\b\b\b\b\b\b\b\b\b\b\b\b\b\b\b\b\b\b\b\b\b\b\b\b\b\b\b\b\b\b\b\b\b\b\b\b\b\b\b\b\b\b\b\b\b\b\b\b\b\b\b\b\b\b\b\b\b\b\b\b\b\b\b\b\b\b\b\b\b\b\b\b\b\b\b\b\b\b\b\b\b\b\b\b\b\b\b\b\b\b\b\b\b\b\b\b\b\b\b\b\b\b\b\b\b\b\b\b\b\b\b\b\b\b\b\b\b\b\b\b\b\b\b\b\b\b\b\b\b\b\b\b\b\b\b\b\b\b\b\b\b\b\b\b\b\b\b\b\b\b\b\b\b\b\b\b\b\b\b\b\b\b\b\b\b\b\b\b\b\b\b\b\b\b\b\b\b\b\b\b\b\b\b\b\b\b\b\b\b\b\b\b\b\b\b\b\b\b\b\b\b\b\b\b\b\b\b\b\b\b\b\b\b\b\b\b\b\b\b\b\b\b\b\b\b\b\b\b\b\b\b\b\b\b\b\b\b\b\b\b\b\b\b\b\b\b\b\b\b\b\b\b\b\b\b\b\n",
      "\n",
      "Epoch 00007: val_loss did not improve from 0.58568\n",
      "Epoch 00007: early stopping\n"
     ]
    },
    {
     "data": {
      "text/plain": "<Figure size 936x360 with 2 Axes>",
      "image/png": "[encoded data removed]"
     },
     "metadata": {
      "needs_background": "light"
     },
     "output_type": "display_data"
    }
   ],
   "source": [
    "if multiple_gpus:\n",
    "    with strategy.scope():\n",
    "        model = HAN_opt(dl_config.embedding_matrix, dl_config, learning_rate=dl_config.learning_rate,\n",
    "                                               seed_value=dl_config.seed_value)\n",
    "else:\n",
    "    model = HAN_opt(dl_config.embedding_matrix, dl_config, learning_rate=dl_config.learning_rate,\n",
    "                                                seed_value=dl_config.seed_value)\n",
    "\n",
    "\n",
    "history = model.fit(X_train, y_train,\n",
    "                    epochs=dl_config.epochs,\n",
    "                    batch_size=dl_config.batch_size,\n",
    "                    validation_data=(x_val,y_val),\n",
    "                    callbacks=keras_callbacks)\n",
    "\n",
    "if dl_config.keras_callbacks:\n",
    "    model.load_weights(checkpoint_path)\n",
    "\n",
    "train_loss, dl_config.train_acc = model.evaluate(X_train, y_train, verbose=0, batch_size = dl_config.batch_size)\n",
    "\n",
    "print('Training Loss: %.3f' % (train_loss))\n",
    "print('Training Accuracy: %.3f' % (dl_config.train_acc))\n",
    "\n",
    "plot_training_history(history_dict=history, dl_config=dl_config)"
   ],
   "metadata": {
    "collapsed": false,
    "pycharm": {
     "name": "#%%\n"
    }
   }
  },
  {
   "cell_type": "markdown",
   "source": [],
   "metadata": {
    "collapsed": false
   }
  },
  {
   "cell_type": "code",
   "execution_count": 25,
   "outputs": [
    {
     "name": "stdout",
     "output_type": "stream",
     "text": [
      "Index of Unknown Words: 1\n"
     ]
    }
   ],
   "source": [
    "x_test, y_test = DL_preprocessing(X_test_df, y_test_df, dl_config, dataset='test')\n",
    "\n",
    "yhat_probs = model.predict(x_test, verbose=0)\n",
    "yhat_probs = yhat_probs[:, 0]\n",
    "\n",
    "yhat_classes = np.where(yhat_probs > 0.5, 1, yhat_probs)\n",
    "yhat_classes = np.where(yhat_classes < 0.5, 0, yhat_classes).astype(np.int64)"
   ],
   "metadata": {
    "collapsed": false,
    "pycharm": {
     "name": "#%%\n"
    }
   }
  },
  {
   "cell_type": "markdown",
   "source": [],
   "metadata": {
    "collapsed": false
   }
  },
  {
   "cell_type": "code",
   "execution_count": 26,
   "outputs": [
    {
     "name": "stdout",
     "output_type": "stream",
     "text": [
      "ROC AUC: 0.848009\n",
      "Average Precision: 0.721673\n",
      "Accuracy: 0.719780\n",
      "Precision: 0.722222\n",
      "Recall: 0.220339\n",
      "F1 score: 0.337662\n",
      "Confusion Matrix:\n",
      " [[118   5]\n",
      " [ 46  13]] \n",
      "\n"
     ]
    },
    {
     "data": {
      "text/plain": "<Figure size 936x360 with 2 Axes>",
      "image/png": "[encoded data removed]"
     },
     "metadata": {
      "needs_background": "light"
     },
     "output_type": "display_data"
    }
   ],
   "source": [
    "dl_config.test_roc_auc, dl_config.test_pr_auc = plot_roc_n_pr_curves(y_test, yhat_probs,dl_config = dl_config)\n",
    "# ROC AUC\n",
    "print('ROC AUC: %f' % dl_config.test_roc_auc)\n",
    "\n",
    "# avg precision\n",
    "dl_config.test_avg_prec = average_precision(y_test_df, yhat_probs)\n",
    "print('Average Precision: %f' % dl_config.test_avg_prec)\n",
    "\n",
    "# accuracy\n",
    "dl_config.test_acc = accuracy_score(y_test, yhat_classes)\n",
    "print('Accuracy: %f' % dl_config.test_acc)\n",
    "\n",
    "# precision tp / (tp + fp)\n",
    "dl_config.test_prec = precision_score(y_test, yhat_classes)\n",
    "print('Precision: %f' % dl_config.test_prec)\n",
    "\n",
    "# recall: tp / (tp + fn)\n",
    "dl_config.test_recall = recall_score(y_test, yhat_classes)\n",
    "print('Recall: %f' % dl_config.test_recall)\n",
    "\n",
    "# f1: 2 tp / (2 tp + fp + fn)\n",
    "dl_config.test_f1_score = f1_score(y_test, yhat_classes)\n",
    "print('F1 score: %f' % dl_config.test_f1_score)\n",
    "\n",
    "# confusion matrix\n",
    "matrix = confusion_matrix(y_test, yhat_classes)\n",
    "matrix = np.flip(matrix)\n",
    "print('Confusion Matrix:\\n %s \\n' % matrix)"
   ],
   "metadata": {
    "collapsed": false,
    "pycharm": {
     "name": "#%%\n"
    }
   }
  },
  {
   "cell_type": "markdown",
   "source": [
    "<h3>\n",
    "Hierarchical Attention LSTM\n",
    "</h3>"
   ],
   "metadata": {
    "collapsed": false,
    "pycharm": {
     "name": "#%% md\n"
    }
   }
  },
  {
   "cell_type": "code",
   "execution_count": 27,
   "outputs": [],
   "source": [
    "\"\"\"Imports\"\"\"\n",
    "\n",
    "from dl_models import Hierarchical_Attention_LSTM"
   ],
   "metadata": {
    "collapsed": false,
    "pycharm": {
     "name": "#%%\n"
    }
   }
  },
  {
   "cell_type": "code",
   "execution_count": 28,
   "outputs": [
    {
     "name": "stdout",
     "output_type": "stream",
     "text": [
      "                                                   Document\n",
      "25873669  <data_structures.document.Document object at 0...\n",
      "24269870  <data_structures.document.Document object at 0...\n",
      "17655245  <data_structures.document.Document object at 0...\n",
      "16663649  <data_structures.document.Document object at 0...\n",
      "33907682  <data_structures.document.Document object at 0...\n",
      "...                                                     ...\n",
      "32079399  <data_structures.document.Document object at 0...\n",
      "26976595  <data_structures.document.Document object at 0...\n",
      "20138774  <data_structures.document.Document object at 0...\n",
      "27936616  <data_structures.document.Document object at 0...\n",
      "28009095  <data_structures.document.Document object at 0...\n",
      "\n",
      "[606 rows x 1 columns]\n",
      "                                                   Document\n",
      "25873669  <data_structures.document.Document object at 0...\n",
      "24269870  <data_structures.document.Document object at 0...\n",
      "17655245  <data_structures.document.Document object at 0...\n",
      "16663649  <data_structures.document.Document object at 0...\n",
      "33907682  <data_structures.document.Document object at 0...\n",
      "...                                                     ...\n",
      "32079399  <data_structures.document.Document object at 0...\n",
      "26976595  <data_structures.document.Document object at 0...\n",
      "20138774  <data_structures.document.Document object at 0...\n",
      "27936616  <data_structures.document.Document object at 0...\n",
      "28009095  <data_structures.document.Document object at 0...\n",
      "\n",
      "[606 rows x 1 columns]\n",
      "25873669    0\n",
      "24269870    0\n",
      "17655245    1\n",
      "16663649    1\n",
      "33907682    0\n",
      "           ..\n",
      "32079399    1\n",
      "26976595    0\n",
      "20138774    1\n",
      "27936616    1\n",
      "28009095    1\n",
      "Name: Label, Length: 606, dtype: int64\n",
      "genetic diversity stilbene metabolism vitis sylvestris .\n",
      "stilbenes , important secondary metabolites grapevine , represent central phytoalexins therefore constitute important element basal immunity . study , potential genetic variation vitis vinifera ssp . sylvestris , ancestor cultivated grapevine , sought respect output stilbenes potential use resistance breeding . considerable variation stilbene inducibility identified v. vinifera ssp . sylvestris . genotypic differences abundance profiles stilbenes induced response uv - c pulse shown . two clusters stilbene 'chemovars ' emerged : one cluster showed quick strong accumulation stilbenes , almost exclusively form non - glycosylated resveratrol viniferin , second cluster accumulated fewer stilbenes relatively high proportions piceatannol glycosylated piceid . 86 genotypes , time dependence stilbene pattern observed : piceid , resveratrol , piceatannol accumulated earlier , whereas viniferins found later . observed genotypic differences stilbene accumulation preceded differential accumulation transcripts chalcone synthase ( chs ) stilbene - related genes : phenylalanine ammonium lyase ( pal ) , stilbene synthase ( stsy ) , resveratrol synthase ( rs ) . screen population respect susceptibility downy mildew grapevine ( plasmopara viticola ) revealed considerable variability . subpopulation genotypes high stilbene inducibility significantly less susceptible compared low - stilbene genotypes , representative genotypes could shown inducibility stilbene synthase uv correlated inducibility pathogen .\n",
      "(424, 1)\n",
      "(182, 1)\n",
      "(424,)\n",
      "(182,)\n"
     ]
    }
   ],
   "source": [
    "from nltk.corpus import stopwords\n",
    "stops = set(stopwords.words(\"english\"))\n",
    "\n",
    "dl_config = DLConfig(remove_punctuation=\"HTML\", stop_words=stops, lower=True, split_by_hyphen=True)\n",
    "\n",
    "df = pandas.read_excel(\"C:/Users/Zé Freitas/Desktop/Mestrado/2ºSemestre/Projeto/code/datasets/dataset_final.xlsx\",\n",
    "                   index_col=0)\n",
    "idsfinal = pandas_column_aslist(df, \"Document\")\n",
    "docsfinal = pmids_to_docs(idsfinal, \"pg42872@alunos.uminho.pt\", dl_config)\n",
    "docsfinal = docsfinal[0]\n",
    "docsfinal[0].abstract_string\n",
    "dataset_docs = docs_to_pandasdocs(docsfinal)\n",
    "\n",
    "x_total = dataset_docs\n",
    "print(x_total)\n",
    "\n",
    "y_total = pandas.read_excel(\"C:/Users/Zé Freitas/Desktop/Mestrado/2ºSemestre/Projeto/code/datasets/dataset_final.xlsx\",\n",
    "                        index_col=1, usecols=\"B:F\")\n",
    "\n",
    "print(x_total)\n",
    "\n",
    "relevance = pandas_column_aslist(y_total, \"Relevance\")\n",
    "y_total = relevances_to_pandas(y_total, relevance)\n",
    "print(y_total)\n",
    "\n",
    "print(x_total[\"Document\"][0].title_string)\n",
    "print(x_total[\"Document\"][0].abstract_string)\n",
    "\n",
    "X_train_df, X_test_df, y_train_df, y_test_df = train_test_split(x_total, y_total, test_size=0.3, random_state=42,\n",
    "                                                                stratify=y_total)\n",
    "print(X_train_df.shape)\n",
    "print(X_test_df.shape)\n",
    "print(y_train_df.shape)\n",
    "print(y_test_df.shape)"
   ],
   "metadata": {
    "collapsed": false,
    "pycharm": {
     "name": "#%%\n"
    }
   }
  },
  {
   "cell_type": "markdown",
   "source": [],
   "metadata": {
    "collapsed": false,
    "pycharm": {
     "name": "#%% md\n"
    }
   }
  },
  {
   "cell_type": "code",
   "execution_count": 29,
   "outputs": [],
   "source": [
    "model_name = \"HA_LSTM\"\n",
    "dl_config = DLConfig(model_name=model_name, seed_value=seed_value)\n",
    "dl_config.stop_words = stops\n",
    "dl_config.lower = True\n",
    "dl_config.remove_punctuation = False\n",
    "dl_config.split_by_hyphen = True\n",
    "dl_config.lemmatization = False\n",
    "dl_config.stems = False\n",
    "\n",
    "#Parameters\n",
    "dl_config.padding = 'post'            #'pre' -> default; 'post' -> alternative\n",
    "dl_config.truncating = 'post'         #'pre' -> default; 'post' -> alternative      #####\n",
    "dl_config.oov_token = 'OOV'\n",
    "\n",
    "dl_config.epochs = 50\n",
    "dl_config.batch_size = 32     # e aumentar o batch\n",
    "dl_config.learning_rate = 0.001   #experimentar diminuir\n",
    "\n",
    "dl_config.max_sent_len = 50      #sentences will have a maximum of \"max_sent_len\" words    #400/500\n",
    "dl_config.max_nb_words = 100_000      #it will only be considered the top \"max_nb_words\" words in the dataset\n",
    "dl_config.max_nb_sentences = 15    # set only for the hierarchical attention model!!!\n",
    "\n",
    "dl_config.embeddings = 'biowordvec'\n",
    "\n",
    "# igual ao modelo anterior\n",
    "dl_config.embedding_path = './embeddings/biowordvec'\n",
    "dl_config.embedding_dim = 200\n",
    "dl_config.embedding_format = 'word2vec'\n",
    "\n",
    "dl_config.keras_callbacks = True\n",
    "\n",
    " # compara as losses d otrain e validation\n",
    "if dl_config.keras_callbacks:\n",
    "    dl_config.patience = 5   #early-stopping patience\n",
    "    checkpoint_path = str(dl_config.model_id_path) + '\\checkpoint.hdf5'\n",
    "    keras_callbacks = [\n",
    "            EarlyStopping(monitor='val_loss', mode='min', verbose=1, patience=dl_config.patience),\n",
    "           ModelCheckpoint(checkpoint_path, monitor='val_loss', mode='min', verbose=1, save_best_only=True)  # guarda o modelo que tem a menor loss no validation\n",
    "    ]\n",
    "else:\n",
    "    keras_callbacks = None\n"
   ],
   "metadata": {
    "collapsed": false,
    "pycharm": {
     "name": "#%%\n"
    }
   }
  },
  {
   "cell_type": "code",
   "execution_count": null,
   "outputs": [],
   "source": [],
   "metadata": {
    "collapsed": false,
    "pycharm": {
     "name": "#%%\n"
    }
   }
  },
  {
   "cell_type": "code",
   "execution_count": 30,
   "outputs": [
    {
     "name": "stdout",
     "output_type": "stream",
     "text": [
      "Found 7907 unique tokens.\n",
      "Index of Unknown Words: 1\n",
      "Training set with 297 samples\n",
      "Validation set with 127 samples\n"
     ]
    },
    {
     "data": {
      "text/plain": "array([  22,    5,   20,  698, 1122, 3434,  178,   20,  698,  431,  497,\n        333, 4734,  164,   86,    1,    0,    0,    0,    0,    0,    0,\n          0,    0,    0,    0,    0,    0,    0,    0,    0,    0,    0,\n          0,    0,    0,    0,    0,    0,    0,    0,    0,    0,    0,\n          0,    0,    0,    0,    0,    0])"
     },
     "execution_count": 30,
     "metadata": {},
     "output_type": "execute_result"
    }
   ],
   "source": [
    "dl_config.tokenizer = text.Tokenizer(num_words=dl_config.max_nb_words, oov_token=dl_config.oov_token)\n",
    "\n",
    "dl_config.validation_percentage = 30  # talvez aumentar\n",
    "X_train, y_train, x_val, y_val = DL_preprocessing(X_train_df, y_train_df,\n",
    "                                                  dl_config, dataset='train',\n",
    "                                                  validation_percentage = dl_config.validation_percentage,\n",
    "                                                  seed_value=dl_config.seed_value)\n",
    "X_train[0][0]\n"
   ],
   "metadata": {
    "collapsed": false,
    "pycharm": {
     "name": "#%%\n"
    }
   }
  },
  {
   "cell_type": "markdown",
   "source": [],
   "metadata": {
    "collapsed": false,
    "pycharm": {
     "name": "#%% md\n"
    }
   }
  },
  {
   "cell_type": "code",
   "execution_count": 31,
   "outputs": [
    {
     "name": "stdout",
     "output_type": "stream",
     "text": [
      "Creating Embedding Matrix...\n",
      "Embedding Matrix Created \n",
      "------------------------\n",
      "number of null word embeddings: 350 in a total of 7907 words (4.43%)\n",
      "words not found: 349\n",
      "e.g. 10 words not found in the index :  ['hydroxyferuloyl' \"'superior\" \"'jingzaojing\" 'dk18' 'pholidotol'\n",
      " 'dhs2001' '882000m' 'furtherstudy' 'metabolitism' 'piceides' '6β'\n",
      " 'danfeng' 'myba2' 'sts36' 'spirotropis']\n",
      "(7908, 200)\n",
      "[[ 0.          0.          0.         ...  0.          0.\n",
      "   0.        ]\n",
      " [ 0.          0.          0.         ...  0.          0.\n",
      "   0.        ]\n",
      " [-0.0848686  -0.0417668  -0.3709338  ...  0.07843895  0.08479623\n",
      "   0.54163074]\n",
      " ...\n",
      " [ 0.15182443 -0.13880545  0.16630234 ... -0.29269406 -0.08847184\n",
      "  -0.05204243]\n",
      " [-0.1121414  -0.08872321 -0.33860227 ... -0.34313729  0.25840917\n",
      "  -0.20746794]\n",
      " [ 0.26528463  0.19522475 -0.05939044 ...  0.18617576 -0.05572284\n",
      "  -0.12646711]]\n"
     ]
    }
   ],
   "source": [
    "dl_config.embedding_matrix = compute_embedding_matrix(dl_config, embeddings_format = dl_config.embedding_format)\n",
    "# quantas palavras encontrou no vocabulario do embedding\n",
    "\n",
    "print(dl_config.embedding_matrix.shape)\n",
    "print(dl_config.embedding_matrix)"
   ],
   "metadata": {
    "collapsed": false,
    "pycharm": {
     "name": "#%%\n"
    }
   }
  },
  {
   "cell_type": "code",
   "execution_count": 32,
   "outputs": [
    {
     "name": "stdout",
     "output_type": "stream",
     "text": [
      "Model: \"model_4\"\n",
      "_________________________________________________________________\n",
      "Layer (type)                 Output Shape              Param #   \n",
      "=================================================================\n",
      "word_input (InputLayer)      [(None, 50)]              0         \n",
      "_________________________________________________________________\n",
      "word_embedding (Embedding)   (None, 50, 200)           1581600   \n",
      "_________________________________________________________________\n",
      "word_gru (Bidirectional)     (None, 50, 100)           100400    \n",
      "_________________________________________________________________\n",
      "word_dense (Dense)           (None, 50, 100)           10100     \n",
      "_________________________________________________________________\n",
      "word_attention (AttentionLay [(None, 100), (None, 50,  20400     \n",
      "=================================================================\n",
      "Total params: 1,712,500\n",
      "Trainable params: 130,900\n",
      "Non-trainable params: 1,581,600\n",
      "_________________________________________________________________\n",
      "None\n",
      "Model: \"model_5\"\n",
      "_________________________________________________________________\n",
      "Layer (type)                 Output Shape              Param #   \n",
      "=================================================================\n",
      "sent_input (InputLayer)      [(None, 15, 50)]          0         \n",
      "_________________________________________________________________\n",
      "sent_linking (TimeDistribute (None, 15, 100)           1712500   \n",
      "_________________________________________________________________\n",
      "sent_gru (Bidirectional)     (None, 15, 100)           60400     \n",
      "_________________________________________________________________\n",
      "dropout (Dropout)            (None, 15, 100)           0         \n",
      "_________________________________________________________________\n",
      "sent_dense (Dense)           (None, 15, 100)           10100     \n",
      "_________________________________________________________________\n",
      "sent_attention (AttentionLay [(None, 100), (None, 15,  20400     \n",
      "_________________________________________________________________\n",
      "sent_dropout (Dropout)       (None, 100)               0         \n",
      "_________________________________________________________________\n",
      "output (Dense)               (None, 1)                 101       \n",
      "=================================================================\n",
      "Total params: 1,803,501\n",
      "Trainable params: 221,901\n",
      "Non-trainable params: 1,581,600\n",
      "_________________________________________________________________\n",
      "None\n",
      "Epoch 1/50\n",
      "10/10 [==============================] - 56s 1s/step - loss: 0.6769 - accuracy: 0.5541 - val_loss: 0.6089 - val_accuracy: 0.7087\b\b\b\b\b\b\b\b\b\b\b\b\b\b\b\b\b\b\b\b\b\b\b\b\b\b\b\b\b\b\b\b\b\b\b\b\b\b\b\b\b\b\b\b\b\b\b\b\b\b\b\b\b\b\b\b\b\b\b\b\b\b\b\b\b\b\b\b\b\b\b\b\b\b\b\b\b\b\b\b\b\b\b\b\b\b\b\b\b\b\b\b\b\b\b\b\b\b\b\b\b\b\b\b\b\b\b\b\b\b\b\b\b\b\b\b\b\b\b\b\b\b\b\b\b\b\b\b\b\b\b\b\b\b\b\b\b\b\b\b\b\b\b\b\b\b\b\b\b\b\b\b\b\b\b\b\b\b\b\b\b\b\b\b\b\b\b\b\b\b\b\b\b\b\b\b\b\b\b\b\b\b\b\b\b\b\b\b\b\b\b\b\b\b\b\b\b\b\b\b\b\b\b\b\b\b\b\b\b\b\b\b\b\b\b\b\b\b\b\b\b\b\b\b\b\b\b\b\b\b\b\b\b\b\b\b\b\b\b\b\b\b\b\b\b\b\b\b\b\b\b\b\b\b\b\b\b\b\b\b\b\b\b\b\b\b\b\b\b\b\b\b\b\b\b\b\b\b\b\b\b\b\b\b\b\b\b\b\b\b\b\b\b\b\b\b\b\b\b\b\b\b\b\b\b\b\b\b\b\b\b\b\b\b\b\b\b\b\b\b\b\b\b\b\b\b\b\b\b\b\b\b\b\b\b\b\b\b\b\b\b\b\b\b\b\b\b\b\b\b\b\b\b\b\b\b\b\b\b\b\b\b\b\b\b\b\b\b\b\b\b\b\b\b\b\b\b\b\b\b\b\b\b\b\b\b\b\b\b\b\b\b\b\b\b\b\b\b\b\b\b\b\b\b\b\b\b\b\b\b\b\b\b\b\b\b\b\b\b\b\b\b\b\b\b\b\b\b\b\b\b\b\b\b\b\b\b\b\b\b\b\b\b\b\b\b\b\b\b\b\b\b\b\b\b\b\b\b\b\b\b\b\b\b\b\b\b\b\b\b\b\b\b\b\b\b\b\b\b\b\b\b\b\b\b\b\b\b\b\b\b\b\b\b\b\b\b\b\b\b\b\b\b\b\b\b\b\b\b\b\b\b\b\b\b\b\b\b\b\b\b\b\b\b\b\b\b\b\b\b\b\b\b\b\b\b\b\b\b\b\b\b\b\b\b\b\b\b\b\b\b\b\b\b\b\b\b\b\b\b\b\b\b\b\b\b\b\b\b\b\b\b\b\b\b\b\b\b\b\b\b\b\b\b\b\b\b\b\b\b\b\b\b\b\b\b\b\b\b\b\b\b\b\b\b\b\b\b\b\b\b\b\b\b\b\b\b\b\b\b\b\b\b\b\b\b\b\b\b\b\b\b\b\b\b\b\b\b\b\b\b\b\b\b\b\b\b\b\b\b\b\b\b\b\b\b\b\b\b\b\b\b\b\b\b\b\b\b\b\b\b\b\b\b\b\b\b\b\b\b\b\b\b\b\b\b\b\b\b\b\b\b\b\b\b\b\b\b\b\b\b\b\b\b\b\b\b\b\b\b\b\b\b\b\b\b\b\b\b\b\b\b\b\b\b\b\b\b\b\b\b\b\b\b\b\b\b\b\b\b\b\b\b\b\b\b\b\b\b\b\b\b\b\b\b\b\b\b\b\b\b\b\b\b\b\b\b\b\b\b\b\b\b\b\b\b\b\b\n",
      "\n",
      "Epoch 00001: val_loss improved from inf to 0.60891, saving model to models\\HA_LSTM\\HA_LSTM_0\\checkpoint.hdf5\n",
      "Epoch 2/50\n",
      "10/10 [==============================] - 6s 608ms/step - loss: 0.6719 - accuracy: 0.6586 - val_loss: 0.6111 - val_accuracy: 0.7087\b\b\b\b\b\b\b\b\b\b\b\b\b\b\b\b\b\b\b\b\b\b\b\b\b\b\b\b\b\b\b\b\b\b\b\b\b\b\b\b\b\b\b\b\b\b\b\b\b\b\b\b\b\b\b\b\b\b\b\b\b\b\b\b\b\b\b\b\b\b\b\b\b\b\b\b\b\b\b\b\b\b\b\b\b\b\b\b\b\b\b\b\b\b\b\b\b\b\b\b\b\b\b\b\b\b\b\b\b\b\b\b\b\b\b\b\b\b\b\b\b\b\b\b\b\b\b\b\b\b\b\b\b\b\b\b\b\b\b\b\b\b\b\b\b\b\b\b\b\b\b\b\b\b\b\b\b\b\b\b\b\b\b\b\b\b\b\b\b\b\b\b\b\b\b\b\b\b\b\b\b\b\b\b\b\b\b\b\b\b\b\b\b\b\b\b\b\b\b\b\b\b\b\b\b\b\b\b\b\b\b\b\b\b\b\b\b\b\b\b\b\b\b\b\b\b\b\b\b\b\b\b\b\b\b\b\b\b\b\b\b\b\b\b\b\b\b\b\b\b\b\b\b\b\b\b\b\b\b\b\b\b\b\b\b\b\b\b\b\b\b\b\b\b\b\b\b\b\b\b\b\b\b\b\b\b\b\b\b\b\b\b\b\b\b\b\b\b\b\b\b\b\b\b\b\b\b\b\b\b\b\b\b\b\b\b\b\b\b\b\b\b\b\b\b\b\b\b\b\b\b\b\b\b\b\b\b\b\b\b\b\b\b\b\b\b\b\b\b\b\b\b\b\b\b\b\b\b\b\b\b\b\b\b\b\b\b\b\b\b\b\b\b\b\b\b\b\b\b\b\b\b\b\b\b\b\b\b\b\b\b\b\b\b\b\b\b\b\b\b\b\b\b\b\b\b\b\b\b\b\b\b\b\b\b\b\b\b\b\b\b\b\b\b\b\b\b\b\b\b\b\b\b\b\b\b\b\b\b\b\b\b\b\b\b\b\b\b\b\b\b\b\b\b\b\b\b\b\b\b\b\b\b\b\b\b\b\b\b\b\b\b\b\b\b\b\b\b\b\b\b\b\b\b\b\b\b\b\b\b\b\b\b\b\b\b\b\b\b\b\b\b\b\b\b\b\b\b\b\b\b\b\b\b\b\b\b\b\b\b\b\b\b\b\b\b\b\b\b\b\b\b\b\b\b\b\b\b\b\b\b\b\b\b\b\b\b\b\b\b\b\b\b\b\b\b\b\b\b\b\b\b\b\b\b\b\b\b\b\b\b\b\b\b\b\b\b\b\b\b\b\b\b\b\b\b\b\b\b\b\b\b\b\b\b\b\b\b\b\b\b\b\b\b\b\b\b\b\b\b\b\b\b\b\b\b\b\b\b\b\b\b\b\b\b\b\b\b\b\b\b\b\b\b\b\b\b\b\b\b\b\b\b\b\b\b\b\b\b\b\b\b\b\b\b\b\b\b\b\b\b\b\b\b\b\b\b\b\b\b\b\b\b\b\b\b\b\b\b\b\b\b\b\b\b\b\b\b\b\b\b\b\b\b\b\b\b\b\b\b\b\b\b\b\b\b\b\b\b\b\b\b\b\b\b\b\b\b\b\b\b\b\b\b\b\b\b\b\b\b\b\b\b\b\b\b\b\b\b\b\b\b\b\b\b\b\b\b\b\b\b\b\b\b\b\b\b\b\b\b\b\b\b\b\b\b\b\b\b\b\b\b\n",
      "\n",
      "Epoch 00002: val_loss did not improve from 0.60891\n",
      "Epoch 3/50\n",
      "10/10 [==============================] - 6s 614ms/step - loss: 0.6352 - accuracy: 0.6610 - val_loss: 0.6054 - val_accuracy: 0.7087\b\b\b\b\b\b\b\b\b\b\b\b\b\b\b\b\b\b\b\b\b\b\b\b\b\b\b\b\b\b\b\b\b\b\b\b\b\b\b\b\b\b\b\b\b\b\b\b\b\b\b\b\b\b\b\b\b\b\b\b\b\b\b\b\b\b\b\b\b\b\b\b\b\b\b\b\b\b\b\b\b\b\b\b\b\b\b\b\b\b\b\b\b\b\b\b\b\b\b\b\b\b\b\b\b\b\b\b\b\b\b\b\b\b\b\b\b\b\b\b\b\b\b\b\b\b\b\b\b\b\b\b\b\b\b\b\b\b\b\b\b\b\b\b\b\b\b\b\b\b\b\b\b\b\b\b\b\b\b\b\b\b\b\b\b\b\b\b\b\b\b\b\b\b\b\b\b\b\b\b\b\b\b\b\b\b\b\b\b\b\b\b\b\b\b\b\b\b\b\b\b\b\b\b\b\b\b\b\b\b\b\b\b\b\b\b\b\b\b\b\b\b\b\b\b\b\b\b\b\b\b\b\b\b\b\b\b\b\b\b\b\b\b\b\b\b\b\b\b\b\b\b\b\b\b\b\b\b\b\b\b\b\b\b\b\b\b\b\b\b\b\b\b\b\b\b\b\b\b\b\b\b\b\b\b\b\b\b\b\b\b\b\b\b\b\b\b\b\b\b\b\b\b\b\b\b\b\b\b\b\b\b\b\b\b\b\b\b\b\b\b\b\b\b\b\b\b\b\b\b\b\b\b\b\b\b\b\b\b\b\b\b\b\b\b\b\b\b\b\b\b\b\b\b\b\b\b\b\b\b\b\b\b\b\b\b\b\b\b\b\b\b\b\b\b\b\b\b\b\b\b\b\b\b\b\b\b\b\b\b\b\b\b\b\b\b\b\b\b\b\b\b\b\b\b\b\b\b\b\b\b\b\b\b\b\b\b\b\b\b\b\b\b\b\b\b\b\b\b\b\b\b\b\b\b\b\b\b\b\b\b\b\b\b\b\b\b\b\b\b\b\b\b\b\b\b\b\b\b\b\b\b\b\b\b\b\b\b\b\b\b\b\b\b\b\b\b\b\b\b\b\b\b\b\b\b\b\b\b\b\b\b\b\b\b\b\b\b\b\b\b\b\b\b\b\b\b\b\b\b\b\b\b\b\b\b\b\b\b\b\b\b\b\b\b\b\b\b\b\b\b\b\b\b\b\b\b\b\b\b\b\b\b\b\b\b\b\b\b\b\b\b\b\b\b\b\b\b\b\b\b\b\b\b\b\b\b\b\b\b\b\b\b\b\b\b\b\b\b\b\b\b\b\b\b\b\b\b\b\b\b\b\b\b\b\b\b\b\b\b\b\b\b\b\b\b\b\b\b\b\b\b\b\b\b\b\b\b\b\b\b\b\b\b\b\b\b\b\b\b\b\b\b\b\b\b\b\b\b\b\b\b\b\b\b\b\b\b\b\b\b\b\b\b\b\b\b\b\b\b\b\b\b\b\b\b\b\b\b\b\b\b\b\b\b\b\b\b\b\b\b\b\b\b\b\b\b\b\b\b\b\b\b\b\b\b\b\b\b\b\b\b\b\b\b\b\b\b\b\b\b\b\b\b\b\b\b\b\b\b\b\b\b\b\b\b\b\b\b\b\b\b\b\b\b\b\b\b\b\b\b\b\b\b\b\b\b\b\b\b\b\b\b\b\b\b\b\b\b\b\b\b\b\b\b\b\b\b\b\b\b\b\n",
      "\n",
      "Epoch 00003: val_loss improved from 0.60891 to 0.60544, saving model to models\\HA_LSTM\\HA_LSTM_0\\checkpoint.hdf5\n",
      "Epoch 4/50\n",
      "10/10 [==============================] - 7s 701ms/step - loss: 0.6026 - accuracy: 0.6876 - val_loss: 0.5739 - val_accuracy: 0.7087\b\b\b\b\b\b\b\b\b\b\b\b\b\b\b\b\b\b\b\b\b\b\b\b\b\b\b\b\b\b\b\b\b\b\b\b\b\b\b\b\b\b\b\b\b\b\b\b\b\b\b\b\b\b\b\b\b\b\b\b\b\b\b\b\b\b\b\b\b\b\b\b\b\b\b\b\b\b\b\b\b\b\b\b\b\b\b\b\b\b\b\b\b\b\b\b\b\b\b\b\b\b\b\b\b\b\b\b\b\b\b\b\b\b\b\b\b\b\b\b\b\b\b\b\b\b\b\b\b\b\b\b\b\b\b\b\b\b\b\b\b\b\b\b\b\b\b\b\b\b\b\b\b\b\b\b\b\b\b\b\b\b\b\b\b\b\b\b\b\b\b\b\b\b\b\b\b\b\b\b\b\b\b\b\b\b\b\b\b\b\b\b\b\b\b\b\b\b\b\b\b\b\b\b\b\b\b\b\b\b\b\b\b\b\b\b\b\b\b\b\b\b\b\b\b\b\b\b\b\b\b\b\b\b\b\b\b\b\b\b\b\b\b\b\b\b\b\b\b\b\b\b\b\b\b\b\b\b\b\b\b\b\b\b\b\b\b\b\b\b\b\b\b\b\b\b\b\b\b\b\b\b\b\b\b\b\b\b\b\b\b\b\b\b\b\b\b\b\b\b\b\b\b\b\b\b\b\b\b\b\b\b\b\b\b\b\b\b\b\b\b\b\b\b\b\b\b\b\b\b\b\b\b\b\b\b\b\b\b\b\b\b\b\b\b\b\b\b\b\b\b\b\b\b\b\b\b\b\b\b\b\b\b\b\b\b\b\b\b\b\b\b\b\b\b\b\b\b\b\b\b\b\b\b\b\b\b\b\b\b\b\b\b\b\b\b\b\b\b\b\b\b\b\b\b\b\b\b\b\b\b\b\b\b\b\b\b\b\b\b\b\b\b\b\b\b\b\b\b\b\b\b\b\b\b\b\b\b\b\b\b\b\b\b\b\b\b\b\b\b\b\b\b\b\b\b\b\b\b\b\b\b\b\b\b\b\b\b\b\b\b\b\b\b\b\b\b\b\b\b\b\b\b\b\b\b\b\b\b\b\b\b\b\b\b\b\b\b\b\b\b\b\b\b\b\b\b\b\b\b\b\b\b\b\b\b\b\b\b\b\b\b\b\b\b\b\b\b\b\b\b\b\b\b\b\b\b\b\b\b\b\b\b\b\b\b\b\b\b\b\b\b\b\b\b\b\b\b\b\b\b\b\b\b\b\b\b\b\b\b\b\b\b\b\b\b\b\b\b\b\b\b\b\b\b\b\b\b\b\b\b\b\b\b\b\b\b\b\b\b\b\b\b\b\b\b\b\b\b\b\b\b\b\b\b\b\b\b\b\b\b\b\b\b\b\b\b\b\b\b\b\b\b\b\b\b\b\b\b\b\b\b\b\b\b\b\b\b\b\b\b\b\b\b\b\b\b\b\b\b\b\b\b\b\b\b\b\b\b\b\b\b\b\b\b\b\b\b\b\b\b\b\b\b\b\b\b\b\b\b\b\b\b\b\b\b\b\b\b\b\b\b\b\b\b\b\b\b\b\b\b\b\b\b\b\b\b\b\b\b\b\b\b\b\b\b\b\b\b\b\b\b\b\b\b\b\b\b\b\b\b\b\b\b\b\b\b\b\b\b\b\b\b\b\b\b\b\b\b\b\b\b\b\b\b\b\b\b\b\b\b\b\n",
      "\n",
      "Epoch 00004: val_loss improved from 0.60544 to 0.57395, saving model to models\\HA_LSTM\\HA_LSTM_0\\checkpoint.hdf5\n",
      "Epoch 5/50\n",
      "10/10 [==============================] - 7s 673ms/step - loss: 0.5768 - accuracy: 0.6531 - val_loss: 0.5567 - val_accuracy: 0.7008\b\b\b\b\b\b\b\b\b\b\b\b\b\b\b\b\b\b\b\b\b\b\b\b\b\b\b\b\b\b\b\b\b\b\b\b\b\b\b\b\b\b\b\b\b\b\b\b\b\b\b\b\b\b\b\b\b\b\b\b\b\b\b\b\b\b\b\b\b\b\b\b\b\b\b\b\b\b\b\b\b\b\b\b\b\b\b\b\b\b\b\b\b\b\b\b\b\b\b\b\b\b\b\b\b\b\b\b\b\b\b\b\b\b\b\b\b\b\b\b\b\b\b\b\b\b\b\b\b\b\b\b\b\b\b\b\b\b\b\b\b\b\b\b\b\b\b\b\b\b\b\b\b\b\b\b\b\b\b\b\b\b\b\b\b\b\b\b\b\b\b\b\b\b\b\b\b\b\b\b\b\b\b\b\b\b\b\b\b\b\b\b\b\b\b\b\b\b\b\b\b\b\b\b\b\b\b\b\b\b\b\b\b\b\b\b\b\b\b\b\b\b\b\b\b\b\b\b\b\b\b\b\b\b\b\b\b\b\b\b\b\b\b\b\b\b\b\b\b\b\b\b\b\b\b\b\b\b\b\b\b\b\b\b\b\b\b\b\b\b\b\b\b\b\b\b\b\b\b\b\b\b\b\b\b\b\b\b\b\b\b\b\b\b\b\b\b\b\b\b\b\b\b\b\b\b\b\b\b\b\b\b\b\b\b\b\b\b\b\b\b\b\b\b\b\b\b\b\b\b\b\b\b\b\b\b\b\b\b\b\b\b\b\b\b\b\b\b\b\b\b\b\b\b\b\b\b\b\b\b\b\b\b\b\b\b\b\b\b\b\b\b\b\b\b\b\b\b\b\b\b\b\b\b\b\b\b\b\b\b\b\b\b\b\b\b\b\b\b\b\b\b\b\b\b\b\b\b\b\b\b\b\b\b\b\b\b\b\b\b\b\b\b\b\b\b\b\b\b\b\b\b\b\b\b\b\b\b\b\b\b\b\b\b\b\b\b\b\b\b\b\b\b\b\b\b\b\b\b\b\b\b\b\b\b\b\b\b\b\b\b\b\b\b\b\b\b\b\b\b\b\b\b\b\b\b\b\b\b\b\b\b\b\b\b\b\b\b\b\b\b\b\b\b\b\b\b\b\b\b\b\b\b\b\b\b\b\b\b\b\b\b\b\b\b\b\b\b\b\b\b\b\b\b\b\b\b\b\b\b\b\b\b\b\b\b\b\b\b\b\b\b\b\b\b\b\b\b\b\b\b\b\b\b\b\b\b\b\b\b\b\b\b\b\b\b\b\b\b\b\b\b\b\b\b\b\b\b\b\b\b\b\b\b\b\b\b\b\b\b\b\b\b\b\b\b\b\b\b\b\b\b\b\b\b\b\b\b\b\b\b\b\b\b\b\b\b\b\b\b\b\b\b\b\b\b\b\b\b\b\b\b\b\b\b\b\b\b\b\b\b\b\b\b\b\b\b\b\b\b\b\b\b\b\b\b\b\b\b\b\b\b\b\b\b\b\b\b\b\b\b\b\b\b\b\b\b\b\b\b\b\b\b\b\b\b\b\b\b\b\b\b\b\b\b\b\b\b\b\b\b\b\b\b\b\b\b\b\b\b\b\b\b\b\b\b\b\b\b\b\b\b\b\b\b\b\b\b\b\b\b\b\b\b\b\b\b\b\b\b\b\b\b\b\b\b\b\b\b\b\b\b\b\b\b\b\b\b\b\b\b\b\n",
      "\n",
      "Epoch 00005: val_loss improved from 0.57395 to 0.55669, saving model to models\\HA_LSTM\\HA_LSTM_0\\checkpoint.hdf5\n",
      "Epoch 6/50\n",
      "10/10 [==============================] - 7s 690ms/step - loss: 0.5097 - accuracy: 0.7159 - val_loss: 0.8829 - val_accuracy: 0.7244\b\b\b\b\b\b\b\b\b\b\b\b\b\b\b\b\b\b\b\b\b\b\b\b\b\b\b\b\b\b\b\b\b\b\b\b\b\b\b\b\b\b\b\b\b\b\b\b\b\b\b\b\b\b\b\b\b\b\b\b\b\b\b\b\b\b\b\b\b\b\b\b\b\b\b\b\b\b\b\b\b\b\b\b\b\b\b\b\b\b\b\b\b\b\b\b\b\b\b\b\b\b\b\b\b\b\b\b\b\b\b\b\b\b\b\b\b\b\b\b\b\b\b\b\b\b\b\b\b\b\b\b\b\b\b\b\b\b\b\b\b\b\b\b\b\b\b\b\b\b\b\b\b\b\b\b\b\b\b\b\b\b\b\b\b\b\b\b\b\b\b\b\b\b\b\b\b\b\b\b\b\b\b\b\b\b\b\b\b\b\b\b\b\b\b\b\b\b\b\b\b\b\b\b\b\b\b\b\b\b\b\b\b\b\b\b\b\b\b\b\b\b\b\b\b\b\b\b\b\b\b\b\b\b\b\b\b\b\b\b\b\b\b\b\b\b\b\b\b\b\b\b\b\b\b\b\b\b\b\b\b\b\b\b\b\b\b\b\b\b\b\b\b\b\b\b\b\b\b\b\b\b\b\b\b\b\b\b\b\b\b\b\b\b\b\b\b\b\b\b\b\b\b\b\b\b\b\b\b\b\b\b\b\b\b\b\b\b\b\b\b\b\b\b\b\b\b\b\b\b\b\b\b\b\b\b\b\b\b\b\b\b\b\b\b\b\b\b\b\b\b\b\b\b\b\b\b\b\b\b\b\b\b\b\b\b\b\b\b\b\b\b\b\b\b\b\b\b\b\b\b\b\b\b\b\b\b\b\b\b\b\b\b\b\b\b\b\b\b\b\b\b\b\b\b\b\b\b\b\b\b\b\b\b\b\b\b\b\b\b\b\b\b\b\b\b\b\b\b\b\b\b\b\b\b\b\b\b\b\b\b\b\b\b\b\b\b\b\b\b\b\b\b\b\b\b\b\b\b\b\b\b\b\b\b\b\b\b\b\b\b\b\b\b\b\b\b\b\b\b\b\b\b\b\b\b\b\b\b\b\b\b\b\b\b\b\b\b\b\b\b\b\b\b\b\b\b\b\b\b\b\b\b\b\b\b\b\b\b\b\b\b\b\b\b\b\b\b\b\b\b\b\b\b\b\b\b\b\b\b\b\b\b\b\b\b\b\b\b\b\b\b\b\b\b\b\b\b\b\b\b\b\b\b\b\b\b\b\b\b\b\b\b\b\b\b\b\b\b\b\b\b\b\b\b\b\b\b\b\b\b\b\b\b\b\b\b\b\b\b\b\b\b\b\b\b\b\b\b\b\b\b\b\b\b\b\b\b\b\b\b\b\b\b\b\b\b\b\b\b\b\b\b\b\b\b\b\b\b\b\b\b\b\b\b\b\b\b\b\b\b\b\b\b\b\b\b\b\b\b\b\b\b\b\b\b\b\b\b\b\b\b\b\b\b\b\b\b\b\b\b\b\b\b\b\b\b\b\b\b\b\b\b\b\b\b\b\b\b\b\b\b\b\b\b\b\b\b\b\b\b\b\b\b\b\b\b\b\b\b\b\b\b\b\b\b\b\b\b\b\b\b\b\b\b\b\b\b\b\b\b\b\b\b\b\b\b\b\b\b\b\b\b\b\b\b\b\b\b\b\b\b\b\b\b\b\b\b\b\b\b\b\n",
      "\n",
      "Epoch 00006: val_loss did not improve from 0.55669\n",
      "Epoch 7/50\n",
      "10/10 [==============================] - 6s 641ms/step - loss: 0.5229 - accuracy: 0.7595 - val_loss: 0.6538 - val_accuracy: 0.7244\b\b\b\b\b\b\b\b\b\b\b\b\b\b\b\b\b\b\b\b\b\b\b\b\b\b\b\b\b\b\b\b\b\b\b\b\b\b\b\b\b\b\b\b\b\b\b\b\b\b\b\b\b\b\b\b\b\b\b\b\b\b\b\b\b\b\b\b\b\b\b\b\b\b\b\b\b\b\b\b\b\b\b\b\b\b\b\b\b\b\b\b\b\b\b\b\b\b\b\b\b\b\b\b\b\b\b\b\b\b\b\b\b\b\b\b\b\b\b\b\b\b\b\b\b\b\b\b\b\b\b\b\b\b\b\b\b\b\b\b\b\b\b\b\b\b\b\b\b\b\b\b\b\b\b\b\b\b\b\b\b\b\b\b\b\b\b\b\b\b\b\b\b\b\b\b\b\b\b\b\b\b\b\b\b\b\b\b\b\b\b\b\b\b\b\b\b\b\b\b\b\b\b\b\b\b\b\b\b\b\b\b\b\b\b\b\b\b\b\b\b\b\b\b\b\b\b\b\b\b\b\b\b\b\b\b\b\b\b\b\b\b\b\b\b\b\b\b\b\b\b\b\b\b\b\b\b\b\b\b\b\b\b\b\b\b\b\b\b\b\b\b\b\b\b\b\b\b\b\b\b\b\b\b\b\b\b\b\b\b\b\b\b\b\b\b\b\b\b\b\b\b\b\b\b\b\b\b\b\b\b\b\b\b\b\b\b\b\b\b\b\b\b\b\b\b\b\b\b\b\b\b\b\b\b\b\b\b\b\b\b\b\b\b\b\b\b\b\b\b\b\b\b\b\b\b\b\b\b\b\b\b\b\b\b\b\b\b\b\b\b\b\b\b\b\b\b\b\b\b\b\b\b\b\b\b\b\b\b\b\b\b\b\b\b\b\b\b\b\b\b\b\b\b\b\b\b\b\b\b\b\b\b\b\b\b\b\b\b\b\b\b\b\b\b\b\b\b\b\b\b\b\b\b\b\b\b\b\b\b\b\b\b\b\b\b\b\b\b\b\b\b\b\b\b\b\b\b\b\b\b\b\b\b\b\b\b\b\b\b\b\b\b\b\b\b\b\b\b\b\b\b\b\b\b\b\b\b\b\b\b\b\b\b\b\b\b\b\b\b\b\b\b\b\b\b\b\b\b\b\b\b\b\b\b\b\b\b\b\b\b\b\b\b\b\b\b\b\b\b\b\b\b\b\b\b\b\b\b\b\b\b\b\b\b\b\b\b\b\b\b\b\b\b\b\b\b\b\b\b\b\b\b\b\b\b\b\b\b\b\b\b\b\b\b\b\b\b\b\b\b\b\b\b\b\b\b\b\b\b\b\b\b\b\b\b\b\b\b\b\b\b\b\b\b\b\b\b\b\b\b\b\b\b\b\b\b\b\b\b\b\b\b\b\b\b\b\b\b\b\b\b\b\b\b\b\b\b\b\b\b\b\b\b\b\b\b\b\b\b\b\b\b\b\b\b\b\b\b\b\b\b\b\b\b\b\b\b\b\b\b\b\b\b\b\b\b\b\b\b\b\b\b\b\b\b\b\b\b\b\b\b\b\b\b\b\b\b\b\b\b\b\b\b\b\b\b\b\b\b\b\b\b\b\b\b\b\b\b\b\b\b\b\b\b\b\b\b\b\b\b\b\b\b\b\b\b\b\b\b\b\b\b\b\b\b\b\b\b\b\b\b\b\b\b\b\b\b\b\b\b\b\b\b\b\b\b\b\b\b\b\b\n",
      "\n",
      "Epoch 00007: val_loss did not improve from 0.55669\n",
      "Epoch 8/50\n",
      "10/10 [==============================] - 7s 681ms/step - loss: 0.4294 - accuracy: 0.7785 - val_loss: 0.5995 - val_accuracy: 0.7244\b\b\b\b\b\b\b\b\b\b\b\b\b\b\b\b\b\b\b\b\b\b\b\b\b\b\b\b\b\b\b\b\b\b\b\b\b\b\b\b\b\b\b\b\b\b\b\b\b\b\b\b\b\b\b\b\b\b\b\b\b\b\b\b\b\b\b\b\b\b\b\b\b\b\b\b\b\b\b\b\b\b\b\b\b\b\b\b\b\b\b\b\b\b\b\b\b\b\b\b\b\b\b\b\b\b\b\b\b\b\b\b\b\b\b\b\b\b\b\b\b\b\b\b\b\b\b\b\b\b\b\b\b\b\b\b\b\b\b\b\b\b\b\b\b\b\b\b\b\b\b\b\b\b\b\b\b\b\b\b\b\b\b\b\b\b\b\b\b\b\b\b\b\b\b\b\b\b\b\b\b\b\b\b\b\b\b\b\b\b\b\b\b\b\b\b\b\b\b\b\b\b\b\b\b\b\b\b\b\b\b\b\b\b\b\b\b\b\b\b\b\b\b\b\b\b\b\b\b\b\b\b\b\b\b\b\b\b\b\b\b\b\b\b\b\b\b\b\b\b\b\b\b\b\b\b\b\b\b\b\b\b\b\b\b\b\b\b\b\b\b\b\b\b\b\b\b\b\b\b\b\b\b\b\b\b\b\b\b\b\b\b\b\b\b\b\b\b\b\b\b\b\b\b\b\b\b\b\b\b\b\b\b\b\b\b\b\b\b\b\b\b\b\b\b\b\b\b\b\b\b\b\b\b\b\b\b\b\b\b\b\b\b\b\b\b\b\b\b\b\b\b\b\b\b\b\b\b\b\b\b\b\b\b\b\b\b\b\b\b\b\b\b\b\b\b\b\b\b\b\b\b\b\b\b\b\b\b\b\b\b\b\b\b\b\b\b\b\b\b\b\b\b\b\b\b\b\b\b\b\b\b\b\b\b\b\b\b\b\b\b\b\b\b\b\b\b\b\b\b\b\b\b\b\b\b\b\b\b\b\b\b\b\b\b\b\b\b\b\b\b\b\b\b\b\b\b\b\b\b\b\b\b\b\b\b\b\b\b\b\b\b\b\b\b\b\b\b\b\b\b\b\b\b\b\b\b\b\b\b\b\b\b\b\b\b\b\b\b\b\b\b\b\b\b\b\b\b\b\b\b\b\b\b\b\b\b\b\b\b\b\b\b\b\b\b\b\b\b\b\b\b\b\b\b\b\b\b\b\b\b\b\b\b\b\b\b\b\b\b\b\b\b\b\b\b\b\b\b\b\b\b\b\b\b\b\b\b\b\b\b\b\b\b\b\b\b\b\b\b\b\b\b\b\b\b\b\b\b\b\b\b\b\b\b\b\b\b\b\b\b\b\b\b\b\b\b\b\b\b\b\b\b\b\b\b\b\b\b\b\b\b\b\b\b\b\b\b\b\b\b\b\b\b\b\b\b\b\b\b\b\b\b\b\b\b\b\b\b\b\b\b\b\b\b\b\b\b\b\b\b\b\b\b\b\b\b\b\b\b\b\b\b\b\b\b\b\b\b\b\b\b\b\b\b\b\b\b\b\b\b\b\b\b\b\b\b\b\b\b\b\b\b\b\b\b\b\b\b\b\b\b\b\b\b\b\b\b\b\b\b\b\b\b\b\b\b\b\b\b\b\b\b\b\b\b\b\b\b\b\b\b\b\b\b\b\b\b\b\b\b\b\b\b\b\b\b\b\b\b\b\b\b\b\b\b\b\b\b\b\b\b\n",
      "\n",
      "Epoch 00008: val_loss did not improve from 0.55669\n",
      "Epoch 9/50\n",
      "10/10 [==============================] - 6s 637ms/step - loss: 0.3833 - accuracy: 0.7948 - val_loss: 0.6423 - val_accuracy: 0.7165\b\b\b\b\b\b\b\b\b\b\b\b\b\b\b\b\b\b\b\b\b\b\b\b\b\b\b\b\b\b\b\b\b\b\b\b\b\b\b\b\b\b\b\b\b\b\b\b\b\b\b\b\b\b\b\b\b\b\b\b\b\b\b\b\b\b\b\b\b\b\b\b\b\b\b\b\b\b\b\b\b\b\b\b\b\b\b\b\b\b\b\b\b\b\b\b\b\b\b\b\b\b\b\b\b\b\b\b\b\b\b\b\b\b\b\b\b\b\b\b\b\b\b\b\b\b\b\b\b\b\b\b\b\b\b\b\b\b\b\b\b\b\b\b\b\b\b\b\b\b\b\b\b\b\b\b\b\b\b\b\b\b\b\b\b\b\b\b\b\b\b\b\b\b\b\b\b\b\b\b\b\b\b\b\b\b\b\b\b\b\b\b\b\b\b\b\b\b\b\b\b\b\b\b\b\b\b\b\b\b\b\b\b\b\b\b\b\b\b\b\b\b\b\b\b\b\b\b\b\b\b\b\b\b\b\b\b\b\b\b\b\b\b\b\b\b\b\b\b\b\b\b\b\b\b\b\b\b\b\b\b\b\b\b\b\b\b\b\b\b\b\b\b\b\b\b\b\b\b\b\b\b\b\b\b\b\b\b\b\b\b\b\b\b\b\b\b\b\b\b\b\b\b\b\b\b\b\b\b\b\b\b\b\b\b\b\b\b\b\b\b\b\b\b\b\b\b\b\b\b\b\b\b\b\b\b\b\b\b\b\b\b\b\b\b\b\b\b\b\b\b\b\b\b\b\b\b\b\b\b\b\b\b\b\b\b\b\b\b\b\b\b\b\b\b\b\b\b\b\b\b\b\b\b\b\b\b\b\b\b\b\b\b\b\b\b\b\b\b\b\b\b\b\b\b\b\b\b\b\b\b\b\b\b\b\b\b\b\b\b\b\b\b\b\b\b\b\b\b\b\b\b\b\b\b\b\b\b\b\b\b\b\b\b\b\b\b\b\b\b\b\b\b\b\b\b\b\b\b\b\b\b\b\b\b\b\b\b\b\b\b\b\b\b\b\b\b\b\b\b\b\b\b\b\b\b\b\b\b\b\b\b\b\b\b\b\b\b\b\b\b\b\b\b\b\b\b\b\b\b\b\b\b\b\b\b\b\b\b\b\b\b\b\b\b\b\b\b\b\b\b\b\b\b\b\b\b\b\b\b\b\b\b\b\b\b\b\b\b\b\b\b\b\b\b\b\b\b\b\b\b\b\b\b\b\b\b\b\b\b\b\b\b\b\b\b\b\b\b\b\b\b\b\b\b\b\b\b\b\b\b\b\b\b\b\b\b\b\b\b\b\b\b\b\b\b\b\b\b\b\b\b\b\b\b\b\b\b\b\b\b\b\b\b\b\b\b\b\b\b\b\b\b\b\b\b\b\b\b\b\b\b\b\b\b\b\b\b\b\b\b\b\b\b\b\b\b\b\b\b\b\b\b\b\b\b\b\b\b\b\b\b\b\b\b\b\b\b\b\b\b\b\b\b\b\b\b\b\b\b\b\b\b\b\b\b\b\b\b\b\b\b\b\b\b\b\b\b\b\b\b\b\b\b\b\b\b\b\b\b\b\b\b\b\b\b\b\b\b\b\b\b\b\b\b\b\b\b\b\b\b\b\b\b\b\b\b\b\b\b\b\b\b\b\b\b\b\b\b\b\b\b\b\b\b\b\b\b\b\b\b\b\n",
      "\n",
      "Epoch 00009: val_loss did not improve from 0.55669\n",
      "Epoch 10/50\n",
      "10/10 [==============================] - 7s 708ms/step - loss: 0.3938 - accuracy: 0.7814 - val_loss: 0.6620 - val_accuracy: 0.6299\b\b\b\b\b\b\b\b\b\b\b\b\b\b\b\b\b\b\b\b\b\b\b\b\b\b\b\b\b\b\b\b\b\b\b\b\b\b\b\b\b\b\b\b\b\b\b\b\b\b\b\b\b\b\b\b\b\b\b\b\b\b\b\b\b\b\b\b\b\b\b\b\b\b\b\b\b\b\b\b\b\b\b\b\b\b\b\b\b\b\b\b\b\b\b\b\b\b\b\b\b\b\b\b\b\b\b\b\b\b\b\b\b\b\b\b\b\b\b\b\b\b\b\b\b\b\b\b\b\b\b\b\b\b\b\b\b\b\b\b\b\b\b\b\b\b\b\b\b\b\b\b\b\b\b\b\b\b\b\b\b\b\b\b\b\b\b\b\b\b\b\b\b\b\b\b\b\b\b\b\b\b\b\b\b\b\b\b\b\b\b\b\b\b\b\b\b\b\b\b\b\b\b\b\b\b\b\b\b\b\b\b\b\b\b\b\b\b\b\b\b\b\b\b\b\b\b\b\b\b\b\b\b\b\b\b\b\b\b\b\b\b\b\b\b\b\b\b\b\b\b\b\b\b\b\b\b\b\b\b\b\b\b\b\b\b\b\b\b\b\b\b\b\b\b\b\b\b\b\b\b\b\b\b\b\b\b\b\b\b\b\b\b\b\b\b\b\b\b\b\b\b\b\b\b\b\b\b\b\b\b\b\b\b\b\b\b\b\b\b\b\b\b\b\b\b\b\b\b\b\b\b\b\b\b\b\b\b\b\b\b\b\b\b\b\b\b\b\b\b\b\b\b\b\b\b\b\b\b\b\b\b\b\b\b\b\b\b\b\b\b\b\b\b\b\b\b\b\b\b\b\b\b\b\b\b\b\b\b\b\b\b\b\b\b\b\b\b\b\b\b\b\b\b\b\b\b\b\b\b\b\b\b\b\b\b\b\b\b\b\b\b\b\b\b\b\b\b\b\b\b\b\b\b\b\b\b\b\b\b\b\b\b\b\b\b\b\b\b\b\b\b\b\b\b\b\b\b\b\b\b\b\b\b\b\b\b\b\b\b\b\b\b\b\b\b\b\b\b\b\b\b\b\b\b\b\b\b\b\b\b\b\b\b\b\b\b\b\b\b\b\b\b\b\b\b\b\b\b\b\b\b\b\b\b\b\b\b\b\b\b\b\b\b\b\b\b\b\b\b\b\b\b\b\b\b\b\b\b\b\b\b\b\b\b\b\b\b\b\b\b\b\b\b\b\b\b\b\b\b\b\b\b\b\b\b\b\b\b\b\b\b\b\b\b\b\b\b\b\b\b\b\b\b\b\b\b\b\b\b\b\b\b\b\b\b\b\b\b\b\b\b\b\b\b\b\b\b\b\b\b\b\b\b\b\b\b\b\b\b\b\b\b\b\b\b\b\b\b\b\b\b\b\b\b\b\b\b\b\b\b\b\b\b\b\b\b\b\b\b\b\b\b\b\b\b\b\b\b\b\b\b\b\b\b\b\b\b\b\b\b\b\b\b\b\b\b\b\b\b\b\b\b\b\b\b\b\b\b\b\b\b\b\b\b\b\b\b\b\b\b\b\b\b\b\b\b\b\b\b\b\b\b\b\b\b\b\b\b\b\b\b\b\b\b\b\b\b\b\b\b\b\b\b\b\b\b\b\b\b\b\b\b\b\b\b\b\b\b\b\b\b\b\b\b\b\b\b\b\b\b\b\b\b\b\b\b\b\b\b\b\b\n",
      "\n",
      "Epoch 00010: val_loss did not improve from 0.55669\n",
      "Epoch 00010: early stopping\n"
     ]
    }
   ],
   "source": [
    "if multiple_gpus:\n",
    "    with strategy.scope():\n",
    "        model = Hierarchical_Attention_LSTM(dl_config.embedding_matrix, dl_config, learning_rate=dl_config.learning_rate,\n",
    "                                               seed_value=dl_config.seed_value)\n",
    "else:\n",
    "    model = Hierarchical_Attention_LSTM(dl_config.embedding_matrix, dl_config, learning_rate=dl_config.learning_rate,\n",
    "                                                seed_value=dl_config.seed_value)\n",
    "\n",
    "\n",
    "history = model.fit(X_train, y_train,\n",
    "                    epochs=dl_config.epochs,\n",
    "                    batch_size=dl_config.batch_size,\n",
    "                    validation_data=(x_val,y_val),\n",
    "                    callbacks=keras_callbacks)\n",
    "\n",
    "if dl_config.keras_callbacks:\n",
    "    model.load_weights(checkpoint_path)"
   ],
   "metadata": {
    "collapsed": false,
    "pycharm": {
     "name": "#%%\n"
    }
   }
  },
  {
   "cell_type": "markdown",
   "source": [],
   "metadata": {
    "collapsed": false,
    "pycharm": {
     "name": "#%% md\n"
    }
   }
  },
  {
   "cell_type": "code",
   "execution_count": 33,
   "outputs": [
    {
     "name": "stdout",
     "output_type": "stream",
     "text": [
      "Index of Unknown Words: 1\n",
      "ROC AUC: 0.857792\n",
      "Average Precision: 0.748001\n",
      "Accuracy: 0.686813\n",
      "Precision: 0.750000\n",
      "Recall: 0.050847\n",
      "F1 score: 0.095238\n",
      "Confusion Matrix:\n",
      " [[122   1]\n",
      " [ 56   3]] \n",
      "\n"
     ]
    },
    {
     "data": {
      "text/plain": "<Figure size 936x360 with 2 Axes>",
      "image/png": "[encoded data removed]"
     },
     "metadata": {
      "needs_background": "light"
     },
     "output_type": "display_data"
    },
    {
     "data": {
      "text/plain": "<Figure size 936x360 with 2 Axes>",
      "image/png": "[encoded data removed]"
     },
     "metadata": {
      "needs_background": "light"
     },
     "output_type": "display_data"
    }
   ],
   "source": [
    "train_loss, dl_config.train_acc = model.evaluate(X_train, y_train, verbose=0, batch_size = dl_config.batch_size)\n",
    "plot_training_history(history_dict=history, dl_config=dl_config)\n",
    "\n",
    "x_test, y_test = DL_preprocessing(X_test_df, y_test_df, dl_config, dataset='test')\n",
    "\n",
    "yhat_probs = model.predict(x_test, verbose=0)\n",
    "yhat_probs = yhat_probs[:, 0]\n",
    "\n",
    "yhat_classes = np.where(yhat_probs > 0.5, 1, yhat_probs)\n",
    "yhat_classes = np.where(yhat_classes < 0.5, 0, yhat_classes).astype(np.int64)\n",
    "\n",
    "dl_config.test_roc_auc, dl_config.test_pr_auc = plot_roc_n_pr_curves(y_test, yhat_probs, dl_config=dl_config)\n",
    "\n",
    "# ROC AUC\n",
    "print('ROC AUC: %f' % dl_config.test_roc_auc)\n",
    "\n",
    "# avg precision\n",
    "dl_config.test_avg_prec = average_precision(y_test_df, yhat_probs)\n",
    "print('Average Precision: %f' % dl_config.test_avg_prec)\n",
    "\n",
    "# accuracy\n",
    "dl_config.test_acc = accuracy_score(y_test, yhat_classes)\n",
    "print('Accuracy: %f' % dl_config.test_acc)\n",
    "\n",
    "# precision tp / (tp + fp)\n",
    "dl_config.test_prec = precision_score(y_test, yhat_classes)\n",
    "print('Precision: %f' % dl_config.test_prec)\n",
    "\n",
    "# recall: tp / (tp + fn)\n",
    "dl_config.test_recall = recall_score(y_test, yhat_classes)\n",
    "print('Recall: %f' % dl_config.test_recall)\n",
    "\n",
    "# f1: 2 tp / (2 tp + fp + fn)\n",
    "dl_config.test_f1_score = f1_score(y_test, yhat_classes)\n",
    "print('F1 score: %f' % dl_config.test_f1_score)\n",
    "\n",
    "# confusion matrix\n",
    "matrix = confusion_matrix(y_test, yhat_classes)\n",
    "matrix = np.flip(matrix)\n",
    "print('Confusion Matrix:\\n %s \\n' % matrix)"
   ],
   "metadata": {
    "collapsed": false,
    "pycharm": {
     "name": "#%%\n"
    }
   }
  },
  {
   "cell_type": "markdown",
   "source": [],
   "metadata": {
    "collapsed": false,
    "pycharm": {
     "name": "#%% md\n"
    }
   }
  },
  {
   "cell_type": "markdown",
   "source": [
    "<h3>\n",
    "Burns_CNNBiLSTM\n",
    "</h3>"
   ],
   "metadata": {
    "collapsed": false,
    "pycharm": {
     "name": "#%% md\n"
    }
   }
  },
  {
   "cell_type": "code",
   "execution_count": 34,
   "outputs": [],
   "source": [
    "\"\"\"Imports\"\"\"\n",
    "\n",
    "from dl_models import Burns_CNNBiLSTM"
   ],
   "metadata": {
    "collapsed": false,
    "pycharm": {
     "name": "#%%\n"
    }
   }
  },
  {
   "cell_type": "code",
   "execution_count": 35,
   "outputs": [
    {
     "name": "stdout",
     "output_type": "stream",
     "text": [
      "stilbenes , important secondary metabolites grapevine , represent central phytoalexins therefore constitute important element basal immunity . study , potential genetic variation vitis vinifera ssp . sylvestris , ancestor cultivated grapevine , sought respect output stilbenes potential use resistance breeding . considerable variation stilbene inducibility identified v. vinifera ssp . sylvestris . genotypic differences abundance profiles stilbenes induced response uv-c pulse shown . two clusters stilbene 'chemovars ' emerged : one cluster showed quick strong accumulation stilbenes , almost exclusively form non-glycosylated resveratrol viniferin , second cluster accumulated fewer stilbenes relatively high proportions piceatannol glycosylated piceid . 86 genotypes , time dependence stilbene pattern observed : piceid , resveratrol , piceatannol accumulated earlier , whereas viniferins found later . observed genotypic differences stilbene accumulation preceded differential accumulation transcripts chalcone synthase ( chs ) stilbene-related genes : phenylalanine ammonium lyase ( pal ) , stilbene synthase ( stsy ) , resveratrol synthase ( rs ) . screen population respect susceptibility downy mildew grapevine ( plasmopara viticola ) revealed considerable variability . subpopulation genotypes high stilbene inducibility significantly less susceptible compared low-stilbene genotypes , representative genotypes could shown inducibility stilbene synthase uv correlated inducibility pathogen .\n",
      "                                                   Document\n",
      "25873669  <data_structures.document.Document object at 0...\n",
      "24269870  <data_structures.document.Document object at 0...\n",
      "17655245  <data_structures.document.Document object at 0...\n",
      "16663649  <data_structures.document.Document object at 0...\n",
      "33907682  <data_structures.document.Document object at 0...\n",
      "...                                                     ...\n",
      "32079399  <data_structures.document.Document object at 0...\n",
      "26976595  <data_structures.document.Document object at 0...\n",
      "20138774  <data_structures.document.Document object at 0...\n",
      "27936616  <data_structures.document.Document object at 0...\n",
      "28009095  <data_structures.document.Document object at 0...\n",
      "\n",
      "[606 rows x 1 columns]\n",
      "25873669    0\n",
      "24269870    0\n",
      "17655245    1\n",
      "16663649    1\n",
      "33907682    0\n",
      "           ..\n",
      "32079399    1\n",
      "26976595    0\n",
      "20138774    1\n",
      "27936616    1\n",
      "28009095    1\n",
      "Name: Label, Length: 606, dtype: int64\n",
      "genetic diversity stilbene metabolism vitis sylvestris .\n",
      "stilbenes , important secondary metabolites grapevine , represent central phytoalexins therefore constitute important element basal immunity . study , potential genetic variation vitis vinifera ssp . sylvestris , ancestor cultivated grapevine , sought respect output stilbenes potential use resistance breeding . considerable variation stilbene inducibility identified v. vinifera ssp . sylvestris . genotypic differences abundance profiles stilbenes induced response uv-c pulse shown . two clusters stilbene 'chemovars ' emerged : one cluster showed quick strong accumulation stilbenes , almost exclusively form non-glycosylated resveratrol viniferin , second cluster accumulated fewer stilbenes relatively high proportions piceatannol glycosylated piceid . 86 genotypes , time dependence stilbene pattern observed : piceid , resveratrol , piceatannol accumulated earlier , whereas viniferins found later . observed genotypic differences stilbene accumulation preceded differential accumulation transcripts chalcone synthase ( chs ) stilbene-related genes : phenylalanine ammonium lyase ( pal ) , stilbene synthase ( stsy ) , resveratrol synthase ( rs ) . screen population respect susceptibility downy mildew grapevine ( plasmopara viticola ) revealed considerable variability . subpopulation genotypes high stilbene inducibility significantly less susceptible compared low-stilbene genotypes , representative genotypes could shown inducibility stilbene synthase uv correlated inducibility pathogen .\n",
      "(424, 1)\n",
      "(182, 1)\n",
      "(424,)\n",
      "(182,)\n"
     ]
    }
   ],
   "source": [
    "dl_config = DLConfig(remove_punctuation=\"HTML\", stop_words=stops, lower=True, split_by_hyphen=False)\n",
    "\n",
    "df = pandas.read_excel(\"C:/Users/Zé Freitas/Desktop/Mestrado/2ºSemestre/Projeto/code/datasets/dataset_final.xlsx\",\n",
    "                   index_col=0)\n",
    "idsfinal = pandas_column_aslist(df, \"Document\")\n",
    "docsfinal = pmids_to_docs(idsfinal, \"pg42872@alunos.uminho.pt\", dl_config)\n",
    "docsfinal = docsfinal[0]\n",
    "print(docsfinal[0].abstract_string)\n",
    "dataset_docs = docs_to_pandasdocs(docsfinal)\n",
    "\n",
    "x_total = dataset_docs\n",
    "y_total = pandas.read_excel(\"C:/Users/Zé Freitas/Desktop/Mestrado/2ºSemestre/Projeto/code/datasets/dataset_final.xlsx\",\n",
    "                        index_col=1, usecols=\"B:F\")  # os indices sao os IDs dos documentos\n",
    "\n",
    "print(x_total)\n",
    "\n",
    "relevance = pandas_column_aslist(y_total, \"Relevance\")\n",
    "y_total = relevances_to_pandas(y_total, relevance)\n",
    "print(y_total)\n",
    "\n",
    "print(x_total[\"Document\"][0].title_string)\n",
    "print(x_total[\"Document\"][0].abstract_string)\n",
    "\n",
    "X_train_df, X_test_df, y_train_df, y_test_df = train_test_split(x_total, y_total, test_size=0.3, random_state=42,\n",
    "                                                                stratify=y_total)\n",
    "print(X_train_df.shape)\n",
    "print(X_test_df.shape)\n",
    "print(y_train_df.shape)\n",
    "print(y_test_df.shape)"
   ],
   "metadata": {
    "collapsed": false,
    "pycharm": {
     "name": "#%%\n"
    }
   }
  },
  {
   "cell_type": "markdown",
   "source": [],
   "metadata": {
    "collapsed": false,
    "pycharm": {
     "name": "#%% md\n"
    }
   }
  },
  {
   "cell_type": "code",
   "execution_count": 37,
   "outputs": [],
   "source": [
    "model_name = \"BURNS\"\n",
    "dl_config = DLConfig(model_name=model_name, seed_value=seed_value)\n",
    "dl_config.stop_words = stops\n",
    "dl_config.lower = True\n",
    "dl_config.remove_punctuation = False\n",
    "dl_config.split_by_hyphen = False\n",
    "dl_config.lemmatization = False\n",
    "dl_config.stems = True\n",
    "\n",
    "dl_config.padding = 'post'            #'pre' -> default; 'post' -> alternative\n",
    "dl_config.truncating = 'post'         #'pre' -> default; 'post' -> alternative      #####\n",
    "dl_config.oov_token = 'OOV'\n",
    "\n",
    "dl_config.epochs = 50\n",
    "dl_config.batch_size = 32     # e aumentar o batch\n",
    "dl_config.learning_rate = 0.001   #experimentar diminuir\n",
    "\n",
    "dl_config.max_sent_len = 300      #sentences will have a maximum of \"max_sent_len\" words    #400/500\n",
    "dl_config.max_nb_words = 100_000      #it will only be considered the top \"max_nb_words\" words in the dataset\n",
    "\n",
    "dl_config.embeddings = 'biowordvec'\n",
    "\n",
    "dl_config.embedding_path = './embeddings/biowordvec'\n",
    "dl_config.embedding_dim = 200\n",
    "dl_config.embedding_format = 'word2vec'\n",
    "\n",
    "dl_config.keras_callbacks = True\n",
    "\n",
    " # compara as losses d otrain e validation\n",
    "if dl_config.keras_callbacks:\n",
    "    dl_config.patience = 5   #early-stopping patience\n",
    "    checkpoint_path = str(dl_config.model_id_path) + '\\checkpoint.hdf5'\n",
    "    keras_callbacks = [\n",
    "            EarlyStopping(monitor='val_loss', mode='min', verbose=1, patience=dl_config.patience),\n",
    "           ModelCheckpoint(checkpoint_path, monitor='val_loss', mode='min', verbose=1, save_best_only=True)  # guarda o modelo que tem a menor loss no validation\n",
    "    ]\n",
    "else:\n",
    "    keras_callbacks = None"
   ],
   "metadata": {
    "collapsed": false,
    "pycharm": {
     "name": "#%%\n"
    }
   }
  },
  {
   "cell_type": "code",
   "execution_count": 38,
   "outputs": [
    {
     "name": "stdout",
     "output_type": "stream",
     "text": [
      "Found 7907 unique tokens.\n",
      "Training set with 297 samples\n",
      "Validation set with 127 samples\n"
     ]
    },
    {
     "data": {
      "text/plain": "22"
     },
     "execution_count": 38,
     "metadata": {},
     "output_type": "execute_result"
    }
   ],
   "source": [
    "dl_config.tokenizer = text.Tokenizer(num_words=dl_config.max_nb_words, oov_token=dl_config.oov_token)\n",
    "\n",
    "dl_config.validation_percentage = 30  # talvez aumentar\n",
    "X_train, y_train, x_val, y_val = DL_preprocessing(X_train_df, y_train_df,\n",
    "                                                  dl_config, dataset='train',\n",
    "                                                  validation_percentage=dl_config.validation_percentage,\n",
    "                                                  seed_value=dl_config.seed_value)\n",
    "X_train[0][0]"
   ],
   "metadata": {
    "collapsed": false,
    "pycharm": {
     "name": "#%%\n"
    }
   }
  },
  {
   "cell_type": "code",
   "execution_count": 39,
   "outputs": [
    {
     "name": "stdout",
     "output_type": "stream",
     "text": [
      "Creating Embedding Matrix...\n",
      "Embedding Matrix Created \n",
      "------------------------\n",
      "number of null word embeddings: 350 in a total of 7907 words (4.43%)\n",
      "words not found: 349\n",
      "e.g. 10 words not found in the index :  ['hydroxyferuloyl' \"'superior\" \"'jingzaojing\" 'dk18' 'pholidotol'\n",
      " 'dhs2001' '882000m' 'furtherstudy' 'metabolitism' 'piceides' '6β'\n",
      " 'danfeng' 'myba2' 'sts36' 'spirotropis']\n",
      "(7908, 200)\n",
      "[[ 0.          0.          0.         ...  0.          0.\n",
      "   0.        ]\n",
      " [ 0.          0.          0.         ...  0.          0.\n",
      "   0.        ]\n",
      " [-0.0848686  -0.0417668  -0.3709338  ...  0.07843895  0.08479623\n",
      "   0.54163074]\n",
      " ...\n",
      " [ 0.15182443 -0.13880545  0.16630234 ... -0.29269406 -0.08847184\n",
      "  -0.05204243]\n",
      " [-0.1121414  -0.08872321 -0.33860227 ... -0.34313729  0.25840917\n",
      "  -0.20746794]\n",
      " [ 0.26528463  0.19522475 -0.05939044 ...  0.18617576 -0.05572284\n",
      "  -0.12646711]]\n"
     ]
    }
   ],
   "source": [
    "dl_config.embedding_matrix = compute_embedding_matrix(dl_config, embeddings_format = dl_config.embedding_format)\n",
    "\n",
    "print(dl_config.embedding_matrix.shape)\n",
    "print(dl_config.embedding_matrix)\n"
   ],
   "metadata": {
    "collapsed": false,
    "pycharm": {
     "name": "#%%\n"
    }
   }
  },
  {
   "cell_type": "code",
   "execution_count": 40,
   "outputs": [
    {
     "name": "stdout",
     "output_type": "stream",
     "text": [
      "Model: \"model_6\"\n",
      "__________________________________________________________________________________________________\n",
      "Layer (type)                    Output Shape         Param #     Connected to                     \n",
      "==================================================================================================\n",
      "input_5 (InputLayer)            [(None, 300)]        0                                            \n",
      "__________________________________________________________________________________________________\n",
      "embedding (Embedding)           (None, 300, 200)     1581600     input_5[0][0]                    \n",
      "__________________________________________________________________________________________________\n",
      "dropout_1 (Dropout)             (None, 300, 200)     0           embedding[0][0]                  \n",
      "__________________________________________________________________________________________________\n",
      "conv1d (Conv1D)                 (None, 300, 16)      16016       dropout_1[0][0]                  \n",
      "__________________________________________________________________________________________________\n",
      "max_pooling1d (MaxPooling1D)    (None, 75, 16)       0           conv1d[0][0]                     \n",
      "__________________________________________________________________________________________________\n",
      "conv1d_1 (Conv1D)               (None, 75, 16)       1296        max_pooling1d[0][0]              \n",
      "__________________________________________________________________________________________________\n",
      "dropout_2 (Dropout)             (None, 75, 16)       0           conv1d_1[0][0]                   \n",
      "__________________________________________________________________________________________________\n",
      "bidirectional_4 (Bidirectional) (None, 128)          41472       dropout_2[0][0]                  \n",
      "__________________________________________________________________________________________________\n",
      "dropout_3 (Dropout)             (None, 128)          0           bidirectional_4[0][0]            \n",
      "__________________________________________________________________________________________________\n",
      "dense_2 (Dense)                 (None, 1)            129         dropout_3[0][0]                  \n",
      "__________________________________________________________________________________________________\n",
      "flatten (Flatten)               (None, 1)            0           dense_2[0][0]                    \n",
      "__________________________________________________________________________________________________\n",
      "activation (Activation)         (None, 1)            0           flatten[0][0]                    \n",
      "__________________________________________________________________________________________________\n",
      "repeat_vector (RepeatVector)    (None, 128, 1)       0           activation[0][0]                 \n",
      "__________________________________________________________________________________________________\n",
      "permute (Permute)               (None, 1, 128)       0           repeat_vector[0][0]              \n",
      "__________________________________________________________________________________________________\n",
      "multiply (Multiply)             (None, 1, 128)       0           dropout_3[0][0]                  \n",
      "                                                                 permute[0][0]                    \n",
      "__________________________________________________________________________________________________\n",
      "lambda (Lambda)                 (None, 128)          0           multiply[0][0]                   \n",
      "__________________________________________________________________________________________________\n",
      "dense_3 (Dense)                 (None, 1)            129         lambda[0][0]                     \n",
      "==================================================================================================\n",
      "Total params: 1,640,642\n",
      "Trainable params: 59,042\n",
      "Non-trainable params: 1,581,600\n",
      "__________________________________________________________________________________________________\n",
      "Epoch 1/50\n",
      "10/10 [==============================] - 68s 5s/step - loss: 0.6748 - accuracy: 0.6406 - val_loss: 0.6078 - val_accuracy: 0.7087\b\b\b\b\b\b\b\b\b\b\b\b\b\b\b\b\b\b\b\b\b\b\b\b\b\b\b\b\b\b\b\b\b\b\b\b\b\b\b\b\b\b\b\b\b\b\b\b\b\b\b\b\b\b\b\b\b\b\b\b\b\b\b\b\b\b\b\b\b\b\b\b\b\b\b\b\b\b\b\b\b\b\b\b\b\b\b\b\b\b\b\b\b\b\b\b\b\b\b\b\b\b\b\b\b\b\b\b\b\b\b\b\b\b\b\b\b\b\b\b\b\b\b\b\b\b\b\b\b\b\b\b\b\b\b\b\b\b\b\b\b\b\b\b\b\b\b\b\b\b\b\b\b\b\b\b\b\b\b\b\b\b\b\b\b\b\b\b\b\b\b\b\b\b\b\b\b\b\b\b\b\b\b\b\b\b\b\b\b\b\b\b\b\b\b\b\b\b\b\b\b\b\b\b\b\b\b\b\b\b\b\b\b\b\b\b\b\b\b\b\b\b\b\b\b\b\b\b\b\b\b\b\b\b\b\b\b\b\b\b\b\b\b\b\b\b\b\b\b\b\b\b\b\b\b\b\b\b\b\b\b\b\b\b\b\b\b\b\b\b\b\b\b\b\b\b\b\b\b\b\b\b\b\b\b\b\b\b\b\b\b\b\b\b\b\b\b\b\b\b\b\b\b\b\b\b\b\b\b\b\b\b\b\b\b\b\b\b\b\b\b\b\b\b\b\b\b\b\b\b\b\b\b\b\b\b\b\b\b\b\b\b\b\b\b\b\b\b\b\b\b\b\b\b\b\b\b\b\b\b\b\b\b\b\b\b\b\b\b\b\b\b\b\b\b\b\b\b\b\b\b\b\b\b\b\b\b\b\b\b\b\b\b\b\b\b\b\b\b\b\b\b\b\b\b\b\b\b\b\b\b\b\b\b\b\b\b\b\b\b\b\b\b\b\b\b\b\b\b\b\b\b\b\b\b\b\b\b\b\b\b\b\b\b\b\b\b\b\b\b\b\b\b\b\b\b\b\b\b\b\b\b\b\b\b\b\b\b\b\b\b\b\b\b\b\b\b\b\b\b\b\b\b\b\b\b\b\b\b\b\b\b\b\b\b\b\b\b\b\b\b\b\b\b\b\b\b\b\b\b\b\b\b\b\b\b\b\b\b\b\b\b\b\b\b\b\b\b\b\b\b\b\b\b\b\b\b\b\b\b\b\b\b\b\b\b\b\b\b\b\b\b\b\b\b\b\b\b\b\b\b\b\b\b\b\b\b\b\b\b\b\b\b\b\b\b\b\b\b\b\b\b\b\b\b\b\b\b\b\b\b\b\b\b\b\b\b\b\b\b\b\b\b\b\b\b\b\b\b\b\b\b\b\b\b\b\b\b\b\b\b\b\b\b\b\b\b\b\b\b\b\b\b\b\b\b\b\b\b\b\b\b\b\b\b\b\b\b\b\b\b\b\b\b\b\b\b\b\b\b\b\b\b\b\b\b\b\b\b\b\b\b\b\b\b\b\b\b\b\b\b\b\b\b\b\b\b\b\b\b\b\b\b\b\b\b\b\b\b\b\b\b\b\b\b\b\b\b\b\b\b\b\b\b\b\b\b\b\b\b\b\b\b\b\b\b\b\b\b\b\b\b\b\b\b\b\b\b\b\b\b\b\b\b\b\b\b\b\b\b\b\b\b\b\b\b\b\b\b\b\b\b\b\b\b\b\b\b\b\b\b\b\b\b\b\b\b\b\n",
      "\n",
      "Epoch 00001: val_loss improved from inf to 0.60784, saving model to models\\BURNS\\BURNS_0\\checkpoint.hdf5\n",
      "Epoch 2/50\n",
      "10/10 [==============================] - 2s 199ms/step - loss: 0.6622 - accuracy: 0.6586 - val_loss: 0.6003 - val_accuracy: 0.7087\b\b\b\b\b\b\b\b\b\b\b\b\b\b\b\b\b\b\b\b\b\b\b\b\b\b\b\b\b\b\b\b\b\b\b\b\b\b\b\b\b\b\b\b\b\b\b\b\b\b\b\b\b\b\b\b\b\b\b\b\b\b\b\b\b\b\b\b\b\b\b\b\b\b\b\b\b\b\b\b\b\b\b\b\b\b\b\b\b\b\b\b\b\b\b\b\b\b\b\b\b\b\b\b\b\b\b\b\b\b\b\b\b\b\b\b\b\b\b\b\b\b\b\b\b\b\b\b\b\b\b\b\b\b\b\b\b\b\b\b\b\b\b\b\b\b\b\b\b\b\b\b\b\b\b\b\b\b\b\b\b\b\b\b\b\b\b\b\b\b\b\b\b\b\b\b\b\b\b\b\b\b\b\b\b\b\b\b\b\b\b\b\b\b\b\b\b\b\b\b\b\b\b\b\b\b\b\b\b\b\b\b\b\b\b\b\b\b\b\b\b\b\b\b\b\b\b\b\b\b\b\b\b\b\b\b\b\b\b\b\b\b\b\b\b\b\b\b\b\b\b\b\b\b\b\b\b\b\b\b\b\b\b\b\b\b\b\b\b\b\b\b\b\b\b\b\b\b\b\b\b\b\b\b\b\b\b\b\b\b\b\b\b\b\b\b\b\b\b\b\b\b\b\b\b\b\b\b\b\b\b\b\b\b\b\b\b\b\b\b\b\b\b\b\b\b\b\b\b\b\b\b\b\b\b\b\b\b\b\b\b\b\b\b\b\b\b\b\b\b\b\b\b\b\b\b\b\b\b\b\b\b\b\b\b\b\b\b\b\b\b\b\b\b\b\b\b\b\b\b\b\b\b\b\b\b\b\b\b\b\b\b\b\b\b\b\b\b\b\b\b\b\b\b\b\b\b\b\b\b\b\b\b\b\b\b\b\b\b\b\b\b\b\b\b\b\b\b\b\b\b\b\b\b\b\b\b\b\b\b\b\b\b\b\b\b\b\b\b\b\b\b\b\b\b\b\b\b\b\b\b\b\b\b\b\b\b\b\b\b\b\b\b\b\b\b\b\b\b\b\b\b\b\b\b\b\b\b\b\b\b\b\b\b\b\b\b\b\b\b\b\b\b\b\b\b\b\b\b\b\b\b\b\b\b\b\b\b\b\b\b\b\b\b\b\b\b\b\b\b\b\b\b\b\b\b\b\b\b\b\b\b\b\b\b\b\b\b\b\b\b\b\b\b\b\b\b\b\b\b\b\b\b\b\b\b\b\b\b\b\b\b\b\b\b\b\b\b\b\b\b\b\b\b\b\b\b\b\b\b\b\b\b\b\b\b\b\b\b\b\b\b\b\b\b\b\b\b\b\b\b\b\b\b\b\b\b\b\b\b\b\b\b\b\b\b\b\b\b\b\b\b\b\b\b\b\b\b\b\b\b\b\b\b\b\b\b\b\b\b\b\b\b\b\b\b\b\b\b\b\b\b\b\b\b\b\b\b\b\b\b\b\b\b\b\b\b\b\b\b\b\b\b\b\b\b\b\b\b\b\b\b\b\b\b\b\b\b\b\b\b\b\b\b\b\b\b\b\b\b\b\b\b\b\b\b\b\b\b\b\b\b\b\b\b\b\b\b\b\b\b\b\b\b\b\b\b\b\b\b\b\b\b\b\b\b\b\b\b\b\b\b\b\b\b\b\b\b\b\b\b\b\b\b\b\b\b\b\b\b\b\b\n",
      "\n",
      "Epoch 00002: val_loss improved from 0.60784 to 0.60034, saving model to models\\BURNS\\BURNS_0\\checkpoint.hdf5\n",
      "Epoch 3/50\n",
      "10/10 [==============================] - 2s 196ms/step - loss: 0.6312 - accuracy: 0.6610 - val_loss: 0.5946 - val_accuracy: 0.7087\b\b\b\b\b\b\b\b\b\b\b\b\b\b\b\b\b\b\b\b\b\b\b\b\b\b\b\b\b\b\b\b\b\b\b\b\b\b\b\b\b\b\b\b\b\b\b\b\b\b\b\b\b\b\b\b\b\b\b\b\b\b\b\b\b\b\b\b\b\b\b\b\b\b\b\b\b\b\b\b\b\b\b\b\b\b\b\b\b\b\b\b\b\b\b\b\b\b\b\b\b\b\b\b\b\b\b\b\b\b\b\b\b\b\b\b\b\b\b\b\b\b\b\b\b\b\b\b\b\b\b\b\b\b\b\b\b\b\b\b\b\b\b\b\b\b\b\b\b\b\b\b\b\b\b\b\b\b\b\b\b\b\b\b\b\b\b\b\b\b\b\b\b\b\b\b\b\b\b\b\b\b\b\b\b\b\b\b\b\b\b\b\b\b\b\b\b\b\b\b\b\b\b\b\b\b\b\b\b\b\b\b\b\b\b\b\b\b\b\b\b\b\b\b\b\b\b\b\b\b\b\b\b\b\b\b\b\b\b\b\b\b\b\b\b\b\b\b\b\b\b\b\b\b\b\b\b\b\b\b\b\b\b\b\b\b\b\b\b\b\b\b\b\b\b\b\b\b\b\b\b\b\b\b\b\b\b\b\b\b\b\b\b\b\b\b\b\b\b\b\b\b\b\b\b\b\b\b\b\b\b\b\b\b\b\b\b\b\b\b\b\b\b\b\b\b\b\b\b\b\b\b\b\b\b\b\b\b\b\b\b\b\b\b\b\b\b\b\b\b\b\b\b\b\b\b\b\b\b\b\b\b\b\b\b\b\b\b\b\b\b\b\b\b\b\b\b\b\b\b\b\b\b\b\b\b\b\b\b\b\b\b\b\b\b\b\b\b\b\b\b\b\b\b\b\b\b\b\b\b\b\b\b\b\b\b\b\b\b\b\b\b\b\b\b\b\b\b\b\b\b\b\b\b\b\b\b\b\b\b\b\b\b\b\b\b\b\b\b\b\b\b\b\b\b\b\b\b\b\b\b\b\b\b\b\b\b\b\b\b\b\b\b\b\b\b\b\b\b\b\b\b\b\b\b\b\b\b\b\b\b\b\b\b\b\b\b\b\b\b\b\b\b\b\b\b\b\b\b\b\b\b\b\b\b\b\b\b\b\b\b\b\b\b\b\b\b\b\b\b\b\b\b\b\b\b\b\b\b\b\b\b\b\b\b\b\b\b\b\b\b\b\b\b\b\b\b\b\b\b\b\b\b\b\b\b\b\b\b\b\b\b\b\b\b\b\b\b\b\b\b\b\b\b\b\b\b\b\b\b\b\b\b\b\b\b\b\b\b\b\b\b\b\b\b\b\b\b\b\b\b\b\b\b\b\b\b\b\b\b\b\b\b\b\b\b\b\b\b\b\b\b\b\b\b\b\b\b\b\b\b\b\b\b\b\b\b\b\b\b\b\b\b\b\b\b\b\b\b\b\b\b\b\b\b\b\b\b\b\b\b\b\b\b\b\b\b\b\b\b\b\b\b\b\b\b\b\b\b\b\b\b\b\b\b\b\b\b\b\b\b\b\b\b\b\b\b\b\b\b\b\b\b\b\b\b\b\b\b\b\b\b\b\b\b\b\b\b\b\b\b\b\b\b\b\b\b\b\b\b\b\b\b\b\b\b\b\b\b\b\b\b\b\b\b\b\b\b\b\b\b\b\b\b\b\b\b\b\b\b\b\b\n",
      "\n",
      "Epoch 00003: val_loss improved from 0.60034 to 0.59462, saving model to models\\BURNS\\BURNS_0\\checkpoint.hdf5\n",
      "Epoch 4/50\n",
      "10/10 [==============================] - 2s 196ms/step - loss: 0.5870 - accuracy: 0.6909 - val_loss: 0.6461 - val_accuracy: 0.6299\b\b\b\b\b\b\b\b\b\b\b\b\b\b\b\b\b\b\b\b\b\b\b\b\b\b\b\b\b\b\b\b\b\b\b\b\b\b\b\b\b\b\b\b\b\b\b\b\b\b\b\b\b\b\b\b\b\b\b\b\b\b\b\b\b\b\b\b\b\b\b\b\b\b\b\b\b\b\b\b\b\b\b\b\b\b\b\b\b\b\b\b\b\b\b\b\b\b\b\b\b\b\b\b\b\b\b\b\b\b\b\b\b\b\b\b\b\b\b\b\b\b\b\b\b\b\b\b\b\b\b\b\b\b\b\b\b\b\b\b\b\b\b\b\b\b\b\b\b\b\b\b\b\b\b\b\b\b\b\b\b\b\b\b\b\b\b\b\b\b\b\b\b\b\b\b\b\b\b\b\b\b\b\b\b\b\b\b\b\b\b\b\b\b\b\b\b\b\b\b\b\b\b\b\b\b\b\b\b\b\b\b\b\b\b\b\b\b\b\b\b\b\b\b\b\b\b\b\b\b\b\b\b\b\b\b\b\b\b\b\b\b\b\b\b\b\b\b\b\b\b\b\b\b\b\b\b\b\b\b\b\b\b\b\b\b\b\b\b\b\b\b\b\b\b\b\b\b\b\b\b\b\b\b\b\b\b\b\b\b\b\b\b\b\b\b\b\b\b\b\b\b\b\b\b\b\b\b\b\b\b\b\b\b\b\b\b\b\b\b\b\b\b\b\b\b\b\b\b\b\b\b\b\b\b\b\b\b\b\b\b\b\b\b\b\b\b\b\b\b\b\b\b\b\b\b\b\b\b\b\b\b\b\b\b\b\b\b\b\b\b\b\b\b\b\b\b\b\b\b\b\b\b\b\b\b\b\b\b\b\b\b\b\b\b\b\b\b\b\b\b\b\b\b\b\b\b\b\b\b\b\b\b\b\b\b\b\b\b\b\b\b\b\b\b\b\b\b\b\b\b\b\b\b\b\b\b\b\b\b\b\b\b\b\b\b\b\b\b\b\b\b\b\b\b\b\b\b\b\b\b\b\b\b\b\b\b\b\b\b\b\b\b\b\b\b\b\b\b\b\b\b\b\b\b\b\b\b\b\b\b\b\b\b\b\b\b\b\b\b\b\b\b\b\b\b\b\b\b\b\b\b\b\b\b\b\b\b\b\b\b\b\b\b\b\b\b\b\b\b\b\b\b\b\b\b\b\b\b\b\b\b\b\b\b\b\b\b\b\b\b\b\b\b\b\b\b\b\b\b\b\b\b\b\b\b\b\b\b\b\b\b\b\b\b\b\b\b\b\b\b\b\b\b\b\b\b\b\b\b\b\b\b\b\b\b\b\b\b\b\b\b\b\b\b\b\b\b\b\b\b\b\b\b\b\b\b\b\b\b\b\b\b\b\b\b\b\b\b\b\b\b\b\b\b\b\b\b\b\b\b\b\b\b\b\b\b\b\b\b\b\b\b\b\b\b\b\b\b\b\b\b\b\b\b\b\b\b\b\b\b\b\b\b\b\b\b\b\b\b\b\b\b\b\b\b\b\b\b\b\b\b\b\b\b\b\b\b\b\b\b\b\b\b\b\b\b\b\b\b\b\b\b\b\b\b\b\b\b\b\b\b\b\b\b\b\b\b\b\b\b\b\b\b\b\b\b\b\b\b\b\b\b\b\b\b\b\b\b\b\b\b\b\b\b\b\b\b\b\b\b\b\b\b\b\b\b\b\b\b\b\b\n",
      "\n",
      "Epoch 00004: val_loss did not improve from 0.59462\n",
      "Epoch 5/50\n",
      "10/10 [==============================] - 2s 194ms/step - loss: 0.5876 - accuracy: 0.6710 - val_loss: 0.5403 - val_accuracy: 0.7244\b\b\b\b\b\b\b\b\b\b\b\b\b\b\b\b\b\b\b\b\b\b\b\b\b\b\b\b\b\b\b\b\b\b\b\b\b\b\b\b\b\b\b\b\b\b\b\b\b\b\b\b\b\b\b\b\b\b\b\b\b\b\b\b\b\b\b\b\b\b\b\b\b\b\b\b\b\b\b\b\b\b\b\b\b\b\b\b\b\b\b\b\b\b\b\b\b\b\b\b\b\b\b\b\b\b\b\b\b\b\b\b\b\b\b\b\b\b\b\b\b\b\b\b\b\b\b\b\b\b\b\b\b\b\b\b\b\b\b\b\b\b\b\b\b\b\b\b\b\b\b\b\b\b\b\b\b\b\b\b\b\b\b\b\b\b\b\b\b\b\b\b\b\b\b\b\b\b\b\b\b\b\b\b\b\b\b\b\b\b\b\b\b\b\b\b\b\b\b\b\b\b\b\b\b\b\b\b\b\b\b\b\b\b\b\b\b\b\b\b\b\b\b\b\b\b\b\b\b\b\b\b\b\b\b\b\b\b\b\b\b\b\b\b\b\b\b\b\b\b\b\b\b\b\b\b\b\b\b\b\b\b\b\b\b\b\b\b\b\b\b\b\b\b\b\b\b\b\b\b\b\b\b\b\b\b\b\b\b\b\b\b\b\b\b\b\b\b\b\b\b\b\b\b\b\b\b\b\b\b\b\b\b\b\b\b\b\b\b\b\b\b\b\b\b\b\b\b\b\b\b\b\b\b\b\b\b\b\b\b\b\b\b\b\b\b\b\b\b\b\b\b\b\b\b\b\b\b\b\b\b\b\b\b\b\b\b\b\b\b\b\b\b\b\b\b\b\b\b\b\b\b\b\b\b\b\b\b\b\b\b\b\b\b\b\b\b\b\b\b\b\b\b\b\b\b\b\b\b\b\b\b\b\b\b\b\b\b\b\b\b\b\b\b\b\b\b\b\b\b\b\b\b\b\b\b\b\b\b\b\b\b\b\b\b\b\b\b\b\b\b\b\b\b\b\b\b\b\b\b\b\b\b\b\b\b\b\b\b\b\b\b\b\b\b\b\b\b\b\b\b\b\b\b\b\b\b\b\b\b\b\b\b\b\b\b\b\b\b\b\b\b\b\b\b\b\b\b\b\b\b\b\b\b\b\b\b\b\b\b\b\b\b\b\b\b\b\b\b\b\b\b\b\b\b\b\b\b\b\b\b\b\b\b\b\b\b\b\b\b\b\b\b\b\b\b\b\b\b\b\b\b\b\b\b\b\b\b\b\b\b\b\b\b\b\b\b\b\b\b\b\b\b\b\b\b\b\b\b\b\b\b\b\b\b\b\b\b\b\b\b\b\b\b\b\b\b\b\b\b\b\b\b\b\b\b\b\b\b\b\b\b\b\b\b\b\b\b\b\b\b\b\b\b\b\b\b\b\b\b\b\b\b\b\b\b\b\b\b\b\b\b\b\b\b\b\b\b\b\b\b\b\b\b\b\b\b\b\b\b\b\b\b\b\b\b\b\b\b\b\b\b\b\b\b\b\b\b\b\b\b\b\b\b\b\b\b\b\b\b\b\b\b\b\b\b\b\b\b\b\b\b\b\b\b\b\b\b\b\b\b\b\b\b\b\b\b\b\b\b\b\b\b\b\b\b\b\b\b\b\b\b\b\b\b\b\b\b\b\b\b\b\b\b\b\b\b\b\b\b\b\b\b\b\b\b\b\b\b\b\b\b\n",
      "\n",
      "Epoch 00005: val_loss improved from 0.59462 to 0.54026, saving model to models\\BURNS\\BURNS_0\\checkpoint.hdf5\n",
      "Epoch 6/50\n",
      "10/10 [==============================] - 2s 191ms/step - loss: 0.5566 - accuracy: 0.7338 - val_loss: 0.5633 - val_accuracy: 0.7323\b\b\b\b\b\b\b\b\b\b\b\b\b\b\b\b\b\b\b\b\b\b\b\b\b\b\b\b\b\b\b\b\b\b\b\b\b\b\b\b\b\b\b\b\b\b\b\b\b\b\b\b\b\b\b\b\b\b\b\b\b\b\b\b\b\b\b\b\b\b\b\b\b\b\b\b\b\b\b\b\b\b\b\b\b\b\b\b\b\b\b\b\b\b\b\b\b\b\b\b\b\b\b\b\b\b\b\b\b\b\b\b\b\b\b\b\b\b\b\b\b\b\b\b\b\b\b\b\b\b\b\b\b\b\b\b\b\b\b\b\b\b\b\b\b\b\b\b\b\b\b\b\b\b\b\b\b\b\b\b\b\b\b\b\b\b\b\b\b\b\b\b\b\b\b\b\b\b\b\b\b\b\b\b\b\b\b\b\b\b\b\b\b\b\b\b\b\b\b\b\b\b\b\b\b\b\b\b\b\b\b\b\b\b\b\b\b\b\b\b\b\b\b\b\b\b\b\b\b\b\b\b\b\b\b\b\b\b\b\b\b\b\b\b\b\b\b\b\b\b\b\b\b\b\b\b\b\b\b\b\b\b\b\b\b\b\b\b\b\b\b\b\b\b\b\b\b\b\b\b\b\b\b\b\b\b\b\b\b\b\b\b\b\b\b\b\b\b\b\b\b\b\b\b\b\b\b\b\b\b\b\b\b\b\b\b\b\b\b\b\b\b\b\b\b\b\b\b\b\b\b\b\b\b\b\b\b\b\b\b\b\b\b\b\b\b\b\b\b\b\b\b\b\b\b\b\b\b\b\b\b\b\b\b\b\b\b\b\b\b\b\b\b\b\b\b\b\b\b\b\b\b\b\b\b\b\b\b\b\b\b\b\b\b\b\b\b\b\b\b\b\b\b\b\b\b\b\b\b\b\b\b\b\b\b\b\b\b\b\b\b\b\b\b\b\b\b\b\b\b\b\b\b\b\b\b\b\b\b\b\b\b\b\b\b\b\b\b\b\b\b\b\b\b\b\b\b\b\b\b\b\b\b\b\b\b\b\b\b\b\b\b\b\b\b\b\b\b\b\b\b\b\b\b\b\b\b\b\b\b\b\b\b\b\b\b\b\b\b\b\b\b\b\b\b\b\b\b\b\b\b\b\b\b\b\b\b\b\b\b\b\b\b\b\b\b\b\b\b\b\b\b\b\b\b\b\b\b\b\b\b\b\b\b\b\b\b\b\b\b\b\b\b\b\b\b\b\b\b\b\b\b\b\b\b\b\b\b\b\b\b\b\b\b\b\b\b\b\b\b\b\b\b\b\b\b\b\b\b\b\b\b\b\b\b\b\b\b\b\b\b\b\b\b\b\b\b\b\b\b\b\b\b\b\b\b\b\b\b\b\b\b\b\b\b\b\b\b\b\b\b\b\b\b\b\b\b\b\b\b\b\b\b\b\b\b\b\b\b\b\b\b\b\b\b\b\b\b\b\b\b\b\b\b\b\b\b\b\b\b\b\b\b\b\b\b\b\b\b\b\b\b\b\b\b\b\b\b\b\b\b\b\b\b\b\b\b\b\b\b\b\b\b\b\b\b\b\b\b\b\b\b\b\b\b\b\b\b\b\b\b\b\b\b\b\b\b\b\b\b\b\b\b\b\b\b\b\b\b\b\b\b\b\b\b\b\b\b\b\b\b\b\b\b\b\b\b\b\b\b\b\b\b\b\b\b\b\b\b\b\b\b\n",
      "\n",
      "Epoch 00006: val_loss did not improve from 0.54026\n",
      "Epoch 7/50\n",
      "10/10 [==============================] - 2s 194ms/step - loss: 0.5304 - accuracy: 0.7111 - val_loss: 0.5693 - val_accuracy: 0.6378\b\b\b\b\b\b\b\b\b\b\b\b\b\b\b\b\b\b\b\b\b\b\b\b\b\b\b\b\b\b\b\b\b\b\b\b\b\b\b\b\b\b\b\b\b\b\b\b\b\b\b\b\b\b\b\b\b\b\b\b\b\b\b\b\b\b\b\b\b\b\b\b\b\b\b\b\b\b\b\b\b\b\b\b\b\b\b\b\b\b\b\b\b\b\b\b\b\b\b\b\b\b\b\b\b\b\b\b\b\b\b\b\b\b\b\b\b\b\b\b\b\b\b\b\b\b\b\b\b\b\b\b\b\b\b\b\b\b\b\b\b\b\b\b\b\b\b\b\b\b\b\b\b\b\b\b\b\b\b\b\b\b\b\b\b\b\b\b\b\b\b\b\b\b\b\b\b\b\b\b\b\b\b\b\b\b\b\b\b\b\b\b\b\b\b\b\b\b\b\b\b\b\b\b\b\b\b\b\b\b\b\b\b\b\b\b\b\b\b\b\b\b\b\b\b\b\b\b\b\b\b\b\b\b\b\b\b\b\b\b\b\b\b\b\b\b\b\b\b\b\b\b\b\b\b\b\b\b\b\b\b\b\b\b\b\b\b\b\b\b\b\b\b\b\b\b\b\b\b\b\b\b\b\b\b\b\b\b\b\b\b\b\b\b\b\b\b\b\b\b\b\b\b\b\b\b\b\b\b\b\b\b\b\b\b\b\b\b\b\b\b\b\b\b\b\b\b\b\b\b\b\b\b\b\b\b\b\b\b\b\b\b\b\b\b\b\b\b\b\b\b\b\b\b\b\b\b\b\b\b\b\b\b\b\b\b\b\b\b\b\b\b\b\b\b\b\b\b\b\b\b\b\b\b\b\b\b\b\b\b\b\b\b\b\b\b\b\b\b\b\b\b\b\b\b\b\b\b\b\b\b\b\b\b\b\b\b\b\b\b\b\b\b\b\b\b\b\b\b\b\b\b\b\b\b\b\b\b\b\b\b\b\b\b\b\b\b\b\b\b\b\b\b\b\b\b\b\b\b\b\b\b\b\b\b\b\b\b\b\b\b\b\b\b\b\b\b\b\b\b\b\b\b\b\b\b\b\b\b\b\b\b\b\b\b\b\b\b\b\b\b\b\b\b\b\b\b\b\b\b\b\b\b\b\b\b\b\b\b\b\b\b\b\b\b\b\b\b\b\b\b\b\b\b\b\b\b\b\b\b\b\b\b\b\b\b\b\b\b\b\b\b\b\b\b\b\b\b\b\b\b\b\b\b\b\b\b\b\b\b\b\b\b\b\b\b\b\b\b\b\b\b\b\b\b\b\b\b\b\b\b\b\b\b\b\b\b\b\b\b\b\b\b\b\b\b\b\b\b\b\b\b\b\b\b\b\b\b\b\b\b\b\b\b\b\b\b\b\b\b\b\b\b\b\b\b\b\b\b\b\b\b\b\b\b\b\b\b\b\b\b\b\b\b\b\b\b\b\b\b\b\b\b\b\b\b\b\b\b\b\b\b\b\b\b\b\b\b\b\b\b\b\b\b\b\b\b\b\b\b\b\b\b\b\b\b\b\b\b\b\b\b\b\b\b\b\b\b\b\b\b\b\b\b\b\b\b\b\b\b\b\b\b\b\b\b\b\b\b\b\b\b\b\b\b\b\b\b\b\b\b\b\b\b\b\b\b\b\b\b\b\b\b\b\b\b\b\b\b\b\b\b\b\b\b\b\b\b\b\b\b\b\n",
      "\n",
      "Epoch 00007: val_loss did not improve from 0.54026\n",
      "Epoch 8/50\n",
      "10/10 [==============================] - 2s 196ms/step - loss: 0.4354 - accuracy: 0.7922 - val_loss: 0.5628 - val_accuracy: 0.6457\b\b\b\b\b\b\b\b\b\b\b\b\b\b\b\b\b\b\b\b\b\b\b\b\b\b\b\b\b\b\b\b\b\b\b\b\b\b\b\b\b\b\b\b\b\b\b\b\b\b\b\b\b\b\b\b\b\b\b\b\b\b\b\b\b\b\b\b\b\b\b\b\b\b\b\b\b\b\b\b\b\b\b\b\b\b\b\b\b\b\b\b\b\b\b\b\b\b\b\b\b\b\b\b\b\b\b\b\b\b\b\b\b\b\b\b\b\b\b\b\b\b\b\b\b\b\b\b\b\b\b\b\b\b\b\b\b\b\b\b\b\b\b\b\b\b\b\b\b\b\b\b\b\b\b\b\b\b\b\b\b\b\b\b\b\b\b\b\b\b\b\b\b\b\b\b\b\b\b\b\b\b\b\b\b\b\b\b\b\b\b\b\b\b\b\b\b\b\b\b\b\b\b\b\b\b\b\b\b\b\b\b\b\b\b\b\b\b\b\b\b\b\b\b\b\b\b\b\b\b\b\b\b\b\b\b\b\b\b\b\b\b\b\b\b\b\b\b\b\b\b\b\b\b\b\b\b\b\b\b\b\b\b\b\b\b\b\b\b\b\b\b\b\b\b\b\b\b\b\b\b\b\b\b\b\b\b\b\b\b\b\b\b\b\b\b\b\b\b\b\b\b\b\b\b\b\b\b\b\b\b\b\b\b\b\b\b\b\b\b\b\b\b\b\b\b\b\b\b\b\b\b\b\b\b\b\b\b\b\b\b\b\b\b\b\b\b\b\b\b\b\b\b\b\b\b\b\b\b\b\b\b\b\b\b\b\b\b\b\b\b\b\b\b\b\b\b\b\b\b\b\b\b\b\b\b\b\b\b\b\b\b\b\b\b\b\b\b\b\b\b\b\b\b\b\b\b\b\b\b\b\b\b\b\b\b\b\b\b\b\b\b\b\b\b\b\b\b\b\b\b\b\b\b\b\b\b\b\b\b\b\b\b\b\b\b\b\b\b\b\b\b\b\b\b\b\b\b\b\b\b\b\b\b\b\b\b\b\b\b\b\b\b\b\b\b\b\b\b\b\b\b\b\b\b\b\b\b\b\b\b\b\b\b\b\b\b\b\b\b\b\b\b\b\b\b\b\b\b\b\b\b\b\b\b\b\b\b\b\b\b\b\b\b\b\b\b\b\b\b\b\b\b\b\b\b\b\b\b\b\b\b\b\b\b\b\b\b\b\b\b\b\b\b\b\b\b\b\b\b\b\b\b\b\b\b\b\b\b\b\b\b\b\b\b\b\b\b\b\b\b\b\b\b\b\b\b\b\b\b\b\b\b\b\b\b\b\b\b\b\b\b\b\b\b\b\b\b\b\b\b\b\b\b\b\b\b\b\b\b\b\b\b\b\b\b\b\b\b\b\b\b\b\b\b\b\b\b\b\b\b\b\b\b\b\b\b\b\b\b\b\b\b\b\b\b\b\b\b\b\b\b\b\b\b\b\b\b\b\b\b\b\b\b\b\b\b\b\b\b\b\b\b\b\b\b\b\b\b\b\b\b\b\b\b\b\b\b\b\b\b\b\b\b\b\b\b\b\b\b\b\b\b\b\b\b\b\b\b\b\b\b\b\b\b\b\b\b\b\b\b\b\b\b\b\b\b\b\b\b\b\b\b\b\b\b\b\b\b\b\b\b\b\b\b\b\b\b\b\b\b\b\b\b\b\b\b\b\b\b\b\b\n",
      "\n",
      "Epoch 00008: val_loss did not improve from 0.54026\n",
      "Epoch 9/50\n",
      "10/10 [==============================] - 2s 198ms/step - loss: 0.4167 - accuracy: 0.8163 - val_loss: 0.6512 - val_accuracy: 0.7165\b\b\b\b\b\b\b\b\b\b\b\b\b\b\b\b\b\b\b\b\b\b\b\b\b\b\b\b\b\b\b\b\b\b\b\b\b\b\b\b\b\b\b\b\b\b\b\b\b\b\b\b\b\b\b\b\b\b\b\b\b\b\b\b\b\b\b\b\b\b\b\b\b\b\b\b\b\b\b\b\b\b\b\b\b\b\b\b\b\b\b\b\b\b\b\b\b\b\b\b\b\b\b\b\b\b\b\b\b\b\b\b\b\b\b\b\b\b\b\b\b\b\b\b\b\b\b\b\b\b\b\b\b\b\b\b\b\b\b\b\b\b\b\b\b\b\b\b\b\b\b\b\b\b\b\b\b\b\b\b\b\b\b\b\b\b\b\b\b\b\b\b\b\b\b\b\b\b\b\b\b\b\b\b\b\b\b\b\b\b\b\b\b\b\b\b\b\b\b\b\b\b\b\b\b\b\b\b\b\b\b\b\b\b\b\b\b\b\b\b\b\b\b\b\b\b\b\b\b\b\b\b\b\b\b\b\b\b\b\b\b\b\b\b\b\b\b\b\b\b\b\b\b\b\b\b\b\b\b\b\b\b\b\b\b\b\b\b\b\b\b\b\b\b\b\b\b\b\b\b\b\b\b\b\b\b\b\b\b\b\b\b\b\b\b\b\b\b\b\b\b\b\b\b\b\b\b\b\b\b\b\b\b\b\b\b\b\b\b\b\b\b\b\b\b\b\b\b\b\b\b\b\b\b\b\b\b\b\b\b\b\b\b\b\b\b\b\b\b\b\b\b\b\b\b\b\b\b\b\b\b\b\b\b\b\b\b\b\b\b\b\b\b\b\b\b\b\b\b\b\b\b\b\b\b\b\b\b\b\b\b\b\b\b\b\b\b\b\b\b\b\b\b\b\b\b\b\b\b\b\b\b\b\b\b\b\b\b\b\b\b\b\b\b\b\b\b\b\b\b\b\b\b\b\b\b\b\b\b\b\b\b\b\b\b\b\b\b\b\b\b\b\b\b\b\b\b\b\b\b\b\b\b\b\b\b\b\b\b\b\b\b\b\b\b\b\b\b\b\b\b\b\b\b\b\b\b\b\b\b\b\b\b\b\b\b\b\b\b\b\b\b\b\b\b\b\b\b\b\b\b\b\b\b\b\b\b\b\b\b\b\b\b\b\b\b\b\b\b\b\b\b\b\b\b\b\b\b\b\b\b\b\b\b\b\b\b\b\b\b\b\b\b\b\b\b\b\b\b\b\b\b\b\b\b\b\b\b\b\b\b\b\b\b\b\b\b\b\b\b\b\b\b\b\b\b\b\b\b\b\b\b\b\b\b\b\b\b\b\b\b\b\b\b\b\b\b\b\b\b\b\b\b\b\b\b\b\b\b\b\b\b\b\b\b\b\b\b\b\b\b\b\b\b\b\b\b\b\b\b\b\b\b\b\b\b\b\b\b\b\b\b\b\b\b\b\b\b\b\b\b\b\b\b\b\b\b\b\b\b\b\b\b\b\b\b\b\b\b\b\b\b\b\b\b\b\b\b\b\b\b\b\b\b\b\b\b\b\b\b\b\b\b\b\b\b\b\b\b\b\b\b\b\b\b\b\b\b\b\b\b\b\b\b\b\b\b\b\b\b\b\b\b\b\b\b\b\b\b\b\b\b\b\b\b\b\b\b\b\b\b\b\b\b\b\b\b\b\b\b\b\b\b\b\b\b\b\b\b\b\b\b\n",
      "\n",
      "Epoch 00009: val_loss did not improve from 0.54026\n",
      "Epoch 10/50\n",
      "10/10 [==============================] - 2s 195ms/step - loss: 0.4372 - accuracy: 0.8173 - val_loss: 0.6400 - val_accuracy: 0.6063\b\b\b\b\b\b\b\b\b\b\b\b\b\b\b\b\b\b\b\b\b\b\b\b\b\b\b\b\b\b\b\b\b\b\b\b\b\b\b\b\b\b\b\b\b\b\b\b\b\b\b\b\b\b\b\b\b\b\b\b\b\b\b\b\b\b\b\b\b\b\b\b\b\b\b\b\b\b\b\b\b\b\b\b\b\b\b\b\b\b\b\b\b\b\b\b\b\b\b\b\b\b\b\b\b\b\b\b\b\b\b\b\b\b\b\b\b\b\b\b\b\b\b\b\b\b\b\b\b\b\b\b\b\b\b\b\b\b\b\b\b\b\b\b\b\b\b\b\b\b\b\b\b\b\b\b\b\b\b\b\b\b\b\b\b\b\b\b\b\b\b\b\b\b\b\b\b\b\b\b\b\b\b\b\b\b\b\b\b\b\b\b\b\b\b\b\b\b\b\b\b\b\b\b\b\b\b\b\b\b\b\b\b\b\b\b\b\b\b\b\b\b\b\b\b\b\b\b\b\b\b\b\b\b\b\b\b\b\b\b\b\b\b\b\b\b\b\b\b\b\b\b\b\b\b\b\b\b\b\b\b\b\b\b\b\b\b\b\b\b\b\b\b\b\b\b\b\b\b\b\b\b\b\b\b\b\b\b\b\b\b\b\b\b\b\b\b\b\b\b\b\b\b\b\b\b\b\b\b\b\b\b\b\b\b\b\b\b\b\b\b\b\b\b\b\b\b\b\b\b\b\b\b\b\b\b\b\b\b\b\b\b\b\b\b\b\b\b\b\b\b\b\b\b\b\b\b\b\b\b\b\b\b\b\b\b\b\b\b\b\b\b\b\b\b\b\b\b\b\b\b\b\b\b\b\b\b\b\b\b\b\b\b\b\b\b\b\b\b\b\b\b\b\b\b\b\b\b\b\b\b\b\b\b\b\b\b\b\b\b\b\b\b\b\b\b\b\b\b\b\b\b\b\b\b\b\b\b\b\b\b\b\b\b\b\b\b\b\b\b\b\b\b\b\b\b\b\b\b\b\b\b\b\b\b\b\b\b\b\b\b\b\b\b\b\b\b\b\b\b\b\b\b\b\b\b\b\b\b\b\b\b\b\b\b\b\b\b\b\b\b\b\b\b\b\b\b\b\b\b\b\b\b\b\b\b\b\b\b\b\b\b\b\b\b\b\b\b\b\b\b\b\b\b\b\b\b\b\b\b\b\b\b\b\b\b\b\b\b\b\b\b\b\b\b\b\b\b\b\b\b\b\b\b\b\b\b\b\b\b\b\b\b\b\b\b\b\b\b\b\b\b\b\b\b\b\b\b\b\b\b\b\b\b\b\b\b\b\b\b\b\b\b\b\b\b\b\b\b\b\b\b\b\b\b\b\b\b\b\b\b\b\b\b\b\b\b\b\b\b\b\b\b\b\b\b\b\b\b\b\b\b\b\b\b\b\b\b\b\b\b\b\b\b\b\b\b\b\b\b\b\b\b\b\b\b\b\b\b\b\b\b\b\b\b\b\b\b\b\b\b\b\b\b\b\b\b\b\b\b\b\b\b\b\b\b\b\b\b\b\b\b\b\b\b\b\b\b\b\b\b\b\b\b\b\b\b\b\b\b\b\b\b\b\b\b\b\b\b\b\b\b\b\b\b\b\b\b\b\b\b\b\b\b\b\b\b\b\b\b\b\b\b\b\b\b\b\b\b\b\b\b\b\b\b\b\b\b\b\b\b\b\n",
      "\n",
      "Epoch 00010: val_loss did not improve from 0.54026\n",
      "Epoch 00010: early stopping\n",
      "Training Loss: 0.511\n",
      "Training Accuracy: 0.717\n"
     ]
    },
    {
     "data": {
      "text/plain": "<Figure size 936x360 with 2 Axes>",
      "image/png": "[encoded data removed]"
     },
     "metadata": {
      "needs_background": "light"
     },
     "output_type": "display_data"
    }
   ],
   "source": [
    "if multiple_gpus:\n",
    "    with strategy.scope():\n",
    "        model = Burns_CNNBiLSTM(dl_config.embedding_matrix, dl_config, learning_rate=dl_config.learning_rate,\n",
    "                                               seed_value=dl_config.seed_value)\n",
    "else:\n",
    "    model = Burns_CNNBiLSTM(dl_config.embedding_matrix, dl_config, learning_rate=dl_config.learning_rate,\n",
    "                                                seed_value=dl_config.seed_value)\n",
    "\n",
    "\n",
    "history = model.fit(X_train, y_train,\n",
    "                    epochs=dl_config.epochs,\n",
    "                    batch_size=dl_config.batch_size,\n",
    "                    validation_data=(x_val,y_val),\n",
    "                    callbacks=keras_callbacks)\n",
    "\n",
    "if dl_config.keras_callbacks:\n",
    "    model.load_weights(checkpoint_path)\n",
    "\n",
    "train_loss, dl_config.train_acc = model.evaluate(X_train, y_train, verbose=0)\n",
    "\n",
    "print('Training Loss: %.3f' % (train_loss))\n",
    "print('Training Accuracy: %.3f' % (dl_config.train_acc))\n",
    "\n",
    "plot_training_history(history_dict = history, dl_config=dl_config)\n",
    "\n",
    "x_test, y_test = DL_preprocessing(X_test_df, y_test_df, dl_config, dataset='test')\n",
    "\n",
    "yhat_probs = model.predict(x_test, verbose=0)\n",
    "yhat_probs = yhat_probs[:, 0]\n",
    "\n",
    "yhat_classes = np.where(yhat_probs > 0.5, 1, yhat_probs)\n",
    "yhat_classes = np.where(yhat_classes < 0.5, 0, yhat_classes).astype(np.int64)"
   ],
   "metadata": {
    "collapsed": false,
    "pycharm": {
     "name": "#%%\n"
    }
   }
  },
  {
   "cell_type": "code",
   "execution_count": 41,
   "outputs": [
    {
     "name": "stdout",
     "output_type": "stream",
     "text": [
      "ROC AUC: 0.853521\n",
      "Average Precision: 0.696908\n",
      "Accuracy: 0.725275\n",
      "Precision: 0.736842\n",
      "Recall: 0.237288\n",
      "F1 score: 0.358974\n",
      "Confusion Matrix:\n",
      " [[118   5]\n",
      " [ 45  14]] \n",
      "\n"
     ]
    },
    {
     "data": {
      "text/plain": "<Figure size 936x360 with 2 Axes>",
      "image/png": "[encoded data removed]"
     },
     "metadata": {
      "needs_background": "light"
     },
     "output_type": "display_data"
    }
   ],
   "source": [
    "dl_config.test_roc_auc, dl_config.test_pr_auc = plot_roc_n_pr_curves(y_test, yhat_probs, dl_config=dl_config)\n",
    "\n",
    "# ROC AUC\n",
    "print('ROC AUC: %f' % dl_config.test_roc_auc)\n",
    "\n",
    "# avg precision\n",
    "dl_config.test_avg_prec = average_precision(y_test_df, yhat_probs)\n",
    "print('Average Precision: %f' % dl_config.test_avg_prec)\n",
    "\n",
    "# accuracy\n",
    "dl_config.test_acc = accuracy_score(y_test, yhat_classes)\n",
    "print('Accuracy: %f' % dl_config.test_acc)\n",
    "\n",
    "# precision tp / (tp + fp)\n",
    "dl_config.test_prec = precision_score(y_test, yhat_classes)\n",
    "print('Precision: %f' % dl_config.test_prec)\n",
    "\n",
    "# recall: tp / (tp + fn)\n",
    "dl_config.test_recall = recall_score(y_test, yhat_classes)\n",
    "print('Recall: %f' % dl_config.test_recall)\n",
    "\n",
    "# f1: 2 tp / (2 tp + fp + fn)\n",
    "dl_config.test_f1_score = f1_score(y_test, yhat_classes)\n",
    "print('F1 score: %f' % dl_config.test_f1_score)\n",
    "\n",
    "# confusion matrix\n",
    "matrix = confusion_matrix(y_test, yhat_classes)\n",
    "matrix = np.flip(matrix)\n",
    "print('Confusion Matrix:\\n %s \\n' % matrix)\n"
   ],
   "metadata": {
    "collapsed": false,
    "pycharm": {
     "name": "#%%\n"
    }
   }
  },
  {
   "cell_type": "markdown",
   "source": [
    "<h3>\n",
    "BioBert_LSTM\n",
    "</h3>"
   ],
   "metadata": {
    "collapsed": false,
    "pycharm": {
     "name": "#%% md\n"
    }
   }
  },
  {
   "cell_type": "code",
   "execution_count": 13,
   "outputs": [
    {
     "name": "stdout",
     "output_type": "stream",
     "text": [
      "C:\\ProgramData\\Anaconda3\\python.exe\n",
      "WARNING:tensorflow:Some requested devices in `tf.distribute.Strategy` are not visible to TensorFlow: /job:localhost/replica:0/task:0/device:GPU:0\n",
      "INFO:tensorflow:Using MirroredStrategy with devices ('/job:localhost/replica:0/task:0/device:GPU:0',)\n"
     ]
    }
   ],
   "source": [
    "seed_value = 42\n",
    "model_name = \"Bert_LSTM\"\n",
    "np.random.seed(seed_value)\n",
    "random.seed(seed_value)\n",
    "tensorflow.random.set_seed(seed_value)\n",
    "print(sys.executable)\n",
    "\n",
    "import torch\n",
    "if seed_value:\n",
    "    torch.manual_seed(seed_value)\n",
    "    torch.cuda.manual_seed_all(seed_value)\n",
    "    torch.backends.cudnn.deterministic = True\n",
    "    torch.backends.cudnn.benchmark = False\n",
    "os.environ['PYTHONHASHSEED'] = str(seed_value)\n",
    "os.environ['TF_DETERMINISTIC_OPS'] = '1'\n",
    "\n",
    "if multiple_gpus:\n",
    "    devices = []\n",
    "    for gpu in multiple_gpus:\n",
    "        devices.append('/gpu:' + str(gpu))\n",
    "    strategy = tensorflow.distribute.MirroredStrategy(devices=devices)\n",
    "    os.environ[\"CUDA_VISIBLE_DEVICES\"] = ''\n",
    "\n",
    "else:\n",
    "    # Get the GPU device name.\n",
    "    device_name = tensorflow.test.gpu_device_name()\n",
    "    # The device name should look like the following:\n",
    "    if device_name == '/device:GPU:0':\n",
    "        print('Using GPU: {}'.format(device_name))\n",
    "    else:\n",
    "        raise SystemError('GPU device not found')\n",
    "\n",
    "    os.environ[\"CUDA_VISIBLE_DEVICES\"] = device_name\n",
    "    os.environ[\"CUDA_DEVICE_ORDER\"] = \"PCI_BUS_ID\"\n"
   ],
   "metadata": {
    "collapsed": false,
    "pycharm": {
     "name": "#%%\n"
    }
   }
  },
  {
   "cell_type": "code",
   "execution_count": 14,
   "outputs": [
    {
     "name": "stdout",
     "output_type": "stream",
     "text": [
      "Building PyTorch model from configuration: BertConfig {\n",
      "  \"attention_probs_dropout_prob\": 0.1,\n",
      "  \"gradient_checkpointing\": false,\n",
      "  \"hidden_act\": \"gelu\",\n",
      "  \"hidden_dropout_prob\": 0.1,\n",
      "  \"hidden_size\": 768,\n",
      "  \"initializer_range\": 0.02,\n",
      "  \"intermediate_size\": 3072,\n",
      "  \"layer_norm_eps\": 1e-12,\n",
      "  \"max_position_embeddings\": 512,\n",
      "  \"model_type\": \"bert\",\n",
      "  \"num_attention_heads\": 12,\n",
      "  \"num_hidden_layers\": 12,\n",
      "  \"pad_token_id\": 0,\n",
      "  \"position_embedding_type\": \"absolute\",\n",
      "  \"transformers_version\": \"4.6.1\",\n",
      "  \"type_vocab_size\": 2,\n",
      "  \"use_cache\": true,\n",
      "  \"vocab_size\": 28996\n",
      "}\n",
      "\n",
      "Save PyTorch model to C:/Users/Zé Freitas/Desktop/Mestrado/2ºSemestre/Projeto/code/biobert_v1.1_pubmed/pytorch_model.bin\n"
     ]
    },
    {
     "name": "stderr",
     "output_type": "stream",
     "text": [
      "2021-06-22 19:00:48.749461: W tensorflow/stream_executor/platform/default/dso_loader.cc:60] Could not load dynamic library 'cudart64_110.dll'; dlerror: cudart64_110.dll not found\n",
      "2021-06-22 19:00:48.749592: I tensorflow/stream_executor/cuda/cudart_stub.cc:29] Ignore above cudart dlerror if you do not have a GPU set up on your machine.\n",
      "Converting TensorFlow checkpoint from C:\\Users\\Zé Freitas\\Desktop\\Mestrado\\2ºSemestre\\Projeto\\code\\biobert_v1.1_pubmed\\model.ckpt-1000000\n",
      "Loading TF weight bert/embeddings/LayerNorm/beta with shape [768]\n",
      "Loading TF weight bert/embeddings/LayerNorm/gamma with shape [768]\n",
      "Loading TF weight bert/embeddings/position_embeddings with shape [512, 768]\n",
      "Loading TF weight bert/embeddings/token_type_embeddings with shape [2, 768]\n",
      "Loading TF weight bert/embeddings/word_embeddings with shape [28996, 768]\n",
      "Loading TF weight bert/encoder/layer_0/attention/output/LayerNorm/beta with shape [768]\n",
      "Loading TF weight bert/encoder/layer_0/attention/output/LayerNorm/gamma with shape [768]\n",
      "Loading TF weight bert/encoder/layer_0/attention/output/dense/bias with shape [768]\n",
      "Loading TF weight bert/encoder/layer_0/attention/output/dense/kernel with shape [768, 768]\n",
      "Loading TF weight bert/encoder/layer_0/attention/self/key/bias with shape [768]\n",
      "Loading TF weight bert/encoder/layer_0/attention/self/key/kernel with shape [768, 768]\n",
      "Loading TF weight bert/encoder/layer_0/attention/self/query/bias with shape [768]\n",
      "Loading TF weight bert/encoder/layer_0/attention/self/query/kernel with shape [768, 768]\n",
      "Loading TF weight bert/encoder/layer_0/attention/self/value/bias with shape [768]\n",
      "Loading TF weight bert/encoder/layer_0/attention/self/value/kernel with shape [768, 768]\n",
      "Loading TF weight bert/encoder/layer_0/intermediate/dense/bias with shape [3072]\n",
      "Loading TF weight bert/encoder/layer_0/intermediate/dense/kernel with shape [768, 3072]\n",
      "Loading TF weight bert/encoder/layer_0/output/LayerNorm/beta with shape [768]\n",
      "Loading TF weight bert/encoder/layer_0/output/LayerNorm/gamma with shape [768]\n",
      "Loading TF weight bert/encoder/layer_0/output/dense/bias with shape [768]\n",
      "Loading TF weight bert/encoder/layer_0/output/dense/kernel with shape [3072, 768]\n",
      "Loading TF weight bert/encoder/layer_1/attention/output/LayerNorm/beta with shape [768]\n",
      "Loading TF weight bert/encoder/layer_1/attention/output/LayerNorm/gamma with shape [768]\n",
      "Loading TF weight bert/encoder/layer_1/attention/output/dense/bias with shape [768]\n",
      "Loading TF weight bert/encoder/layer_1/attention/output/dense/kernel with shape [768, 768]\n",
      "Loading TF weight bert/encoder/layer_1/attention/self/key/bias with shape [768]\n",
      "Loading TF weight bert/encoder/layer_1/attention/self/key/kernel with shape [768, 768]\n",
      "Loading TF weight bert/encoder/layer_1/attention/self/query/bias with shape [768]\n",
      "Loading TF weight bert/encoder/layer_1/attention/self/query/kernel with shape [768, 768]\n",
      "Loading TF weight bert/encoder/layer_1/attention/self/value/bias with shape [768]\n",
      "Loading TF weight bert/encoder/layer_1/attention/self/value/kernel with shape [768, 768]\n",
      "Loading TF weight bert/encoder/layer_1/intermediate/dense/bias with shape [3072]\n",
      "Loading TF weight bert/encoder/layer_1/intermediate/dense/kernel with shape [768, 3072]\n",
      "Loading TF weight bert/encoder/layer_1/output/LayerNorm/beta with shape [768]\n",
      "Loading TF weight bert/encoder/layer_1/output/LayerNorm/gamma with shape [768]\n",
      "Loading TF weight bert/encoder/layer_1/output/dense/bias with shape [768]\n",
      "Loading TF weight bert/encoder/layer_1/output/dense/kernel with shape [3072, 768]\n",
      "Loading TF weight bert/encoder/layer_10/attention/output/LayerNorm/beta with shape [768]\n",
      "Loading TF weight bert/encoder/layer_10/attention/output/LayerNorm/gamma with shape [768]\n",
      "Loading TF weight bert/encoder/layer_10/attention/output/dense/bias with shape [768]\n",
      "Loading TF weight bert/encoder/layer_10/attention/output/dense/kernel with shape [768, 768]\n",
      "Loading TF weight bert/encoder/layer_10/attention/self/key/bias with shape [768]\n",
      "Loading TF weight bert/encoder/layer_10/attention/self/key/kernel with shape [768, 768]\n",
      "Loading TF weight bert/encoder/layer_10/attention/self/query/bias with shape [768]\n",
      "Loading TF weight bert/encoder/layer_10/attention/self/query/kernel with shape [768, 768]\n",
      "Loading TF weight bert/encoder/layer_10/attention/self/value/bias with shape [768]\n",
      "Loading TF weight bert/encoder/layer_10/attention/self/value/kernel with shape [768, 768]\n",
      "Loading TF weight bert/encoder/layer_10/intermediate/dense/bias with shape [3072]\n",
      "Loading TF weight bert/encoder/layer_10/intermediate/dense/kernel with shape [768, 3072]\n",
      "Loading TF weight bert/encoder/layer_10/output/LayerNorm/beta with shape [768]\n",
      "Loading TF weight bert/encoder/layer_10/output/LayerNorm/gamma with shape [768]\n",
      "Loading TF weight bert/encoder/layer_10/output/dense/bias with shape [768]\n",
      "Loading TF weight bert/encoder/layer_10/output/dense/kernel with shape [3072, 768]\n",
      "Loading TF weight bert/encoder/layer_11/attention/output/LayerNorm/beta with shape [768]\n",
      "Loading TF weight bert/encoder/layer_11/attention/output/LayerNorm/gamma with shape [768]\n",
      "Loading TF weight bert/encoder/layer_11/attention/output/dense/bias with shape [768]\n",
      "Loading TF weight bert/encoder/layer_11/attention/output/dense/kernel with shape [768, 768]\n",
      "Loading TF weight bert/encoder/layer_11/attention/self/key/bias with shape [768]\n",
      "Loading TF weight bert/encoder/layer_11/attention/self/key/kernel with shape [768, 768]\n",
      "Loading TF weight bert/encoder/layer_11/attention/self/query/bias with shape [768]\n",
      "Loading TF weight bert/encoder/layer_11/attention/self/query/kernel with shape [768, 768]\n",
      "Loading TF weight bert/encoder/layer_11/attention/self/value/bias with shape [768]\n",
      "Loading TF weight bert/encoder/layer_11/attention/self/value/kernel with shape [768, 768]\n",
      "Loading TF weight bert/encoder/layer_11/intermediate/dense/bias with shape [3072]\n",
      "Loading TF weight bert/encoder/layer_11/intermediate/dense/kernel with shape [768, 3072]\n",
      "Loading TF weight bert/encoder/layer_11/output/LayerNorm/beta with shape [768]\n",
      "Loading TF weight bert/encoder/layer_11/output/LayerNorm/gamma with shape [768]\n",
      "Loading TF weight bert/encoder/layer_11/output/dense/bias with shape [768]\n",
      "Loading TF weight bert/encoder/layer_11/output/dense/kernel with shape [3072, 768]\n",
      "Loading TF weight bert/encoder/layer_2/attention/output/LayerNorm/beta with shape [768]\n",
      "Loading TF weight bert/encoder/layer_2/attention/output/LayerNorm/gamma with shape [768]\n",
      "Loading TF weight bert/encoder/layer_2/attention/output/dense/bias with shape [768]\n",
      "Loading TF weight bert/encoder/layer_2/attention/output/dense/kernel with shape [768, 768]\n",
      "Loading TF weight bert/encoder/layer_2/attention/self/key/bias with shape [768]\n",
      "Loading TF weight bert/encoder/layer_2/attention/self/key/kernel with shape [768, 768]\n",
      "Loading TF weight bert/encoder/layer_2/attention/self/query/bias with shape [768]\n",
      "Loading TF weight bert/encoder/layer_2/attention/self/query/kernel with shape [768, 768]\n",
      "Loading TF weight bert/encoder/layer_2/attention/self/value/bias with shape [768]\n",
      "Loading TF weight bert/encoder/layer_2/attention/self/value/kernel with shape [768, 768]\n",
      "Loading TF weight bert/encoder/layer_2/intermediate/dense/bias with shape [3072]\n",
      "Loading TF weight bert/encoder/layer_2/intermediate/dense/kernel with shape [768, 3072]\n",
      "Loading TF weight bert/encoder/layer_2/output/LayerNorm/beta with shape [768]\n",
      "Loading TF weight bert/encoder/layer_2/output/LayerNorm/gamma with shape [768]\n",
      "Loading TF weight bert/encoder/layer_2/output/dense/bias with shape [768]\n",
      "Loading TF weight bert/encoder/layer_2/output/dense/kernel with shape [3072, 768]\n",
      "Loading TF weight bert/encoder/layer_3/attention/output/LayerNorm/beta with shape [768]\n",
      "Loading TF weight bert/encoder/layer_3/attention/output/LayerNorm/gamma with shape [768]\n",
      "Loading TF weight bert/encoder/layer_3/attention/output/dense/bias with shape [768]\n",
      "Loading TF weight bert/encoder/layer_3/attention/output/dense/kernel with shape [768, 768]\n",
      "Loading TF weight bert/encoder/layer_3/attention/self/key/bias with shape [768]\n",
      "Loading TF weight bert/encoder/layer_3/attention/self/key/kernel with shape [768, 768]\n",
      "Loading TF weight bert/encoder/layer_3/attention/self/query/bias with shape [768]\n",
      "Loading TF weight bert/encoder/layer_3/attention/self/query/kernel with shape [768, 768]\n",
      "Loading TF weight bert/encoder/layer_3/attention/self/value/bias with shape [768]\n",
      "Loading TF weight bert/encoder/layer_3/attention/self/value/kernel with shape [768, 768]\n",
      "Loading TF weight bert/encoder/layer_3/intermediate/dense/bias with shape [3072]\n",
      "Loading TF weight bert/encoder/layer_3/intermediate/dense/kernel with shape [768, 3072]\n",
      "Loading TF weight bert/encoder/layer_3/output/LayerNorm/beta with shape [768]\n",
      "Loading TF weight bert/encoder/layer_3/output/LayerNorm/gamma with shape [768]\n",
      "Loading TF weight bert/encoder/layer_3/output/dense/bias with shape [768]\n",
      "Loading TF weight bert/encoder/layer_3/output/dense/kernel with shape [3072, 768]\n",
      "Loading TF weight bert/encoder/layer_4/attention/output/LayerNorm/beta with shape [768]\n",
      "Loading TF weight bert/encoder/layer_4/attention/output/LayerNorm/gamma with shape [768]\n",
      "Loading TF weight bert/encoder/layer_4/attention/output/dense/bias with shape [768]\n",
      "Loading TF weight bert/encoder/layer_4/attention/output/dense/kernel with shape [768, 768]\n",
      "Loading TF weight bert/encoder/layer_4/attention/self/key/bias with shape [768]\n",
      "Loading TF weight bert/encoder/layer_4/attention/self/key/kernel with shape [768, 768]\n",
      "Loading TF weight bert/encoder/layer_4/attention/self/query/bias with shape [768]\n",
      "Loading TF weight bert/encoder/layer_4/attention/self/query/kernel with shape [768, 768]\n",
      "Loading TF weight bert/encoder/layer_4/attention/self/value/bias with shape [768]\n",
      "Loading TF weight bert/encoder/layer_4/attention/self/value/kernel with shape [768, 768]\n",
      "Loading TF weight bert/encoder/layer_4/intermediate/dense/bias with shape [3072]\n",
      "Loading TF weight bert/encoder/layer_4/intermediate/dense/kernel with shape [768, 3072]\n",
      "Loading TF weight bert/encoder/layer_4/output/LayerNorm/beta with shape [768]\n",
      "Loading TF weight bert/encoder/layer_4/output/LayerNorm/gamma with shape [768]\n",
      "Loading TF weight bert/encoder/layer_4/output/dense/bias with shape [768]\n",
      "Loading TF weight bert/encoder/layer_4/output/dense/kernel with shape [3072, 768]\n",
      "Loading TF weight bert/encoder/layer_5/attention/output/LayerNorm/beta with shape [768]\n",
      "Loading TF weight bert/encoder/layer_5/attention/output/LayerNorm/gamma with shape [768]\n",
      "Loading TF weight bert/encoder/layer_5/attention/output/dense/bias with shape [768]\n",
      "Loading TF weight bert/encoder/layer_5/attention/output/dense/kernel with shape [768, 768]\n",
      "Loading TF weight bert/encoder/layer_5/attention/self/key/bias with shape [768]\n",
      "Loading TF weight bert/encoder/layer_5/attention/self/key/kernel with shape [768, 768]\n",
      "Loading TF weight bert/encoder/layer_5/attention/self/query/bias with shape [768]\n",
      "Loading TF weight bert/encoder/layer_5/attention/self/query/kernel with shape [768, 768]\n",
      "Loading TF weight bert/encoder/layer_5/attention/self/value/bias with shape [768]\n",
      "Loading TF weight bert/encoder/layer_5/attention/self/value/kernel with shape [768, 768]\n",
      "Loading TF weight bert/encoder/layer_5/intermediate/dense/bias with shape [3072]\n",
      "Loading TF weight bert/encoder/layer_5/intermediate/dense/kernel with shape [768, 3072]\n",
      "Loading TF weight bert/encoder/layer_5/output/LayerNorm/beta with shape [768]\n",
      "Loading TF weight bert/encoder/layer_5/output/LayerNorm/gamma with shape [768]\n",
      "Loading TF weight bert/encoder/layer_5/output/dense/bias with shape [768]\n",
      "Loading TF weight bert/encoder/layer_5/output/dense/kernel with shape [3072, 768]\n",
      "Loading TF weight bert/encoder/layer_6/attention/output/LayerNorm/beta with shape [768]\n",
      "Loading TF weight bert/encoder/layer_6/attention/output/LayerNorm/gamma with shape [768]\n",
      "Loading TF weight bert/encoder/layer_6/attention/output/dense/bias with shape [768]\n",
      "Loading TF weight bert/encoder/layer_6/attention/output/dense/kernel with shape [768, 768]\n",
      "Loading TF weight bert/encoder/layer_6/attention/self/key/bias with shape [768]\n",
      "Loading TF weight bert/encoder/layer_6/attention/self/key/kernel with shape [768, 768]\n",
      "Loading TF weight bert/encoder/layer_6/attention/self/query/bias with shape [768]\n",
      "Loading TF weight bert/encoder/layer_6/attention/self/query/kernel with shape [768, 768]\n",
      "Loading TF weight bert/encoder/layer_6/attention/self/value/bias with shape [768]\n",
      "Loading TF weight bert/encoder/layer_6/attention/self/value/kernel with shape [768, 768]\n",
      "Loading TF weight bert/encoder/layer_6/intermediate/dense/bias with shape [3072]\n",
      "Loading TF weight bert/encoder/layer_6/intermediate/dense/kernel with shape [768, 3072]\n",
      "Loading TF weight bert/encoder/layer_6/output/LayerNorm/beta with shape [768]\n",
      "Loading TF weight bert/encoder/layer_6/output/LayerNorm/gamma with shape [768]\n",
      "Loading TF weight bert/encoder/layer_6/output/dense/bias with shape [768]\n",
      "Loading TF weight bert/encoder/layer_6/output/dense/kernel with shape [3072, 768]\n",
      "Loading TF weight bert/encoder/layer_7/attention/output/LayerNorm/beta with shape [768]\n",
      "Loading TF weight bert/encoder/layer_7/attention/output/LayerNorm/gamma with shape [768]\n",
      "Loading TF weight bert/encoder/layer_7/attention/output/dense/bias with shape [768]\n",
      "Loading TF weight bert/encoder/layer_7/attention/output/dense/kernel with shape [768, 768]\n",
      "Loading TF weight bert/encoder/layer_7/attention/self/key/bias with shape [768]\n",
      "Loading TF weight bert/encoder/layer_7/attention/self/key/kernel with shape [768, 768]\n",
      "Loading TF weight bert/encoder/layer_7/attention/self/query/bias with shape [768]\n",
      "Loading TF weight bert/encoder/layer_7/attention/self/query/kernel with shape [768, 768]\n",
      "Loading TF weight bert/encoder/layer_7/attention/self/value/bias with shape [768]\n",
      "Loading TF weight bert/encoder/layer_7/attention/self/value/kernel with shape [768, 768]\n",
      "Loading TF weight bert/encoder/layer_7/intermediate/dense/bias with shape [3072]\n",
      "Loading TF weight bert/encoder/layer_7/intermediate/dense/kernel with shape [768, 3072]\n",
      "Loading TF weight bert/encoder/layer_7/output/LayerNorm/beta with shape [768]\n",
      "Loading TF weight bert/encoder/layer_7/output/LayerNorm/gamma with shape [768]\n",
      "Loading TF weight bert/encoder/layer_7/output/dense/bias with shape [768]\n",
      "Loading TF weight bert/encoder/layer_7/output/dense/kernel with shape [3072, 768]\n",
      "Loading TF weight bert/encoder/layer_8/attention/output/LayerNorm/beta with shape [768]\n",
      "Loading TF weight bert/encoder/layer_8/attention/output/LayerNorm/gamma with shape [768]\n",
      "Loading TF weight bert/encoder/layer_8/attention/output/dense/bias with shape [768]\n",
      "Loading TF weight bert/encoder/layer_8/attention/output/dense/kernel with shape [768, 768]\n",
      "Loading TF weight bert/encoder/layer_8/attention/self/key/bias with shape [768]\n",
      "Loading TF weight bert/encoder/layer_8/attention/self/key/kernel with shape [768, 768]\n",
      "Loading TF weight bert/encoder/layer_8/attention/self/query/bias with shape [768]\n",
      "Loading TF weight bert/encoder/layer_8/attention/self/query/kernel with shape [768, 768]\n",
      "Loading TF weight bert/encoder/layer_8/attention/self/value/bias with shape [768]\n",
      "Loading TF weight bert/encoder/layer_8/attention/self/value/kernel with shape [768, 768]\n",
      "Loading TF weight bert/encoder/layer_8/intermediate/dense/bias with shape [3072]\n",
      "Loading TF weight bert/encoder/layer_8/intermediate/dense/kernel with shape [768, 3072]\n",
      "Loading TF weight bert/encoder/layer_8/output/LayerNorm/beta with shape [768]\n",
      "Loading TF weight bert/encoder/layer_8/output/LayerNorm/gamma with shape [768]\n",
      "Loading TF weight bert/encoder/layer_8/output/dense/bias with shape [768]\n",
      "Loading TF weight bert/encoder/layer_8/output/dense/kernel with shape [3072, 768]\n",
      "Loading TF weight bert/encoder/layer_9/attention/output/LayerNorm/beta with shape [768]\n",
      "Loading TF weight bert/encoder/layer_9/attention/output/LayerNorm/gamma with shape [768]\n",
      "Loading TF weight bert/encoder/layer_9/attention/output/dense/bias with shape [768]\n",
      "Loading TF weight bert/encoder/layer_9/attention/output/dense/kernel with shape [768, 768]\n",
      "Loading TF weight bert/encoder/layer_9/attention/self/key/bias with shape [768]\n",
      "Loading TF weight bert/encoder/layer_9/attention/self/key/kernel with shape [768, 768]\n",
      "Loading TF weight bert/encoder/layer_9/attention/self/query/bias with shape [768]\n",
      "Loading TF weight bert/encoder/layer_9/attention/self/query/kernel with shape [768, 768]\n",
      "Loading TF weight bert/encoder/layer_9/attention/self/value/bias with shape [768]\n",
      "Loading TF weight bert/encoder/layer_9/attention/self/value/kernel with shape [768, 768]\n",
      "Loading TF weight bert/encoder/layer_9/intermediate/dense/bias with shape [3072]\n",
      "Loading TF weight bert/encoder/layer_9/intermediate/dense/kernel with shape [768, 3072]\n",
      "Loading TF weight bert/encoder/layer_9/output/LayerNorm/beta with shape [768]\n",
      "Loading TF weight bert/encoder/layer_9/output/LayerNorm/gamma with shape [768]\n",
      "Loading TF weight bert/encoder/layer_9/output/dense/bias with shape [768]\n",
      "Loading TF weight bert/encoder/layer_9/output/dense/kernel with shape [3072, 768]\n",
      "Loading TF weight bert/pooler/dense/bias with shape [768]\n",
      "Loading TF weight bert/pooler/dense/kernel with shape [768, 768]\n",
      "Initialize PyTorch weight ['bert', 'embeddings', 'LayerNorm', 'beta']\n",
      "Initialize PyTorch weight ['bert', 'embeddings', 'LayerNorm', 'gamma']\n",
      "Initialize PyTorch weight ['bert', 'embeddings', 'position_embeddings']\n",
      "Initialize PyTorch weight ['bert', 'embeddings', 'token_type_embeddings']\n",
      "Initialize PyTorch weight ['bert', 'embeddings', 'word_embeddings']\n",
      "Initialize PyTorch weight ['bert', 'encoder', 'layer_0', 'attention', 'output', 'LayerNorm', 'beta']\n",
      "Initialize PyTorch weight ['bert', 'encoder', 'layer_0', 'attention', 'output', 'LayerNorm', 'gamma']\n",
      "Initialize PyTorch weight ['bert', 'encoder', 'layer_0', 'attention', 'output', 'dense', 'bias']\n",
      "Initialize PyTorch weight ['bert', 'encoder', 'layer_0', 'attention', 'output', 'dense', 'kernel']\n",
      "Initialize PyTorch weight ['bert', 'encoder', 'layer_0', 'attention', 'self', 'key', 'bias']\n",
      "Initialize PyTorch weight ['bert', 'encoder', 'layer_0', 'attention', 'self', 'key', 'kernel']\n",
      "Initialize PyTorch weight ['bert', 'encoder', 'layer_0', 'attention', 'self', 'query', 'bias']\n",
      "Initialize PyTorch weight ['bert', 'encoder', 'layer_0', 'attention', 'self', 'query', 'kernel']\n",
      "Initialize PyTorch weight ['bert', 'encoder', 'layer_0', 'attention', 'self', 'value', 'bias']\n",
      "Initialize PyTorch weight ['bert', 'encoder', 'layer_0', 'attention', 'self', 'value', 'kernel']\n",
      "Initialize PyTorch weight ['bert', 'encoder', 'layer_0', 'intermediate', 'dense', 'bias']\n",
      "Initialize PyTorch weight ['bert', 'encoder', 'layer_0', 'intermediate', 'dense', 'kernel']\n",
      "Initialize PyTorch weight ['bert', 'encoder', 'layer_0', 'output', 'LayerNorm', 'beta']\n",
      "Initialize PyTorch weight ['bert', 'encoder', 'layer_0', 'output', 'LayerNorm', 'gamma']\n",
      "Initialize PyTorch weight ['bert', 'encoder', 'layer_0', 'output', 'dense', 'bias']\n",
      "Initialize PyTorch weight ['bert', 'encoder', 'layer_0', 'output', 'dense', 'kernel']\n",
      "Initialize PyTorch weight ['bert', 'encoder', 'layer_1', 'attention', 'output', 'LayerNorm', 'beta']\n",
      "Initialize PyTorch weight ['bert', 'encoder', 'layer_1', 'attention', 'output', 'LayerNorm', 'gamma']\n",
      "Initialize PyTorch weight ['bert', 'encoder', 'layer_1', 'attention', 'output', 'dense', 'bias']\n",
      "Initialize PyTorch weight ['bert', 'encoder', 'layer_1', 'attention', 'output', 'dense', 'kernel']\n",
      "Initialize PyTorch weight ['bert', 'encoder', 'layer_1', 'attention', 'self', 'key', 'bias']\n",
      "Initialize PyTorch weight ['bert', 'encoder', 'layer_1', 'attention', 'self', 'key', 'kernel']\n",
      "Initialize PyTorch weight ['bert', 'encoder', 'layer_1', 'attention', 'self', 'query', 'bias']\n",
      "Initialize PyTorch weight ['bert', 'encoder', 'layer_1', 'attention', 'self', 'query', 'kernel']\n",
      "Initialize PyTorch weight ['bert', 'encoder', 'layer_1', 'attention', 'self', 'value', 'bias']\n",
      "Initialize PyTorch weight ['bert', 'encoder', 'layer_1', 'attention', 'self', 'value', 'kernel']\n",
      "Initialize PyTorch weight ['bert', 'encoder', 'layer_1', 'intermediate', 'dense', 'bias']\n",
      "Initialize PyTorch weight ['bert', 'encoder', 'layer_1', 'intermediate', 'dense', 'kernel']\n",
      "Initialize PyTorch weight ['bert', 'encoder', 'layer_1', 'output', 'LayerNorm', 'beta']\n",
      "Initialize PyTorch weight ['bert', 'encoder', 'layer_1', 'output', 'LayerNorm', 'gamma']\n",
      "Initialize PyTorch weight ['bert', 'encoder', 'layer_1', 'output', 'dense', 'bias']\n",
      "Initialize PyTorch weight ['bert', 'encoder', 'layer_1', 'output', 'dense', 'kernel']\n",
      "Initialize PyTorch weight ['bert', 'encoder', 'layer_10', 'attention', 'output', 'LayerNorm', 'beta']\n",
      "Initialize PyTorch weight ['bert', 'encoder', 'layer_10', 'attention', 'output', 'LayerNorm', 'gamma']\n",
      "Initialize PyTorch weight ['bert', 'encoder', 'layer_10', 'attention', 'output', 'dense', 'bias']\n",
      "Initialize PyTorch weight ['bert', 'encoder', 'layer_10', 'attention', 'output', 'dense', 'kernel']\n",
      "Initialize PyTorch weight ['bert', 'encoder', 'layer_10', 'attention', 'self', 'key', 'bias']\n",
      "Initialize PyTorch weight ['bert', 'encoder', 'layer_10', 'attention', 'self', 'key', 'kernel']\n",
      "Initialize PyTorch weight ['bert', 'encoder', 'layer_10', 'attention', 'self', 'query', 'bias']\n",
      "Initialize PyTorch weight ['bert', 'encoder', 'layer_10', 'attention', 'self', 'query', 'kernel']\n",
      "Initialize PyTorch weight ['bert', 'encoder', 'layer_10', 'attention', 'self', 'value', 'bias']\n",
      "Initialize PyTorch weight ['bert', 'encoder', 'layer_10', 'attention', 'self', 'value', 'kernel']\n",
      "Initialize PyTorch weight ['bert', 'encoder', 'layer_10', 'intermediate', 'dense', 'bias']\n",
      "Initialize PyTorch weight ['bert', 'encoder', 'layer_10', 'intermediate', 'dense', 'kernel']\n",
      "Initialize PyTorch weight ['bert', 'encoder', 'layer_10', 'output', 'LayerNorm', 'beta']\n",
      "Initialize PyTorch weight ['bert', 'encoder', 'layer_10', 'output', 'LayerNorm', 'gamma']\n",
      "Initialize PyTorch weight ['bert', 'encoder', 'layer_10', 'output', 'dense', 'bias']\n",
      "Initialize PyTorch weight ['bert', 'encoder', 'layer_10', 'output', 'dense', 'kernel']\n",
      "Initialize PyTorch weight ['bert', 'encoder', 'layer_11', 'attention', 'output', 'LayerNorm', 'beta']\n",
      "Initialize PyTorch weight ['bert', 'encoder', 'layer_11', 'attention', 'output', 'LayerNorm', 'gamma']\n",
      "Initialize PyTorch weight ['bert', 'encoder', 'layer_11', 'attention', 'output', 'dense', 'bias']\n",
      "Initialize PyTorch weight ['bert', 'encoder', 'layer_11', 'attention', 'output', 'dense', 'kernel']\n",
      "Initialize PyTorch weight ['bert', 'encoder', 'layer_11', 'attention', 'self', 'key', 'bias']\n",
      "Initialize PyTorch weight ['bert', 'encoder', 'layer_11', 'attention', 'self', 'key', 'kernel']\n",
      "Initialize PyTorch weight ['bert', 'encoder', 'layer_11', 'attention', 'self', 'query', 'bias']\n",
      "Initialize PyTorch weight ['bert', 'encoder', 'layer_11', 'attention', 'self', 'query', 'kernel']\n",
      "Initialize PyTorch weight ['bert', 'encoder', 'layer_11', 'attention', 'self', 'value', 'bias']\n",
      "Initialize PyTorch weight ['bert', 'encoder', 'layer_11', 'attention', 'self', 'value', 'kernel']\n",
      "Initialize PyTorch weight ['bert', 'encoder', 'layer_11', 'intermediate', 'dense', 'bias']\n",
      "Initialize PyTorch weight ['bert', 'encoder', 'layer_11', 'intermediate', 'dense', 'kernel']\n",
      "Initialize PyTorch weight ['bert', 'encoder', 'layer_11', 'output', 'LayerNorm', 'beta']\n",
      "Initialize PyTorch weight ['bert', 'encoder', 'layer_11', 'output', 'LayerNorm', 'gamma']\n",
      "Initialize PyTorch weight ['bert', 'encoder', 'layer_11', 'output', 'dense', 'bias']\n",
      "Initialize PyTorch weight ['bert', 'encoder', 'layer_11', 'output', 'dense', 'kernel']\n",
      "Initialize PyTorch weight ['bert', 'encoder', 'layer_2', 'attention', 'output', 'LayerNorm', 'beta']\n",
      "Initialize PyTorch weight ['bert', 'encoder', 'layer_2', 'attention', 'output', 'LayerNorm', 'gamma']\n",
      "Initialize PyTorch weight ['bert', 'encoder', 'layer_2', 'attention', 'output', 'dense', 'bias']\n",
      "Initialize PyTorch weight ['bert', 'encoder', 'layer_2', 'attention', 'output', 'dense', 'kernel']\n",
      "Initialize PyTorch weight ['bert', 'encoder', 'layer_2', 'attention', 'self', 'key', 'bias']\n",
      "Initialize PyTorch weight ['bert', 'encoder', 'layer_2', 'attention', 'self', 'key', 'kernel']\n",
      "Initialize PyTorch weight ['bert', 'encoder', 'layer_2', 'attention', 'self', 'query', 'bias']\n",
      "Initialize PyTorch weight ['bert', 'encoder', 'layer_2', 'attention', 'self', 'query', 'kernel']\n",
      "Initialize PyTorch weight ['bert', 'encoder', 'layer_2', 'attention', 'self', 'value', 'bias']\n",
      "Initialize PyTorch weight ['bert', 'encoder', 'layer_2', 'attention', 'self', 'value', 'kernel']\n",
      "Initialize PyTorch weight ['bert', 'encoder', 'layer_2', 'intermediate', 'dense', 'bias']\n",
      "Initialize PyTorch weight ['bert', 'encoder', 'layer_2', 'intermediate', 'dense', 'kernel']\n",
      "Initialize PyTorch weight ['bert', 'encoder', 'layer_2', 'output', 'LayerNorm', 'beta']\n",
      "Initialize PyTorch weight ['bert', 'encoder', 'layer_2', 'output', 'LayerNorm', 'gamma']\n",
      "Initialize PyTorch weight ['bert', 'encoder', 'layer_2', 'output', 'dense', 'bias']\n",
      "Initialize PyTorch weight ['bert', 'encoder', 'layer_2', 'output', 'dense', 'kernel']\n",
      "Initialize PyTorch weight ['bert', 'encoder', 'layer_3', 'attention', 'output', 'LayerNorm', 'beta']\n",
      "Initialize PyTorch weight ['bert', 'encoder', 'layer_3', 'attention', 'output', 'LayerNorm', 'gamma']\n",
      "Initialize PyTorch weight ['bert', 'encoder', 'layer_3', 'attention', 'output', 'dense', 'bias']\n",
      "Initialize PyTorch weight ['bert', 'encoder', 'layer_3', 'attention', 'output', 'dense', 'kernel']\n",
      "Initialize PyTorch weight ['bert', 'encoder', 'layer_3', 'attention', 'self', 'key', 'bias']\n",
      "Initialize PyTorch weight ['bert', 'encoder', 'layer_3', 'attention', 'self', 'key', 'kernel']\n",
      "Initialize PyTorch weight ['bert', 'encoder', 'layer_3', 'attention', 'self', 'query', 'bias']\n",
      "Initialize PyTorch weight ['bert', 'encoder', 'layer_3', 'attention', 'self', 'query', 'kernel']\n",
      "Initialize PyTorch weight ['bert', 'encoder', 'layer_3', 'attention', 'self', 'value', 'bias']\n",
      "Initialize PyTorch weight ['bert', 'encoder', 'layer_3', 'attention', 'self', 'value', 'kernel']\n",
      "Initialize PyTorch weight ['bert', 'encoder', 'layer_3', 'intermediate', 'dense', 'bias']\n",
      "Initialize PyTorch weight ['bert', 'encoder', 'layer_3', 'intermediate', 'dense', 'kernel']\n",
      "Initialize PyTorch weight ['bert', 'encoder', 'layer_3', 'output', 'LayerNorm', 'beta']\n",
      "Initialize PyTorch weight ['bert', 'encoder', 'layer_3', 'output', 'LayerNorm', 'gamma']\n",
      "Initialize PyTorch weight ['bert', 'encoder', 'layer_3', 'output', 'dense', 'bias']\n",
      "Initialize PyTorch weight ['bert', 'encoder', 'layer_3', 'output', 'dense', 'kernel']\n",
      "Initialize PyTorch weight ['bert', 'encoder', 'layer_4', 'attention', 'output', 'LayerNorm', 'beta']\n",
      "Initialize PyTorch weight ['bert', 'encoder', 'layer_4', 'attention', 'output', 'LayerNorm', 'gamma']\n",
      "Initialize PyTorch weight ['bert', 'encoder', 'layer_4', 'attention', 'output', 'dense', 'bias']\n",
      "Initialize PyTorch weight ['bert', 'encoder', 'layer_4', 'attention', 'output', 'dense', 'kernel']\n",
      "Initialize PyTorch weight ['bert', 'encoder', 'layer_4', 'attention', 'self', 'key', 'bias']\n",
      "Initialize PyTorch weight ['bert', 'encoder', 'layer_4', 'attention', 'self', 'key', 'kernel']\n",
      "Initialize PyTorch weight ['bert', 'encoder', 'layer_4', 'attention', 'self', 'query', 'bias']\n",
      "Initialize PyTorch weight ['bert', 'encoder', 'layer_4', 'attention', 'self', 'query', 'kernel']\n",
      "Initialize PyTorch weight ['bert', 'encoder', 'layer_4', 'attention', 'self', 'value', 'bias']\n",
      "Initialize PyTorch weight ['bert', 'encoder', 'layer_4', 'attention', 'self', 'value', 'kernel']\n",
      "Initialize PyTorch weight ['bert', 'encoder', 'layer_4', 'intermediate', 'dense', 'bias']\n",
      "Initialize PyTorch weight ['bert', 'encoder', 'layer_4', 'intermediate', 'dense', 'kernel']\n",
      "Initialize PyTorch weight ['bert', 'encoder', 'layer_4', 'output', 'LayerNorm', 'beta']\n",
      "Initialize PyTorch weight ['bert', 'encoder', 'layer_4', 'output', 'LayerNorm', 'gamma']\n",
      "Initialize PyTorch weight ['bert', 'encoder', 'layer_4', 'output', 'dense', 'bias']\n",
      "Initialize PyTorch weight ['bert', 'encoder', 'layer_4', 'output', 'dense', 'kernel']\n",
      "Initialize PyTorch weight ['bert', 'encoder', 'layer_5', 'attention', 'output', 'LayerNorm', 'beta']\n",
      "Initialize PyTorch weight ['bert', 'encoder', 'layer_5', 'attention', 'output', 'LayerNorm', 'gamma']\n",
      "Initialize PyTorch weight ['bert', 'encoder', 'layer_5', 'attention', 'output', 'dense', 'bias']\n",
      "Initialize PyTorch weight ['bert', 'encoder', 'layer_5', 'attention', 'output', 'dense', 'kernel']\n",
      "Initialize PyTorch weight ['bert', 'encoder', 'layer_5', 'attention', 'self', 'key', 'bias']\n",
      "Initialize PyTorch weight ['bert', 'encoder', 'layer_5', 'attention', 'self', 'key', 'kernel']\n",
      "Initialize PyTorch weight ['bert', 'encoder', 'layer_5', 'attention', 'self', 'query', 'bias']\n",
      "Initialize PyTorch weight ['bert', 'encoder', 'layer_5', 'attention', 'self', 'query', 'kernel']\n",
      "Initialize PyTorch weight ['bert', 'encoder', 'layer_5', 'attention', 'self', 'value', 'bias']\n",
      "Initialize PyTorch weight ['bert', 'encoder', 'layer_5', 'attention', 'self', 'value', 'kernel']\n",
      "Initialize PyTorch weight ['bert', 'encoder', 'layer_5', 'intermediate', 'dense', 'bias']\n",
      "Initialize PyTorch weight ['bert', 'encoder', 'layer_5', 'intermediate', 'dense', 'kernel']\n",
      "Initialize PyTorch weight ['bert', 'encoder', 'layer_5', 'output', 'LayerNorm', 'beta']\n",
      "Initialize PyTorch weight ['bert', 'encoder', 'layer_5', 'output', 'LayerNorm', 'gamma']\n",
      "Initialize PyTorch weight ['bert', 'encoder', 'layer_5', 'output', 'dense', 'bias']\n",
      "Initialize PyTorch weight ['bert', 'encoder', 'layer_5', 'output', 'dense', 'kernel']\n",
      "Initialize PyTorch weight ['bert', 'encoder', 'layer_6', 'attention', 'output', 'LayerNorm', 'beta']\n",
      "Initialize PyTorch weight ['bert', 'encoder', 'layer_6', 'attention', 'output', 'LayerNorm', 'gamma']\n",
      "Initialize PyTorch weight ['bert', 'encoder', 'layer_6', 'attention', 'output', 'dense', 'bias']\n",
      "Initialize PyTorch weight ['bert', 'encoder', 'layer_6', 'attention', 'output', 'dense', 'kernel']\n",
      "Initialize PyTorch weight ['bert', 'encoder', 'layer_6', 'attention', 'self', 'key', 'bias']\n",
      "Initialize PyTorch weight ['bert', 'encoder', 'layer_6', 'attention', 'self', 'key', 'kernel']\n",
      "Initialize PyTorch weight ['bert', 'encoder', 'layer_6', 'attention', 'self', 'query', 'bias']\n",
      "Initialize PyTorch weight ['bert', 'encoder', 'layer_6', 'attention', 'self', 'query', 'kernel']\n",
      "Initialize PyTorch weight ['bert', 'encoder', 'layer_6', 'attention', 'self', 'value', 'bias']\n",
      "Initialize PyTorch weight ['bert', 'encoder', 'layer_6', 'attention', 'self', 'value', 'kernel']\n",
      "Initialize PyTorch weight ['bert', 'encoder', 'layer_6', 'intermediate', 'dense', 'bias']\n",
      "Initialize PyTorch weight ['bert', 'encoder', 'layer_6', 'intermediate', 'dense', 'kernel']\n",
      "Initialize PyTorch weight ['bert', 'encoder', 'layer_6', 'output', 'LayerNorm', 'beta']\n",
      "Initialize PyTorch weight ['bert', 'encoder', 'layer_6', 'output', 'LayerNorm', 'gamma']\n",
      "Initialize PyTorch weight ['bert', 'encoder', 'layer_6', 'output', 'dense', 'bias']\n",
      "Initialize PyTorch weight ['bert', 'encoder', 'layer_6', 'output', 'dense', 'kernel']\n",
      "Initialize PyTorch weight ['bert', 'encoder', 'layer_7', 'attention', 'output', 'LayerNorm', 'beta']\n",
      "Initialize PyTorch weight ['bert', 'encoder', 'layer_7', 'attention', 'output', 'LayerNorm', 'gamma']\n",
      "Initialize PyTorch weight ['bert', 'encoder', 'layer_7', 'attention', 'output', 'dense', 'bias']\n",
      "Initialize PyTorch weight ['bert', 'encoder', 'layer_7', 'attention', 'output', 'dense', 'kernel']\n",
      "Initialize PyTorch weight ['bert', 'encoder', 'layer_7', 'attention', 'self', 'key', 'bias']\n",
      "Initialize PyTorch weight ['bert', 'encoder', 'layer_7', 'attention', 'self', 'key', 'kernel']\n",
      "Initialize PyTorch weight ['bert', 'encoder', 'layer_7', 'attention', 'self', 'query', 'bias']\n",
      "Initialize PyTorch weight ['bert', 'encoder', 'layer_7', 'attention', 'self', 'query', 'kernel']\n",
      "Initialize PyTorch weight ['bert', 'encoder', 'layer_7', 'attention', 'self', 'value', 'bias']\n",
      "Initialize PyTorch weight ['bert', 'encoder', 'layer_7', 'attention', 'self', 'value', 'kernel']\n",
      "Initialize PyTorch weight ['bert', 'encoder', 'layer_7', 'intermediate', 'dense', 'bias']\n",
      "Initialize PyTorch weight ['bert', 'encoder', 'layer_7', 'intermediate', 'dense', 'kernel']\n",
      "Initialize PyTorch weight ['bert', 'encoder', 'layer_7', 'output', 'LayerNorm', 'beta']\n",
      "Initialize PyTorch weight ['bert', 'encoder', 'layer_7', 'output', 'LayerNorm', 'gamma']\n",
      "Initialize PyTorch weight ['bert', 'encoder', 'layer_7', 'output', 'dense', 'bias']\n",
      "Initialize PyTorch weight ['bert', 'encoder', 'layer_7', 'output', 'dense', 'kernel']\n",
      "Initialize PyTorch weight ['bert', 'encoder', 'layer_8', 'attention', 'output', 'LayerNorm', 'beta']\n",
      "Initialize PyTorch weight ['bert', 'encoder', 'layer_8', 'attention', 'output', 'LayerNorm', 'gamma']\n",
      "Initialize PyTorch weight ['bert', 'encoder', 'layer_8', 'attention', 'output', 'dense', 'bias']\n",
      "Initialize PyTorch weight ['bert', 'encoder', 'layer_8', 'attention', 'output', 'dense', 'kernel']\n",
      "Initialize PyTorch weight ['bert', 'encoder', 'layer_8', 'attention', 'self', 'key', 'bias']\n",
      "Initialize PyTorch weight ['bert', 'encoder', 'layer_8', 'attention', 'self', 'key', 'kernel']\n",
      "Initialize PyTorch weight ['bert', 'encoder', 'layer_8', 'attention', 'self', 'query', 'bias']\n",
      "Initialize PyTorch weight ['bert', 'encoder', 'layer_8', 'attention', 'self', 'query', 'kernel']\n",
      "Initialize PyTorch weight ['bert', 'encoder', 'layer_8', 'attention', 'self', 'value', 'bias']\n",
      "Initialize PyTorch weight ['bert', 'encoder', 'layer_8', 'attention', 'self', 'value', 'kernel']\n",
      "Initialize PyTorch weight ['bert', 'encoder', 'layer_8', 'intermediate', 'dense', 'bias']\n",
      "Initialize PyTorch weight ['bert', 'encoder', 'layer_8', 'intermediate', 'dense', 'kernel']\n",
      "Initialize PyTorch weight ['bert', 'encoder', 'layer_8', 'output', 'LayerNorm', 'beta']\n",
      "Initialize PyTorch weight ['bert', 'encoder', 'layer_8', 'output', 'LayerNorm', 'gamma']\n",
      "Initialize PyTorch weight ['bert', 'encoder', 'layer_8', 'output', 'dense', 'bias']\n",
      "Initialize PyTorch weight ['bert', 'encoder', 'layer_8', 'output', 'dense', 'kernel']\n",
      "Initialize PyTorch weight ['bert', 'encoder', 'layer_9', 'attention', 'output', 'LayerNorm', 'beta']\n",
      "Initialize PyTorch weight ['bert', 'encoder', 'layer_9', 'attention', 'output', 'LayerNorm', 'gamma']\n",
      "Initialize PyTorch weight ['bert', 'encoder', 'layer_9', 'attention', 'output', 'dense', 'bias']\n",
      "Initialize PyTorch weight ['bert', 'encoder', 'layer_9', 'attention', 'output', 'dense', 'kernel']\n",
      "Initialize PyTorch weight ['bert', 'encoder', 'layer_9', 'attention', 'self', 'key', 'bias']\n",
      "Initialize PyTorch weight ['bert', 'encoder', 'layer_9', 'attention', 'self', 'key', 'kernel']\n",
      "Initialize PyTorch weight ['bert', 'encoder', 'layer_9', 'attention', 'self', 'query', 'bias']\n",
      "Initialize PyTorch weight ['bert', 'encoder', 'layer_9', 'attention', 'self', 'query', 'kernel']\n",
      "Initialize PyTorch weight ['bert', 'encoder', 'layer_9', 'attention', 'self', 'value', 'bias']\n",
      "Initialize PyTorch weight ['bert', 'encoder', 'layer_9', 'attention', 'self', 'value', 'kernel']\n",
      "Initialize PyTorch weight ['bert', 'encoder', 'layer_9', 'intermediate', 'dense', 'bias']\n",
      "Initialize PyTorch weight ['bert', 'encoder', 'layer_9', 'intermediate', 'dense', 'kernel']\n",
      "Initialize PyTorch weight ['bert', 'encoder', 'layer_9', 'output', 'LayerNorm', 'beta']\n",
      "Initialize PyTorch weight ['bert', 'encoder', 'layer_9', 'output', 'LayerNorm', 'gamma']\n",
      "Initialize PyTorch weight ['bert', 'encoder', 'layer_9', 'output', 'dense', 'bias']\n",
      "Initialize PyTorch weight ['bert', 'encoder', 'layer_9', 'output', 'dense', 'kernel']\n",
      "Initialize PyTorch weight ['bert', 'pooler', 'dense', 'bias']\n",
      "Initialize PyTorch weight ['bert', 'pooler', 'dense', 'kernel']\n"
     ]
    }
   ],
   "source": [
    "\"\"\"Imports\"\"\"\n",
    "\n",
    "from dl import Bert_preprocessing\n",
    "from dl_models import Bert_LSTM\n",
    "from transformers import BertTokenizer\n",
    "\n",
    "os.environ[\"WANDB_API_KEY\"] = \"0\" ## to silence warning\n",
    "!transformers-cli convert --model_type bert \\\n",
    "  --tf_checkpoint \"C:/Users/Zé Freitas/Desktop/Mestrado/2ºSemestre/Projeto/code/biobert_v1.1_pubmed/model.ckpt-1000000\" \\\n",
    "  --config \"C:/Users/Zé Freitas/Desktop/Mestrado/2ºSemestre/Projeto/code/biobert_v1.1_pubmed/bert_config.json\" \\\n",
    "  --pytorch_dump_output \"C:/Users/Zé Freitas/Desktop/Mestrado/2ºSemestre/Projeto/code/biobert_v1.1_pubmed/pytorch_model.bin\""
   ],
   "metadata": {
    "collapsed": false,
    "pycharm": {
     "name": "#%%\n"
    }
   }
  },
  {
   "cell_type": "code",
   "execution_count": 17,
   "outputs": [
    {
     "name": "stdout",
     "output_type": "stream",
     "text": [
      "Stilbenes , as important secondary metabolites of grapevine , represent central phytoalexins and therefore constitute an important element of basal immunity . In this study , potential genetic variation in Vitis vinifera ssp . sylvestris , the ancestor of cultivated grapevine , was sought with respect to their output of stilbenes and potential use for resistance breeding . Considerable variation in stilbene inducibility was identified in V. vinifera ssp . sylvestris . Genotypic differences in abundance and profiles of stilbenes that are induced in response to a UV-C pulse are shown . Two clusters of stilbene 'chemovars ' emerged : one cluster showed quick and strong accumulation of stilbenes , almost exclusively in the form of non-glycosylated resveratrol and viniferin , while the second cluster accumulated fewer stilbenes and relatively high proportions of piceatannol and the glycosylated piceid . For all 86 genotypes , a time dependence of the stilbene pattern was observed : piceid , resveratrol , and piceatannol accumulated earlier , whereas the viniferins were found later . It was further observed that the genotypic differences in stilbene accumulation were preceded by differential accumulation of the transcripts for chalcone synthase ( CHS ) and stilbene-related genes : phenylalanine ammonium lyase ( PAL ) , stilbene synthase ( StSy ) , and resveratrol synthase ( RS ) . A screen of the population with respect to susceptibility to downy mildew of grapevine ( Plasmopara viticola ) revealed considerable variability . The subpopulation of genotypes with high stilbene inducibility was significantly less susceptible as compared with low-stilbene genotypes , and for representative genotypes it could be shown that the inducibility of stilbene synthase by UV correlated with the inducibility by the pathogen .\n",
      "                                                   Document\n",
      "25873669  <data_structures.document.Document object at 0...\n",
      "24269870  <data_structures.document.Document object at 0...\n",
      "17655245  <data_structures.document.Document object at 0...\n",
      "16663649  <data_structures.document.Document object at 0...\n",
      "33907682  <data_structures.document.Document object at 0...\n",
      "...                                                     ...\n",
      "32079399  <data_structures.document.Document object at 0...\n",
      "26976595  <data_structures.document.Document object at 0...\n",
      "20138774  <data_structures.document.Document object at 0...\n",
      "27936616  <data_structures.document.Document object at 0...\n",
      "28009095  <data_structures.document.Document object at 0...\n",
      "\n",
      "[606 rows x 1 columns]\n",
      "                                                   Document\n",
      "25873669  <data_structures.document.Document object at 0...\n",
      "24269870  <data_structures.document.Document object at 0...\n",
      "17655245  <data_structures.document.Document object at 0...\n",
      "16663649  <data_structures.document.Document object at 0...\n",
      "33907682  <data_structures.document.Document object at 0...\n",
      "...                                                     ...\n",
      "32079399  <data_structures.document.Document object at 0...\n",
      "26976595  <data_structures.document.Document object at 0...\n",
      "20138774  <data_structures.document.Document object at 0...\n",
      "27936616  <data_structures.document.Document object at 0...\n",
      "28009095  <data_structures.document.Document object at 0...\n",
      "\n",
      "[606 rows x 1 columns]\n",
      "25873669    0\n",
      "24269870    0\n",
      "17655245    1\n",
      "16663649    1\n",
      "33907682    0\n",
      "           ..\n",
      "32079399    1\n",
      "26976595    0\n",
      "20138774    1\n",
      "27936616    1\n",
      "28009095    1\n",
      "Name: Label, Length: 606, dtype: int64\n",
      "Genetic diversity of stilbene metabolism in Vitis sylvestris .\n",
      "Stilbenes , as important secondary metabolites of grapevine , represent central phytoalexins and therefore constitute an important element of basal immunity . In this study , potential genetic variation in Vitis vinifera ssp . sylvestris , the ancestor of cultivated grapevine , was sought with respect to their output of stilbenes and potential use for resistance breeding . Considerable variation in stilbene inducibility was identified in V. vinifera ssp . sylvestris . Genotypic differences in abundance and profiles of stilbenes that are induced in response to a UV-C pulse are shown . Two clusters of stilbene 'chemovars ' emerged : one cluster showed quick and strong accumulation of stilbenes , almost exclusively in the form of non-glycosylated resveratrol and viniferin , while the second cluster accumulated fewer stilbenes and relatively high proportions of piceatannol and the glycosylated piceid . For all 86 genotypes , a time dependence of the stilbene pattern was observed : piceid , resveratrol , and piceatannol accumulated earlier , whereas the viniferins were found later . It was further observed that the genotypic differences in stilbene accumulation were preceded by differential accumulation of the transcripts for chalcone synthase ( CHS ) and stilbene-related genes : phenylalanine ammonium lyase ( PAL ) , stilbene synthase ( StSy ) , and resveratrol synthase ( RS ) . A screen of the population with respect to susceptibility to downy mildew of grapevine ( Plasmopara viticola ) revealed considerable variability . The subpopulation of genotypes with high stilbene inducibility was significantly less susceptible as compared with low-stilbene genotypes , and for representative genotypes it could be shown that the inducibility of stilbene synthase by UV correlated with the inducibility by the pathogen .\n",
      "(424, 1)\n",
      "(182, 1)\n",
      "(424,)\n",
      "(182,)\n"
     ]
    }
   ],
   "source": [
    "def pandas_column_aslist(dataframe, column):\n",
    "    lst = dataframe[column].tolist()\n",
    "    return lst  # lista de strings\n",
    "\n",
    "def relevances_to_pandas(dataframe, relevances):\n",
    "    indexes = list(dataframe.index.values)\n",
    "    labels = []\n",
    "    for r in relevances:\n",
    "        if r == \"not relevant\":\n",
    "            labels.append(0)\n",
    "        elif r == \"relevant\":\n",
    "            labels.append(1)\n",
    "    return pandas.Series(labels, index=indexes, name='Label')\n",
    "\n",
    "dl_config = DLConfig(remove_punctuation=\"HTML\")\n",
    "\n",
    "df = pandas.read_excel(\"C:/Users/Zé Freitas/Desktop/Mestrado/2ºSemestre/Projeto/code/datasets/dataset_final.xlsx\",\n",
    "                   index_col=0)\n",
    "idsfinal = pandas_column_aslist(df, \"Document\")\n",
    "docsfinal = pmids_to_docs(idsfinal, \"pg42872@alunos.uminho.pt\", dl_config)\n",
    "docsfinal = docsfinal[0]\n",
    "print(docsfinal[0].abstract_string)\n",
    "dataset_docs = docs_to_pandasdocs(docsfinal)\n",
    "\n",
    "x_total = dataset_docs\n",
    "print(x_total)\n",
    "\n",
    "y_total = pandas.read_excel(\"C:/Users/Zé Freitas/Desktop/Mestrado/2ºSemestre/Projeto/code/datasets/dataset_final.xlsx\",\n",
    "                        index_col=1, usecols=\"B:F\")\n",
    "\n",
    "print(x_total)\n",
    "\n",
    "relevance = pandas_column_aslist(y_total, \"Relevance\")\n",
    "y_total = relevances_to_pandas(y_total, relevance)\n",
    "print(y_total)\n",
    "\n",
    "print(x_total[\"Document\"][0].title_string)\n",
    "print(x_total[\"Document\"][0].abstract_string)\n",
    "\n",
    "X_train_df, X_test_df, y_train_df, y_test_df = train_test_split(x_total, y_total, test_size=0.3, random_state=42,\n",
    "                                                                stratify=y_total)\n",
    "print(X_train_df.shape)\n",
    "print(X_test_df.shape)\n",
    "print(y_train_df.shape)\n",
    "print(y_test_df.shape)"
   ],
   "metadata": {
    "collapsed": false,
    "pycharm": {
     "name": "#%%\n"
    }
   }
  },
  {
   "cell_type": "code",
   "execution_count": 18,
   "outputs": [],
   "source": [
    "dl_config = DLConfig(model_name=model_name, seed_value=seed_value)\n",
    "\n",
    "dl_config.stop_words = None\n",
    "dl_config.lower = False                #####\n",
    "dl_config.remove_punctuation = False\n",
    "dl_config.split_by_hyphen = False\n",
    "dl_config.lemmatization = False           #####\n",
    "dl_config.stems = False\n",
    "\n",
    "#Parameters\n",
    "dl_config.padding = 'post'\n",
    "dl_config.truncating = 'post'\n",
    "\n",
    "dl_config.epochs = 2     # recommended number of epochs: 2, 3, 4\n",
    "dl_config.batch_size = 16    # recommended batch-size: 16 or 32  # 8, 16, 32, 64, 128\n",
    "dl_config.learning_rate =  3e-5# recommended learning rate for Adam: 5e-5, 3e-5, 2e-5   # 3e-4, 1e-4,\n",
    "\n",
    "dl_config.max_sent_len = 512      #sentences will have a maximum of \"max_sent_len\" words\n",
    "dl_config.nmr_sentences = 1   #[1 or 2]\n",
    "\n",
    "dl_config.validation_percentage = 30"
   ],
   "metadata": {
    "collapsed": false,
    "pycharm": {
     "name": "#%%\n"
    }
   }
  },
  {
   "cell_type": "code",
   "execution_count": 19,
   "outputs": [],
   "source": [
    "dl_config.keras_callbacks = True\n",
    "\n",
    "if dl_config.keras_callbacks:\n",
    "    checkpoint_path = str(dl_config.model_id_path) + \"/model.{epoch:02d}.h5\"\n",
    "    keras_callbacks = [\n",
    "            ModelCheckpoint(checkpoint_path,\n",
    "                            verbose=0,\n",
    "                            save_best_only=False,\n",
    "                            save_weights_only=True,\n",
    "                           save_freq='epoch')\n",
    "    ]\n",
    "\n",
    "else:\n",
    "    keras_callbacks=None\n"
   ],
   "metadata": {
    "collapsed": false,
    "pycharm": {
     "name": "#%%\n"
    }
   }
  },
  {
   "cell_type": "code",
   "execution_count": 20,
   "outputs": [
    {
     "name": "stdout",
     "output_type": "stream",
     "text": [
      "Training set with 297 samples\n",
      "Validation set with 127 samples\n"
     ]
    }
   ],
   "source": [
    "dl_config.tokenizer = BertTokenizer.from_pretrained('biobert_v1.1_pubmed', do_lower_case=False)\n",
    "\n",
    "x_train, y_train, x_val, y_val =  Bert_preprocessing(X_train_df, y_train_df,\n",
    "                                                     dl_config,\n",
    "                                                     nmr_sentences = dl_config.nmr_sentences,\n",
    "                                                     validation_percentage = dl_config.validation_percentage,\n",
    "                                                     seed_value=dl_config.seed_value)"
   ],
   "metadata": {
    "collapsed": false,
    "pycharm": {
     "name": "#%%\n"
    }
   }
  },
  {
   "cell_type": "code",
   "execution_count": null,
   "outputs": [
    {
     "name": "stderr",
     "output_type": "stream",
     "text": [
      "Some weights of the PyTorch model were not used when initializing the TF 2.0 model TFBertModel: ['cls.predictions.transform.dense.bias', 'cls.predictions.transform.LayerNorm.bias', 'bert.embeddings.position_ids', 'cls.seq_relationship.weight', 'cls.predictions.decoder.weight', 'cls.predictions.transform.LayerNorm.weight', 'cls.seq_relationship.bias', 'cls.predictions.bias', 'cls.predictions.decoder.bias', 'cls.predictions.transform.dense.weight']\n",
      "- This IS expected if you are initializing TFBertModel from a PyTorch model trained on another task or with another architecture (e.g. initializing a TFBertForSequenceClassification model from a BertForPreTraining model).\n",
      "- This IS NOT expected if you are initializing TFBertModel from a PyTorch model that you expect to be exactly identical (e.g. initializing a TFBertForSequenceClassification model from a BertForSequenceClassification model).\n",
      "All the weights of TFBertModel were initialized from the PyTorch model.\n",
      "If your task is similar to the task the model of the checkpoint was trained on, you can already use TFBertModel for predictions without further training.\n"
     ]
    },
    {
     "name": "stdout",
     "output_type": "stream",
     "text": [
      "WARNING:tensorflow:The parameters `output_attentions`, `output_hidden_states` and `use_cache` cannot be updated when calling a model.They have to be set to True/False in the config object (i.e.: `config=XConfig.from_pretrained('name', output_attentions=True)`).\n",
      "WARNING:tensorflow:AutoGraph could not transform <bound method Socket.send of <zmq.sugar.socket.Socket object at 0x00000237BB96A340>> and will run it as-is.\n",
      "Please report this to the TensorFlow team. When filing the bug, set the verbosity to 10 (on Linux, `export AUTOGRAPH_VERBOSITY=10`) and attach the full output.\n",
      "Cause: module, class, method, function, traceback, frame, or code object was expected, got cython_function_or_method\n",
      "To silence this warning, decorate the function with @tf.autograph.experimental.do_not_convert\n",
      "WARNING: AutoGraph could not transform <bound method Socket.send of <zmq.sugar.socket.Socket object at 0x00000237BB96A340>> and will run it as-is.\n",
      "Please report this to the TensorFlow team. When filing the bug, set the verbosity to 10 (on Linux, `export AUTOGRAPH_VERBOSITY=10`) and attach the full output.\n",
      "Cause: module, class, method, function, traceback, frame, or code object was expected, got cython_function_or_method\n",
      "To silence this warning, decorate the function with @tf.autograph.experimental.do_not_convert\n",
      "WARNING:tensorflow:The parameter `return_dict` cannot be set in graph mode and will always be set to `True`.\n",
      "Model: \"model\"\n",
      "__________________________________________________________________________________________________\n",
      "Layer (type)                    Output Shape         Param #     Connected to                     \n",
      "==================================================================================================\n",
      "input_idx (InputLayer)          [(None, 512)]        0                                            \n",
      "__________________________________________________________________________________________________\n",
      "input_masks (InputLayer)        [(None, 512)]        0                                            \n",
      "__________________________________________________________________________________________________\n",
      "input_segments (InputLayer)     [(None, 512)]        0                                            \n",
      "__________________________________________________________________________________________________\n",
      "tf_bert_model (TFBertModel)     TFBaseModelOutputWit 108310272   input_idx[0][0]                  \n",
      "                                                                 input_masks[0][0]                \n",
      "                                                                 input_segments[0][0]             \n",
      "__________________________________________________________________________________________________\n",
      "bidirectional (Bidirectional)   (None, 512, 100)     327600      tf_bert_model[0][0]              \n",
      "__________________________________________________________________________________________________\n",
      "dropout_37 (Dropout)            (None, 512, 100)     0           bidirectional[0][0]              \n",
      "__________________________________________________________________________________________________\n",
      "global_average_pooling1d (Globa (None, 100)          0           dropout_37[0][0]                 \n",
      "__________________________________________________________________________________________________\n",
      "dense (Dense)                   (None, 62)           6262        global_average_pooling1d[0][0]   \n",
      "__________________________________________________________________________________________________\n",
      "dropout_38 (Dropout)            (None, 62)           0           dense[0][0]                      \n",
      "__________________________________________________________________________________________________\n",
      "dense_1 (Dense)                 (None, 1)            63          dropout_38[0][0]                 \n",
      "==================================================================================================\n",
      "Total params: 108,644,197\n",
      "Trainable params: 108,644,197\n",
      "Non-trainable params: 0\n",
      "__________________________________________________________________________________________________\n",
      "None\n",
      "Epoch 1/2\n",
      "WARNING:tensorflow:The parameters `output_attentions`, `output_hidden_states` and `use_cache` cannot be updated when calling a model.They have to be set to True/False in the config object (i.e.: `config=XConfig.from_pretrained('name', output_attentions=True)`).\n",
      "WARNING:tensorflow:The parameter `return_dict` cannot be set in graph mode and will always be set to `True`.\n",
      "WARNING:tensorflow:Gradients do not exist for variables ['tf_bert_model/bert/pooler/dense/kernel:0', 'tf_bert_model/bert/pooler/dense/bias:0'] when minimizing the loss.\n",
      "INFO:tensorflow:Reduce to /job:localhost/replica:0/task:0/device:CPU:0 then broadcast to ('/job:localhost/replica:0/task:0/device:CPU:0',).\n",
      "INFO:tensorflow:Reduce to /job:localhost/replica:0/task:0/device:CPU:0 then broadcast to ('/job:localhost/replica:0/task:0/device:CPU:0',).\n",
      "INFO:tensorflow:Reduce to /job:localhost/replica:0/task:0/device:CPU:0 then broadcast to ('/job:localhost/replica:0/task:0/device:CPU:0',).\n",
      "INFO:tensorflow:Reduce to /job:localhost/replica:0/task:0/device:CPU:0 then broadcast to ('/job:localhost/replica:0/task:0/device:CPU:0',).\n",
      "INFO:tensorflow:Reduce to /job:localhost/replica:0/task:0/device:CPU:0 then broadcast to ('/job:localhost/replica:0/task:0/device:CPU:0',).\n",
      "INFO:tensorflow:Reduce to /job:localhost/replica:0/task:0/device:CPU:0 then broadcast to ('/job:localhost/replica:0/task:0/device:CPU:0',).\n",
      "INFO:tensorflow:Reduce to /job:localhost/replica:0/task:0/device:CPU:0 then broadcast to ('/job:localhost/replica:0/task:0/device:CPU:0',).\n",
      "INFO:tensorflow:Reduce to /job:localhost/replica:0/task:0/device:CPU:0 then broadcast to ('/job:localhost/replica:0/task:0/device:CPU:0',).\n",
      "INFO:tensorflow:Reduce to /job:localhost/replica:0/task:0/device:CPU:0 then broadcast to ('/job:localhost/replica:0/task:0/device:CPU:0',).\n",
      "INFO:tensorflow:Reduce to /job:localhost/replica:0/task:0/device:CPU:0 then broadcast to ('/job:localhost/replica:0/task:0/device:CPU:0',).\n",
      "WARNING:tensorflow:The parameters `output_attentions`, `output_hidden_states` and `use_cache` cannot be updated when calling a model.They have to be set to True/False in the config object (i.e.: `config=XConfig.from_pretrained('name', output_attentions=True)`).\n",
      "WARNING:tensorflow:The parameter `return_dict` cannot be set in graph mode and will always be set to `True`.\n"
     ]
    }
   ],
   "source": [
    "biobert_path = './biobert_v1.1_pubmed'\n",
    "if multiple_gpus:\n",
    "    with strategy.scope():\n",
    "        #model = Bert_FT(dl_config, learning_rate=dl_config.learning_rate, bert_name_or_path=biobert_path, bert_config=True)\n",
    "        model = Bert_LSTM(dl_config, learning_rate=dl_config.learning_rate,static_bert=False, bert_name_or_path=biobert_path, bert_config=True)\n",
    "\n",
    "else:\n",
    "    #model = Bert_FT(dl_config, learning_rate=dl_config.learning_rate, bert_name_or_path=biobert_path, bert_config=True)\n",
    "    model = Bert_LSTM(dl_config, learning_rate=dl_config.learning_rate,static_bert=False, bert_name_or_path=biobert_path, bert_config=True)\n",
    "\n",
    "history = model.fit(x_train, y_train,\n",
    "                    epochs=dl_config.epochs,\n",
    "                    batch_size=dl_config.batch_size,\n",
    "                    validation_data=(x_val, y_val),\n",
    "                    callbacks=keras_callbacks)"
   ],
   "metadata": {
    "collapsed": false,
    "pycharm": {
     "name": "#%%\n",
     "is_executing": true
    }
   }
  },
  {
   "cell_type": "code",
   "execution_count": null,
   "outputs": [],
   "source": [
    "plot_training_history(history_dict = history, dl_config=dl_config)\n",
    "\n",
    "\n",
    "x_test, y_test = Bert_preprocessing(X_test_df, y_test_df, dl_config,\n",
    "                                    nmr_sentences=dl_config.nmr_sentences)\n",
    "\n",
    "yhat_probs = model.predict(x_test, verbose=0)\n",
    "yhat_probs = yhat_probs[:, 0]\n",
    "\n",
    "yhat_classes = np.where(yhat_probs > 0.5, 1, yhat_probs)\n",
    "yhat_classes = np.where(yhat_classes < 0.5, 0, yhat_classes).astype(np.int64)"
   ],
   "metadata": {
    "collapsed": false,
    "pycharm": {
     "name": "#%%\n"
    }
   }
  },
  {
   "cell_type": "code",
   "execution_count": null,
   "outputs": [],
   "source": [
    "dl_config.test_roc_auc, dl_config.test_pr_auc = plot_roc_n_pr_curves(y_test, yhat_probs, dl_config=dl_config)\n",
    "\n",
    "# ROC AUC\n",
    "print('ROC AUC: %f' % dl_config.test_roc_auc)\n",
    "\n",
    "# avg precision\n",
    "dl_config.test_avg_prec = average_precision(y_test_df, yhat_probs)\n",
    "print('Average Precision: %f' % dl_config.test_avg_prec)\n",
    "\n",
    "# accuracy\n",
    "dl_config.test_acc = accuracy_score(y_test, yhat_classes)\n",
    "print('Accuracy: %f' % dl_config.test_acc)\n",
    "\n",
    "# precision tp / (tp + fp)\n",
    "dl_config.test_prec = precision_score(y_test, yhat_classes)\n",
    "print('Precision: %f' % dl_config.test_prec)\n",
    "\n",
    "# recall: tp / (tp + fn)\n",
    "dl_config.test_recall = recall_score(y_test, yhat_classes)\n",
    "print('Recall: %f' % dl_config.test_recall)\n",
    "\n",
    "# f1: 2 tp / (2 tp + fp + fn)\n",
    "dl_config.test_f1_score = f1_score(y_test, yhat_classes)\n",
    "print('F1 score: %f' % dl_config.test_f1_score)\n",
    "\n",
    "# confusion matrix\n",
    "matrix = confusion_matrix(y_test, yhat_classes)\n",
    "matrix = np.flip(matrix)\n",
    "print('Confusion Matrix:\\n %s \\n' % matrix)"
   ],
   "metadata": {
    "collapsed": false,
    "pycharm": {
     "name": "#%%\n"
    }
   }
  },
  {
   "cell_type": "markdown",
   "source": [
    "<h2>\n",
    "Supervised Machine Learning\n",
    "</h2>\n",
    "<h3>\n",
    "TF-IDF\n",
    "</h3>"
   ],
   "metadata": {
    "collapsed": false
   }
  },
  {
   "cell_type": "code",
   "execution_count": 2,
   "outputs": [
    {
     "name": "stderr",
     "output_type": "stream",
     "text": [
      "[nltk_data] Downloading package averaged_perceptron_tagger to\n",
      "[nltk_data]     C:\\Users\\Zé Freitas\\AppData\\Roaming\\nltk_data...\n",
      "[nltk_data]   Package averaged_perceptron_tagger is already up-to-\n",
      "[nltk_data]       date!\n",
      "[nltk_data] Downloading package stopwords to C:\\Users\\Zé\n",
      "[nltk_data]     Freitas\\AppData\\Roaming\\nltk_data...\n",
      "[nltk_data]   Package stopwords is already up-to-date!\n",
      "[nltk_data] Downloading package wordnet to C:\\Users\\Zé\n",
      "[nltk_data]     Freitas\\AppData\\Roaming\\nltk_data...\n",
      "[nltk_data]   Package wordnet is already up-to-date!\n",
      "[nltk_data] Downloading package punkt to C:\\Users\\Zé\n",
      "[nltk_data]     Freitas\\AppData\\Roaming\\nltk_data...\n",
      "[nltk_data]   Package punkt is already up-to-date!\n"
     ]
    }
   ],
   "source": [
    "\"\"\"Imports\"\"\"\n",
    "\n",
    "from sklearn.feature_extraction.text import TfidfVectorizer\n",
    "from sklearn.model_selection import train_test_split, cross_validate\n",
    "import pandas as pd\n",
    "import numpy as np\n",
    "from dl_config import DLConfig\n",
    "from ml_features_generator import generate_features_dr\n",
    "from wrappers.pandas_wrapper import pandas_column_aslist, relevances_to_pandas, docs_to_pandasdocs\n",
    "from web_pubmed_reader import pmids_to_docs\n",
    "from nltk.corpus import stopwords\n",
    "stops = set(stopwords.words(\"english\"))\n",
    "from sklearn.pipeline import make_pipeline\n",
    "from sklearn.preprocessing import StandardScaler\n",
    "from sklearn.svm import SVC\n",
    "from sklearn.feature_selection import RFE\n",
    "from sklearn.metrics import confusion_matrix, accuracy_score, precision_score,\\\n",
    "    precision_recall_curve, recall_score, average_precision_score"
   ],
   "metadata": {
    "collapsed": false,
    "pycharm": {
     "name": "#%%\n"
    }
   }
  },
  {
   "cell_type": "code",
   "execution_count": 3,
   "outputs": [
    {
     "name": "stdout",
     "output_type": "stream",
     "text": [
      "Stilbenes , as important secondary metabolites of grapevine , represent central phytoalexins and therefore constitute an important element of basal immunity . In this study , potential genetic variation in Vitis vinifera ssp . sylvestris , the ancestor of cultivated grapevine , was sought with respect to their output of stilbenes and potential use for resistance breeding . Considerable variation in stilbene inducibility was identified in V. vinifera ssp . sylvestris . Genotypic differences in abundance and profiles of stilbenes that are induced in response to a UV-C pulse are shown . Two clusters of stilbene 'chemovars ' emerged : one cluster showed quick and strong accumulation of stilbenes , almost exclusively in the form of non-glycosylated resveratrol and viniferin , while the second cluster accumulated fewer stilbenes and relatively high proportions of piceatannol and the glycosylated piceid . For all 86 genotypes , a time dependence of the stilbene pattern was observed : piceid , resveratrol , and piceatannol accumulated earlier , whereas the viniferins were found later . It was further observed that the genotypic differences in stilbene accumulation were preceded by differential accumulation of the transcripts for chalcone synthase ( CHS ) and stilbene-related genes : phenylalanine ammonium lyase ( PAL ) , stilbene synthase ( StSy ) , and resveratrol synthase ( RS ) . A screen of the population with respect to susceptibility to downy mildew of grapevine ( Plasmopara viticola ) revealed considerable variability . The subpopulation of genotypes with high stilbene inducibility was significantly less susceptible as compared with low-stilbene genotypes , and for representative genotypes it could be shown that the inducibility of stilbene synthase by UV correlated with the inducibility by the pathogen .\n",
      "  (0, 6290)\t0.05353746161700202\n",
      "  (0, 2294)\t0.0625575010291752\n",
      "  (0, 2320)\t0.04620679123409402\n",
      "  (0, 7396)\t0.07914970531235524\n",
      "  (0, 5112)\t0.0455812552220154\n",
      "  (0, 2071)\t0.040618798788203445\n",
      "  (0, 8360)\t0.06468168771334708\n",
      "  (0, 4985)\t0.05353746161700202\n",
      "  (0, 7885)\t0.04247101918782848\n",
      "  (0, 8257)\t0.09730140622374459\n",
      "  (0, 9030)\t0.08725816530307122\n",
      "  (0, 7501)\t0.044981611007720364\n",
      "  (0, 9148)\t0.06393848204563733\n",
      "  (0, 6624)\t0.06393848204563733\n",
      "  (0, 5492)\t0.06191342460014493\n",
      "  (0, 3009)\t0.07134000505809572\n",
      "  (0, 8359)\t0.07550832665446695\n",
      "  (0, 6730)\t0.07550832665446695\n",
      "  (0, 7731)\t0.08725816530307122\n",
      "  (0, 7623)\t0.07398172296631068\n",
      "  (0, 8230)\t0.08138324597876909\n",
      "  (0, 6216)\t0.06717168346172452\n",
      "  (0, 5142)\t0.058063562721335206\n",
      "  (0, 795)\t0.08402496388698405\n",
      "  (0, 6468)\t0.05625003215476738\n",
      "  :\t:\n",
      "  (605, 9017)\t0.07510193568883329\n",
      "  (605, 4495)\t0.09959954989927099\n",
      "  (605, 1771)\t0.04626865180045587\n",
      "  (605, 2525)\t0.057088465575875914\n",
      "  (605, 1409)\t0.0687556322556698\n",
      "  (605, 5949)\t0.07356016038295891\n",
      "  (605, 8320)\t0.17453581784761574\n",
      "  (605, 4761)\t0.0627776952510131\n",
      "  (605, 4252)\t0.048366096590763956\n",
      "  (605, 5374)\t0.06395870885865769\n",
      "  (605, 5449)\t0.2339192092677283\n",
      "  (605, 798)\t0.07037090523355419\n",
      "  (605, 3836)\t0.050403672280065655\n",
      "  (605, 9040)\t0.06655602287955502\n",
      "  (605, 6619)\t0.07576095085470096\n",
      "  (605, 6616)\t0.08612176187937673\n",
      "  (605, 8394)\t0.05563825892449056\n",
      "  (605, 2105)\t0.03949055441942915\n",
      "  (605, 3463)\t0.0457772948268975\n",
      "  (605, 3414)\t0.08061380004197605\n",
      "  (605, 3846)\t0.050712680142599595\n",
      "  (605, 7482)\t0.021726232287466184\n",
      "  (605, 8558)\t0.06995455089019764\n",
      "  (605, 5381)\t0.05666315669270523\n",
      "  (605, 7745)\t0.059606742833911236\n",
      "(606, 9403)\n",
      "['000', '0001', '0005', '001', '004', '005', '007', '008', '01', '012', '013', '019', '02', '023', '029', '02microm', '03', '031', '04', '046', '05', '053', '055', '06', '063', '067', '07', '075', '08', '085', '09', '099', '10', '100', '1000', '100g', '100μmoll', '101', '102', '103', '1031', '1034µg', '104', '105', '107', '1085', '10a', '10axl', '10b', '10mg', '10microm', '10³', '11', '1100', '111', '1111', '112', '1127', '113', '114', '115', '116', '1179bp', '11as', '11b', '12', '120', '120h', '121', '1218', '122', '12444', '125', '127', '128', '129', '12b', '13', '130', '132', '133', '134', '134days', '135', '137', '138', '1386', '139a', '13c', '14', '140', '140μgg', '14354', '144', '145', '1458', '146', '1466', '147', '1473', '148', '14c', '15', '150', '1500', '151', '1512', '152', '153', '156', '158mg', '15mm', '15n', '16', '160', '161', '163', '165', '169', '16s', '17', '172', '173', '175', '17520', '176', '179', '17beta', '18', '180', '1806', '181', '182', '183', '186', '19', '191', '1940', '19460', '195', '196', '1963', '197', '198', '1980', '1992', '1a', '1a1', '1a2', '1b', '1b1', '1beta', '1cgz', '1d', '1dvs', '1e', '1h', '1j', '1kjm', '1ng', '1β', '20', '200', '2000', '2001', '2002', '2004', '2005', '2006', '2007', '2013', '2014', '2015', '2016', '2018', '2050', '2091', '20ngml', '20s', '20µg', '21', '210', '212', '22', '2260', '227', '228', '23', '231', '2315', '23187', '233', '234', '236', '238', '24', '240', '241', '2414', '245', '247', '249', '24h', '24min', '25', '251', '253mg', '254', '256', '25600002', '257', '26', '260', '262', '263k', '264', '27', '270', '2701', '271', '274', '277', '28', '280', '280nm', '286', '287', '289', '29', '290', '299', '2a', '2b', '2c', '2d', '2days', '2h', '2s', '2weeks', '30', '300', '3000', '302', '306', '30a', '31', '310', '312', '317', '31ml', '32', '320', '3200ngml', '33', '330', '339', '33910', '33mg', '34', '347', '35', '35mg', '35s', '35ss', '36', '361', '366', '37', '371', '372', '374', '377', '37mg', '38', '38156', '382', '384', '386', '3877', '38min', '39', '392', '395', '396', '3a', '3a4', '3b', '3d', '3g', '3k', '3min', '3r', '40', '400', '4000ngml', '40024', '400gy', '406', '40s', '41', '414', '41b', '42', '421', '422', '43', '430', '431', '434', '439', '44', '441', '443000m', '4474', '45', '45α', '46', '47', '48', '48h', '49', '495', '498', '4c', '4cl', '4cl216', '4kjm', '4r', '50', '500', '5000', '5025', '50mg', '51', '510', '515', '52', '520', '522', '526', '53', '5341', '5341mg', '54', '55', '554', '5590', '55days', '56', '560', '57', '570', '571', '58', '580', '5884', '59', '5h', '5microm', '5min', '60', '6000ngml', '600ngml', '6030', '60min', '60srp', '60μg', '61', '615', '616', '618', '619', '62', '620', '63', '630', '64', '642', '645', '6471', '65', '66', '6600', '67', '68', '680', '6803', '683', '685', '69', '691', '6915', '697', '69microm', '6a', '6as', '6th', '6β', '70', '700', '701', '71', '72', '724', '727', '72h', '73', '74', '75', '750', '753', '7532', '76', '77', '776', '777', '78', '7857', '79', '7b', '80', '800', '80mg', '81', '810', '816', '82', '83', '84', '85', '8500', '86', '860', '86418', '87', '88', '882000m', '89', '8b', '90', '900', '90μgg', '91', '92', '93', '933', '935', '937', '94', '95', '954', '96', '97', '970', '98', '981', '9878', '99', '9975', '9996', '9999', '99r', 'a01', 'a07', 'a08', 'a1', 'a132', 'a2', 'a431', 'a549', 'aa', 'aaph', 'ab', 'aba', 'abc', 'abdominal', 'aberrant', 'aberrantly', 'aberration', 'abeta', 'abies', 'abilities', 'ability', 'abiotic', 'abl', 'able', 'abnormal', 'abnormalities', 'abolished', 'aboveground', 'abrogated', 'abscisic', 'absence', 'absent', 'absolute', 'absorbance', 'absorbed', 'absorption', 'abstract', 'abts', 'abundance', 'abundant', 'abundantly', 'abyssinone', 'academic', 'acarbose', 'accelerate', 'accelerated', 'acceleration', 'accepted', 'access', 'accession', 'accessions', 'accessory', 'acclaimed', 'acclimation', 'accompanied', 'accordance', 'according', 'accordingly', 'account', 'accounting', 'accretion', 'accumulate', 'accumulated', 'accumulates', 'accumulating', 'accumulation', 'accumulations', 'accuracy', 'accurate', 'accurately', 'acetate', 'acetic', 'acetone', 'acetonitrile', 'acetonyl', 'acetosa', 'acetosella', 'acetyhexoside', 'acetyl', 'acetylation', 'acetylcholinesterase', 'acetylglucosamine', 'acetylhexoside', 'acetylhexosides', 'acetyltransferase', 'acetyltransferases', 'achievable', 'achieve', 'achieved', 'achieving', 'achillea', 'acid', 'acidic', 'acids', 'acinetobacter', 'acknowledged', 'acn', 'acomt1', 'acorus', 'acp', 'acquired', 'acquiring', 'across', 'acrylic', 'act', 'acted', 'actin', 'acting', 'actinidia', 'action', 'actions', 'activate', 'activated', 'activates', 'activating', 'activation', 'activator', 'activators', 'active', 'actively', 'activities', 'activity', 'actors', 'acts', 'acute', 'acyl', 'acyltransferases', 'ad', 'adaptation', 'add', 'added', 'adding', 'addition', 'additional', 'additionally', 'additive', 'address', 'addressed', 'addressing', 'adduct', 'adducts', 'adenine', 'adenocarcinoma', 'adenocarcinomas', 'adenosine', 'adenosyl', 'adenylate', 'adequate', 'adherence', 'adhesion', 'adipocyte', 'adipocytes', 'adipose', 'adiposity', 'adjacent', 'administered', 'administration', 'adp', 'adr', 'adsorbent', 'adsorbents', 'adult', 'advanced', 'advances', 'advancing', 'advantage', 'advantageous', 'advantages', 'adventitious', 'adverse', 'adversely', 'adversity', 'aerated', 'aeration', 'aerial', 'aeruginosa', 'aestivalis', 'aethrogenic', 'af2', 'affect', 'affected', 'affecting', 'affects', 'affinities', 'affinity', 'afflictions', 'afford', 'afforded', 'aflatoxins', 'aforementioned', 'africa', 'african', 'afterward', 'agalactiae', 'agar', 'age', 'aged', 'ageing', 'agent', 'agents', 'ages', 'agglomerans', 'aggregates', 'aggregation', 'aggregometer', 'aggressiveness', 'aging', 'agitated', 'aglianico', 'aglucones', 'aglycon', 'aglycone', 'aglycones', 'agmatine', 'ago', 'agonist', 'agonists', 'agreed', 'agreement', 'agric', 'agricultural', 'agriculture', 'agrimoniin', 'agrobacterium', 'agroinfiltrated', 'agroinfiltration', 'agronomic', 'ahmad', 'ahr', 'ahr3', 'ahr4dt', 'ahrs3', 'ahsts', 'ahsts3', 'aid', 'ailments', 'aim', 'aimed', 'aiming', 'aims', 'air', 'aire', 'akt', 'al', 'alanine', 'alba', 'albeit', 'albicans', 'albino', 'alboctalol', 'albumin', 'alcl', 'alcohol', 'alcoholic', 'aldehyde', 'aldehydes', 'aldol', 'aleatico', 'alfalfa', 'algae', 'algeria', 'aliphatic', 'aliquots', 'alkaline', 'alkalinisation', 'alkalinization', 'alkaloids', 'alkyl', 'allelochemical', 'allelopathic', 'allelopathy', 'allergic', 'allergy', 'alleviated', 'allocates', 'allocation', 'allografted', 'allopurinol', 'allow', 'allowed', 'allowing', 'allows', 'almond', 'almonds', 'almost', 'alnus', 'aloe', 'alone', 'along', 'alpha', 'alphaviniferin', 'alphonse', 'alpine', 'alpinus', 'already', 'als3', 'also', 'alter', 'alteration', 'alterations', 'altered', 'altering', 'alternaria', 'alternate', 'alternative', 'alternatives', 'although', 'altogether', 'alzheimer', 'amarone', 'amazingly', 'amazonensis', 'amchs1', 'ameliorate', 'ameliorates', 'ameliorating', 'amelioration', 'amenable', 'amended', 'america', 'american', 'americana', 'amf', 'amide', 'amides', 'amidinopropane', 'amine', 'amines', 'amino', 'aminobutyric', 'aminopurine', 'amirna', 'ammonia', 'ammonium', 'among', 'amount', 'amounts', 'amp', 'ampelopsin', 'ampelopsins', 'ampicillin', 'ampk', 'amplex', 'amplification', 'amplifications', 'amplified', 'amplitude', 'amurensin', 'amurensis', 'amyloid', 'amyloidogenic', 'anaerobically', 'analgesic', 'analog', 'analogous', 'analogs', 'analogue', 'analogues', 'analyse', 'analysed', 'analyses', 'analysis', 'analytes', 'analytic', 'analytical', 'analyze', 'analyzed', 'analyzes', 'analyzing', 'ananassa', 'ancestor', 'ancillary', 'androgen', 'androgenic', 'androstane', 'angelica', 'angio', 'angiogenesic', 'angiogenesis', 'angiogenic', 'angiosperm', 'angle', 'angles', 'angustifolium', 'aniline', 'animal', 'animals', 'annexin', 'annotated', 'annotation', 'annual', 'another', 'answer', 'antagonism', 'antagonist', 'antagonistic', 'antagonists', 'antarctica', 'anthelmintic', 'anthesis', 'anthocyanidin', 'anthocyanin', 'anthocyanins', 'anthracene', 'anthracnose', 'anthraquinone', 'anthraquinones', 'anti', 'antiadhesive', 'antiaggregant', 'antiaggregating', 'antiaggregatory', 'antiaging', 'antiallergenic', 'antiamyloidogenic', 'antiandrogen', 'antiandrogenic', 'antiarrhythmic', 'antiasthmatic', 'antiatherogenic', 'antibacterial', 'antibiofilm', 'antibiotic', 'antibiotics', 'antibodies', 'antibody', 'anticancer', 'anticancerogen', 'anticancerogenic', 'anticarcinogenic', 'anticipated', 'antidiabetic', 'antidiabetics', 'antiestrogen', 'antiestrogenic', 'antifungal', 'antigen', 'antigens', 'antihistaminic', 'antihyperalgesic', 'antihyperuricemic', 'antiinflammatory', 'antilipolytic', 'antilisterial', 'antimalarial', 'antimelanoma', 'antimetastatic', 'antimicrobial', 'antimicrobials', 'antimitotic', 'antimutagenic', 'antiobesity', 'antiobesogenic', 'antiocoagulant', 'antioxidant', 'antioxidants', 'antioxidation', 'antioxidative', 'antipathogen', 'antiplatelet', 'antiproliferative', 'antiprostate', 'antipsoriatic', 'antiquity', 'antiradical', 'antirrhinum', 'antisera', 'antiserum', 'antistaphylococcal', 'antitubulin', 'antitumor', 'antitumoral', 'antitumour', 'antitumoural', 'antiviral', 'antivirals', 'ants', 'aom', 'aorta', 'aortic', 'aos', 'ap', 'apart', 'apci', 'apertures', 'apical', 'apigenin', 'apis', 'apl', 'apo', 'apocarotenoid', 'apocarotenoids', 'apocynaceae', 'apoplasm', 'apoplast', 'apoplastic', 'apoplexy', 'apoprotein', 'apoptosis', 'apoptotic', 'apparatus', 'apparent', 'apparently', 'appealing', 'appear', 'appearance', 'appeared', 'appearing', 'appears', 'apple', 'apples', 'applicability', 'application', 'applications', 'applied', 'applying', 'appreciable', 'appreciably', 'appressoria', 'approach', 'approaches', 'approaching', 'appropriate', 'appropriately', 'approx', 'approximate', 'approximately', 'april', 'apurinic', 'apyrimidinic', 'aquaticus', 'aqueous', 'ar', 'ara', 'arabidopsis', 'arabinopyranoside', 'arabinoside', 'arabitol', 'arachidin', 'arachidonate', 'arachidonic', 'arachis', 'arboretum', 'arbuscular', 'arbutin', 'architecture', 'arduous', 'area', 'areas', 'ares', 'arg', 'arg1', 'arg172', 'arg199', 'arg328', 'arg350', 'arg68', 'arginine', 'argued', 'arguments', 'arisen', 'arizona', 'arizonica', 'armed', 'arnica', 'arog', 'aromatherapy', 'aromatic', 'aromaticivorans', 'around', 'arrangement', 'arrangements', 'array', 'arrest', 'arrested', 'arresting', 'arrhenius', 'arrhythmias', 'arsenite', 'artemisinin', 'arteries', 'arteriosclerosis', 'artery', 'arthritides', 'arthritis', 'article', 'articles', 'articular', 'artificial', 'artificially', 'artogomezianol', 'arvense', 'aryl', 'asaccharolyticum', 'ascertained', 'ascomycete', 'ascorbate', 'ascorbic', 'ascribed', 'asfarviridae', 'ashei', 'asian', 'asn', 'asp311', 'aspect', 'aspects', 'aspen', 'aspergilli', 'aspergillis', 'aspergillus', 'aspires', 'aspirin', 'asps', 'assaults', 'assay', 'assayed', 'assays', 'assembled', 'assembling', 'assembly', 'assess', 'assessed', 'assesses', 'assessing', 'assessment', 'assigned', 'assignments', 'assistance', 'assisted', 'associate', 'associated', 'association', 'associations', 'assorted', 'assortment', 'assuage', 'assumed', 'assuming', 'assumption', 'assure', 'ast', 'asteraceae', 'astilbin', 'astringin', 'astringine', 'astringinin', 'astringins', 'asymmetric', 'ataxia', 'atchs', 'atg7', 'atherogenesis', 'atherogenic', 'atheroprotective', 'atherosclerosis', 'athymic', 'atm', 'atmosphere', 'atmospheric', 'atmyb12', 'atom', 'atomic', 'atomistic', 'atp', 'atria', 'atrophy', 'atropurpurea', 'attachment', 'attack', 'attacked', 'attacking', 'attacks', 'attain', 'attaining', 'attempt', 'attempted', 'attempts', 'attention', 'attenuate', 'attenuated', 'attenuates', 'attenuating', 'attenuation', 'attracted', 'attractive', 'attributable', 'attributed', 'attributes', 'auc', 'aug', 'augment', 'augmentation', 'aurantii', 'aureobasidium', 'aureus', 'australasian', 'australe', 'australia', 'australian', 'authentic', 'authenticated', 'authority', 'authorized', 'authors', 'autoclaved', 'autoimmune', 'automated', 'automatic', 'autophagic', 'autophagosomes', 'autophagy', 'autoxidation', 'autumn', 'auxin', 'auxins', 'av', 'availabilities', 'availability', 'available', 'average', 'averted', 'avf', 'avoid', 'avoiding', 'avp', 'awakened', 'aware', 'awareness', 'axenic', 'axillary', 'axis', 'ayurveda', 'aza', 'azac', 'azacytidine', 'azacytosine', 'azelaic', 'azidocinnamoyl', 'azino', 'azinobis', 'azo', 'azobis', 'azoxymethane', 'azt', 'b04', 'b05', 'b06', 'b07', 'b1', 'b10', 'b16', 'b16m', 'b2', 'b3', 'b3lyp', 'b5', 'baba', 'bac', 'baccans', 'bacillus', 'back', 'backbone', 'backcrosses', 'backdrop', 'background', 'bacteria', 'bacterial', 'bacterially', 'bacterium', 'bacteroidetes', 'badagoni', 'bafilomycin', 'bagassa', 'baicalensis', 'baihe', 'baill', 'baking', 'balance', 'balb', 'balkan', 'bamboo', 'bar', 'barbera', 'barely', 'bark', 'barley', 'barr', 'barrier', 'barriers', 'basal', 'base', 'based', 'basement', 'basic', 'basin', 'basis', 'batatasin', 'batch', 'battlefield', 'bax', 'bbch', 'bcl', 'bcpg1', 'bcr', 'bcs', 'bde', 'bear', 'bearing', 'beas', 'became', 'become', 'becoming', 'bed', 'beehive', 'beer', 'beers', 'bees', 'beginning', 'begins', 'behave', 'behaved', 'behaving', 'behavior', 'behavioral', 'behaviour', 'behind', 'behnken', 'beihong', 'believed', 'belong', 'belonged', 'belonging', 'belongs', 'beneficial', 'benefit', 'benefiting', 'benefits', 'benign', 'benth', 'benthamiana', 'benzaldehyde', 'benzene', 'benzo', 'benzofuran', 'benzoic', 'benzothiadiazole', 'benzoyl', 'benzyl', 'benzylaminopurine', 'benzylic', 'benzylidene', 'bep2d', 'berberin', 'bergenin', 'berk', 'berlandieri', 'berries', 'berry', 'beside', 'besides', 'best', 'beta', 'better', 'betulifolia', 'betulinate', 'beverages', 'beyond', 'bhlh', 'bhp', 'bht', 'bi', 'biacore', 'bianca', 'bibenzyl', 'bicarbonate', 'bicistronic', 'bicolor', 'bicyclo', 'bid', 'bifc', 'biflavonoids', 'bifold', 'bifunctional', 'bik', 'bilayer', 'bilberry', 'bimolecular', 'binary', 'bind', 'binding', 'binds', 'bins', 'bio', 'bioactive', 'bioactives', 'bioactivities', 'bioactivity', 'bioassay', 'bioassays', 'bioavailability', 'bioavailable', 'biocatalytic', 'biochemical', 'biochemistry', 'biocontrol', 'bioconversion', 'bioconversions', 'bioconvert', 'bioconverted', 'biodegradation', 'biodistribution', 'biodiversity', 'bioenergetics', 'bioengineering', 'bioethanol', 'biofilm', 'biofilms', 'biofuel', 'biofuels', 'biogenesis', 'biogenetic', 'bioguided', 'bioinformatic', 'bioinformatics', 'biokinetics', 'biolog', 'biologic', 'biological', 'biologically', 'biologische', 'biology', 'biomarker', 'biomarkers', 'biomass', 'biomechanical', 'biomedical', 'biomimetic', 'biomolecule', 'biomonitoring', 'bioprocessing', 'bioproduction', 'bioreactor', 'biosyntheses', 'biosynthesis', 'biosynthesize', 'biosynthesized', 'biosynthethized', 'biosynthetic', 'biosynthetically', 'biotechnological', 'biotechnologically', 'biotechnology', 'biotic', 'biotin', 'biotinylated', 'biotransformation', 'biotransformed', 'biotrophic', 'biphasic', 'birch', 'bis', 'bisdemethoxycurcumin', 'bisulfite', 'bits', 'bl21', 'black', 'blackberries', 'bladder', 'blanc', 'blanch', 'blanched', 'blaufränkisch', 'blend', 'blessings', 'blight', 'block', 'blockage', 'blocked', 'blocking', 'blocks', 'blood', 'bloom', 'blot', 'blotting', 'blue', 'blueberries', 'blueberry', 'blunted', 'bm3', 'bnsgt1', 'bodies', 'body', 'boehmenan', 'bohemica', 'bok', 'bond', 'bonded', 'bonding', 'bonds', 'bone', 'bonus', 'boost', 'bore', 'boreal', 'borkh', 'borne', 'botanical', 'botany', 'botryodiplodia', 'botryosphaeria', 'botryosphaeriaceae', 'botryotinia', 'botrytis', 'botrytized', 'bottleneck', 'bottom', 'bound', 'bourgogne', 'bovine', 'box', 'boxes', 'bp', 'bph', 'bra', 'bracts', 'bradyrhizobium', 'brain', 'branch', 'branched', 'branches', 'brand', 'brassica', 'brassicaceae', 'brassinin', 'brazil', 'brazilian', 'bread', 'break', 'breakage', 'breakdown', 'breaks', 'breast', 'breed', 'breeding', 'brewing', 'bricks', 'bridging', 'briefly', 'bring', 'brix', 'broad', 'broadening', 'broader', 'bromate', 'bromo', 'bromodeoxyuridine', 'bromoflavone', 'bronchial', 'bronner', 'broth', 'brought', 'brown', 'bruceantin', 'brummer', 'bryophyte', 'bs', 'bt', 'bth', 'bucephalophorus', 'bud', 'buds', 'buffer', 'building', 'bulb', 'bulbs', 'bulk', 'bunch', 'bunches', 'bunchstems', 'bundesanstalt', 'bundessortenamt', 'bundles', 'bundling', 'burgundy', 'burk', 'burr', 'burst', 'bus', 'butanoic', 'butein', 'buten', 'butenyloxy', 'butte', 'butyl', 'butylated', 'butyryl', 'bv', 'bw', 'bypass', 'byproduct', 'byproducts', 'byproductwere', 'byrsonima', 'bzip', 'c1', 'c10', 'c12', 'c14', 'c18', 'c2', 'c2c12', 'c35', 'c3h', 'c4', 'c40', 'c4h', 'c57bl', 'c57bl6', 'c6', 'c8', 'ca', 'ca2', 'caa', 'cabernet', 'cacao', 'cacl', 'caco', 'cadherin', 'cadmium', 'caenorhabditis', 'caf', 'caffeic', 'caffeoyl', 'caftaric', 'calamus', 'calcium', 'calculated', 'calculation', 'calculations', 'calcusyn', 'calibration', 'california', 'called', 'calli', 'callose', 'callus', 'calluses', 'caloric', 'calycinum', 'calyptra', 'calyptras', 'came', 'camera', 'camp', 'camv', 'camv35s', 'canada', 'canadensis', 'cancer', 'cancerous', 'cancers', 'candicans', 'candida', 'candidacidal', 'candidate', 'candidates', 'cane', 'canes', 'cannabaceae', 'cannabigerolic', 'cannabinoid', 'cannabinoids', 'cannabis', 'canonical', 'cao', 'cap', 'capabilities', 'capability', 'capable', 'capacities', 'capacity', 'capillary', 'capsule', 'capture', 'capturer', 'car', 'carbocationic', 'carbohydrate', 'carbohydrates', 'carbon', 'carbonarius', 'carbons', 'carbonyl', 'carbothioic', 'carboxanilide', 'carboxykinase', 'carboxylases', 'carboxylic', 'carboxylicacid', 'carcinogen', 'carcinogenesis', 'carcinogenic', 'carcinoma', 'carcinomas', 'cardiac', 'cardio', 'cardiomyoblast', 'cardiomyocyte', 'cardiomyocytes', 'cardiomyopathy', 'cardioprotection', 'cardioprotective', 'cardiovascular', 'care', 'carex', 'carica', 'carignan', 'carinol', 'carlos', 'carmel', 'carnosic', 'carolina', 'carotene', 'carotenoid', 'carotenoids', 'carotid', 'carpathian', 'carr', 'carrageenan', 'carried', 'carrying', 'cartilage', 'cartridge', 'cartridges', 'cas', 'cascade', 'cascades', 'case', 'casein', 'cases', 'casp12', 'casp4', 'caspase', 'caspases', 'cassette', 'catabolic', 'catabolism', 'catalase', 'catalyse', 'catalyses', 'catalysing', 'catalysis', 'catalytic', 'catalyze', 'catalyzed', 'catalyzes', 'catalyzing', 'catarrhalis', 'catechin', 'catechines', 'catechins', 'catechol', 'catecholamines', 'catecholic', 'categories', 'catenin', 'catheter', 'catholic', 'cation', 'cauliflower', 'causal', 'causative', 'cause', 'caused', 'causes', 'causing', 'cavity', 'cay10464', 'cay10616', 'cay465', 'cbga', 'cc', 'ccds', 'ccl', 'cco', 'cco1', 'ccoaomt', 'ccoaomts', 'ccos', 'ccr', 'ccr7', 'ccrf', 'ccrs', 'cd', 'cd163', 'cd31', 'cd4', 'cd8', 'cd86', 'cdc2', 'cdk', 'cdk2', 'cdk4', 'cdk6', 'cdna', 'cdnas', 'cdpk', 'cds', 'ceased', 'cell', 'cells', 'cellular', 'cellulase', 'cellulose', 'cem', 'center', 'central', 'centred', 'centrifugal', 'centrifugation', 'centrifuged', 'ceramide', 'cerbera', 'cereals', 'cerebral', 'cerevisiae', 'cerezlik', 'certain', 'certainly', 'cerulenin', 'cervicse', 'cestode', 'cf', 'cfu', 'cgsh', 'cgtase', 'ch3', 'chaetomium', 'chain', 'chains', 'chalcone', 'chalcones', 'challenge', 'challenged', 'challenges', 'challenging', 'chamomilla', 'champini', 'change', 'changed', 'changes', 'changing', 'channel', 'channelize', 'channelizing', 'channelled', 'chaperones', 'character', 'characterisation', 'characterised', 'characteristic', 'characteristics', 'characterization', 'characterizations', 'characterize', 'characterized', 'characterizes', 'characterizing', 'characters', 'chardonnay', 'charge', 'chasselas', 'chassis', 'cheap', 'checked', 'checkpoint', 'chelate', 'chem', 'chemical', 'chemically', 'chemicals', 'chemiluminescence', 'chemistry', 'chemokine', 'chemopreventative', 'chemoprevention', 'chemopreventive', 'chemotaxis', 'chemotaxonomic', 'chemotherapeutic', 'chemotherapeutical', 'chemotherapy', 'chemotype', 'chemovars', 'chi', 'chi1b', 'chil', 'chile', 'chilling', 'chils', 'chimaeric', 'chimeric', 'china', 'chinensis', 'chinese', 'chips', 'chit4c', 'chitin', 'chitinase', 'chitinases', 'chitosan', 'chk', 'chk1', 'chloride', 'chlorinated', 'chloro', 'chloroform', 'chlorogenic', 'chlorophyll', 'chloroplasts', 'chlorosis', 'chn', 'chn1', 'chocolate', 'chocolates', 'choice', 'cholesterol', 'cholinergic', 'chondrocytes', 'chop', 'chorizanthe', 'chosen', 'chp', 'chroman', 'chromatid', 'chromatin', 'chromatograms', 'chromatograph', 'chromatographed', 'chromatographic', 'chromatography', 'chromobacterium', 'chromophore', 'chromosomal', 'chromosome', 'chromosomes', 'chronic', 'chronolog', 'chrysin', 'chrysophanol', 'chs', 'chss', 'cichoracearum', 'cid', 'cim', 'cin', 'cinerea', 'cinnamate', 'cinnamic', 'cinnamoyl', 'cip1', 'ciprofibrate', 'circadian', 'circular', 'circulated', 'circulatory', 'circumventing', 'cirrhosis', 'cis', 'cisplatin', 'cispt', 'cissus', 'cisternae', 'citrate', 'citreorosein', 'citri', 'citriaurantii', 'citric', 'cl', 'claimed', 'claiming', 'claisen', 'clamp', 'clap', 'clarify', 'clarifying', 'class', 'classes', 'classic', 'classical', 'classification', 'classified', 'clean', 'cleaner', 'clear', 'clearance', 'clearly', 'cleavage', 'cleave', 'cleaved', 'cleaves', 'cleaving', 'climate', 'climatic', 'clin', 'clinical', 'clinically', 'clock', 'clonal', 'clonally', 'clone', 'cloned', 'clones', 'cloning', 'close', 'closed', 'closely', 'closer', 'clostridium', 'closure', 'clovamide', 'clover', 'clu', 'cluster', 'clustered', 'clusters', 'cm', 'cmp', 'cms', 'co', 'co2', 'coa', 'coas', 'coat', 'cocoa', 'coculture', 'coding', 'codon', 'coefficients', 'coelicolor', 'coelonin', 'coeluted', 'coenzyme', 'coexist', 'coexpress', 'coexpressing', 'coexpression', 'cognitive', 'cohabitants', 'cohort', 'coignetiae', 'coincided', 'coincides', 'cold', 'coli', 'collaborative', 'collagen', 'collapsed', 'collected', 'collectively', 'colletotrichum', 'collision', 'collisional', 'colocation', 'colon', 'colonic', 'colonies', 'colonises', 'colonization', 'colonize', 'colonizes', 'colony', 'color', 'colorants', 'coloration', 'colorectal', 'colored', 'column', 'columns', 'com', 'combat', 'combating', 'combination', 'combinations', 'combinatorial', 'combine', 'combined', 'combines', 'combining', 'commenced', 'commerce', 'commercial', 'commercialization', 'commercialized', 'commercially', 'commit', 'committed', 'committee', 'common', 'commonly', 'communication', 'communications', 'communities', 'community', 'compact', 'comparable', 'comparative', 'comparatively', 'compare', 'compared', 'compares', 'comparing', 'comparison', 'compartment', 'compartments', 'compendia', 'compete', 'competence', 'competes', 'competing', 'competition', 'competitive', 'compiled', 'complement', 'complementary', 'complementation', 'complemented', 'complete', 'completely', 'complex', 'complexation', 'complexed', 'complexes', 'complexity', 'complicated', 'complications', 'component', 'components', 'composed', 'composite', 'composition', 'compositions', 'compound', 'compounds', 'comprehensive', 'comprehensively', 'comprise', 'comprised', 'comprises', 'comprising', 'compromises', 'computational', 'computations', 'computed', 'computer', 'computerised', 'concentrated', 'concentration', 'concentrations', 'concept', 'concern', 'concerned', 'concerning', 'concerns', 'concise', 'conclude', 'concluded', 'conclusion', 'conclusions', 'concomitance', 'concomitant', 'concomitantly', 'concord', 'concordantly', 'concordingly', 'condensation', 'condensations', 'condensed', 'condenses', 'condensing', 'condition', 'conditioned', 'conditions', 'conducive', 'conductance', 'conducted', 'conducting', 'cone', 'cones', 'confer', 'confered', 'conferred', 'conferring', 'confidence', 'confidential', 'configuration', 'configurations', 'confirm', 'confirmatory', 'confirmed', 'confirming', 'confirms', 'conflicting', 'confocal', 'conformation', 'conformational', 'conformer', 'conglomeratus', 'conidia', 'conidial', 'conifer', 'coniferyl', 'conjugate', 'conjugated', 'conjugates', 'conjugation', 'conjunction', 'connected', 'connection', 'connects', 'connexin43', 'consecutive', 'consensus', 'consequence', 'consequences', 'consequent', 'consequently', 'conservation', 'conserve', 'conserved', 'considerable', 'considerably', 'considerate', 'considered', 'considering', 'consist', 'consisted', 'consistent', 'consistently', 'consisting', 'consists', 'consortium', 'constant', 'constantly', 'constants', 'constituent', 'constituents', 'constitute', 'constituted', 'constitutes', 'constitutive', 'constitutively', 'constraint', 'construct', 'constructed', 'construction', 'constructs', 'consumable', 'consume', 'consumed', 'consumer', 'consumers', 'consuming', 'consumption', 'contact', 'contacts', 'contain', 'contained', 'containing', 'contains', 'contamination', 'content', 'contents', 'context', 'contigs', 'contiguous', 'continent', 'continue', 'continued', 'continues', 'continuing', 'continuous', 'continuously', 'contraction', 'contractions', 'contrary', 'contrast', 'contribute', 'contributed', 'contributes', 'contributing', 'contribution', 'contributions', 'contributor', 'control', 'controlled', 'controlling', 'controls', 'controversial', 'controversially', 'convenient', 'conveniently', 'conventional', 'conventionally', 'convergent', 'conversely', 'conversion', 'convert', 'converted', 'converting', 'converts', 'convincing', 'conyza', 'cooked', 'cooperation', 'coordinate', 'coordination', 'cope', 'copies', 'copigmentation', 'copper', 'copy', 'copyright', 'cordon', 'core', 'corn', 'corneum', 'coronary', 'coronatine', 'correct', 'corrected', 'correlate', 'correlated', 'correlates', 'correlation', 'correlations', 'correlative', 'correspond', 'corresponding', 'correspondingly', 'corresponds', 'cortex', 'cortical', 'corvina', 'corymbosum', 'corynebacterium', 'cosmetic', 'cosmetics', 'cost', 'costly', 'costs', 'cosy', 'cotransformation', 'cotransformed', 'cotreatment', 'cotyledons', 'cotylelobium', 'coularray', 'could', 'coulometric', 'coumarate', 'coumaric', 'coumarin', 'coumarins', 'coumaroyl', 'coumaroylagmatine', 'coumaroyltriacetic', 'coumarte', 'count', 'counter', 'counteract', 'counterbalanced', 'countercurrent', 'counterpart', 'counterparts', 'countries', 'country', 'couple', 'coupled', 'coupling', 'course', 'courses', 'covalent', 'cover', 'coverage', 'covers', 'cox', 'cp', 'cpc', 'cr', 'cracks', 'cranberries', 'cranberry', 'crassa', 'cre', 'cream', 'create', 'created', 'creating', 'creation', 'creb', 'crescent', 'crimson', 'crispus', 'criterion', 'critical', 'critically', 'croatian', 'crop', 'crops', 'cross', 'crossbreeding', 'crosstalk', 'crucial', 'crucially', 'crude', 'crusher', 'crushing', 'cryo', 'crypt', 'cryptogamic', 'cryptorchid', 'cryptorchidism', 'crystal', 'crystallized', 'crystallographic', 'cs', 'csh', 'csvmv', 'ct2', 'ctal', 'cu', 'cu2', 'cuao', 'cucullatum', 'cues', 'cultivar', 'cultivars', 'cultivated', 'cultivation', 'culturable', 'cultural', 'culture', 'cultured', 'cultures', 'cumene', 'cumulative', 'curated', 'curcumin', 'curcuminoids', 'cure', 'current', 'currently', 'currents', 'curve', 'curves', 'cuso', 'cuspidati', 'cuspidatum', 'cut', 'cutaneous', 'cuticular', 'cutting', 'cuttings', 'cuzn', 'cv', 'cv026', 'cvd', 'cvs', 'cxb', 'cxc', 'cxcl8', 'cyanidin', 'cyanobacteria', 'cyanobacterial', 'cyanobacterium', 'cycle', 'cyclic', 'cyclin', 'cycling', 'cyclins', 'cyclisation', 'cyclization', 'cyclizations', 'cyclizes', 'cyclo', 'cyclodextrin', 'cyclodextrins', 'cyclohexane', 'cycloolivil', 'cyclooxygenase', 'cyclooxygenases', 'cycloserine', 'cydoniifolia', 'cyp', 'cyp102a1', 'cyp129a2', 'cyp1a', 'cyp1a1', 'cyp1a2', 'cyp1b1', 'cyp2a6', 'cyp2b6', 'cyp2c8', 'cyp2d6', 'cyp2e1', 'cyp3a4', 'cyp71aj3', 'cyp71aj4', 'cyp71be52', 'cyp76ah24', 'cyp76ak6', 'cyp76ak8', 'cyperaceae', 'cyprotective', 'cys', 'cysteine', 'cysteines', 'cysteinylglycine', 'cystic', 'cytochrome', 'cytochromes', 'cytokine', 'cytokines', 'cytokinins', 'cytometry', 'cytoplasm', 'cytoplasmic', 'cytoprotection', 'cytoprotective', 'cytosine', 'cytoskeleton', 'cytosol', 'cytosolic', 'cytosols', 'cytostatic', 'cytotoxic', 'cytotoxicity', 'czech', 'cα', 'cβ', 'd1', 'd2', 'd4', 'd6', 'da', 'dab2', 'dab2ip', 'dactylorhiza', 'dad', 'dah', 'dahp', 'daidzein', 'daily', 'damage', 'damaged', 'damages', 'damaging', 'danfeng', 'dangerous', 'daphniphyllaceae', 'daphniphyllum', 'dark', 'data', 'database', 'datasets', 'datastrongly', 'date', 'dawley', 'day', 'days', 'dc3000', 'ddc', 'ddi', 'ddradseq', 'ddy', 'de', 'de3', 'deacetylase', 'deacetylated', 'deacetylation', 'deactivate', 'dead', 'deae', 'deal', 'deals', 'death', 'debate', 'decade', 'decades', 'decamers', 'decarboxylase', 'decarboxylation', 'decarboxylative', 'decay', 'decayed', 'decline', 'declined', 'declines', 'decorating', 'decrease', 'decreased', 'decreases', 'decreasing', 'decursiva', 'dedicated', 'deduced', 'deep', 'deeper', 'deerberry', 'deethylation', 'default', 'defect', 'defects', 'defence', 'defences', 'defend', 'defense', 'defenses', 'defensive', 'deficiency', 'deficient', 'deficit', 'define', 'defined', 'defines', 'defining', 'deg', 'degeneration', 'degenerative', 'deglycosylate', 'deglycosylated', 'degradation', 'degradative', 'degrade', 'degraded', 'degrading', 'degranulation', 'degree', 'degrees', 'degs', 'deguelin', 'dehydrate', 'dehydration', 'dehydro', 'dehydrodimer', 'dehydrodimers', 'dehydrogenase', 'dehydrotrimers', 'del', 'delayed', 'delaying', 'deleted', 'deleterious', 'deletion', 'deletions', 'deliciosa', 'delipidated', 'delipidation', 'deliver', 'delivery', 'delocalization', 'delta', 'deltag', 'deltah', 'deltas', 'demand', 'demands', 'demethylated', 'demethylation', 'demonstrate', 'demonstrated', 'demonstrates', 'demonstrating', 'denaturing', 'dense', 'densiflora', 'density', 'deoxychalcone', 'deoxychalcones', 'deoxynucleotidyl', 'deoxyrhaponticin', 'deoxyrhapontigenin', 'deoxyribose', 'depend', 'depended', 'dependence', 'dependencies', 'dependent', 'dependently', 'depending', 'depends', 'dephosphorylation', 'depigmentation', 'depigmenting', 'depletion', 'deployed', 'depolarization', 'deposition', 'depressant', 'depressants', 'depression', 'depressive', 'deprivation', 'deprotonated', 'deprotonation', 'dept', 'depths', 'derailment', 'dereplication', 'derivate', 'derivative', 'derivatives', 'derivatization', 'derive', 'derived', 'derives', 'deriving', 'dermatologic', 'dermatoprotective', 'desalted', 'describe', 'described', 'describes', 'describing', 'description', 'descriptions', 'deserves', 'design', 'designated', 'designed', 'designing', 'desirable', 'desire', 'desired', 'desorption', 'desoxyrhaponticin', 'desoxyrhapontigenin', 'desoxyrhapotigenin', 'despite', 'destabilization', 'destroy', 'destructive', 'detached', 'detail', 'detailed', 'detailing', 'details', 'detect', 'detectability', 'detectable', 'detected', 'detecting', 'detection', 'detector', 'detectors', 'deteriorates', 'determinants', 'determination', 'determine', 'determined', 'determines', 'determining', 'deterrent', 'detoxification', 'detoxifying', 'detriment', 'detrimental', 'deuterium', 'devastating', 'develop', 'developed', 'developing', 'development', 'developmental', 'developmentally', 'developments', 'develops', 'deviate', 'deviated', 'deviation', 'deviations', 'device', 'devised', 'dextrose', 'dfr', 'dft', 'dh', 'dhb', 'dhba', 'dhs', 'dhs2001', 'di', 'diabetes', 'diabetic', 'diacetyl', 'diacetylphloroglucinol', 'diadenosine', 'diagnosis', 'diagnostic', 'diameter', 'diamine', 'diaminopropane', 'diamminedichloroplatinum', 'diaphorase', 'diastereomers', 'diastolicdys', 'dibenzyl', 'dicaffeoylmethane', 'dichloroisonicotinic', 'dichloromethane', 'dichroism', 'dicinnamoylmethane', 'dicot', 'didanosine', 'die', 'dieback', 'diene', 'dienes', 'dienestrol', 'diet', 'dietary', 'diets', 'differ', 'differed', 'difference', 'differences', 'different', 'differential', 'differentially', 'differentiate', 'differentiating', 'differentiation', 'differently', 'differing', 'differs', 'difficult', 'difficulties', 'difficulty', 'diffusa', 'diffusion', 'dig', 'dige', 'digest', 'digestion', 'digestive', 'digitata', 'diglucopyranoside', 'diglucoside', 'diglycosides', 'dihedral', 'dihete', 'dihydro', 'dihydrochalcone', 'dihydrochalcones', 'dihydrochloride', 'dihydrocinnamoyl', 'dihydrocoumaroyl', 'dihydrodimer', 'dihydroflavone', 'dihydroflavonol', 'dihydrofuro', 'dihydrogenated', 'dihydromorin', 'dihydropiceatannol', 'dihydropiceid', 'dihydropinosylvin', 'dihydropyrano', 'dihydroquercetin', 'dihydroresveratrol', 'dihydrostilbene', 'dihydrostilbenes', 'dihydroxy', 'dihydroxybenzaldehyde', 'dihydroxybenzoic', 'dihydroxylation', 'dihydroxyphenylnitromethane', 'dihydroxystilbene', 'diluted', 'dilution', 'dimensional', 'dimer', 'dimeric', 'dimerization', 'dimers', 'dimethoxy', 'dimethoxybenzaldehyde', 'dimethoxyflavonol', 'dimethoxystilbene', 'dimethyl', 'dimethylallyltransferase', 'dimethylaminocinnamaldehyde', 'dimethylated', 'dimethylbenz', 'dimethylether', 'dimethylpyrano', 'diminished', 'dinitrostilbene', 'dinucleoside', 'dinucleotide', 'diode', 'dioxide', 'dioxin', 'dioxygenase', 'dioxygenases', 'diphenolic', 'diphenoxyl', 'diphenyl', 'diphenyleneiodonium', 'diphenylethylene', 'diphosphate', 'diplodia', 'diprenyl', 'dipterocarpaceae', 'dipterocarpaceaeous', 'dipterocarpaceous', 'dipterocarpus', 'diquinone', 'direct', 'directed', 'directing', 'direction', 'directly', 'disagreeable', 'disappearance', 'disc', 'disclosed', 'discover', 'discovered', 'discovering', 'discovery', 'discrepancy', 'discriminate', 'discriminated', 'discriminator', 'discs', 'discuss', 'discussed', 'discusses', 'discussion', 'disease', 'diseased', 'diseases', 'disintegration', 'disk', 'dismutase', 'dismutation', 'disorders', 'disparity', 'dispensable', 'dispersion', 'dispersive', 'displaced', 'display', 'displayed', 'displaying', 'displays', 'disprove', 'disrupting', 'disruption', 'disruptions', 'dissect', 'dissected', 'dissection', 'dissociation', 'distal', 'distance', 'distances', 'distantly', 'distinct', 'distinctive', 'distinctly', 'distinguishable', 'distinguished', 'distinguishes', 'distorted', 'distributed', 'distribution', 'distributions', 'disturbance', 'disturbances', 'disturbed', 'diterpenes', 'dithiocarbamate', 'dithiothreitol', 'diverge', 'divergence', 'divergent', 'diverse', 'diversification', 'diversified', 'diversion', 'diversities', 'diversity', 'divert', 'divico', 'divided', 'division', 'dk18', 'dk77', 'dl', 'dllme', 'dlr', 'dm', 'dmaca', 'dmba', 'dmpo', 'dmrm', 'dmso', 'dmu', 'dna', 'dnaj', 'doaniana', 'doc', 'docking', 'documented', 'documenting', 'doi', 'domain', 'domains', 'domestica', 'domesticaborkh', 'dominance', 'dominant', 'dominated', 'dominga', 'donate', 'donation', 'done', 'dongjin', 'donor', 'donors', 'door', 'doors', 'dopa', 'doreen', 'dormant', 'dosage', 'dose', 'doses', 'dosing', 'double', 'doubled', 'downregulate', 'downregulated', 'downregulation', 'downstream', 'downy', 'doxa', 'doxorubicin', 'dp', 'dp1', 'dp2', 'dpph', 'dqf', 'draft', 'dramatic', 'dramatically', 'drastic', 'drastically', 'drawbacks', 'drawn', 'dried', 'drinking', 'drive', 'driven', 'droplets', 'drosophila', 'drought', 'drove', 'drug', 'drugs', 'dry', 'drying', 'ds', 'dsb', 'dsc', 'dsm', 'dt', 'dtx18', 'dual', 'ductal', 'due', 'dulcis', 'duplex', 'duplexes', 'duplicated', 'duplication', 'durability', 'duration', 'dutp', 'dw', 'dwarfing', 'dye', 'dynamic', 'dynamics', 'dysentery', 'dysfunction', 'dyslipidemia', 'dznep', 'e2', 'e2f', 'earlier', 'earliest', 'early', 'easily', 'east', 'easy', 'eating', 'ebc', 'ec', 'ec50', 'ece1', 'echinacea', 'echinobothrida', 'ecological', 'ecology', 'economic', 'economically', 'economy', 'ecoplates', 'ecori', 'ecp', 'ectopic', 'ec₅₀', 'ed50', 'edema', 'edge', 'edible', 'eef1a2', 'effect', 'effective', 'effectively', 'effectiveness', 'effector', 'effectors', 'effects', 'efficacies', 'efficacious', 'efficacy', 'efficiencies', 'efficiency', 'efficient', 'efficiently', 'efflux', 'effort', 'efsa', 'egfp', 'egfr', 'egiodola', 'egr', 'eicosanoid', 'eicosatetraenoic', 'eight', 'eighteen', 'eighty', 'either', 'elaborate', 'elaborately', 'electrically', 'electrochemical', 'electron', 'electronic', 'electrophoresis', 'electrophoretic', 'electrospray', 'elegans', 'element', 'elements', 'elevate', 'elevated', 'elevating', 'elevation', 'eleven', 'elicit', 'elicitation', 'elicited', 'eliciting', 'elicitor', 'elicitors', 'elicits', 'eliminate', 'eliminated', 'elimination', 'elisa', 'elk', 'ellagitannin', 'elliott', 'elliottii', 'elongation', 'elstar', 'elucidate', 'elucidated', 'elucidates', 'elucidating', 'elucidation', 'eluent', 'elusive', 'eluted', 'eluting', 'elution', 'em', 'embryos', 'emerge', 'emerged', 'emergence', 'emerging', 'emission', 'emissions', 'emitting', 'emmons', 'emodi', 'emodin', 'emphasis', 'emphasize', 'employed', 'employing', 'empty', 'emsa', 'emt', 'enable', 'enabled', 'enables', 'enabling', 'enantiomers', 'encapsulate', 'encode', 'encoded', 'encodes', 'encoding', 'encompassing', 'encountered', 'encourage', 'encyclopedia', 'end', 'endangered', 'endeavors', 'endemic', 'ending', 'endocrine', 'endogenous', 'endometrial', 'endometriosis', 'endonuclease', 'endophytes', 'endophytic', 'endoplasmic', 'endopolygalacturonase', 'endothelial', 'endothelin', 'endothelium', 'endotoxin', 'endowed', 'ends', 'endurance', 'energetic', 'energetically', 'energetics', 'energies', 'energy', 'engine', 'engineered', 'engineering', 'enhance', 'enhanced', 'enhancement', 'enhancer', 'enhancers', 'enhances', 'enhancing', 'enlargement', 'enological', 'enormous', 'enough', 'enriched', 'enrichment', 'ensure', 'enter', 'entering', 'enteritis', 'enterohemorrhagic', 'enthalpy', 'entire', 'entry', 'env', 'environment', 'environmental', 'environmentally', 'environments', 'enzymatic', 'enzymatically', 'enzyme', 'enzymes', 'epialboctalol', 'epic', 'epicardial', 'epicatechin', 'epidemiological', 'epidermal', 'epidermidis', 'epidermis', 'epidermoid', 'epigenetic', 'epimers', 'epiphytic', 'epithelial', 'epithelioma', 'epithelium', 'epoxide', 'epr', 'epsilon', 'epstein', 'equal', 'equally', 'equilibrium', 'equipment', 'equisetum', 'equivalent', 'er', 'erbeta', 'ere', 'erf', 'ergosterol', 'eriodictyol', 'erk', 'erk1', 'erme', 'erod', 'erratic', 'erratically', 'ers', 'erysiphe', 'erythritol', 'erythrocytes', 'erythroid', 'esca', 'escaped', 'escherichia', 'esculentum', 'esi', 'espanaensis', 'especially', 'esr', 'essential', 'essentially', 'establish', 'established', 'establishing', 'establishment', 'ester', 'esterification', 'esterified', 'esters', 'estimate', 'estimated', 'estimation', 'estradiol', 'estrogen', 'estrogenic', 'et', 'etc', 'eth', 'ethanol', 'ethanolic', 'ether', 'ethers', 'ethoxy', 'ethoxyresorufin', 'ethyl', 'ethylbenzothiazoline', 'ethylbenzthiazoline', 'ethylene', 'eti', 'etiology', 'etoac', 'eudicot', 'eukaryote', 'eukaryotes', 'eukaryotic', 'europe', 'european', 'eutypa', 'evaluate', 'evaluated', 'evaluates', 'evaluating', 'evaluation', 'evaluations', 'evelor', 'even', 'event', 'events', 'eventually', 'ever', 'every', 'evidence', 'evidenced', 'evidences', 'evidencing', 'evident', 'evoke', 'evoked', 'evolution', 'evolutionarily', 'evolutionary', 'evolve', 'evolved', 'ex', 'exact', 'exactly', 'examinated', 'examination', 'examinations', 'examine', 'examined', 'examines', 'examining', 'example', 'examples', 'exc', 'exceed', 'exceeded', 'exceeding', 'exceeds', 'excellent', 'excelsa', 'except', 'exception', 'exceptional', 'exceptions', 'excess', 'excessive', 'excessively', 'exchange', 'exchanged', 'exchanger', 'exchanges', 'excised', 'excision', 'excitation', 'exciting', 'exclude', 'exclusion', 'exclusively', 'excreted', 'excretion', 'exercise', 'exert', 'exerted', 'exerting', 'exerts', 'exhaustive', 'exhibit', 'exhibited', 'exhibiting', 'exhibits', 'exist', 'existed', 'existence', 'existing', 'exists', 'exocarp', 'exocycle', 'exogenous', 'exogenously', 'expand', 'expanded', 'expansion', 'expectations', 'expected', 'expenditure', 'expense', 'expensive', 'experienced', 'experiences', 'experiencing', 'experiment', 'experimental', 'experiments', 'explain', 'explained', 'explanations', 'explication', 'exploitation', 'exploited', 'exploiting', 'exploits', 'exploration', 'explore', 'explored', 'explores', 'exponential', 'exponentially', 'export', 'exposed', 'exposure', 'exposures', 'express', 'expressed', 'expresses', 'expressing', 'expression', 'expressions', 'expulsion', 'extend', 'extended', 'extends', 'extension', 'extensive', 'extensively', 'extent', 'external', 'externalized', 'externally', 'extracellular', 'extracellularly', 'extracranial', 'extract', 'extractable', 'extracted', 'extraction', 'extractions', 'extracts', 'extrahepatic', 'extremely', 'extrinsic', 'exuded', 'ezh2', 'f1', 'f10', 'f155', 'f155y', 'f2', 'f24a', 'f311a', 'f311w', 'f318a', 'f344', 'fabe', 'fabms', 'face', 'facilitate', 'facilitated', 'facilitates', 'facilitating', 'facing', 'facs', 'fact', 'factor', 'factor2', 'factories', 'factors', 'factory', 'facultative', 'faecal', 'faecalibacterium', 'faeces', 'failed', 'failure', 'fallopia', 'fallow', 'families', 'family', 'famous', 'fanagoria', 'fao', 'far', 'farnesol', 'fas', 'fashion', 'fast', 'faster', 'fastidiosa', 'fat', 'fatal', 'fate', 'fatty', 'favor', 'favorable', 'favored', 'favourable', 'fcdb', 'fcp', 'fe', 'feasi', 'feasibility', 'feasible', 'feature', 'features', 'febuxostat', 'fecal', 'feces', 'fed', 'feedback', 'feeding', 'female', 'females', 'fenton', 'fermentation', 'fermented', 'ferrdoxin', 'ferredoxin', 'ferrylmyoglobin', 'fertility', 'ferulate', 'ferulic', 'feruloyl', 'fever', 'fewer', 'fibrates', 'fibril', 'fibrillar', 'fibrillation', 'fibrils', 'fibrinogen', 'fibroblast', 'fibroblasts', 'fibrocystic', 'fibrogenesis', 'fibronectin', 'fibrosarcoma', 'fibrosis', 'field', 'fields', 'fifteen', 'fight', 'fighting', 'fil1', 'filament', 'filamentation', 'filamentous', 'filamentously', 'fima', 'final', 'finally', 'find', 'finding', 'findings', 'finds', 'fine', 'fingerprint', 'fingerprints', 'finished', 'firmicutes', 'firmness', 'first', 'firstly', 'fisch', 'fish', 'fisher', 'fishes', 'fission', 'five', 'fivefold', 'fj', 'fl', 'flag', 'flagellin', 'flame', 'flanked', 'flanking', 'flap', 'flash', 'flask', 'flat', 'flavan', 'flavanoids', 'flavanol', 'flavanols', 'flavanone', 'flavanones', 'flavans', 'flavin', 'flavone', 'flavones', 'flavonoid', 'flavonoids', 'flavonol', 'flavonolignan', 'flavonols', 'flavor', 'flavoring', 'flavors', 'flavours', 'flavum', 'fld', 'flesh', 'fleshy', 'flexibility', 'flg22', 'flies', 'flight', 'flora', 'floral', 'flow', 'flower', 'flowering', 'flowers', 'fluctuate', 'fluid', 'fluidized', 'fluorescence', 'fluorescens', 'fluorescent', 'fluoride', 'fluorimetric', 'fluoro', 'fluorocinnamic', 'flutamide', 'flux', 'fluxes', 'fmk', 'focal', 'foci', 'fock', 'focus', 'focused', 'focuses', 'focusing', 'fold', 'foldability', 'foldincrease', 'folding', 'foliar', 'folk', 'followed', 'following', 'follows', 'food', 'foods', 'foodstuffs', 'force', 'forces', 'foreign', 'foremost', 'forests', 'form', 'formaldehyde', 'formation', 'formations', 'formed', 'former', 'formerly', 'formic', 'forming', 'forms', 'formula', 'formulation', 'formulations', 'forty', 'forwards', 'fos', 'found', 'foundation', 'four', 'fourier', 'fourteen', 'fowl', 'fraction', 'fractionated', 'fractionation', 'fractionations', 'fractions', 'fragaria', 'fragment', 'fragmentation', 'fragmented', 'fragments', 'fragrances', 'frame', 'framework', 'frameworks', 'franc', 'france', 'frangula', 'frangulin', 'franz', 'free', 'freezing', 'french', 'frequencies', 'frequency', 'frequent', 'frequently', 'fresh', 'freshly', 'frj', 'frost', 'frozen', 'fructofuranosyl', 'fructose', 'fruit', 'fruiting', 'fruits', 'fry', 'ftir', 'fuckeliana', 'fueled', 'fuels', 'full', 'fuller', 'fully', 'fumigation', 'fumigatus', 'function', 'functional', 'functionalities', 'functionality', 'functionalization', 'functionally', 'functioned', 'functions', 'fundamental', 'fungal', 'fungi', 'fungicidal', 'fungicide', 'fungicides', 'fungistatic', 'fungitoxic', 'fungus', 'furafylline', 'furanocoumarin', 'furanocoumarins', 'furthermore', 'furtherstudy', 'furyl', 'fusarium', 'fused', 'fusion', 'future', 'fw', 'g0', 'g1', 'g2', 'g4dt', 'gaba', 'gadd45', 'gadd45α', 'gadolinium', 'gaeumannomyces', 'gain', 'gained', 'gains', 'gal', 'galactose', 'galactoside', 'galacturonate', 'gallate', 'gallates', 'gallic', 'galvinoxyl', 'gamaret', 'gamay', 'gamma', 'gamut', 'ganoderma', 'gap', 'garbanzol', 'gas', 'gaseous', 'gather', 'gathered', 'gavage', 'gave', 'gb', 'gbq', 'gc', 'gcc', 'gearray', 'gel', 'gelatin', 'gelatinolytic', 'gels', 'gene', 'genera', 'general', 'generally', 'generate', 'generated', 'generates', 'generating', 'generation', 'generator', 'genes', 'genetic', 'genetically', 'genistein', 'genome', 'genomes', 'genomic', 'genomics', 'genotoxic', 'genotoxicities', 'genotoxicity', 'genotype', 'genotypes', 'genotypic', 'gentiobiose', 'gentisic', 'genuine', 'genus', 'geometric', 'geometries', 'geometry', 'georgia', 'georgian', 'geotrichum', 'geranyl', 'german', 'germany', 'germinate', 'germinated', 'germination', 'germplasm', 'gester', 'get', 'gets', 'gewurztraminer', 'gewürztraminer', 'gfap', 'gfgpg', 'gfp', 'giant', 'ginkgolic', 'ginsenoside', 'give', 'given', 'gives', 'gjic', 'gk', 'gland', 'glands', 'glandular', 'glasses', 'glauca', 'glb', 'glcnac', 'glial', 'glioma', 'gln', 'gln2', 'gln33', 'global', 'globe', 'globosum', 'glu', 'glu1', 'glu314', 'glu380', 'gluc', 'glucan', 'glucanase', 'glucanases', 'glucanotransferase', 'glucomannan', 'gluconeogenesis', 'glucopyranoside', 'glucose', 'glucosidase', 'glucoside', 'glucosides', 'glucosinolate', 'glucosyl', 'glucosylated', 'glucosylating', 'glucosylation', 'glucosyltransferase', 'glucosyltransferases', 'glucuronate', 'glucuronic', 'glucuronidase', 'glucuronide', 'glucuronides', 'glutamate', 'glutamicum', 'glutamine', 'glutamyl', 'glutamylcysteine', 'glutathione', 'gluthatione', 'gly', 'glyceollin', 'glycerol', 'glycine', 'glycoconjugates', 'glycol', 'glycolate', 'glycolysis', 'glycolytic', 'glycone', 'glycoprotein', 'glycopyranosid', 'glycoside', 'glycosides', 'glycosidic', 'glycosilate', 'glycosyl', 'glycosylated', 'glycosylation', 'glycosyltransferase', 'glycosyltransferases', 'glyoxal', 'gmp', 'gnetaceae', 'gnetin', 'gnetol', 'gnetophyta', 'gnetum', 'go', 'goal', 'going', 'golden', 'golovinomyces', 'good', 'google', 'gor', 'gord', 'gout', 'gouty', 'gp', 'gpp', 'grade', 'gradient', 'gradual', 'gradually', 'grafted', 'grafting', 'grains', 'gram', 'graminis', 'grande', 'grandiflorum', 'grape', 'grapes', 'grapevine', 'grapevines', 'gray', 'great', 'greater', 'greatest', 'greatly', 'greece', 'greek', 'green', 'greenhouse', 'grey', 'grinding', 'griseb', 'groat', 'grooves', 'grossamide', 'ground', 'groundnut', 'group', 'grouped', 'groups', 'grow', 'grower', 'growers', 'growing', 'grown', 'growth', 'grx', 'gs115', 'gsh', 'gssg', 'gst', 'gstp1', 'gsts', 'gstu', 'gt', 'guarantee', 'guard', 'guest', 'guianan', 'guianensis', 'guided', 'guidedly', 'guinea', 'gus', 'gut', 'gy', 'gymnosperm', 'gynecological', 'h208', 'h2ax', 'h2o2', 'h3', 'h3k27me3', 'h4', 'h4iiec3', 'h7', 'h9c2', 'ha', 'habitat', 'habitats', 'haematological', 'hairless', 'hairy', 'half', 'halfway', 'halogenase', 'halogenated', 'halt', 'hamburg', 'hamper', 'hampered', 'hamster', 'hamsters', 'hand', 'handling', 'haploid', 'harbored', 'harboring', 'harbouring', 'harness', 'harpin', 'hartree', 'harvest', 'harvested', 'harvesting', 'harvests', 'hat', 'hatagirea', 'haustoria', 'hazards', 'hbecr', 'hcc', 'hchl', 'hct', 'hct116', 'hdl', 'heading', 'healing', 'health', 'healthier', 'healthy', 'heart', 'hearts', 'heartwood', 'heat', 'heavy', 'heck', 'height', 'heimii', 'heimiols', 'hej', 'hek293', 'hek_5', 'hela', 'held', 'hellebore', 'helminth', 'helminthiasis', 'help', 'helpful', 'helping', 'hematological', 'hematopoietic', 'heme', 'hemolysis', 'hemopoietic', 'hemostasis', 'hence', 'henryana', 'hepatic', 'hepatocyte', 'hepatocytes', 'hepatoma', 'hepatoprotective', 'hepg', 'hepg2', 'hept', 'heptamers', 'heptane', 'herb', 'herbaceous', 'herbal', 'herbicide', 'herbivores', 'herbs', 'hereby', 'herein', 'hete', 'heterocyclic', 'heterodimeric', 'heterogeneous', 'heterologous', 'heterologously', 'hexahydroxy', 'hexahydroxystilbene', 'hexamer', 'hexamers', 'hexandrum', 'hexane', 'hexanoyl', 'hexestrol', 'hexosamine', 'hexose', 'hexoside', 'hexuronic', 'heyneanol', 'hf', 'hgc1', 'hhs', 'hht', 'hibernal', 'hierarchies', 'higginsianum', 'high', 'highbush', 'higher', 'highest', 'highlight', 'highlighted', 'highlighting', 'highlights', 'highly', 'hilic', 'himalayan', 'himalayas', 'hind', 'hindered', 'hippocampal', 'hir', 'hiseq', 'histamine', 'histidine', 'histochemical', 'histochemically', 'histone', 'histopathological', 'histopathology', 'historical', 'history', 'hitherto', 'hiv', 'hl', 'hl60', 'hl60r', 'hlcs', 'hmbc', 'hmqc', 'hn', 'ho', 'hodgkin', 'hokkaido', 'hold', 'holding', 'holds', 'holistic', 'holocarboxylase', 'holsteiner', 'home', 'homemade', 'homeostasis', 'homocysteine', 'homodimer', 'homodimeric', 'homogenate', 'homogenates', 'homogeneity', 'homogeneous', 'homogeneously', 'homolog', 'homologous', 'homologs', 'homologues', 'homology', 'homolytic', 'homozygous', 'honey', 'hop', 'hopea', 'hopeaphenol', 'hops', 'hormesis', 'hormetic', 'hormone', 'hormones', 'horner', 'horseradish', 'hospital', 'host', 'hosts', 'hot', 'hour', 'hours', 'houtt', 'however', 'hp', 'hpi', 'hplc', 'hpt', 'hptlc', 'hr', 'hrms', 'hsc', 'hscyp1b1', 'hsp40', 'hsp70', 'hsp90', 'hsqc', 'ht', 'ht1080', 'htc116', 'htlv', 'http', 'hu', 'huge', 'hull', 'human', 'humans', 'humidities', 'humidity', 'humoral', 'humulus', 'hunan', 'hundred', 'huntington', 'hut78', 'hut78b1', 'hut78b3', 'huvecs', 'huzhang', 'hw', 'hwp1', 'hybrid', 'hybrida', 'hybridization', 'hybrids', 'hydratase', 'hydrazyl', 'hydrocarbon', 'hydrocarbons', 'hydrodynamic', 'hydroethanolic', 'hydrogen', 'hydrogens', 'hydrolapathum', 'hydrolase', 'hydrolysable', 'hydrolysate', 'hydrolysates', 'hydrolysis', 'hydrolytic', 'hydrolyzed', 'hydrolyzes', 'hydroperoxide', 'hydroperoxides', 'hydrophilic', 'hydrophobicity', 'hydropiperoside', 'hydroxy', 'hydroxyamino', 'hydroxybenzaldehyde', 'hydroxybenzoic', 'hydroxycinnamic', 'hydroxycinnamoyl', 'hydroxycinnamoyltransferase', 'hydroxydopamine', 'hydroxyferuloyl', 'hydroxygenistein', 'hydroxyl', 'hydroxylapatite', 'hydroxylase', 'hydroxylases', 'hydroxylated', 'hydroxylation', 'hydroxymellein', 'hydroxymethyl', 'hydroxynitro', 'hydroxyphenyl', 'hydroxyphenyliminomethyl', 'hydroxyphenylpropionyl', 'hydroxyphloretin', 'hydroxypterostilbene', 'hydroxystilbene', 'hydroxystilbenes', 'hydroxystyrene', 'hydroxytoluene', 'hydroxyurea', 'hygromycin', 'hypercaloric', 'hypercholesterolemia', 'hypercholesterolemic', 'hyperglycemia', 'hypermethylated', 'hypermethylation', 'hyperoside', 'hyperphosphorylated', 'hyperpigmentation', 'hyperresponsiveness', 'hypersensitive', 'hypertension', 'hypertensive', 'hypertriglyceridemia', 'hypertrophic', 'hypertrophiceffects', 'hypertrophy', 'hyperuricemia', 'hyphae', 'hyphal', 'hyphenated', 'hypodermal', 'hypogaea', 'hypolipidemic', 'hypophosphorylated', 'hypophosphorylation', 'hypopigmentation', 'hypotensive', 'hypotheses', 'hypothesis', 'hypothesised', 'hypothesize', 'hypothesized', 'hypoxanthin', 'hypoxia', 'ibmyb1a', 'ibuprofen', 'ic', 'ic50', 'ic90', 'ice', 'ic₅₀', 'id', 'ideae', 'ideal', 'identical', 'identification', 'identified', 'identifies', 'identify', 'identifying', 'identities', 'identity', 'ifn', 'ifnγ', 'igg', 'ignore', 'ii', 'iia', 'iii', 'iiib', 'ikappab', 'ikappaba', 'iksan', 'il', 'il6', 'illnesses', 'illumina', 'illumination', 'illustrated', 'images', 'imaging', 'imatinib', 'imbalance', 'imbibed', 'imine', 'imiquimod', 'immature', 'immediately', 'immobilization', 'immortelle', 'immune', 'immunity', 'immunize', 'immuno', 'immunoblot', 'immunocytochemical', 'immunoglobulin', 'immunohistochemical', 'immunohistochemically', 'immunohistochemistry', 'immunomodulation', 'immunomodulatory', 'immunoprecipitation', 'immunoreactive', 'immunoreactivity', 'immunosorbent', 'impact', 'impacts', 'impair', 'impaired', 'impairing', 'impairment', 'impairments', 'imparted', 'imparts', 'impetus', 'implantation', 'implanted', 'implants', 'implemented', 'implicate', 'implicated', 'implicating', 'implications', 'implies', 'imply', 'importance', 'important', 'importantly', 'imported', 'imposed', 'impracticable', 'impractical', 'impregnated', 'impressive', 'imprinting', 'improve', 'improved', 'improvement', 'improvements', 'improves', 'improving', 'improvising', 'impurities', 'imq', 'inability', 'inactivate', 'inactivation', 'inactive', 'inadequate', 'inadequately', 'inaequalis', 'inborn', 'inbred', 'incidence', 'include', 'included', 'includes', 'including', 'inconsistent', 'incorporate', 'incorporated', 'incorporation', 'increase', 'increased', 'increases', 'increasing', 'increasingly', 'incubated', 'incubating', 'incubation', 'incubations', 'indeed', 'independence', 'independent', 'independently', 'index', 'india', 'indica', 'indicate', 'indicated', 'indicates', 'indicating', 'indication', 'indications', 'indicative', 'indicator', 'indicators', 'indices', 'indigenous', 'indirectly', 'indisputable', 'individual', 'individually', 'indole', 'indolebutyric', 'induce', 'induced', 'inducer', 'inducers', 'induces', 'inducibility', 'inducible', 'inducing', 'induction', 'inductive', 'industrial', 'industrially', 'industries', 'industry', 'ineffective', 'inefficient', 'inexpensive', 'infantum', 'infarct', 'infarction', 'infected', 'infection', 'infections', 'infectious', 'infective', 'infectivity', 'infects', 'inferred', 'infertility', 'infestans', 'infiltrated', 'inflammation', 'inflammatory', 'inflorescences', 'influence', 'influenced', 'influences', 'influencing', 'influx', 'information', 'infrared', 'infused', 'infusion', 'ingested', 'ingestion', 'ingredient', 'ingredients', 'inherent', 'inheritance', 'inhi', 'inhibit', 'inhibited', 'inhibiting', 'inhibition', 'inhibitions', 'inhibitor', 'inhibitors', 'inhibitory', 'inhibits', 'initial', 'initially', 'initiate', 'initiated', 'initiation', 'initiators', 'initio', 'injected', 'injection', 'injections', 'injurious', 'injury', 'innate', 'innovative', 'inoculated', 'inoculating', 'inoculation', 'inoculations', 'inoculum', 'inos', 'inotropic', 'input', 'insect', 'insects', 'insensitive', 'insert', 'inserted', 'inside', 'insight', 'insights', 'insignificant', 'insoluble', 'instability', 'instance', 'instantaneous', 'instantly', 'instead', 'institute', 'instrument', 'instrumentation', 'insufficient', 'insulin', 'insult', 'intact', 'intake', 'integrase', 'integrases', 'integrated', 'integrating', 'integration', 'integrin', 'integrity', 'intended', 'intense', 'intensely', 'intensification', 'intensities', 'intensity', 'intensive', 'intensively', 'inter', 'interact', 'interacted', 'interacting', 'interaction', 'interactions', 'interactive', 'interacts', 'intercalation', 'intercellular', 'interday', 'interest', 'interesting', 'interestingly', 'interface', 'interfamily', 'interfere', 'interference', 'interferes', 'interfering', 'interferon', 'interleukin', 'interleukins', 'intermediary', 'intermediate', 'intermediates', 'intermolecular', 'internal', 'internode', 'interphenyl', 'interplay', 'interpretation', 'interspecific', 'interval', 'intervals', 'interviews', 'intestinal', 'intestine', 'intra', 'intracellular', 'intramolecular', 'intraperitoneally', 'intravenous', 'intricate', 'intriguing', 'intriguingly', 'intrinsic', 'introduce', 'introduced', 'introducing', 'introduction', 'intron', 'invaded', 'invader', 'invading', 'invasion', 'invasive', 'inverse', 'investigate', 'investigated', 'investigates', 'investigating', 'investigation', 'investigations', 'investigators', 'involve', 'involved', 'involvement', 'involvements', 'involves', 'involving', 'iodoaryl', 'ion', 'ionic', 'ionisation', 'ionization', 'ionophore', 'ions', 'ip', 'ipd', 'iproniazid', 'iptg', 'ira', 'irac', 'ire1', 'iron', 'irradiated', 'irradiation', 'irregularis', 'irrespective', 'ischaemia', 'ischemia', 'ischemic', 'island', 'islands', 'isobologram', 'isobutyrophenone', 'isoelectric', 'isoenzymes', 'isoflavone', 'isoflavones', 'isoflavonoid', 'isoflavonoids', 'isoform', 'isoforms', 'isogenes', 'isohopeaphenol', 'isokaempferide', 'isolate', 'isolated', 'isolates', 'isolating', 'isolation', 'isolicoflavonol', 'isoliquiritigenin', 'isomer', 'isomerase', 'isomeric', 'isomerisation', 'isomerization', 'isomers', 'isopentadienyl', 'isopentadienylresveratrol', 'isopentenyl', 'isopropyl', 'isoprunetin', 'isor', 'isorhamnetin', 'isorhaponticin', 'isorhapontigenin', 'isorhapontin', 'isoscirpusin', 'isosteric', 'isotope', 'isotopologue', 'isovaleryl', 'isovolumic', 'isozyme', 'israel', 'issue', 'issues', 'issuetoc', 'italia', 'italian', 'italica', 'italy', 'items', 'iv', 'ixocarpalactone', 'j82', 'ja', 'jackfruits', 'jaintia', 'jak', 'jangyeop', 'janus', 'japan', 'japanese', 'japonica', 'japonicus', 'jasmonate', 'jasmonates', 'jasmonic', 'jaz', 'jcp', 'jellies', 'jezoensis', 'jingzaojing', 'jnk', 'joaquim', 'john', 'joining', 'joint', 'js1018', 'juice', 'juices', 'jun', 'junctional', 'jurkat', 'justifies', 'k562', 'kaempferol', 'kakhetian', 'kanamycin', 'kangaroo', 'kappa', 'kappab', 'karst', 'katuranin', 'kbro', 'kcal', 'kcat', 'kda', 'keeping', 'kegg', 'keratinocytes', 'kernel', 'kernels', 'ketoacyl', 'ketoconazole', 'ketoglutarate', 'ketone', 'key', 'kg', 'kgdw', 'ki', 'kidney', 'killer', 'killers', 'killing', 'kin', 'kinase', 'kinases', 'kind', 'kinds', 'kinetic', 'kinetically', 'kinetics', 'kingdom', 'kiwi', 'kiwifruit', 'kl', 'klebsiella', 'kls', 'kluyveromyces', 'km', 'knockdown', 'knockout', 'knotweed', 'knotweeds', 'knowing', 'knowledge', 'known', 'kojohkon', 'kpa', 'krasnodarsky', 'kunming', 'kyoto', 'kyushu', 'l117f', 'l1210', 'l192', 'l5', 'la', 'labeled', 'labeling', 'labelled', 'labelling', 'laboratory', 'labrusca', 'laccases', 'lachnospiraceae', 'lack', 'lacking', 'lacks', 'lactam', 'lactate', 'lactiflora', 'lactis', 'lactococcus', 'lactone', 'laevis', 'lag', 'laid', 'lamellar', 'lamiaceae', 'laminaria', 'laminarin', 'laminin', 'land', 'large', 'largely', 'larger', 'largest', 'laricitrin', 'larvae', 'laser', 'lasi', 'lasr', 'last', 'lasted', 'lasting', 'lastly', 'lata', 'late', 'latency', 'latent', 'later', 'latest', 'latifolol', 'latter', 'launched', 'laurot', 'lavallée', 'layer', 'layered', 'layers', 'laying', 'lbd', 'lc', 'lc3', 'lc3b', 'lc3ii', 'ld', 'ldh', 'ldl', 'ldr', 'leachianol', 'lead', 'leading', 'leads', 'leaf', 'least', 'leave', 'leaves', 'lectins', 'led', 'left', 'legos', 'legume', 'leguminosae', 'lehd', 'leishmania', 'leishmanial', 'leishmanicidal', 'lend', 'length', 'lengths', 'lentiviral', 'lentiviruses', 'lepidosperma', 'lesion', 'lesions', 'less', 'lesser', 'lethal', 'lettuce', 'leucine', 'leucocytes', 'leukemia', 'leukemic', 'leukocyte', 'leukocytes', 'leukotriene', 'leukotrienes', 'level', 'levels', 'leverage', 'levuline', 'lewis', 'lfa', 'libitum', 'libraries', 'library', 'lichens', 'lichrospher', 'lie', 'lieu', 'life', 'lifespan', 'lifestyle', 'ligand', 'ligase', 'ligases', 'light', 'lightening', 'lignans', 'lignification', 'lignin', 'lignins', 'ligurian', 'ligustica', 'ligustilide', 'like', 'likely', 'likewise', 'limit', 'limitation', 'limitations', 'limited', 'limiting', 'limits', 'lin', 'linalool', 'lindl', 'line', 'linear', 'linearity', 'lines', 'lineweaver', 'lingonberry', 'linked', 'linking', 'linoleic', 'linolenic', 'linum', 'lipase', 'lipid', 'lipids', 'lipogenic', 'lipolysis', 'lipolytic', 'lipolytica', 'lipophilic', 'lipophilicity', 'lipophylic', 'lipopolysaccharide', 'lipopolysaccharides', 'lipoprotein', 'lipoproteins', 'liposomes', 'lipotoxicity', 'lipoxygenase', 'liquid', 'list', 'listeria', 'litany', 'liter', 'literature', 'litre', 'little', 'live', 'liver', 'liverwort', 'living', 'llc', 'lloq', 'lmp2a', 'lncap', 'loaded', 'loading', 'local', 'localisation', 'localities', 'locality', 'localization', 'localize', 'localized', 'localizing', 'locally', 'located', 'location', 'locations', 'loci', 'loes', 'log', 'london', 'long', 'longer', 'longevity', 'longifolia', 'look', 'looked', 'loop', 'loose', 'loqs', 'lose', 'loss', 'losses', 'lots', 'low', 'lowbush', 'lower', 'lowered', 'lowering', 'lowers', 'lowest', 'lox', 'loxs', 'lps', 'lre', 'lrr', 'lsrccc', 'lt', 'ltc4', 'ltd', 'ltβr', 'lu65', 'luc', 'lucidum', 'luciferase', 'ludicum', 'luminol', 'lung', 'lupeol', 'lupulus', 'luteolin', 'lwoffii', 'ly2', 'ly294002', 'lyase', 'lyases', 'lycopene', 'lycopersicon', 'lycopersicum', 'lymphoblastic', 'lymphocyte', 'lymphocytes', 'lymphoid', 'lymphoma', 'lymphotoxin', 'lyophilised', 'lyophilized', 'lysates', 'lysosomal', 'lysozyme', 'm1', 'm2', 'm27', 'm3', 'ma4cl', 'maackin', 'macedonian', 'maceration', 'macrocarpon', 'macrofungi', 'macromolecular', 'macronutrients', 'macrophage', 'macrophages', 'macrophomina', 'macroscopy', 'macular', 'made', 'mae', 'magnetic', 'magnitude', 'main', 'mainly', 'maintain', 'maintaining', 'maintains', 'maintenance', 'major', 'majus', 'make', 'makes', 'making', 'malate', 'maldi', 'male', 'males', 'malignancies', 'malignancy', 'malignant', 'malondialdehyde', 'malonyl', 'malonyldialdehyde', 'malonyltransferase', 'maltese', 'malthus', 'maltose', 'maltoside', 'maltosides', 'maltosylation', 'malus', 'malverina', 'malvidin', 'malvidine', 'mammalian', 'mammals', 'mammary', 'man', 'management', 'mandilaria', 'manghas', 'manifestations', 'manifested', 'manifesting', 'manipulate', 'manipulation', 'manner', 'manually', 'manufacture', 'manufacturing', 'manumycin', 'manuscript', 'many', 'mao', 'map', 'mapk', 'mapkkk', 'mapkkks', 'mapks', 'mapped', 'mapping', 'marc', 'marginal', 'marginata', 'marianum', 'marked', 'markedly', 'marker', 'markers', 'market', 'marketed', 'marketplace', 'marrows', 'mars', 'marselan', 'mass', 'massive', 'mast', 'master', 'masts', 'matched', 'mate', 'material', 'materials', 'matrices', 'matrigel', 'matrix', 'matter', 'maturation', 'mature', 'maturity', 'max', 'maxim', 'maxima', 'maximal', 'maximize', 'maximum', 'may', 'maydis', 'mazuelo', 'mb', 'mba', 'mbcd', 'mbmpa', 'mcds', 'mcf', 'mcf10a', 'mcf7', 'mcp', 'mcp1', 'mda', 'mdh', 'mdms', 'mdr', 'me7', 'meagerly', 'mean', 'meaningful', 'means', 'meantime', 'meanwhile', 'measurable', 'measure', 'measured', 'measurement', 'measurements', 'measures', 'measuring', 'meats', 'mechanic', 'mechanical', 'mechanism', 'mechanisms', 'mechanistic', 'media', 'median', 'mediate', 'mediated', 'mediates', 'mediating', 'mediator', 'mediators', 'medicaginis', 'medicago', 'medical', 'medically', 'medications', 'medicinal', 'medicinally', 'medicine', 'medicines', 'mediterranean', 'medium', 'mediums', 'meet', 'megasperma', 'megaterium', 'meh', 'meja', 'mek', 'mek1', 'melampsora', 'melan', 'melanin', 'melanocyte', 'melanogaster', 'melanogenic', 'melanoma', 'melanoxethin', 'mellein', 'mellifera', 'mellitus', 'member', 'members', 'membrane', 'membranes', 'memory', 'men', 'menadione', 'menopausal', 'menstruation', 'mentioned', 'meoh', 'mep', 'merit', 'merits', 'merlot', 'merzling', 'mes', 'mesenchymal', 'meshwork', 'mesocarp', 'mesophyll', 'messenger', 'mesylate', 'met', 'meta', 'metabolic', 'metabolically', 'metabolise', 'metabolising', 'metabolism', 'metabolisms', 'metabolite', 'metabolites', 'metabolitism', 'metabolization', 'metabolize', 'metabolized', 'metabolizes', 'metabolizing', 'metabolome', 'metabolomic', 'metabolomics', 'metal', 'metalloprotease', 'metalloproteinase', 'metalloproteinases', 'metals', 'metastasis', 'metastatic', 'methanol', 'methanolic', 'methide', 'methionine', 'method', 'methodologies', 'methodology', 'methods', 'methoxy', 'methoxybenzylidene', 'methoxycinnamic', 'methoxyflavonol', 'methoxyl', 'methoxylated', 'methoxyphenyl', 'methoxyresorufin', 'methoxyresveratrol', 'methoxystilbene', 'methoxystilbenes', 'methoxystypandrone', 'methyl', 'methylallyl', 'methylated', 'methylates', 'methylating', 'methylation', 'methylcyclopropene', 'methylenedioxy', 'methylether', 'methylethyl', 'methyljasmonate', 'methylphenol', 'methylpropionamidine', 'methylresveratrol', 'methyltransferase', 'methyltransferases', 'metmyoglobin', 'metoxylated', 'mevalonic', 'mexican', 'mezoneuron', 'mg', 'mg1', 'mic', 'mice', 'michele', 'michx', 'micro', 'microarray', 'microarrays', 'microbes', 'microbial', 'microbiological', 'microbiota', 'microdilution', 'microelectrode', 'microenvironment', 'microextraction', 'microflora', 'microfungi', 'microg', 'microglia', 'microglial', 'microgram', 'micrograms', 'microheterogeneity', 'microinvasion', 'microliter', 'microliters', 'microm', 'micromol', 'micromolar', 'micronized', 'micronucleus', 'microorganism', 'microorganisms', 'micropropagation', 'microrna', 'microscopical', 'microscopy', 'microsomal', 'microsomes', 'microtubule', 'microwave', 'mics', 'mid', 'midazolam', 'middle', 'mig', 'might', 'migration', 'migratory', 'mild', 'milder', 'mildew', 'milieu', 'milk', 'mill', 'milled', 'millefolium', 'milliciaexelsa', 'milligrams', 'million', 'mimcd', 'mimetic', 'mimetics', 'mimic', 'mimicking', 'min', 'mineral', 'mini', 'minima', 'minimal', 'minimally', 'minimize', 'minimizing', 'minimum', 'minipump', 'minor', 'minutes', 'miq', 'mir', 'miss', 'missing', 'mississippi', 'mit', 'mitigated', 'mitigating', 'mitochondria', 'mitochondrial', 'mitogen', 'mitoxantrone', 'mixed', 'mixture', 'mixtures', 'miyabenol', 'mizoroki', 'mj', 'mk', 'ml', 'mm', 'mmol', 'mmp', 'mmps', 'mmtv', 'mn', 'mnng', 'mnsod', 'mobile', 'mobility', 'mobilization', 'mode', 'model', 'modeling', 'modelling', 'models', 'moderate', 'moderately', 'modes', 'modification', 'modifications', 'modified', 'modifier', 'modifies', 'modify', 'modifying', 'modular', 'modulate', 'modulated', 'modulates', 'modulating', 'modulation', 'modulations', 'modulator', 'modulators', 'modulatory', 'module', 'moieties', 'moiety', 'moist', 'mol', 'mold', 'molecular', 'molecularly', 'molecule', 'molecules', 'monastrell', 'monitor', 'monitored', 'monitoring', 'mono', 'monoamine', 'monocot', 'monocots', 'monoculture', 'monocyte', 'monocytic', 'monocytogenes', 'monodominant', 'monogallate', 'monoglucoronide', 'monoglucosides', 'monoglucuronide', 'monokine', 'monolayer', 'monolignol', 'monolignols', 'monomer', 'monomeric', 'monomers', 'monomethyl', 'monomethylate', 'monomethylether', 'monomethylpinosylvin', 'mononuclear', 'monooxygenase', 'monophosphate', 'monospecific', 'monostilbene', 'monosulfate', 'montana', 'montebello', 'months', 'monticola', 'moraceae', 'moracin', 'moracins', 'moravia', 'moraxella', 'morbidity', 'moreae', 'morelloflavone', 'moreover', 'morphine', 'morphogenetic', 'morpholinyl', 'morphological', 'morphology', 'mortality', 'morus', 'mos', 'mosaic', 'moscatel', 'mosquito', 'mostly', 'motif', 'motifs', 'motile', 'motility', 'mould', 'mouse', 'moved', 'movement', 'mp2', 'mpo', 'mr', 'mrc', 'mrm', 'mrna', 'mrod', 'mrp', 'mrp2', 'mrsa', 'ms', 'msa', 'msh', 'msi', 'msm', 'msv', 'mtbe', 'mts', 'mtt', 'much', 'mucilage', 'mucosal', 'mug', 'mulberries', 'mulberroside', 'mulberry', 'multi', 'multichannel', 'multicommutated', 'multicommuted', 'multidrug', 'multifaceted', 'multiflora', 'multifunctional', 'multigene', 'multilayered', 'multimilligram', 'multimodal', 'multiomics', 'multiple', 'multiplicity', 'multipurpose', 'multistage', 'multistep', 'multitargeted', 'multitude', 'mum', 'mumol', 'murashige', 'murine', 'muscadine', 'muscadines', 'muscadinia', 'muscat', 'muscle', 'mushroom', 'musizin', 'must', 'mustangensis', 'mutagen', 'mutagenesis', 'mutagenic', 'mutagenicity', 'mutant', 'mutants', 'mutated', 'mutation', 'mutations', 'mv', 'mva', 'mw', 'mx1', 'mx2', 'myb', 'myb14', 'myb15', 'myba1', 'myba2', 'myba22', 'myba3', 'mybs', 'myc', 'mycelia', 'mycelial', 'mycelium', 'mycorrhizal', 'mycorrhization', 'mycorrhized', 'mycotoxigenic', 'mycotoxin', 'mycotoxins', 'myelo', 'myeloid', 'myeloperoxidase', 'myoblasts', 'myocardial', 'myocytes', 'myofibroblast', 'myofibroblasts', 'myopathy', 'myrecitin', 'myriad', 'myricetin', 'myriocin', 'myristate', 'myrtillus', 'møller', 'n4', 'na', 'naa', 'naaso2', 'nac', 'nacl', 'nad', 'nadph', 'nafld', 'named', 'namely', 'nano', 'nanocarriers', 'nanogram', 'nanomolar', 'nanoparticles', 'naphthalenes', 'naphthoflavone', 'naphthoquinone', 'naphthoquinones', 'napin', 'napoleon', 'napus', 'naringenin', 'naringin', 'narrow', 'nasopharyngeal', 'national', 'native', 'natural', 'naturally', 'naturalpolyphenol', 'nature', 'nbs', 'ncbi', 'nced2', 'ncrnas', 'near', 'nearly', 'necator', 'necessary', 'necrosis', 'necrotic', 'necrotrophic', 'need', 'needed', 'needles', 'needs', 'negative', 'neglect', 'neglected', 'negramaro', 'negroamaro', 'neighborhood', 'neither', 'nematodes', 'neo', 'neobalanocarpus', 'neofusicoccum', 'neohesperidoside', 'neolignan', 'neolignans', 'neonatal', 'neoplasms', 'neoplastic', 'nephroprotective', 'nerve', 'net', 'network', 'networks', 'neural', 'neuraminidase', 'neuro', 'neuroblastoma', 'neurodegeneration', 'neurodegenerative', 'neurogenerative', 'neuroinflammation', 'neurological', 'neuromuscular', 'neuronal', 'neurons', 'neuroprotection', 'neuroprotective', 'neurospora', 'neurosporaxanthin', 'neurotoxicity', 'neurotransmitters', 'neutral', 'neutrality', 'neutralize', 'neutrophils', 'never', 'nevertheless', 'new', 'newly', 'next', 'nf', 'nfcs', 'nfkappab', 'ng', 'ngfr', 'ngml', 'nh', 'nhx1', 'ni', 'nick', 'nicotiana', 'nicotinamide', 'nigrospora', 'nih3t3', 'nile', 'nine', 'nitrate', 'nitrated', 'nitration', 'nitrative', 'nitrergic', 'nitric', 'nitrite', 'nitro', 'nitrobenzaldehyde', 'nitrogen', 'nitrosoguanidine', 'nitrosourea', 'nitrostilbene', 'nitrotyrosine', 'nk1', 'nlc', 'nm', 'nmol', 'nmoles', 'nmr', 'no2', 'noble', 'noc', 'node', 'nodorum', 'nodular', 'nodulation', 'noir', 'nomenclature', 'non', 'nonamers', 'noncompetitive', 'none', 'nonelicited', 'nonfat', 'nonflavonoid', 'nongenomic', 'nonglycosylated', 'nonheme', 'nonhydroxylated', 'nonmelanoma', 'nonpareil', 'nonprenylated', 'nonproteolytic', 'nonselective', 'nonsignificant', 'nontransformed', 'nontransgenic', 'nootkatone', 'nop', 'normal', 'normalcy', 'normalise', 'normalization', 'normalize', 'normally', 'north', 'northeast', 'northern', 'norton', 'norway', 'norwithanolides', 'noryangonin', 'nos', 'nosocomial', 'notable', 'notably', 'notch', 'note', 'noted', 'noteworthy', 'nothofagin', 'noticed', 'notion', 'nourseothricin', 'nov', 'nov1', 'nov2', 'novel', 'novo', 'novosphingobium', 'nowadays', 'noxious', 'np', 'npc', 'nrf2', 'ns', 'nsmase', 'nta', 'nuclear', 'nucleocomplexes', 'nucleoside', 'nucleotide', 'nucleotides', 'nucleus', 'nuclides', 'nude', 'nudum', 'number', 'numerous', 'nutraceutical', 'nutraceuticals', 'nutriceuticals', 'nutrient', 'nutrients', 'nutrition', 'nutritional', 'nuts', 'nω', 'o157', 'o2', 'o3', 'oa', 'obese', 'obesity', 'objective', 'obligate', 'obligatory', 'observation', 'observations', 'observe', 'observed', 'observing', 'obstruct', 'obtain', 'obtainable', 'obtained', 'obtaining', 'obtusifolius', 'obvious', 'occluded', 'occlusion', 'occur', 'occurred', 'occurrence', 'occurring', 'occurs', 'ochraceus', 'ochratoxigenic', 'ochratoxin', 'octamers', 'odc', 'oenological', 'oestrogen', 'offer', 'offering', 'offers', 'officinale', 'officinalis', 'often', 'ogd', 'oglucoside', 'oh', 'ohadi', 'ohda', 'oil', 'oilseed', 'okadaic', 'old', 'older', 'oldest', 'oleanoate', 'olefinic', 'oleic', 'oletf', 'oligogalacturonide', 'oligomer', 'oligomeric', 'oligomerization', 'oligomerized', 'oligomers', 'oligosaccharides', 'oligosaccharidic', 'oligostilbenes', 'oligostilbenoid', 'oligostilbenoids', 'olivetol', 'olivetolic', 'olivil', 'ols', 'omics', 'omt', 'omts', 'oncogene', 'oncogenes', 'oncogenic', 'one', 'ones', 'ongoing', 'onion', 'online', 'onlinelibrary', 'onset', 'onto', 'ontology', 'oocyte', 'oocytes', 'oomt', 'oomycete', 'oomycetes', 'op', 'open', 'opens', 'operated', 'operates', 'opioid', 'opportunistic', 'opportunities', 'opportunity', 'opposed', 'opposite', 'oppositely', 'opsonin', 'optical', 'optimal', 'optimised', 'optimization', 'optimize', 'optimized', 'optimizing', 'optimum', 'option', 'options', 'optosensing', 'orac', 'oral', 'orange', 'orchestrates', 'orchid', 'orchidaceae', 'orcinol', 'order', 'orders', 'oregon', 'ores', 'organ', 'organelles', 'organic', 'organism', 'organisms', 'organization', 'organized', 'organoleptic', 'organotypic', 'organs', 'orientation', 'oriented', 'origin', 'original', 'originally', 'originated', 'originates', 'originating', 'origins', 'ornithine', 'ortho', 'orthogonal', 'orthologs', 'orthovanadate', 'orto', 'oryza', 'oryzae', 'os08g06100', 'oscc', 'osmotic', 'osmotically', 'ospmt', 'osteoarthritis', 'ota', 'others', 'otherwise', 'ottonel', 'ouabain', 'outcomes', 'outer', 'outline', 'output', 'outside', 'outstanding', 'ovarian', 'ovary', 'overall', 'overcome', 'overexpressed', 'overexpressing', 'overexpression', 'overlap', 'overproduced', 'overproducers', 'overview', 'owing', 'ox', 'oxadiazolium', 'oxidant', 'oxidants', 'oxidase', 'oxidases', 'oxidation', 'oxidative', 'oxidatively', 'oxide', 'oxidized', 'oxidizes', 'oxidizing', 'oxidoreductase', 'oxo', 'oxoferryl', 'oxoglutarate', 'oxomate', 'oxygen', 'oxygenase', 'oxygenases', 'oxyl', 'oxylipin', 'oxylipins', 'oxymethyl', 'oxyresveratrol', 'oxysporum', 'ozone', 'p1', 'p21', 'p21waf1', 'p27kip1', 'p38', 'p3a4', 'p450', 'p53', 'p53i', 'p65', 'pa', 'pa14', 'pac', 'packed', 'packing', 'paclitaxel', 'pacs', 'paeonia', 'paeoniaceae', 'pagt', 'paid', 'pain', 'pair', 'paired', 'pairs', 'pak', 'pal', 'palieri', 'palisade', 'pall', 'pallidol', 'pallidum', 'palmatem', 'palmatin', 'palmatum', 'palmitoyltransferase', 'palmivora', 'pamp', 'pamps', 'pancaspase', 'pancreatic', 'panel', 'pant', 'pantoea', 'pao', 'pao1', 'papaya', 'paper', 'papers', 'para', 'paradigm', 'paradox', 'parallel', 'paralleled', 'paralogs', 'paralysis', 'paramagnetic', 'parameter', 'parameters', 'paramount', 'paraoxonase', 'parasite', 'parasites', 'parenchyma', 'parent', 'parietal', 'parkinson', 'parkinsonian', 'parp', 'parsnip', 'part', 'parthenocissin', 'parthenocissus', 'partial', 'partially', 'participate', 'participated', 'participates', 'participation', 'particle', 'particles', 'particular', 'particularly', 'partition', 'partitioned', 'partitioning', 'partly', 'partners', 'partridgeberry', 'parts', 'parvifolium', 'parvum', 'passion', 'passito', 'passive', 'past', 'pastoris', 'pasts1', 'pasts2', 'patches', 'pathogen', 'pathogenesis', 'pathogenic', 'pathogenicity', 'pathogenous', 'pathogens', 'pathological', 'pathologically', 'pathologies', 'pathology', 'pathophysiology', 'pathway', 'pathways', 'patient', 'patientia', 'patients', 'pattern', 'patterns', 'paves', 'paw', 'pay', 'pbg', 'pbmcs', 'pc3', 'pca', 'pcambia1300', 'pcambia2300', 'pcc', 'pcpks5', 'pcr', 'pcrs', 'pcsts', 'pct', 'pd', 'pd098059', 'pda', 'pdb', 'pdchsx', 'pde', 'pdm11', 'pdm2', 'pds', 'pds12', 'pdsts1', 'pdsts2', 'pdsts3', 'pdtc', 'pe', 'pea', 'peak', 'peaked', 'peaks', 'peanut', 'peanuts', 'pectic', 'pectinase', 'pectolytic', 'peculiar', 'pediatric', 'pedicels', 'peduncle', 'peek', 'peel', 'peg', 'pelletization', 'pellets', 'penetrated', 'penetration', 'pentacyclic', 'pentahydroxyflavone', 'pentahydroxystilbene', 'pentamer', 'pentamers', 'pentose', 'peonidin', 'peony', 'people', 'pepck', 'peppercorn', 'peptide', 'per', 'perceived', 'percentage', 'perception', 'perennial', 'perform', 'performance', 'performed', 'performing', 'performs', 'period', 'periodic', 'periodically', 'periodontitis', 'periods', 'peripheral', 'peritoneal', 'perlette', 'permanent', 'permeants', 'permeation', 'permit', 'permits', 'peroxidase', 'peroxidases', 'peroxidation', 'peroxidative', 'peroxide', 'peroxisome', 'peroxyl', 'peroxynitrite', 'pers', 'persistent', 'person', 'personal', 'persons', 'perspective', 'pertaining', 'perturbation', 'perturbations', 'pesticide', 'pesticides', 'pests', 'pet', 'petiole', 'petioles', 'petroselinum', 'peucetius', 'pf', 'pge', 'pge2', 'pgip', 'pgsc', 'pgsc1', 'pgsc2', 'pgsg10', 'pgsg11', 'ph', 'pha', 'phagocytic', 'phagocytosis', 'pharma', 'pharmaceutical', 'pharmaceutically', 'pharmaceuticals', 'pharmacokinetic', 'pharmacokinetics', 'pharmacologic', 'pharmacological', 'pharmacologically', 'pharmacology', 'pharmacopoeia', 'pharmacy', 'phase', 'phaseolina', 'phases', 'phb', 'phe', 'phe215', 'phellinus', 'phenacetin', 'phenanthrene', 'phenazine', 'phenidone', 'phenol', 'phenolic', 'phenolics', 'phenoloxidase', 'phenols', 'phenomena', 'phenomenon', 'phenotype', 'phenotypes', 'phenotypic', 'phenoxy', 'phenoxyl', 'phenyalanine', 'phenyl', 'phenylalanine', 'phenylaniline', 'phenylephrine', 'phenylglyoxal', 'phenylimidazo', 'phenylpropanoid', 'phenylpropanoids', 'pheochromocytoma', 'phip', 'phloems', 'phloretin', 'phlorisovalerophenone', 'phlorizin', 'phloroglucinol', 'pholidota', 'pholidotol', 'phoma', 'phomopsis', 'phorbol', 'phos', 'phospha', 'phosphatases', 'phosphate', 'phosphatidylcholine', 'phosphatidylinositol', 'phosphatidylserine', 'phospho', 'phosphodiesterase', 'phosphoenolpyruvate', 'phospholipase', 'phospholipid', 'phosphomonoesterases', 'phosphonates', 'phosphorylated', 'phosphorylation', 'photo', 'photoaging', 'photochemical', 'photochemopreventive', 'photodamage', 'photodiode', 'photoisomerization', 'photolabeling', 'photometry', 'photoproduct', 'photoreactor', 'photosensitive', 'photosynthesis', 'phototrophic', 'phs', 'phycoerythrin', 'phylloquinone', 'phylogenetic', 'phylogenetically', 'phylogeny', 'physcion', 'physical', 'physically', 'physicochemical', 'physio', 'physiologic', 'physiological', 'physiologically', 'physiology', 'phytoalexin', 'phytoalexine', 'phytoalexins', 'phytochemical', 'phytochemicals', 'phytochemistry', 'phytodienoic', 'phytoestrogen', 'phytoestrogenic', 'phytohemagglutinin', 'phytohormone', 'phytohormones', 'phytolacca', 'phytonutrients', 'phytopathogen', 'phytopathogenic', 'phytopathogens', 'phytopathology', 'phytophagous', 'phytophthora', 'phytoprotective', 'phytostilbenes', 'pi', 'pi3k', 'pia', 'piacenza', 'piave', 'pic', 'picea', 'piceatannol', 'piceid', 'piceide', 'piceides', 'piceids', 'picetannol', 'pichia', 'picked', 'picryl', 'picrylhydrazyl', 'picture', 'pieces', 'pig', 'pigment', 'pigmentation', 'pigments', 'pigs', 'pikromycin', 'pilot', 'pin', 'pinaceae', 'pine', 'pineapple', 'pines', 'pinocembrin', 'pinostilbene', 'pinosylvin', 'pinot', 'pinus', 'pip3', 'pistachio', 'pistachios', 'pistacia', 'pith', 'pivotal', 'piwi', 'pjsts', 'pjsts1a', 'pjsts1b', 'pjsts2', 'pjsts3', 'pk', 'pkc', 'pkk233', 'pks', 'pl', 'place', 'placed', 'placement', 'places', 'plain', 'planar', 'planarity', 'plane', 'planktonic', 'plant', 'planta', 'plantlets', 'plants', 'plaques', 'plasma', 'plasmid', 'plasmids', 'plasmopara', 'plastid', 'plate', 'platelet', 'platelets', 'plates', 'platform', 'platforms', 'plating', 'platinum', 'play', 'played', 'playing', 'plays', 'pleckstrin', 'pleiotropic', 'plesset', 'plethora', 'plfa', 'plots', 'plus', 'plyss', 'pm', 'pma', 'pmca', 'pmn', 'pmog800', 'pmol', 'pms', 'pn', 'pn40024', 'pne', 'pneumoniae', 'pni', 'pnj', 'pnl', 'pnp', 'pnrs1', 'pocket', 'pod', 'podophyllotoxin', 'podophyllum', 'pods', 'point', 'pointed', 'pointing', 'points', 'poisoning', 'poland', 'polar', 'polarization', 'polarized', 'pollen', 'pollinated', 'pollination', 'pollution', 'poly', 'polyacrylamide', 'polyamine', 'polyamines', 'polycomb', 'polycyclic', 'polydatin', 'polyethylene', 'polygalacturonase', 'polygonaceae', 'polygoni', 'polygonum', 'polyhydroxy', 'polyhydroxylated', 'polyketide', 'polyketides', 'polymalonate', 'polymer', 'polymerase', 'polymeric', 'polymerization', 'polymers', 'polymethoxy', 'polymethoxylated', 'polymethoxystilbene', 'polymethoxystilbenes', 'polymorphisms', 'polymorphonuclear', 'polynucleotidyl', 'polyohenolic', 'polypeptide', 'polyphenol', 'polyphenolic', 'polyphenolics', 'polyphenols', 'polyphosphates', 'polysaccharide', 'polysaccharides', 'polyunsaturated', 'pomace', 'pomifera', 'pool', 'pooled', 'pools', 'poor', 'poorly', 'poplar', 'pople', 'popular', 'populated', 'population', 'populations', 'populus', 'porcine', 'pork', 'portugal', 'position', 'positioned', 'positions', 'positive', 'positively', 'positivity', 'positron', 'possess', 'possessed', 'possesses', 'possessing', 'possibilities', 'possibility', 'possible', 'possibly', 'post', 'postbreaker', 'postharvest', 'postlabelling', 'postmenopausal', 'postprandial', 'postulated', 'pot', 'potassium', 'potato', 'potencies', 'potency', 'potent', 'potential', 'potentially', 'potentials', 'potentiated', 'potentiating', 'potentiation', 'potently', 'powder', 'powdered', 'powders', 'powdery', 'power', 'powerful', 'powers', 'pparalpha', 'ppic9k', 'ppm', 'ppo', 'ppo1', 'pppn', 'pppns', 'pr', 'pr3', 'pr5', 'practical', 'practically', 'practices', 'prausnitzii', 'praziquantel', 'prb', 'pre', 'preapplication', 'precancerous', 'preceded', 'precipitated', 'precipitation', 'precise', 'precision', 'preclinical', 'preclinically', 'precontracted', 'precursor', 'precursors', 'predicted', 'predicting', 'prediction', 'predicts', 'predisposed', 'predominant', 'predominantly', 'preferable', 'preference', 'preferences', 'preferentially', 'preferred', 'preformed', 'pregnane', 'preharvest', 'preincubated', 'preincubation', 'preliminarily', 'preliminary', 'premalignant', 'preneoplastic', 'prenyl', 'prenylated', 'prenyltransferase', 'prenyltransferases', 'preparation', 'preparations', 'preparative', 'prepared', 'preparing', 'prepurified', 'presence', 'present', 'presentations', 'presented', 'presenting', 'presently', 'presents', 'preservatives', 'preserving', 'presnelin', 'press', 'pressing', 'pressure', 'pressures', 'pressurized', 'presumably', 'presumed', 'pretreatment', 'prevailed', 'prevalence', 'prevent', 'prevented', 'preventing', 'prevention', 'preventive', 'prevents', 'previous', 'previously', 'pria4', 'price', 'pricing', 'pride', 'primarily', 'primary', 'prime', 'primed', 'primer', 'primers', 'priming', 'primitive', 'primitivo', 'principal', 'principally', 'principle', 'principles', 'prion', 'prior', 'pro', 'proanthocyanidin', 'proanthocyanidins', 'proapoptotic', 'probable', 'probably', 'probes', 'problem', 'problematic', 'problems', 'procedure', 'procedures', 'proceeded', 'proceeds', 'process', 'processed', 'processes', 'processing', 'procyanidin', 'procyanidins', 'prodelphinidin', 'prodrug', 'produce', 'produced', 'producer', 'produces', 'producing', 'product', 'production', 'productive', 'productivity', 'products', 'profile', 'profiled', 'profiles', 'profiling', 'profitable', 'profound', 'profoundly', 'progenies', 'progeny', 'progesterone', 'prognosis', 'programmed', 'programs', 'progress', 'progression', 'progressively', 'proinflammatory', 'projected', 'prokaryotes', 'proliferating', 'proliferation', 'proliferative', 'proliferator', 'proline', 'prolonged', 'prominence', 'prominent', 'prominently', 'promiscuity', 'promiscuous', 'promise', 'promising', 'promote', 'promoted', 'promoter', 'promoters', 'promotes', 'promoting', 'promotion', 'promotor', 'prompted', 'promptly', 'promptness', 'promyelocitic', 'promyelocytic', 'prone', 'pronounced', 'prooxidant', 'prooxidative', 'propagated', 'propagation', 'propagations', 'propanoic', 'propanoid', 'propensity', 'proper', 'properties', 'property', 'propolis', 'proportion', 'proportionally', 'proportions', 'propose', 'proposed', 'proposes', 'prospect', 'prospective', 'prospects', 'prostaglandin', 'prostaglandins', 'prostate', 'prot', 'protease', 'proteasome', 'protecs', 'protect', 'protected', 'protecting', 'protection', 'protective', 'protectory', 'protects', 'protein', 'proteinase', 'proteins', 'proteolytic', 'proteome', 'proteomic', 'proto', 'protocatechuic', 'protocol', 'protocols', 'proton', 'protoplasts', 'prototype', 'prove', 'proved', 'proven', 'provide', 'provided', 'provides', 'providing', 'provoke', 'provoked', 'provokes', 'prp', 'prps', 'pruned', 'pruning', 'prunus', 'ps', 'psdiox', 'pse', 'psetta', 'pseudochrobactrum', 'pseudomonas', 'pseudoreticulata', 'psi', 'psilophyta', 'psilotaceae', 'psilotum', 'psoriasiform', 'psoriasis', 'pspt1', 'pss', 'pst', 'psv25', 'pt', 'pte', 'pter', 'pteridophyte', 'pteridophytes', 'pterocarpan', 'pterostilbene', 'pthos', 'pti', 'pto', 'ptoccr', 'ptoccr1', 'ptoccr7', 'ptr', 'ptrc1o', 'ptrc1ocore', 'public', 'publication', 'published', 'pubmed', 'puccinia', 'pufa', 'pulcher', 'pulcherrima', 'pull', 'pullulans', 'pulp', 'pulse', 'pumila', 'pump', 'puncta', 'punctured', 'purchased', 'pure', 'purification', 'purified', 'purify', 'purifying', 'purine', 'purity', 'purported', 'purpose', 'purposes', 'purpurea', 'pursued', 'push', 'putative', 'putrescine', 'pv', 'pve', 'pvp', 'pvpsts29', 'pvst1', 'pvtz', 'pxr', 'pycnidia', 'pyocyanin', 'pyogenes', 'pyrene', 'pyridine', 'pyridostigmine', 'pyridyl', 'pyrimidine', 'pyrone', 'pyrones', 'pyrrolidine', 'pyrroline', 'pyruvate', 'pyruvic', 'pzq', 'qae', 'qm', 'qpcr', 'qqq', 'qrt', 'qs', 'qtl', 'qtof', 'quadragularin', 'quadrangularin', 'quadruplex', 'quadrupole', 'qualified', 'qualitative', 'qualitatively', 'qualities', 'quality', 'quantification', 'quantified', 'quantify', 'quantitate', 'quantitated', 'quantitation', 'quantitative', 'quantitatively', 'quantities', 'quantity', 'quantum', 'quartets', 'quartz', 'quaternary', 'quench', 'quenching', 'quer', 'quercetin', 'question', 'questioned', 'quic', 'quick', 'quickly', 'quiescence', 'quiescent', 'quinone', 'quinones', 'quinquangularis', 'quite', 'quorum', 'r2', 'r2r3', 'r3', 'rabbit', 'rabbiteye', 'rabbits', 'raboso', 'racemic', 'rachis', 'radial', 'radiation', 'radiations', 'radical', 'radicals', 'radioactivity', 'radiochemical', 'radiochemistry', 'radiolabelling', 'radiolysis', 'radiolytic', 'radiometric', 'radiopharmacological', 'radioresistant', 'radiosensitizing', 'radiosynthesis', 'radiotracers', 'radula', 'radulaceae', 'raf', 'raillietina', 'rainforest', 'raise', 'raised', 'randomly', 'range', 'ranged', 'ranges', 'ranging', 'rank', 'rapamycin', 'rapeseed', 'rapid', 'rapidly', 'rare', 'rarely', 'ras', 'ras1', 'raspberries', 'rassak', 'rat', 'rate', 'ratelimiting', 'rates', 'rather', 'ratio', 'rational', 'rationale', 'rationalization', 'rationalize', 'rationally', 'rats', 'rauschert', 'raw', 'ray', 'rays', 'rb', 'rbsii', 'rco1', 'rd', 'reach', 'reached', 'reaching', 'react', 'reacted', 'reacting', 'reaction', 'reactions', 'reactivation', 'reactive', 'reactivity', 'reacts', 'reader', 'readily', 'readout', 'reads', 'reagent', 'reagents', 'real', 'realized', 'reannotation', 'reappraise', 'rearrangement', 'reason', 'reasonable', 'reasons', 'recapitulated', 'recapitulates', 'received', 'receives', 'receiving', 'recent', 'recently', 'receptacle', 'receptor', 'receptors', 'recioto', 'reciprocally', 'recognisable', 'recognition', 'recognized', 'recombinant', 'recombinase', 'recombination', 'recombined', 'recondita', 'reconstitution', 'reconstructed', 'reconstructing', 'reconstruction', 'recorded', 'recover', 'recoverable', 'recovered', 'recoveries', 'recovering', 'recovery', 'recruit', 'recruitment', 'recrystallization', 'rectifying', 'recutita', 'recycling', 'red', 'redglobe', 'redirecting', 'redox', 'reduce', 'reduced', 'reduces', 'reducing', 'reductase', 'reductases', 'reduction', 'reductions', 'reductive', 'redundant', 'reference', 'referred', 'reflected', 'regard', 'regarded', 'regarding', 'regardless', 'regenerated', 'regio', 'regioisomeric', 'region', 'regions', 'regionspecific', 'regioselective', 'regular', 'regularity', 'regulate', 'regulated', 'regulates', 'regulating', 'regulation', 'regulator', 'regulators', 'regulatory', 'reinforced', 'reinforcement', 'reishi', 'relate', 'related', 'relates', 'relation', 'relationship', 'relationships', 'relative', 'relatively', 'relatives', 'relativity', 'relaxant', 'relaxation', 'relaxations', 'relaxationtime', 'relaxed', 'release', 'released', 'releasing', 'relevance', 'relevant', 'relies', 'religious', 'relocalization', 'rely', 'remain', 'remained', 'remaining', 'remains', 'remarkable', 'remarkably', 'remedying', 'remission', 'remote', 'removal', 'remove', 'removing', 'renal', 'render', 'rendering', 'renewable', 'renowned', 'reoxygenation', 'repair', 'repeat', 'repeatable', 'repeated', 'repeats', 'repellent', 'reperfused', 'reperfusion', 'repertoire', 'repertory', 'replaced', 'replication', 'report', 'reported', 'reportedly', 'reporter', 'reporting', 'reports', 'repository', 'represent', 'representative', 'representatives', 'represented', 'representing', 'represents', 'repressed', 'represses', 'repression', 'repressive', 'reproduces', 'reproducible', 'reproducing', 'reproduction', 'reproductive', 'reprograming', 'reprogramming', 'republic', 'require', 'required', 'requirement', 'requires', 'requiring', 'rerouting', 'res', 'rescue', 'rescued', 'research', 'researched', 'researcher', 'researchers', 'resemble', 'resembled', 'reserve', 'resident', 'residual', 'residue', 'residues', 'resin', 'resins', 'resist', 'resistance', 'resistances', 'resistant', 'resolution', 'resolve', 'resonance', 'resorcinol', 'resorufin', 'resource', 'resources', 'resoution', 'resp', 'respect', 'respectable', 'respective', 'respectively', 'respiration', 'respiratory', 'respond', 'responded', 'responding', 'responds', 'response', 'responses', 'responsible', 'responsive', 'responsiveness', 'rest', 'resting', 'restoration', 'restore', 'restored', 'restoring', 'restricted', 'restriction', 'restricts', 'restrytisol', 'result', 'resultant', 'resultantly', 'resulted', 'resulting', 'results', 'resume', 'resv', 'resveratol', 'resveratrol', 'resveratrolosid', 'resveratroloside', 'resveratrols', 'resveratrone', 'resviniferin', 'retail', 'retain', 'retained', 'retardation', 'retarded', 'retention', 'reticulum', 'retinal', 'retinoblastoma', 'retrograde', 'retroviral', 'return', 'reveal', 'revealed', 'revealing', 'reveals', 'reversal', 'reverse', 'reversed', 'reverses', 'reversible', 'reverted', 'review', 'reviewed', 'reviews', 'revised', 'revseratrol', 'rewired', 'reynoutria', 'rf', 'rgluc', 'rh', 'rhamnoside', 'rhap', 'rhaponticin', 'rhaponticum', 'rhapontigenin', 'rhein', 'rheum', 'rheumatic', 'rheumatoid', 'rhine', 'rhizobacteria', 'rhizobium', 'rhizoctonia', 'rhizogenes', 'rhizoma', 'rhizome', 'rhizomes', 'rhizophagus', 'rhizosphere', 'rhli', 'rhlr', 'rho', 'rhodobacter', 'rhodopsin', 'rhoomt', 'rhubarb', 'rhubarbs', 'rhythmic', 'ri', 'ribitol', 'ribonucleotide', 'rice', 'rich', 'richness', 'riesling', 'right', 'rightward', 'rigida', 'rigorous', 'ril', 'ring', 'rings', 'rio', 'riparia', 'riparian', 'ripe', 'ripened', 'ripeness', 'ripening', 'rise', 'rising', 'risk', 'river', 'rna', 'rnas', 'rnase', 'rnis', 'rns', 'roasted', 'rob', 'robust', 'rodent', 'rodents', 'roesy', 'rois', 'rolb', 'rolc', 'role', 'roles', 'rols', 'rolс', 'romanetii', 'romt', 'romt1', 'room', 'root', 'roots', 'rootstock', 'rootstocks', 'ros', 'rosa', 'rose', 'rosmarinus', 'rost', 'rot', 'rotamers', 'rotary', 'rotation', 'rotundifolia', 'round', 'route', 'routes', 'routine', 'roxb', 'royal', 'rp', 'rpe', 'rpl', 'rpre', 'rpsts', 'rpstssyn', 'rr', 'rrna', 'rs', 'rsd', 'rsm', 'rsv', 'rsvl', 'rsvs', 'rt', 'rte', 'rtsts', 'rumex', 'rumexoid', 'run', 'running', 'rupestris', 'rupr', 'russian', 'rust', 'rutin', 'rutinoside', 'rv', 'rvt', 's15', 's30', 'sa', 'sac', 'saccharomyces', 'saccharothrix', 'sachalinensis', 'safe', 'safer', 'safety', 'salicylic', 'saline', 'salinity', 'sally', 'salmonella', 'salt', 'salutary', 'salvia', 'sam5', 'sample', 'sampled', 'samples', 'sampling', 'sangiovese', 'sap', 'saperavi', 'sapk', 'saponins', 'sar', 'sarcoma', 'sars', 'satisfactorily', 'satisfactory', 'sativa', 'saturated', 'sauternes', 'sauvignon', 'saving', 'sb', 'sb203580', 'sbomt3', 'sbromt3', 'sbromt3syn', 'sbsts1', 'sc', 'sc5314', 'scab', 'scabrum', 'scaffold', 'scaffolded', 'scaffolds', 'scalable', 'scale', 'scan', 'scanning', 'scar', 'scarce', 'scarcely', 'scarcer', 'scarified', 'scavenge', 'scavenged', 'scavenger', 'scavengers', 'scavenges', 'scavenging', 'scc', 'scccl', 'scge', 'scheme', 'schidigera', 'schw', 'science', 'scientific', 'scientists', 'scion', 'scions', 'scirpusin', 'sclerotinia', 'sclerotiorum', 'scope', 'scopus', 'scorching', 'score', 'scores', 'scots', 'scrapie', 'screen', 'screened', 'screening', 'sctsc13', 'scutatus', 'scutellarein', 'scutellaria', 'se', 'search', 'season', 'seasonal', 'seasons', 'seaweed', 'second', 'secondary', 'secondly', 'seconds', 'secrete', 'secreted', 'secretion', 'section', 'sections', 'sectors', 'sedation', 'sedge', 'see', 'seed', 'seedless', 'seedling', 'seedlings', 'seeds', 'seeking', 'seem', 'seemed', 'seems', 'seen', 'segments', 'segregation', 'seldom', 'selectable', 'selected', 'selection', 'selections', 'selective', 'selectively', 'selectivity', 'selenium', 'self', 'selling', 'semi', 'semicarbazide', 'semipreparative', 'semiquinone', 'semiquinones', 'semisweet', 'semisynthesis', 'semisynthesized', 'semisynthetic', 'senescence', 'senescent', 'senescing', 'sensing', 'sensitive', 'sensitivity', 'sensitized', 'sensitizes', 'sensorial', 'sensory', 'sensu', 'seo', 'sep', 'separate', 'separated', 'separately', 'separation', 'separations', 'sephadex', 'sepharose', 'septoria', 'seq', 'sequence', 'sequenced', 'sequences', 'sequencing', 'sequential', 'ser', 'serbia', 'serbian', 'seriata', 'series', 'serine', 'serious', 'serum', 'serve', 'serves', 'serving', 'set', 'sets', 'setting', 'seven', 'sevenfold', 'several', 'severe', 'severely', 'severity', 'severneyi', 'sglt1', 'sgpt', 'sh', 'shake', 'shang', 'shape', 'shaped', 'shaping', 'share', 'shared', 'shares', 'shdab2ip', 'sheath', 'shed', 'shedding', 'shell', 'shhf', 'shift', 'shifting', 'shikimate', 'shock', 'shoot', 'shoots', 'shorea', 'short', 'shortens', 'shortlisted', 'shortly', 'show', 'showed', 'showing', 'shown', 'shows', 'shrna', 'shunt', 'shut', 'sicam', 'side', 'sieb', 'siebold', 'sights', 'signal', 'signaling', 'signalling', 'signals', 'signature', 'significance', 'significant', 'significantly', 'silac', 'silence', 'silencing', 'silica', 'silico', 'silk', 'silybum', 'silymarin', 'similar', 'similarities', 'similarity', 'similarly', 'simple', 'simply', 'simulate', 'simulating', 'simulation', 'simulations', 'simultaneosly', 'simultaneous', 'simultaneously', 'sin', 'sinapate', 'sinapine', 'sinapis', 'sinapoyl', 'since', 'single', 'singlet', 'singular', 'sink', 'sinusoidal', 'sirna', 'sirt1', 'sirtuin', 'sister', 'sitchensis', 'site', 'sites', 'sitka', 'sitosterol', 'situ', 'situated', 'six', 'sixteen', 'sixty', 'size', 'sized', 'sizes', 'sk', 'skeletal', 'skeleton', 'skeletons', 'skh', 'skin', 'skinned', 'skins', 'skoog', 'slice', 'sliced', 'slices', 'slight', 'slightest', 'slightly', 'slow', 'slower', 'slug', 'sm', 'sma', 'small', 'smaller', 'smb', 'smooth', 'smoothly', 'smut', 'snail1', 'snps', 'social', 'socio', 'sod', 'sod2', 'sodium', 'soft', 'softening', 'software', 'soil', 'soilborne', 'soils', 'soja', 'solani', 'solanum', 'solar', 'solaris', 'sole', 'solely', 'solid', 'solidago', 'solids', 'solubility', 'soluble', 'solute', 'solution', 'solutions', 'solved', 'solvent', 'solvents', 'sometimes', 'somewhat', 'sons', 'soon', 'sorbed', 'sorbose', 'sorghum', 'sorting', 'sought', 'soundly', 'sour', 'source', 'sources', 'sourcing', 'south', 'southeastern', 'southern', 'soxhlet', 'soy', 'soybean', 'sp', 'space', 'spain', 'span', 'spanish', 'spanning', 'spans', 'sparkleberry', 'sparsely', 'spatial', 'spd', 'spe', 'special', 'specialized', 'specially', 'species', 'specific', 'specifically', 'specificities', 'specificity', 'specifies', 'speckle', 'spectra', 'spectral', 'spectrometer', 'spectrometric', 'spectrometry', 'spectrophotometric', 'spectrophotometry', 'spectroscopic', 'spectroscopy', 'spectrum', 'speculate', 'speculated', 'speculation', 'speed', 'spent', 'spermatogenesis', 'spermatophyte', 'spermatophytes', 'sphaeroides', 'sphingobium', 'sphingomyelin', 'sphingomyelinase', 'spiked', 'spildi', 'spin', 'spinach', 'spinola', 'spiro', 'spirotropin', 'spirotropis', 'spirotropone', 'spleen', 'splice', 'splicing', 'split', 'spongy', 'spontaneously', 'spore', 'spores', 'sporulation', 'spot', 'spots', 'spotted', 'spp', 'spr', 'sprague', 'sprayed', 'spread', 'spring', 'sprouts', 'spruce', 'spt', 'squamous', 'sr1', 'sra', 'ss', 'ssao', 'ssc', 'ssp', 'ssrs', 'st', 'stability', 'stabilization', 'stabilized', 'stable', 'stably', 'stacked', 'stacking', 'stage', 'stages', 'stain', 'staining', 'stains', 'stalks', 'stamineum', 'stan1', 'stand', 'standard', 'standards', 'staphylococcus', 'starch', 'start', 'starter', 'starting', 'starvation', 'starved', 'stat', 'stat1', 'state', 'stated', 'states', 'static', 'statistical', 'statistically', 'status', 'ste', 'steady', 'stearoylglycerol', 'stellate', 'stem', 'stems', 'stemsa', 'stenophyllus', 'step', 'steppogenin', 'steps', 'stepwise', 'stereo', 'stereochemistry', 'stereoisomers', 'stereoisomery', 'stereoselectivity', 'steric', 'sterile', 'sterility', 'sterilized', 'steroid', 'steroidal', 'sterol', 'stevioside', 'stigma', 'stilbene', 'stilbenecarboxylate', 'stilbenes', 'stilbenic', 'stilbenoid', 'stilbenoids', 'stilbenoidś', 'stilbenolignan', 'stilbenols', 'still', 'stimulate', 'stimulated', 'stimulates', 'stimulating', 'stimulation', 'stimulators', 'stimulatory', 'stimuli', 'stimulus', 'stisy', 'stoichiometries', 'stoichiometry', 'stomata', 'stomatal', 'stones', 'stoppage', 'storage', 'stored', 'stores', 'storing', 'strain', 'strains', 'strand', 'strategies', 'strategy', 'stratum', 'strawberry', 'streams', 'strength', 'strengthens', 'streptococcus', 'streptomyces', 'streptomycin', 'stress', 'stressed', 'stresses', 'stressful', 'stressor', 'stressors', 'stretch', 'strictly', 'stricto', 'strictosidine', 'striking', 'strikingly', 'strips', 'stroke', 'stroma', 'stromelysin', 'strong', 'stronger', 'strongest', 'strongly', 'structural', 'structurally', 'structure', 'structures', 'sts', 'sts13', 'sts16', 'sts2', 'sts27', 'sts36', 'sts8', 'stss', 'stsy', 'studied', 'studies', 'study', 'studying', 'style', 'styrenes', 'styryl', 'sub', 'subalpinus', 'subcellular', 'subclades', 'subclasses', 'subcutaneous', 'subcutaneously', 'subcytotoxic', 'subdiploid', 'subfamily', 'subfractionation', 'subgroup', 'subgroups', 'subject', 'subjected', 'subjecting', 'subjects', 'sublineolum', 'submicromolar', 'subpopulation', 'subs', 'subsequent', 'subsequently', 'subsp', 'subspace', 'substance', 'substances', 'substantial', 'substantially', 'substantiate', 'substituents', 'substitute', 'substituted', 'substitution', 'substitutions', 'substrate', 'substrates', 'subtilis', 'subtle', 'subtypes', 'subunit', 'subunits', 'success', 'successful', 'successfully', 'sucrose', 'sue', 'suffer', 'suffering', 'sufficient', 'sufficiently', 'suffruticosa', 'suffruticosol', 'suffruticosols', 'sugar', 'sugars', 'suggest', 'suggested', 'suggesting', 'suggests', 'suitability', 'suitable', 'sul', 'sulfate', 'sulfates', 'sulfation', 'sulfonic', 'sulfophenyl', 'sulforaphane', 'sulfotransferase', 'sulfotransferases', 'sulfur', 'sulphated', 'sulphonic', 'sulphur', 'sum', 'summarize', 'summarized', 'summarizes', 'summarizing', 'summary', 'summer', 'sup', 'super', 'supercritical', 'superestrogenic', 'superfamily', 'superficial', 'superimposed', 'superior', 'supernatant', 'superoxide', 'supplement', 'supplementation', 'supplemented', 'supplements', 'supply', 'support', 'supported', 'supporting', 'supports', 'suppose', 'suppress', 'suppressed', 'suppresses', 'suppressing', 'suppression', 'suppressions', 'suppressive', 'suppressor', 'supramolecular', 'surface', 'surgically', 'surmise', 'surplus', 'surprisingly', 'surrounding', 'surroundings', 'survey', 'surveyed', 'survival', 'susceptibility', 'susceptible', 'suspended', 'suspension', 'suspensions', 'sustainable', 'sustainably', 'sustained', 'sv40', 'svcam', 'swarming', 'sweet', 'sweeteners', 'sweetpotato', 'swelling', 'swine', 'swiss', 'switch', 'sword', 'sy5y', 'syk', 'sylvestris', 'symbionts', 'symptomatic', 'symptoms', 'syn', 'syndrome', 'synechocystis', 'synergistic', 'synergistically', 'synergy', 'synoviocytes', 'synovium', 'synthase', 'synthases', 'synthesis', 'synthesise', 'synthesised', 'synthesize', 'synthesized', 'synthesizes', 'synthesizing', 'synthetase', 'synthetic', 'synthetize', 'synthetized', 'syrah', 'syringae', 'syringetin', 'syrups', 'system', 'systematic', 'systematically', 'systemic', 'systems', 'são', 'sémillon', 't0', 't1', 't10', 't15', 't197a', 't3', 't47d', 't5', 't877a', 'ta100', 'tabacum', 'table', 'tablet', 'tachycardia', 'tackle', 'tag', 'tagged', 'tailor', 'tailoring', 'tainan', 'take', 'taken', 'takes', 'taking', 'tal', 'talk', 'talks', 'tamarixetin', 'tandem', 'tannin', 'tannins', 'tap', 'tapeworm', 'target', 'targeted', 'targeting', 'targets', 'task', 'tatar', 'tataricum', 'tatariside', 'tau', 'tautomeric', 'taxa', 'taxifolin', 'taxol', 'taxonomic', 'tbars', 'tbilghvino', 'tc', 'tc38971', 'tcm', 'te', 'tea', 'teac', 'technical', 'technics', 'technique', 'techniques', 'technological', 'technologies', 'technology', 'tegument', 'telangiectasia', 'tem', 'temperate', 'temperature', 'temperatures', 'template', 'templates', 'temporal', 'tempting', 'ten', 'tended', 'tendrils', 'tends', 'tensile', 'tentative', 'tentatively', 'term', 'termed', 'terminal', 'terminus', 'terms', 'teroldego', 'terpene', 'terpenoids', 'terrestrial', 'territory', 'tert', 'tertiary', 'test', 'tested', 'testes', 'testicular', 'testing', 'testosterone', 'tests', 'tethered', 'tetra', 'tetrachlorodibenzo', 'tetracycline', 'tetradecanoylphorbol', 'tetraethylammonium', 'tetrahydroxy', 'tetrahydroxychalcone', 'tetrahydroxyflavone', 'tetrahydroxylated', 'tetrahydroxystilbene', 'tetrahydroxystilbenes', 'tetraketide', 'tetraketides', 'tetramer', 'tetrameric', 'tetramers', 'tetramethoxy', 'tetramethoxystilbene', 'tetramethyl', 'tetratricopeptide', 'tetrazolium', 'tettnang', 'text', 'tf', 'tfs', 'tgf', 'thaliana', 'thanks', 'thaumatin', 'thawed', 'thc', 'themed', 'theobromae', 'theoretical', 'theories', 'theory', 'therapeutic', 'therapeutical', 'therapeutics', 'therapies', 'therapy', 'thereafter', 'thereby', 'therefore', 'thermally', 'thermodynamic', 'thermodynamics', 'thermotolerance', 'thiadiazole', 'thickness', 'thienyl', 'thiobarbituric', 'thioester', 'thioesters', 'thiogalactoside', 'thioglycollate', 'thiol', 'thiols', 'third', 'thirds', 'thirteen', 'thirty', 'thompson', 'thoracic', 'thoroughly', 'though', 'thought', 'thousandfold', 'thp', 'thr', 'threat', 'threatening', 'threats', 'three', 'threefold', 'threonine', 'threshold', 'thrombin', 'thrombininduced', 'thromboxane', 'throughout', 'ths', 'thsg', 'thunalbene', 'thunbergii', 'thus', 'thymic', 'thymus', 'thyrsiflorus', 'tic', 'tidylinositol', 'ties', 'tifton', 'tify', 'tight', 'tightly', 'tigr', 'tillers', 'time', 'times', 'timing', 'tintorera', 'tip', 'tips', 'tissue', 'tissues', 'titer', 'titers', 'tlc', 'tms', 'tnbc', 'tnf', 'tobacco', 'tocopherol', 'tocopherols', 'tocsy', 'today', 'tof', 'tofms', 'together', 'tolerability', 'tolerance', 'tolerant', 'toll', 'toluene', 'tomato', 'tomatoes', 'tomentosa', 'tomloxb', 'tomography', 'tonality', 'tonghua', 'tonic', 'took', 'tool', 'tools', 'top', 'topic', 'topical', 'topically', 'topoisomerase', 'topology', 'torachrysone', 'torulene', 'total', 'totally', 'toughness', 'toward', 'towards', 'toxic', 'toxicities', 'toxicity', 'toxicological', 'toxicologists', 'toxigenic', 'toxins', 'toyopearl', 'tpa', 'tpc', 'tph', 'tpr', 'tps', 'tr', 'trace', 'traced', 'traces', 'tracker', 'tracking', 'trade', 'traditional', 'traditionally', 'traductional', 'trafficking', 'trait', 'traits', 'tranported', 'trans', 'transaminase', 'transcribed', 'transcript', 'transcriptase', 'transcription', 'transcriptional', 'transcriptionally', 'transcriptions', 'transcriptome', 'transcriptomic', 'transcripts', 'transduced', 'transducers', 'transducing', 'transduction', 'transfected', 'transfection', 'transfer', 'transferase', 'transferases', 'transferred', 'transferring', 'transform', 'transformants', 'transformation', 'transformations', 'transformed', 'transgene', 'transgenes', 'transgenic', 'transgenics', 'transient', 'transiently', 'transit', 'transition', 'transitions', 'translated', 'translation', 'translational', 'translocated', 'translocation', 'translocations', 'transmembrane', 'transmethylation', 'transmission', 'transpeptidase', 'transport', 'transportation', 'transported', 'transporter', 'transporters', 'transposable', 'transposase', 'transresveratrol', 'transthyretin', 'trap', 'trapped', 'trapping', 'tre', 'treat', 'treated', 'treating', 'treatment', 'treatments', 'tree', 'trees', 'tremendously', 'tremula', 'tremulae', 'tremulax', 'tremuloides', 'trend', 'triacetic', 'triad', 'trials', 'tribe', 'tribes', 'trichoderma', 'trichomes', 'trifluoroacetamide', 'trifluorostilbene', 'trifolium', 'trigger', 'triggered', 'triggers', 'trihydroxy', 'trihydroxybenzoic', 'trihydroxylated', 'trihydroxyphenanthrene', 'trihydroxystilbene', 'triketide', 'trimer', 'trimeric', 'trimers', 'trimethoxy', 'trimethoxystilbene', 'trimethyl', 'trimethylether', 'trimethylsilyl', 'triphenolic', 'triphosphate', 'triple', 'triplicated', 'trismethoxyresveratrol', 'trisphosphate', 'triterpenes', 'triterpenoids', 'tritici', 'trolox', 'true', 'trunk', 'trypan', 'ts', 'tsg', 'tso', 'ttas', 'ttr', 'tube', 'tuber', 'tuberosum', 'tubers', 'tubes', 'tubingensis', 'tubular', 'tubulin', 'tumefaciens', 'tumor', 'tumorigenesis', 'tumors', 'tumour', 'tumours', 'tunel', 'tuning', 'turbot', 'turkey', 'turn', 'turned', 'turnover', 'turns', 'twelve', 'twenty', 'twice', 'twigs', 'twist', 'twist1', 'two', 'twofold', 'type', 'types', 'typhimurium', 'typical', 'typically', 'tyr', 'tyrosinase', 'tyrosine', 'tyrosol', 'uae', 'ubiquitous', 'udp', 'ufgt', 'ugt', 'ugts', 'uhplc', 'ultimately', 'ultra', 'ultrasonication', 'ultrasound', 'ultrastructural', 'ultraviolet', 'ulva', 'um', 'umbelliferone', 'umbilical', 'ump', 'unable', 'unaffected', 'unaltered', 'unambiguous', 'unambiguously', 'unavailable', 'uncertain', 'unchanged', 'uncharacterized', 'uncinula', 'unclear', 'uncontrolled', 'unconventional', 'undamaged', 'underexploited', 'underexplored', 'undergo', 'undergoes', 'undergoing', 'undergone', 'underling', 'underlying', 'underpinnings', 'underscore', 'understand', 'understanding', 'understood', 'undertaken', 'underutilized', 'underway', 'underwent', 'undescribed', 'undesirable', 'undetectable', 'undetected', 'undulatum', 'unequivocally', 'unexpected', 'unexpectedly', 'unexplored', 'unfavourable', 'unfolding', 'unfriendly', 'unicellular', 'unidentified', 'uniform', 'unigenes', 'unilamellar', 'uninoculated', 'unintentional', 'unique', 'uniquely', 'unit', 'united', 'units', 'universal', 'university', 'unknown', 'unlike', 'unlimited', 'unmodified', 'unnatural', 'unpaired', 'unpeeled', 'unprecedented', 'unravel', 'unraveled', 'unravelled', 'unreduced', 'unrelated', 'unresolved', 'unripe', 'unsaturated', 'unspecific', 'unstable', 'unstimulated', 'unstressed', 'unstructured', 'unsustainable', 'unsweetened', 'untargeted', 'untested', 'untouched', 'untransformed', 'untreated', 'unusual', 'unusually', 'unveil', 'update', 'updated', 'uplc', 'upon', 'upper', 'upregulate', 'upregulated', 'upregulates', 'upregulating', 'upregulation', 'upscaled', 'upstream', 'uptake', 'upuna', 'urate', 'urea', 'urgent', 'uric', 'uricase', 'uricosuric', 'uridine', 'urinary', 'urine', 'ursolate', 'ursolic', 'urushiol', 'us', 'use', 'used', 'useful', 'usefulness', 'uses', 'using', 'ustilago', 'usual', 'usually', 'uterine', 'utility', 'utilization', 'utilize', 'utilized', 'utilizes', 'utilizing', 'uv', 'uvb', 'uvc', 'v177', 'v196m', 'vaccenic', 'vaccinium', 'vacpk20', 'vacuole', 'vacuoles', 'vacuum', 'vad', 'val', 'val882', 'valence', 'validated', 'validating', 'validation', 'validity', 'valpolicella', 'valuable', 'value', 'valued', 'values', 'vanicoside', 'vanicosides', 'vanillic', 'vanillin', 'vapal1', 'vapal2', 'vapal3', 'vapal5', 'var', 'variability', 'variable', 'variant', 'variants', 'variation', 'variations', 'varied', 'varies', 'varietal', 'varieties', 'variety', 'various', 'vary', 'varying', 'vascular', 'vasculature', 'vasorelaxant', 'vasorelaxing', 'vasospastic', 'vast', 'vasts', 'vasts1', 'vasts10', 'vasts19', 'vasts2', 'vasts3', 'vasts4', 'vasts5', 'vasts6', 'vasts7', 'vasts8', 'vasts9', 'vastss', 'vateria', 'vatica', 'vaticanol', 'vaticanols', 'vatp16', 'vector', 'vectors', 'vegetable', 'vegetables', 'vegetative', 'vein', 'veins', 'veltliner', 'venezuelae', 'venous', 'vent', 'ventricular', 'venturia', 'venues', 'vera', 'veraison', 'verapamil', 'veratrum', 'verified', 'verifing', 'verify', 'versa', 'versatile', 'versatility', 'version', 'versus', 'vertebrates', 'vertical', 'vessel', 'vessels', 'vf', 'via', 'viability', 'viable', 'vice', 'view', 'viewed', 'viewpoint', 'vigorous', 'vii', 'vimentin', 'vin', 'vinalco', 'vine', 'vineatrol', 'vines', 'vineyard', 'vineyards', 'vinhão', 'vinifera', 'viniferap', 'viniferin', 'viniferinas', 'viniferinglucoside', 'viniferins', 'vinification', 'viniverin', 'vintage', 'vintages', 'violacein', 'violaceum', 'violent', 'violet', 'viral', 'virally', 'virgaurea', 'viride', 'virtually', 'virtue', 'virulence', 'virus', 'visible', 'visionht', 'visit', 'visualized', 'vit', 'vitaceae', 'vital', 'vitamin', 'vitamins', 'viticola', 'viticultural', 'viticulture', 'vitis', 'vitis3', 'vitisamurensis', 'vitisifuran', 'vitisin', 'vitisinol', 'vitisvinifera', 'vitro', 'vitus', 'vivo', 'vla', 'vlapx6', 'vldl', 'vlgpx5', 'vlmyb14', 'vlprx13', 'vlprx21', 'vlprx35', 'vlprx40', 'vlprx50', 'vlprxs', 'vlrsgt', 'vmax', 'volatile', 'voltage', 'volume', 'volunteers', 'vpglo1', 'vpromt', 'vps', 'vpsts', 'vpsts29', 'vpsts36', 'vqbzip1', 'vqmapkkk38', 'vqsnrk2', 'vqsts', 'vqsts21', 'vqsts36', 'vqsts6', 'vranec', 'vrromt', 'vrromtsyn', 'vrsts', 'vs', 'vst', 'vst1', 'vst2', 'vsti', 'vt', 'vvabcg44', 'vvabf2', 'vvimyb13', 'vvimyb14', 'vvimyb15', 'vvists', 'vvists16', 'vvists29', 'vvists46', 'vvists6', 'vvists7', 'vvistss', 'vviwrky03', 'vviwrky24', 'vviwrky43', 'vviwrky53', 'vvmyb14', 'vvnpr1', 'vvromt', 'vvsts', 'vvsts1', 'vvsts15', 'vvsts2', 'vvwrky18', 'vvwrky8', 'váh', 'véraison', 'w20a', 'wadsworth', 'waf1', 'wall', 'walls', 'wang', 'wanted', 'wants', 'ward', 'warrant', 'warranted', 'waste', 'wasted', 'water', 'wavelength', 'way', 'ways', 'wb', 'weak', 'weaker', 'weaned', 'weather', 'web', 'weed', 'week', 'weeks', 'weight', 'weights', 'well', 'western', 'whatever', 'wheat', 'whereas', 'whereby', 'whether', 'white', 'whole', 'wholesomeness', 'whose', 'wi38', 'wi38va', 'wide', 'widely', 'widen', 'wider', 'widespread', 'width', 'wild', 'wiley', 'willamette', 'wilsonol', 'wilt', 'wilting', 'wine', 'winegrape', 'winemaking', 'winery', 'wines', 'winter', 'wistar', 'withanolides', 'withering', 'within', 'without', 'wittig', 'wk', 'wl', 'women', 'wonder', 'wondrous', 'wood', 'woods', 'woody', 'work', 'worked', 'workers', 'works', 'world', 'worldwide', 'worms', 'worse', 'wort', 'worth', 'wos', 'would', 'wound', 'wounding', 'writhings', 'wrky', 'ws', 'wt', 'xada', 'xanthine', 'xbohemica', 'xenobiotic', 'xenograft', 'xenopus', 'xhfd', 'xhoi', 'xiangfei', 'xinjiang', 'xl', 'xo', 'xtt', 'xuhua', 'xylella', 'xylem', 'y1h', 'y2h', 'yarrow', 'yarrowia', 'yd', 'year', 'years', 'yeast', 'yeasts', 'yellow', 'yellowish', 'yet', 'yield', 'yielded', 'yielding', 'yields', 'yl', 'yolk', 'young', 'younger', 'youngest', 'yucca', 'yuccaols', 'z168', 'zalcitabine', 'zealand', 'zebrafish', 'zero', 'zerumbone', 'zhang', 'zhonghua', 'zicui', 'zidovudine', 'zileuton', 'zim', 'zinnia', 'zipper', 'zn', 'zone', 'zones', 'zoospore', 'zoospores', 'zr', 'zucc', 'zweigeltrebe', 'zymography', 'µg', 'µm', 'ß3', 'ġellewża', 'ĸb', 'αvß3', 'α₁β₁γ₂s', 'α₁β₂γ₂s', 'α₁β₃γ₂s', 'α₂β₂γ₂s', 'α₃β₂γ₂s', 'α₄β₂γ₂s', 'α₅β₂γ₂s', 'β1', 'δcao', 'δe', 'κb', 'μg', 'μgml', 'μm', 'μmol', 'тhe']\n",
      "9403\n",
      "['stilbenes', 'important', 'secondary', 'metabolites', 'grapevine', 'represent', 'central', 'phytoalexins', 'therefore', 'constitute', 'important', 'element', 'basal', 'immunity', 'study', 'potential', 'genetic', 'variation', 'vitis', 'vinifera', 'ssp', 'sylvestris', 'ancestor', 'cultivated', 'grapevine', 'sought', 'respect', 'output', 'stilbenes', 'potential', 'use', 'resistance', 'breeding', 'considerable', 'variation', 'stilbene', 'inducibility', 'identified', 'vinifera', 'ssp', 'sylvestris', 'genotypic', 'differences', 'abundance', 'profiles', 'stilbenes', 'induced', 'response', 'uv', 'pulse', 'shown', 'two', 'clusters', 'stilbene', 'chemovars', 'emerged', 'one', 'cluster', 'showed', 'quick', 'strong', 'accumulation', 'stilbenes', 'almost', 'exclusively', 'form', 'non', 'glycosylated', 'resveratrol', 'viniferin', 'second', 'cluster', 'accumulated', 'fewer', 'stilbenes', 'relatively', 'high', 'proportions', 'piceatannol', 'glycosylated', 'piceid', '86', 'genotypes', 'time', 'dependence', 'stilbene', 'pattern', 'observed', 'piceid', 'resveratrol', 'piceatannol', 'accumulated', 'earlier', 'whereas', 'viniferins', 'found', 'later', 'observed', 'genotypic', 'differences', 'stilbene', 'accumulation', 'preceded', 'differential', 'accumulation', 'transcripts', 'chalcone', 'synthase', 'chs', 'stilbene', 'related', 'genes', 'phenylalanine', 'ammonium', 'lyase', 'pal', 'stilbene', 'synthase', 'stsy', 'resveratrol', 'synthase', 'rs', 'screen', 'population', 'respect', 'susceptibility', 'downy', 'mildew', 'grapevine', 'plasmopara', 'viticola', 'revealed', 'considerable', 'variability', 'subpopulation', 'genotypes', 'high', 'stilbene', 'inducibility', 'significantly', 'less', 'susceptible', 'compared', 'low', 'stilbene', 'genotypes', 'representative', 'genotypes', 'could', 'shown', 'inducibility', 'stilbene', 'synthase', 'uv', 'correlated', 'inducibility', 'pathogen']\n"
     ]
    }
   ],
   "source": [
    "vectorizer_w_stops = TfidfVectorizer(stop_words=stops)\n",
    "\n",
    "dl_config = DLConfig()\n",
    "\n",
    "df = pd.read_excel(\"C:/Users/Zé Freitas/Desktop/Mestrado/2ºSemestre/Projeto/code/datasets/dataset_final.xlsx\",\n",
    "                   index_col=0, usecols=\"A:F\")  # dataset que foi criado sem nenhum processamento\n",
    "idsfinal = pandas_column_aslist(df, \"Document\")\n",
    "docsfinal = pmids_to_docs(idsfinal, \"pg42872@alunos.uminho.pt\", dl_config)\n",
    "docsfinal = docsfinal[0]\n",
    "dataset_docs = docs_to_pandasdocs(docsfinal)\n",
    "\n",
    "abst = pandas_column_aslist(df, \"Abstract\")\n",
    "len(abst)\n",
    "print(abst[0])\n",
    "X = vectorizer_w_stops.fit_transform(abst)\n",
    "print(X)\n",
    "print(X.shape)\n",
    "\n",
    "print(vectorizer_w_stops.get_feature_names())\n",
    "print(len(vectorizer_w_stops.get_feature_names()))\n",
    "analyser = vectorizer_w_stops.build_analyzer()\n",
    "print(analyser(abst[0]))"
   ],
   "metadata": {
    "collapsed": false,
    "pycharm": {
     "name": "#%%\n"
    }
   }
  },
  {
   "cell_type": "markdown",
   "source": [
    "<p>\n",
    "\n",
    "</p>"
   ],
   "metadata": {
    "collapsed": false
   }
  },
  {
   "cell_type": "code",
   "execution_count": 4,
   "outputs": [
    {
     "name": "stdout",
     "output_type": "stream",
     "text": [
      "25873669    0\n",
      "24269870    0\n",
      "17655245    1\n",
      "16663649    1\n",
      "33907682    0\n",
      "           ..\n",
      "32079399    1\n",
      "26976595    0\n",
      "20138774    1\n",
      "27936616    1\n",
      "28009095    1\n",
      "Name: Label, Length: 606, dtype: int64\n",
      "(424, 9403)\n",
      "(182, 9403)\n",
      "(424,)\n",
      "(182,)\n"
     ]
    }
   ],
   "source": [
    "y_total = pd.read_excel(\"C:/Users/Zé Freitas/Desktop/Mestrado/2ºSemestre/Projeto/code/datasets/dataset_final.xlsx\",\n",
    "                        index_col=1, usecols=\"B:F\")\n",
    "\n",
    "relevance = pandas_column_aslist(y_total, \"Relevance\")\n",
    "y_total = relevances_to_pandas(y_total, relevance)\n",
    "print(y_total)\n",
    "\n",
    "# as variáveis de entrada serão os scores das features (matriz de tfidf)\n",
    "X_train_df, X_test_df, y_train_df, y_test_df = train_test_split(X, y_total, test_size=0.3, random_state=42,\n",
    "                                                                stratify=y_total)\n",
    "print(X_train_df.shape)\n",
    "print(X_test_df.shape)\n",
    "print(y_train_df.shape)\n",
    "print(y_test_df.shape)"
   ],
   "metadata": {
    "collapsed": false,
    "pycharm": {
     "name": "#%%\n"
    }
   }
  },
  {
   "cell_type": "markdown",
   "source": [
    "<p>\n",
    "Os <strong>DataFrames de treino</strong> criados contêm, nas linhas, os documentos,\n",
    "e nas colunas todas as features geradas anteriormente pelo processo de <strong>\n",
    "TF-IDF</strong>. Este DataFrame é muito desproporcional em termos de número de linhas\n",
    "e número de colunas, pelo que a melhor opção será reduzir o número de colunas de modo\n",
    "a evitar o over-fiting do modelo (meter descrição). <br>\n",
    "Tendo isso em contra, foi utilizado o package <strong>RFE</strong> do sklearn, que permite\n",
    "realizar feature selection de acordo com os melhores scores da matriz gerada a cima.\n",
    "</p>"
   ],
   "metadata": {
    "collapsed": false,
    "pycharm": {
     "name": "#%% md\n"
    }
   }
  },
  {
   "cell_type": "code",
   "source": [
    "estimator = SVC(kernel= \"linear\")\n",
    "selector = RFE(estimator, n_features_to_select=300, step=1)\n",
    "selector_norm = selector.fit(X_train_df, y_train_df)"
   ],
   "metadata": {
    "collapsed": false,
    "pycharm": {
     "name": "#%%\n"
    }
   },
   "execution_count": 5,
   "outputs": []
  },
  {
   "cell_type": "markdown",
   "source": [
    "<p>\n",
    "A pipeline da célula anterior permite realizar, em primero lugar, uma standardização dos\n",
    "dados da matriz de frequências de termos por documento, e dizer ao mesmo tempo qual o\n",
    "modelo SVM que vai ser utilizado. <br>\n",
    "Ao passar este estimador para a função RFE, podemos escolher o número de features que\n",
    "queremos que sejam selecionadas, neste caso, como este dataset tem 606 linhas (Documentos)\n",
    "ficou decidido selecionar apenas as 300 melhores features.\n",
    "</p>\n",
    "<p>\n",
    "A seguir passamos inevitavelmente para a predição da relevância dos documentos presentes no\n",
    "test_set.\n",
    "</p>"
   ],
   "metadata": {
    "collapsed": false
   }
  },
  {
   "cell_type": "code",
   "execution_count": 11,
   "outputs": [
    {
     "data": {
      "text/plain": "array([[114,   9],\n       [ 25,  34]], dtype=int64)"
     },
     "execution_count": 11,
     "metadata": {},
     "output_type": "execute_result"
    }
   ],
   "source": [
    "pred = selector_norm.predict(X_test_df)\n",
    "selector_norm.score(X_test_df, y_test_df)"
   ],
   "metadata": {
    "collapsed": false,
    "pycharm": {
     "name": "#%%\n"
    }
   }
  },
  {
   "cell_type": "code",
   "execution_count": null,
   "outputs": [],
   "source": [
    "cm = confusion_matrix(y_test_df, pred)\n",
    "cm = np.flip(cm)\n",
    "print(cm)\n",
    "\n",
    "acc = accuracy_score(y_test_df, pred)\n",
    "print(acc)  # é igual ao método .score()\n",
    "\n",
    "prec = precision_score(y_test_df, pred)\n",
    "print(prec)\n",
    "\n",
    "rec = recall_score(y_test_df, pred)\n",
    "print(rec)"
   ],
   "metadata": {
    "collapsed": false,
    "pycharm": {
     "name": "#%%\n"
    }
   }
  },
  {
   "cell_type": "code",
   "execution_count": null,
   "outputs": [],
   "source": [
    "# Cross Validation\n",
    "scores = cross_validate(selector_norm, X, y_total, cv=5, scoring=(\"accuracy\", \"precision\", \"recall\", \"f1\"))\n",
    "\n",
    "print(scores[\"test_accuracy\"])\n",
    "print(scores[\"test_precision\"])\n",
    "print(scores[\"test_recall\"])\n",
    "print(scores[\"test_f1\"])"
   ],
   "metadata": {
    "collapsed": false,
    "pycharm": {
     "name": "#%%\n"
    }
   }
  },
  {
   "cell_type": "code",
   "source": [
    "matrix = confusion_matrix(y_test_df.values, pred)\n",
    "print(matrix)"
   ],
   "metadata": {
    "collapsed": false,
    "pycharm": {
     "name": "#%%\n"
    }
   },
   "execution_count": null,
   "outputs": []
  },
  {
   "cell_type": "markdown",
   "source": [
    "<p>\n",
    "Para os dados standardizados:\n",
    "</p>"
   ],
   "metadata": {
    "collapsed": false,
    "pycharm": {
     "name": "#%% md\n"
    }
   }
  },
  {
   "cell_type": "code",
   "execution_count": 12,
   "outputs": [
    {
     "name": "stdout",
     "output_type": "stream",
     "text": [
      "  (0, 6290)\t2.0855101269787246\n",
      "  (0, 2294)\t5.046915214520747\n",
      "  (0, 2320)\t2.540524587697452\n",
      "  (0, 7396)\t6.593205052025273\n",
      "  (0, 5112)\t2.079495968996465\n",
      "  (0, 2071)\t2.2275908813912486\n",
      "  (0, 8360)\t4.347418808530979\n",
      "  (0, 4985)\t3.3052758971804423\n",
      "  (0, 7885)\t2.1164774459151747\n",
      "  (0, 8257)\t24.637403533906777\n",
      "  (0, 9030)\t14.159581400419084\n",
      "  (0, 7501)\t2.5752497541527446\n",
      "  (0, 9148)\t2.2683605901527204\n",
      "  (0, 6624)\t4.278739955210288\n",
      "  (0, 5492)\t2.9271603949145586\n",
      "  (0, 3009)\t4.678351574202174\n",
      "  (0, 8359)\t7.296720701472103\n",
      "  (0, 6730)\t5.548153735433048\n",
      "  (0, 7731)\t15.250471933293142\n",
      "  (0, 7623)\t1.8389176699125274\n",
      "  (0, 8230)\t5.695532441234388\n",
      "  (0, 6216)\t4.444652191346603\n",
      "  (0, 5142)\t3.7786302714815663\n",
      "  (0, 795)\t11.166037776156353\n",
      "  (0, 6468)\t3.5847344761535846\n",
      "  :\t:\n",
      "  (605, 9017)\t4.258386510359176\n",
      "  (605, 4495)\t4.385817297292112\n",
      "  (605, 1771)\t1.0311604843675872\n",
      "  (605, 2525)\t3.102026903971881\n",
      "  (605, 1409)\t2.362185837958699\n",
      "  (605, 5949)\t4.377106317082512\n",
      "  (605, 8320)\t3.163558391796091\n",
      "  (605, 4761)\t2.9302040731433734\n",
      "  (605, 4252)\t2.583171722773447\n",
      "  (605, 5374)\t2.594260241674152\n",
      "  (605, 5449)\t8.055180428695715\n",
      "  (605, 798)\t4.2489392460992175\n",
      "  (605, 3836)\t1.3873923751179975\n",
      "  (605, 9040)\t2.71090934074737\n",
      "  (605, 6619)\t2.496318072750146\n",
      "  (605, 6616)\t2.1694249126329677\n",
      "  (605, 8394)\t1.9304933601092886\n",
      "  (605, 2105)\t1.0443268448100544\n",
      "  (605, 3463)\t1.2473337021223327\n",
      "  (605, 3414)\t5.523856165683722\n",
      "  (605, 3846)\t1.2692056731889565\n",
      "  (605, 7482)\t0.4657677876467764\n",
      "  (605, 8558)\t4.341087337111881\n",
      "  (605, 5381)\t1.949860511844126\n",
      "  (605, 7745)\t2.5761616522242377\n",
      "(424, 9403)\n",
      "(182, 9403)\n",
      "(424,)\n",
      "(182,)\n",
      "[[121   2]\n",
      " [ 42  17]]\n"
     ]
    }
   ],
   "source": [
    "scaler = StandardScaler(with_mean=False)  # nao pode usar a média por ser sparse matrix\n",
    "scaler.fit(X)\n",
    "X_scaled = scaler.transform(X)\n",
    "print(X_scaled)  # matriz de TF-IDFs strandardizada\n",
    "\n",
    "# Divisão em train e test\n",
    "X_train_df_scaled, X_test_df_scaled, y_train_df, y_test_df = train_test_split(X_scaled, y_total, test_size=0.3,\n",
    "                                                                              random_state=42, stratify=y_total)\n",
    "print(X_train_df_scaled.shape)\n",
    "print(X_test_df_scaled.shape)\n",
    "print(y_train_df.shape)\n",
    "print(y_test_df.shape)\n",
    "\n",
    "selector = RFE(estimator, n_features_to_select=300, step=1)\n",
    "selector_scaled = selector.fit(X_train_df_scaled, y_train_df)\n",
    "\n",
    "pred_scaled = selector.predict(X_test_df_scaled)\n",
    "selector_scaled.score(X_test_df, y_test_df)\n",
    "\n",
    "matrix = confusion_matrix(y_test_df.values, pred_scaled)\n",
    "print(matrix)"
   ],
   "metadata": {
    "collapsed": false,
    "pycharm": {
     "name": "#%%\n"
    }
   }
  },
  {
   "cell_type": "markdown",
   "source": [
    "<p>\n",
    "Em modelos de SVM é, numa grande maioria das vezes, aconselhada a standardização dos dados, devido\n",
    "à forma como o modelo atua, e por isso, esta passo foi também incluído, usando a função <i>StandardScaler\n",
    "</i> do sklearn, a matriz <i>term-document</i> fruto do processo <strong> TF-IFD</strong>, foi standardizada\n",
    "segundo apenas o seu desvio padrão, uma vez que se trato de uma <i>Sparse Matrix</i>, ou seja, é uma matriz\n",
    "composta essencialmente por elementos nulos.\n",
    "Os dados standardizadas revelaram um declínio bastante acentuado no valor de score (mean accuracy), pelo que\n",
    "se pode concluir que não se deve proceder a standardização dos dados.\n",
    "</p>\n"
   ],
   "metadata": {
    "collapsed": false
   }
  },
  {
   "cell_type": "markdown",
   "source": [
    "<p>\n",
    "<strong> Conclusões no paper!</strong>\n",
    "</p>\n",
    "\n"
   ],
   "metadata": {
    "collapsed": false,
    "pycharm": {
     "name": "#%% md\n"
    }
   }
  }
 ],
 "metadata": {
  "kernelspec": {
   "name": "python3",
   "language": "python",
   "display_name": "Python 3"
  },
  "language_info": {
   "codemirror_mode": {
    "name": "ipython",
    "version": 2
   },
   "file_extension": ".py",
   "mimetype": "text/x-python",
   "name": "python",
   "nbconvert_exporter": "python",
   "pygments_lexer": "ipython2",
   "version": "2.7.6"
  }
 },
 "nbformat": 4,
 "nbformat_minor": 0
}